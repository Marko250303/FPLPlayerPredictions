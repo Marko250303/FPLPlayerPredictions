{
 "cells": [
  {
   "cell_type": "code",
   "execution_count": 2,
   "id": "f5c04c24",
   "metadata": {},
   "outputs": [],
   "source": [
    "import pandas as pd\n",
    "from IPython.display import HTML"
   ]
  },
  {
   "cell_type": "code",
   "execution_count": 8,
   "id": "305c1943",
   "metadata": {},
   "outputs": [],
   "source": [
    "def izbaci_kolone(df,column_names):\n",
    "    df.drop(columns=column_names, inplace=True)"
   ]
  },
  {
   "cell_type": "code",
   "execution_count": 3,
   "id": "c5df1b30",
   "metadata": {},
   "outputs": [],
   "source": [
    "def ucitaj_tabelu():\n",
    "    html=\"\"\"\n",
    "<iframe id=\"sofa-standings-embed-1-52186\" src=\"https://widgets.sofascore.com/embed/tournament/1/season/52186/standings/Premier%20League?widgetTitle=Premier%20League&showCompetitionLogo=true\" style=height:1112.5px!important;max-width:768px!important;width:100%!important; frameborder=\"0\" scrolling=\"no\"></iframe>\n",
    "    <div style=\"font-size:12px;font-family:Arial,sans-serif;text-align:left\">\n",
    "      Standings provided by <a target=\"_blank\" href=\"https://www.sofascore.com/\">Sofascore</a>\n",
    "    </div>\n",
    "\"\"\"\n",
    "    HTML(html)\n",
    "    "
   ]
  },
  {
   "cell_type": "code",
   "execution_count": 5,
   "id": "45702060",
   "metadata": {},
   "outputs": [],
   "source": [
    "def mapiranje_timova(df):\n",
    "    df_teams=pd.read_csv(\"teams.csv\")\n",
    "    df_teams.head(20)\n",
    "    \n",
    "    team_names={\n",
    "    1:\"Arsenal\",\n",
    "    2:\"Aston Vila\",\n",
    "    3:\"Bournemouth\",\n",
    "    4:\"Brentford\",\n",
    "    5:\"Brighton\",\n",
    "    6:\"Burnley\",\n",
    "    7:\"Chelsea\",\n",
    "    8:\"Crystal Palace\",\n",
    "    9:\"Everton\",\n",
    "    10:\"Fulham\",\n",
    "    11:\"Liverpool\",\n",
    "    12:\"Luton\",\n",
    "    13:\"Man City\",\n",
    "    14:\"Man Utd\",\n",
    "    15:\"Newcastle\",\n",
    "    16:\"Nott'm Forest\",\n",
    "    17:\"Sheffield Utd\",\n",
    "    18:\"Spurs\",\n",
    "    19:\"West Ham\",\n",
    "    20:\"Wolves\",\n",
    "    }\n",
    "    \n",
    "    df[\"Teams\"]=df[\"id\"].map(team_names)\n",
    "    \n",
    "    df.head(10)"
   ]
  },
  {
   "cell_type": "code",
   "execution_count": 6,
   "id": "1f412005",
   "metadata": {},
   "outputs": [],
   "source": [
    "def mapiranje_tezine_protivnika(df):\n",
    "    fixture_rating={\n",
    "    \"Arsenal\":5,\n",
    "    \"Aston Vila\":5,\n",
    "    \"Bournemouth\":3,\n",
    "    \"Brentford\":2,\n",
    "    \"Brighton\":3,\n",
    "    \"Burnley\":2,\n",
    "    \"Chelsea\":4,\n",
    "    \"Crystal Palace\":4,\n",
    "    \"Everton\":3,\n",
    "    \"Fulham\":3,\n",
    "    \"Liverpool\":5,\n",
    "    \"Luton\":2,\n",
    "    \"Man City\":5,\n",
    "    \"Man Utd\":4,\n",
    "    \"Newcastle\":4,\n",
    "    \"Nott'm Forest\":2,\n",
    "    \"Sheffield Utd\":2,\n",
    "    \"Spurs\":5,\n",
    "    \"West Ham\":4,\n",
    "    \"Wolves\":3,\n",
    "    } \n",
    "    \n",
    "    df[\"Fixture rating\"]=df[\"Teams\"].map(fixture_rating)\n",
    "    \n",
    "    df.head(10)"
   ]
  },
  {
   "cell_type": "code",
   "execution_count": 7,
   "id": "920c2593",
   "metadata": {},
   "outputs": [],
   "source": [
    "def izracunaj_delta_vrednosti(df):\n",
    "    #GOLOVI\n",
    "    \n",
    "    delta_goals_scored=df.goals_scored-df.expected_goals\n",
    "    \n",
    "    print(delta_goals_scored)\n",
    "    \n",
    "    df[\"Dealta Goals\"]=delta_goals_scored\n",
    "    \n",
    "    #ASISTENCIJE\n",
    "    \n",
    "    delta_assists=df.assists-df.expected_assists\n",
    "    \n",
    "    print(delta_assists)\n",
    "    \n",
    "    df[\"Delta Assists\"]=delta_assists\n",
    "    \n",
    "    #PRIMLJENI GOLOVI\n",
    "    \n",
    "    delta_goals_conceded=df.expected_goals_conceded-df.goals_conceded\n",
    "    \n",
    "    print(delta_goals_conceded)\n",
    "    \n",
    "    df[\"Delta Goals Conceded\"]=delta_goals_conceded\n",
    "    \n",
    "    df.head(10)"
   ]
  }
 ],
 "metadata": {
  "kernelspec": {
   "display_name": "Python 3 (ipykernel)",
   "language": "python",
   "name": "python3"
  },
  "language_info": {
   "codemirror_mode": {
    "name": "ipython",
    "version": 3
   },
   "file_extension": ".py",
   "mimetype": "text/x-python",
   "name": "python",
   "nbconvert_exporter": "python",
   "pygments_lexer": "ipython3",
   "version": "3.10.9"
  }
 },
 "nbformat": 4,
 "nbformat_minor": 5
}
