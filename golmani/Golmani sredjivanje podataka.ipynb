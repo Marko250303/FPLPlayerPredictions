{
 "cells": [
  {
   "cell_type": "code",
   "execution_count": 4,
   "id": "e841ec79",
   "metadata": {},
   "outputs": [],
   "source": [
    "import pandas as pd\n",
    "import numpy as np\n",
    "import matplotlib as plt\n",
    "\n",
    "pd.set_option('display.max_columns', None)"
   ]
  },
  {
   "cell_type": "markdown",
   "id": "dd2d159b",
   "metadata": {},
   "source": [
    "**UČITAVANJE I PRIPREMA SKUPOVA PODATAKA**"
   ]
  },
  {
   "cell_type": "code",
   "execution_count": 5,
   "id": "cae2f853",
   "metadata": {},
   "outputs": [],
   "source": [
    "filenames=[\"Jordan_Pikford\",\n",
    "           \"David_Raya\",\n",
    "           \"Alisson_Becker\",\n",
    "           \"Alphonse_Areola\",\n",
    "           \"Andre_Onana\",\n",
    "           \"Bart_Verbruggen\",\n",
    "           \"Bernd_Leno\",\n",
    "           \"Dean_Henderson\",\n",
    "           \"Ederson_Moraes\",\n",
    "           \"Emiliano_Martinez\",\n",
    "           \"Guglielmo_Vicario\",\n",
    "           \"James_Trafford\",\n",
    "           \"Jason_Steele\",\n",
    "           \"Jose_Sa\",\n",
    "           \"Mark_Flekken\",\n",
    "           \"Martin_Dubravka\",\n",
    "           \"Matt_Turner\",\n",
    "           \"Norberto_Neto\",\n",
    "           \"Sam_Johnstone\",\n",
    "           \"Thomas_Kaminski\",\n",
    "           \"Wes_Foderingham\"]\n",
    "\n",
    "dfs={}"
   ]
  },
  {
   "cell_type": "code",
   "execution_count": 6,
   "id": "cf7b14b9",
   "metadata": {},
   "outputs": [],
   "source": [
    "for dataframe in filenames:\n",
    "    df=pd.read_csv(dataframe+\".csv\")\n",
    "    \n",
    "    dfs[dataframe.split('.')[0]]=df"
   ]
  },
  {
   "cell_type": "code",
   "execution_count": 7,
   "id": "ab3bfc0e",
   "metadata": {},
   "outputs": [],
   "source": [
    "df_Pickford=dfs['Jordan_Pikford']\n",
    "df_Raya=dfs[\"David_Raya\"]\n",
    "df_Alisson=dfs[\"Alisson_Becker\"]\n",
    "df_Areola=dfs[\"Alphonse_Areola\"]\n",
    "df_Onana=dfs[\"Andre_Onana\"]\n",
    "df_Verbruggen=dfs[\"Bart_Verbruggen\"]\n",
    "df_Leno=dfs[\"Bernd_Leno\"]\n",
    "df_Henderson=dfs[\"Dean_Henderson\"]\n",
    "df_Ederson=dfs[\"Ederson_Moraes\"]\n",
    "df_Martinez=dfs[\"Emiliano_Martinez\"]\n",
    "df_Vicario=dfs[\"Guglielmo_Vicario\"]\n",
    "df_Trafford=dfs[\"James_Trafford\"]\n",
    "df_Steele=dfs[\"Jason_Steele\"]\n",
    "df_Sa=dfs[\"Jose_Sa\"]\n",
    "df_Flekken=dfs[\"Mark_Flekken\"]\n",
    "df_Dubravka=dfs[\"Martin_Dubravka\"]\n",
    "df_Turner=dfs[\"Matt_Turner\"]\n",
    "df_Neto=dfs[\"Norberto_Neto\"]\n",
    "df_Johnstone=dfs[\"Sam_Johnstone\"]\n",
    "df_Kaminski=dfs[\"Thomas_Kaminski\"]\n",
    "df_Foderingham=dfs[\"Wes_Foderingham\"]"
   ]
  },
  {
   "cell_type": "code",
   "execution_count": 8,
   "id": "4adf69f4",
   "metadata": {},
   "outputs": [],
   "source": [
    "dataframes=[df_Pickford,\n",
    "            df_Raya,\n",
    "            df_Alisson,\n",
    "            df_Areola,\n",
    "            df_Onana,\n",
    "            df_Verbruggen,\n",
    "            df_Leno,\n",
    "            df_Henderson,\n",
    "            df_Ederson,\n",
    "            df_Martinez,\n",
    "            df_Vicario,\n",
    "            df_Trafford,\n",
    "            df_Steele,\n",
    "            df_Sa,\n",
    "            df_Flekken,\n",
    "            df_Dubravka,\n",
    "            df_Turner,\n",
    "            df_Neto,\n",
    "            df_Johnstone,\n",
    "            df_Kaminski,\n",
    "            df_Foderingham]"
   ]
  },
  {
   "cell_type": "code",
   "execution_count": 9,
   "id": "46ce99da",
   "metadata": {},
   "outputs": [
    {
     "data": {
      "text/html": [
       "<div>\n",
       "<style scoped>\n",
       "    .dataframe tbody tr th:only-of-type {\n",
       "        vertical-align: middle;\n",
       "    }\n",
       "\n",
       "    .dataframe tbody tr th {\n",
       "        vertical-align: top;\n",
       "    }\n",
       "\n",
       "    .dataframe thead th {\n",
       "        text-align: right;\n",
       "    }\n",
       "</style>\n",
       "<table border=\"1\" class=\"dataframe\">\n",
       "  <thead>\n",
       "    <tr style=\"text-align: right;\">\n",
       "      <th></th>\n",
       "      <th>assists</th>\n",
       "      <th>bonus</th>\n",
       "      <th>bps</th>\n",
       "      <th>clean_sheets</th>\n",
       "      <th>creativity</th>\n",
       "      <th>element</th>\n",
       "      <th>expected_assists</th>\n",
       "      <th>expected_goal_involvements</th>\n",
       "      <th>expected_goals</th>\n",
       "      <th>expected_goals_conceded</th>\n",
       "      <th>fixture</th>\n",
       "      <th>goals_conceded</th>\n",
       "      <th>goals_scored</th>\n",
       "      <th>ict_index</th>\n",
       "      <th>influence</th>\n",
       "      <th>kickoff_time</th>\n",
       "      <th>minutes</th>\n",
       "      <th>opponent_team</th>\n",
       "      <th>own_goals</th>\n",
       "      <th>penalties_missed</th>\n",
       "      <th>penalties_saved</th>\n",
       "      <th>red_cards</th>\n",
       "      <th>round</th>\n",
       "      <th>saves</th>\n",
       "      <th>selected</th>\n",
       "      <th>starts</th>\n",
       "      <th>team_a_score</th>\n",
       "      <th>team_h_score</th>\n",
       "      <th>threat</th>\n",
       "      <th>total_points</th>\n",
       "      <th>transfers_balance</th>\n",
       "      <th>transfers_in</th>\n",
       "      <th>transfers_out</th>\n",
       "      <th>value</th>\n",
       "      <th>was_home</th>\n",
       "      <th>yellow_cards</th>\n",
       "    </tr>\n",
       "  </thead>\n",
       "  <tbody>\n",
       "    <tr>\n",
       "      <th>0</th>\n",
       "      <td>0</td>\n",
       "      <td>0</td>\n",
       "      <td>10</td>\n",
       "      <td>0</td>\n",
       "      <td>10.0</td>\n",
       "      <td>263</td>\n",
       "      <td>0.01</td>\n",
       "      <td>0.01</td>\n",
       "      <td>0.0</td>\n",
       "      <td>1.50</td>\n",
       "      <td>5</td>\n",
       "      <td>1</td>\n",
       "      <td>0</td>\n",
       "      <td>2.4</td>\n",
       "      <td>14.0</td>\n",
       "      <td>2023-08-12T14:00:00Z</td>\n",
       "      <td>90</td>\n",
       "      <td>10</td>\n",
       "      <td>0</td>\n",
       "      <td>0</td>\n",
       "      <td>0</td>\n",
       "      <td>0</td>\n",
       "      <td>1</td>\n",
       "      <td>1</td>\n",
       "      <td>1296893</td>\n",
       "      <td>1</td>\n",
       "      <td>1</td>\n",
       "      <td>0</td>\n",
       "      <td>0.0</td>\n",
       "      <td>2</td>\n",
       "      <td>0</td>\n",
       "      <td>0</td>\n",
       "      <td>0</td>\n",
       "      <td>45</td>\n",
       "      <td>True</td>\n",
       "      <td>0</td>\n",
       "    </tr>\n",
       "    <tr>\n",
       "      <th>1</th>\n",
       "      <td>0</td>\n",
       "      <td>0</td>\n",
       "      <td>7</td>\n",
       "      <td>0</td>\n",
       "      <td>0.0</td>\n",
       "      <td>263</td>\n",
       "      <td>0.00</td>\n",
       "      <td>0.00</td>\n",
       "      <td>0.0</td>\n",
       "      <td>3.11</td>\n",
       "      <td>11</td>\n",
       "      <td>4</td>\n",
       "      <td>0</td>\n",
       "      <td>1.6</td>\n",
       "      <td>15.6</td>\n",
       "      <td>2023-08-20T13:00:00Z</td>\n",
       "      <td>90</td>\n",
       "      <td>2</td>\n",
       "      <td>0</td>\n",
       "      <td>0</td>\n",
       "      <td>0</td>\n",
       "      <td>0</td>\n",
       "      <td>2</td>\n",
       "      <td>3</td>\n",
       "      <td>1322797</td>\n",
       "      <td>1</td>\n",
       "      <td>0</td>\n",
       "      <td>4</td>\n",
       "      <td>0.0</td>\n",
       "      <td>0</td>\n",
       "      <td>-47307</td>\n",
       "      <td>22782</td>\n",
       "      <td>70089</td>\n",
       "      <td>45</td>\n",
       "      <td>False</td>\n",
       "      <td>1</td>\n",
       "    </tr>\n",
       "    <tr>\n",
       "      <th>2</th>\n",
       "      <td>0</td>\n",
       "      <td>0</td>\n",
       "      <td>13</td>\n",
       "      <td>0</td>\n",
       "      <td>0.0</td>\n",
       "      <td>263</td>\n",
       "      <td>0.01</td>\n",
       "      <td>0.01</td>\n",
       "      <td>0.0</td>\n",
       "      <td>1.16</td>\n",
       "      <td>27</td>\n",
       "      <td>1</td>\n",
       "      <td>0</td>\n",
       "      <td>0.8</td>\n",
       "      <td>8.0</td>\n",
       "      <td>2023-08-26T14:00:00Z</td>\n",
       "      <td>90</td>\n",
       "      <td>20</td>\n",
       "      <td>0</td>\n",
       "      <td>0</td>\n",
       "      <td>0</td>\n",
       "      <td>0</td>\n",
       "      <td>3</td>\n",
       "      <td>2</td>\n",
       "      <td>1211662</td>\n",
       "      <td>1</td>\n",
       "      <td>1</td>\n",
       "      <td>0</td>\n",
       "      <td>0.0</td>\n",
       "      <td>2</td>\n",
       "      <td>-125336</td>\n",
       "      <td>14775</td>\n",
       "      <td>140111</td>\n",
       "      <td>45</td>\n",
       "      <td>True</td>\n",
       "      <td>0</td>\n",
       "    </tr>\n",
       "    <tr>\n",
       "      <th>3</th>\n",
       "      <td>0</td>\n",
       "      <td>0</td>\n",
       "      <td>17</td>\n",
       "      <td>0</td>\n",
       "      <td>0.0</td>\n",
       "      <td>263</td>\n",
       "      <td>0.01</td>\n",
       "      <td>0.01</td>\n",
       "      <td>0.0</td>\n",
       "      <td>1.24</td>\n",
       "      <td>40</td>\n",
       "      <td>2</td>\n",
       "      <td>0</td>\n",
       "      <td>4.5</td>\n",
       "      <td>45.4</td>\n",
       "      <td>2023-09-02T11:30:00Z</td>\n",
       "      <td>90</td>\n",
       "      <td>17</td>\n",
       "      <td>1</td>\n",
       "      <td>0</td>\n",
       "      <td>0</td>\n",
       "      <td>0</td>\n",
       "      <td>4</td>\n",
       "      <td>6</td>\n",
       "      <td>1146447</td>\n",
       "      <td>1</td>\n",
       "      <td>2</td>\n",
       "      <td>2</td>\n",
       "      <td>0.0</td>\n",
       "      <td>1</td>\n",
       "      <td>-77730</td>\n",
       "      <td>19067</td>\n",
       "      <td>96797</td>\n",
       "      <td>45</td>\n",
       "      <td>False</td>\n",
       "      <td>0</td>\n",
       "    </tr>\n",
       "    <tr>\n",
       "      <th>4</th>\n",
       "      <td>0</td>\n",
       "      <td>0</td>\n",
       "      <td>16</td>\n",
       "      <td>0</td>\n",
       "      <td>10.0</td>\n",
       "      <td>263</td>\n",
       "      <td>0.02</td>\n",
       "      <td>0.02</td>\n",
       "      <td>0.0</td>\n",
       "      <td>1.02</td>\n",
       "      <td>43</td>\n",
       "      <td>1</td>\n",
       "      <td>0</td>\n",
       "      <td>3.5</td>\n",
       "      <td>25.4</td>\n",
       "      <td>2023-09-17T15:30:00Z</td>\n",
       "      <td>90</td>\n",
       "      <td>1</td>\n",
       "      <td>0</td>\n",
       "      <td>0</td>\n",
       "      <td>0</td>\n",
       "      <td>0</td>\n",
       "      <td>5</td>\n",
       "      <td>3</td>\n",
       "      <td>1025614</td>\n",
       "      <td>1</td>\n",
       "      <td>1</td>\n",
       "      <td>0</td>\n",
       "      <td>0.0</td>\n",
       "      <td>3</td>\n",
       "      <td>-132879</td>\n",
       "      <td>10778</td>\n",
       "      <td>143657</td>\n",
       "      <td>44</td>\n",
       "      <td>True</td>\n",
       "      <td>0</td>\n",
       "    </tr>\n",
       "  </tbody>\n",
       "</table>\n",
       "</div>"
      ],
      "text/plain": [
       "   assists  bonus  bps  clean_sheets  creativity  element  expected_assists  \\\n",
       "0        0      0   10             0        10.0      263              0.01   \n",
       "1        0      0    7             0         0.0      263              0.00   \n",
       "2        0      0   13             0         0.0      263              0.01   \n",
       "3        0      0   17             0         0.0      263              0.01   \n",
       "4        0      0   16             0        10.0      263              0.02   \n",
       "\n",
       "   expected_goal_involvements  expected_goals  expected_goals_conceded  \\\n",
       "0                        0.01             0.0                     1.50   \n",
       "1                        0.00             0.0                     3.11   \n",
       "2                        0.01             0.0                     1.16   \n",
       "3                        0.01             0.0                     1.24   \n",
       "4                        0.02             0.0                     1.02   \n",
       "\n",
       "   fixture  goals_conceded  goals_scored  ict_index  influence  \\\n",
       "0        5               1             0        2.4       14.0   \n",
       "1       11               4             0        1.6       15.6   \n",
       "2       27               1             0        0.8        8.0   \n",
       "3       40               2             0        4.5       45.4   \n",
       "4       43               1             0        3.5       25.4   \n",
       "\n",
       "           kickoff_time  minutes  opponent_team  own_goals  penalties_missed  \\\n",
       "0  2023-08-12T14:00:00Z       90             10          0                 0   \n",
       "1  2023-08-20T13:00:00Z       90              2          0                 0   \n",
       "2  2023-08-26T14:00:00Z       90             20          0                 0   \n",
       "3  2023-09-02T11:30:00Z       90             17          1                 0   \n",
       "4  2023-09-17T15:30:00Z       90              1          0                 0   \n",
       "\n",
       "   penalties_saved  red_cards  round  saves  selected  starts  team_a_score  \\\n",
       "0                0          0      1      1   1296893       1             1   \n",
       "1                0          0      2      3   1322797       1             0   \n",
       "2                0          0      3      2   1211662       1             1   \n",
       "3                0          0      4      6   1146447       1             2   \n",
       "4                0          0      5      3   1025614       1             1   \n",
       "\n",
       "   team_h_score  threat  total_points  transfers_balance  transfers_in  \\\n",
       "0             0     0.0             2                  0             0   \n",
       "1             4     0.0             0             -47307         22782   \n",
       "2             0     0.0             2            -125336         14775   \n",
       "3             2     0.0             1             -77730         19067   \n",
       "4             0     0.0             3            -132879         10778   \n",
       "\n",
       "   transfers_out  value  was_home  yellow_cards  \n",
       "0              0     45      True             0  \n",
       "1          70089     45     False             1  \n",
       "2         140111     45      True             0  \n",
       "3          96797     45     False             0  \n",
       "4         143657     44      True             0  "
      ]
     },
     "execution_count": 9,
     "metadata": {},
     "output_type": "execute_result"
    }
   ],
   "source": [
    "df_Pickford.head()"
   ]
  },
  {
   "cell_type": "code",
   "execution_count": 10,
   "id": "3a0b54a9",
   "metadata": {},
   "outputs": [],
   "source": [
    "def ubaci_ime_u_dataframe():\n",
    "    for df,name in zip(dataframes,filenames):\n",
    "        df[\"Firstname\"]=name.split('_')[0]\n",
    "        df[\"Lastname\"]=name.split('_')[1]"
   ]
  },
  {
   "cell_type": "code",
   "execution_count": 11,
   "id": "3fe48523",
   "metadata": {},
   "outputs": [],
   "source": [
    "def oblik():\n",
    "    for df in dataframes:\n",
    "        print(df.shape)"
   ]
  },
  {
   "cell_type": "code",
   "execution_count": 12,
   "id": "3d3bd988",
   "metadata": {
    "collapsed": true
   },
   "outputs": [
    {
     "name": "stdout",
     "output_type": "stream",
     "text": [
      "(38, 36)\n",
      "(38, 36)\n",
      "(38, 36)\n",
      "(38, 36)\n",
      "(38, 36)\n",
      "(38, 36)\n",
      "(38, 36)\n",
      "(38, 36)\n",
      "(38, 36)\n",
      "(38, 36)\n",
      "(38, 36)\n",
      "(38, 36)\n",
      "(38, 36)\n",
      "(38, 36)\n",
      "(38, 36)\n",
      "(38, 36)\n",
      "(38, 36)\n",
      "(38, 36)\n",
      "(38, 36)\n",
      "(38, 36)\n",
      "(38, 36)\n"
     ]
    }
   ],
   "source": [
    "oblik()"
   ]
  },
  {
   "cell_type": "code",
   "execution_count": 13,
   "id": "f600e686",
   "metadata": {},
   "outputs": [],
   "source": [
    "ubaci_ime_u_dataframe()"
   ]
  },
  {
   "cell_type": "code",
   "execution_count": 14,
   "id": "f58b22d2",
   "metadata": {},
   "outputs": [
    {
     "data": {
      "text/html": [
       "<div>\n",
       "<style scoped>\n",
       "    .dataframe tbody tr th:only-of-type {\n",
       "        vertical-align: middle;\n",
       "    }\n",
       "\n",
       "    .dataframe tbody tr th {\n",
       "        vertical-align: top;\n",
       "    }\n",
       "\n",
       "    .dataframe thead th {\n",
       "        text-align: right;\n",
       "    }\n",
       "</style>\n",
       "<table border=\"1\" class=\"dataframe\">\n",
       "  <thead>\n",
       "    <tr style=\"text-align: right;\">\n",
       "      <th></th>\n",
       "      <th>assists</th>\n",
       "      <th>bonus</th>\n",
       "      <th>bps</th>\n",
       "      <th>clean_sheets</th>\n",
       "      <th>creativity</th>\n",
       "      <th>element</th>\n",
       "      <th>expected_assists</th>\n",
       "      <th>expected_goal_involvements</th>\n",
       "      <th>expected_goals</th>\n",
       "      <th>expected_goals_conceded</th>\n",
       "      <th>fixture</th>\n",
       "      <th>goals_conceded</th>\n",
       "      <th>goals_scored</th>\n",
       "      <th>ict_index</th>\n",
       "      <th>influence</th>\n",
       "      <th>kickoff_time</th>\n",
       "      <th>minutes</th>\n",
       "      <th>opponent_team</th>\n",
       "      <th>own_goals</th>\n",
       "      <th>penalties_missed</th>\n",
       "      <th>penalties_saved</th>\n",
       "      <th>red_cards</th>\n",
       "      <th>round</th>\n",
       "      <th>saves</th>\n",
       "      <th>selected</th>\n",
       "      <th>starts</th>\n",
       "      <th>team_a_score</th>\n",
       "      <th>team_h_score</th>\n",
       "      <th>threat</th>\n",
       "      <th>total_points</th>\n",
       "      <th>transfers_balance</th>\n",
       "      <th>transfers_in</th>\n",
       "      <th>transfers_out</th>\n",
       "      <th>value</th>\n",
       "      <th>was_home</th>\n",
       "      <th>yellow_cards</th>\n",
       "      <th>Firstname</th>\n",
       "      <th>Lastname</th>\n",
       "    </tr>\n",
       "  </thead>\n",
       "  <tbody>\n",
       "    <tr>\n",
       "      <th>0</th>\n",
       "      <td>0</td>\n",
       "      <td>0</td>\n",
       "      <td>10</td>\n",
       "      <td>0</td>\n",
       "      <td>10.0</td>\n",
       "      <td>263</td>\n",
       "      <td>0.01</td>\n",
       "      <td>0.01</td>\n",
       "      <td>0.0</td>\n",
       "      <td>1.50</td>\n",
       "      <td>5</td>\n",
       "      <td>1</td>\n",
       "      <td>0</td>\n",
       "      <td>2.4</td>\n",
       "      <td>14.0</td>\n",
       "      <td>2023-08-12T14:00:00Z</td>\n",
       "      <td>90</td>\n",
       "      <td>10</td>\n",
       "      <td>0</td>\n",
       "      <td>0</td>\n",
       "      <td>0</td>\n",
       "      <td>0</td>\n",
       "      <td>1</td>\n",
       "      <td>1</td>\n",
       "      <td>1296893</td>\n",
       "      <td>1</td>\n",
       "      <td>1</td>\n",
       "      <td>0</td>\n",
       "      <td>0.0</td>\n",
       "      <td>2</td>\n",
       "      <td>0</td>\n",
       "      <td>0</td>\n",
       "      <td>0</td>\n",
       "      <td>45</td>\n",
       "      <td>True</td>\n",
       "      <td>0</td>\n",
       "      <td>Jordan</td>\n",
       "      <td>Pikford</td>\n",
       "    </tr>\n",
       "    <tr>\n",
       "      <th>1</th>\n",
       "      <td>0</td>\n",
       "      <td>0</td>\n",
       "      <td>7</td>\n",
       "      <td>0</td>\n",
       "      <td>0.0</td>\n",
       "      <td>263</td>\n",
       "      <td>0.00</td>\n",
       "      <td>0.00</td>\n",
       "      <td>0.0</td>\n",
       "      <td>3.11</td>\n",
       "      <td>11</td>\n",
       "      <td>4</td>\n",
       "      <td>0</td>\n",
       "      <td>1.6</td>\n",
       "      <td>15.6</td>\n",
       "      <td>2023-08-20T13:00:00Z</td>\n",
       "      <td>90</td>\n",
       "      <td>2</td>\n",
       "      <td>0</td>\n",
       "      <td>0</td>\n",
       "      <td>0</td>\n",
       "      <td>0</td>\n",
       "      <td>2</td>\n",
       "      <td>3</td>\n",
       "      <td>1322797</td>\n",
       "      <td>1</td>\n",
       "      <td>0</td>\n",
       "      <td>4</td>\n",
       "      <td>0.0</td>\n",
       "      <td>0</td>\n",
       "      <td>-47307</td>\n",
       "      <td>22782</td>\n",
       "      <td>70089</td>\n",
       "      <td>45</td>\n",
       "      <td>False</td>\n",
       "      <td>1</td>\n",
       "      <td>Jordan</td>\n",
       "      <td>Pikford</td>\n",
       "    </tr>\n",
       "    <tr>\n",
       "      <th>2</th>\n",
       "      <td>0</td>\n",
       "      <td>0</td>\n",
       "      <td>13</td>\n",
       "      <td>0</td>\n",
       "      <td>0.0</td>\n",
       "      <td>263</td>\n",
       "      <td>0.01</td>\n",
       "      <td>0.01</td>\n",
       "      <td>0.0</td>\n",
       "      <td>1.16</td>\n",
       "      <td>27</td>\n",
       "      <td>1</td>\n",
       "      <td>0</td>\n",
       "      <td>0.8</td>\n",
       "      <td>8.0</td>\n",
       "      <td>2023-08-26T14:00:00Z</td>\n",
       "      <td>90</td>\n",
       "      <td>20</td>\n",
       "      <td>0</td>\n",
       "      <td>0</td>\n",
       "      <td>0</td>\n",
       "      <td>0</td>\n",
       "      <td>3</td>\n",
       "      <td>2</td>\n",
       "      <td>1211662</td>\n",
       "      <td>1</td>\n",
       "      <td>1</td>\n",
       "      <td>0</td>\n",
       "      <td>0.0</td>\n",
       "      <td>2</td>\n",
       "      <td>-125336</td>\n",
       "      <td>14775</td>\n",
       "      <td>140111</td>\n",
       "      <td>45</td>\n",
       "      <td>True</td>\n",
       "      <td>0</td>\n",
       "      <td>Jordan</td>\n",
       "      <td>Pikford</td>\n",
       "    </tr>\n",
       "    <tr>\n",
       "      <th>3</th>\n",
       "      <td>0</td>\n",
       "      <td>0</td>\n",
       "      <td>17</td>\n",
       "      <td>0</td>\n",
       "      <td>0.0</td>\n",
       "      <td>263</td>\n",
       "      <td>0.01</td>\n",
       "      <td>0.01</td>\n",
       "      <td>0.0</td>\n",
       "      <td>1.24</td>\n",
       "      <td>40</td>\n",
       "      <td>2</td>\n",
       "      <td>0</td>\n",
       "      <td>4.5</td>\n",
       "      <td>45.4</td>\n",
       "      <td>2023-09-02T11:30:00Z</td>\n",
       "      <td>90</td>\n",
       "      <td>17</td>\n",
       "      <td>1</td>\n",
       "      <td>0</td>\n",
       "      <td>0</td>\n",
       "      <td>0</td>\n",
       "      <td>4</td>\n",
       "      <td>6</td>\n",
       "      <td>1146447</td>\n",
       "      <td>1</td>\n",
       "      <td>2</td>\n",
       "      <td>2</td>\n",
       "      <td>0.0</td>\n",
       "      <td>1</td>\n",
       "      <td>-77730</td>\n",
       "      <td>19067</td>\n",
       "      <td>96797</td>\n",
       "      <td>45</td>\n",
       "      <td>False</td>\n",
       "      <td>0</td>\n",
       "      <td>Jordan</td>\n",
       "      <td>Pikford</td>\n",
       "    </tr>\n",
       "    <tr>\n",
       "      <th>4</th>\n",
       "      <td>0</td>\n",
       "      <td>0</td>\n",
       "      <td>16</td>\n",
       "      <td>0</td>\n",
       "      <td>10.0</td>\n",
       "      <td>263</td>\n",
       "      <td>0.02</td>\n",
       "      <td>0.02</td>\n",
       "      <td>0.0</td>\n",
       "      <td>1.02</td>\n",
       "      <td>43</td>\n",
       "      <td>1</td>\n",
       "      <td>0</td>\n",
       "      <td>3.5</td>\n",
       "      <td>25.4</td>\n",
       "      <td>2023-09-17T15:30:00Z</td>\n",
       "      <td>90</td>\n",
       "      <td>1</td>\n",
       "      <td>0</td>\n",
       "      <td>0</td>\n",
       "      <td>0</td>\n",
       "      <td>0</td>\n",
       "      <td>5</td>\n",
       "      <td>3</td>\n",
       "      <td>1025614</td>\n",
       "      <td>1</td>\n",
       "      <td>1</td>\n",
       "      <td>0</td>\n",
       "      <td>0.0</td>\n",
       "      <td>3</td>\n",
       "      <td>-132879</td>\n",
       "      <td>10778</td>\n",
       "      <td>143657</td>\n",
       "      <td>44</td>\n",
       "      <td>True</td>\n",
       "      <td>0</td>\n",
       "      <td>Jordan</td>\n",
       "      <td>Pikford</td>\n",
       "    </tr>\n",
       "  </tbody>\n",
       "</table>\n",
       "</div>"
      ],
      "text/plain": [
       "   assists  bonus  bps  clean_sheets  creativity  element  expected_assists  \\\n",
       "0        0      0   10             0        10.0      263              0.01   \n",
       "1        0      0    7             0         0.0      263              0.00   \n",
       "2        0      0   13             0         0.0      263              0.01   \n",
       "3        0      0   17             0         0.0      263              0.01   \n",
       "4        0      0   16             0        10.0      263              0.02   \n",
       "\n",
       "   expected_goal_involvements  expected_goals  expected_goals_conceded  \\\n",
       "0                        0.01             0.0                     1.50   \n",
       "1                        0.00             0.0                     3.11   \n",
       "2                        0.01             0.0                     1.16   \n",
       "3                        0.01             0.0                     1.24   \n",
       "4                        0.02             0.0                     1.02   \n",
       "\n",
       "   fixture  goals_conceded  goals_scored  ict_index  influence  \\\n",
       "0        5               1             0        2.4       14.0   \n",
       "1       11               4             0        1.6       15.6   \n",
       "2       27               1             0        0.8        8.0   \n",
       "3       40               2             0        4.5       45.4   \n",
       "4       43               1             0        3.5       25.4   \n",
       "\n",
       "           kickoff_time  minutes  opponent_team  own_goals  penalties_missed  \\\n",
       "0  2023-08-12T14:00:00Z       90             10          0                 0   \n",
       "1  2023-08-20T13:00:00Z       90              2          0                 0   \n",
       "2  2023-08-26T14:00:00Z       90             20          0                 0   \n",
       "3  2023-09-02T11:30:00Z       90             17          1                 0   \n",
       "4  2023-09-17T15:30:00Z       90              1          0                 0   \n",
       "\n",
       "   penalties_saved  red_cards  round  saves  selected  starts  team_a_score  \\\n",
       "0                0          0      1      1   1296893       1             1   \n",
       "1                0          0      2      3   1322797       1             0   \n",
       "2                0          0      3      2   1211662       1             1   \n",
       "3                0          0      4      6   1146447       1             2   \n",
       "4                0          0      5      3   1025614       1             1   \n",
       "\n",
       "   team_h_score  threat  total_points  transfers_balance  transfers_in  \\\n",
       "0             0     0.0             2                  0             0   \n",
       "1             4     0.0             0             -47307         22782   \n",
       "2             0     0.0             2            -125336         14775   \n",
       "3             2     0.0             1             -77730         19067   \n",
       "4             0     0.0             3            -132879         10778   \n",
       "\n",
       "   transfers_out  value  was_home  yellow_cards Firstname Lastname  \n",
       "0              0     45      True             0    Jordan  Pikford  \n",
       "1          70089     45     False             1    Jordan  Pikford  \n",
       "2         140111     45      True             0    Jordan  Pikford  \n",
       "3          96797     45     False             0    Jordan  Pikford  \n",
       "4         143657     44      True             0    Jordan  Pikford  "
      ]
     },
     "execution_count": 14,
     "metadata": {},
     "output_type": "execute_result"
    }
   ],
   "source": [
    "df_Pickford.head()"
   ]
  },
  {
   "cell_type": "code",
   "execution_count": 15,
   "id": "b1f594b3",
   "metadata": {
    "collapsed": true
   },
   "outputs": [
    {
     "name": "stdout",
     "output_type": "stream",
     "text": [
      "(38, 38)\n",
      "(38, 38)\n",
      "(38, 38)\n",
      "(38, 38)\n",
      "(38, 38)\n",
      "(38, 38)\n",
      "(38, 38)\n",
      "(38, 38)\n",
      "(38, 38)\n",
      "(38, 38)\n",
      "(38, 38)\n",
      "(38, 38)\n",
      "(38, 38)\n",
      "(38, 38)\n",
      "(38, 38)\n",
      "(38, 38)\n",
      "(38, 38)\n",
      "(38, 38)\n",
      "(38, 38)\n",
      "(38, 38)\n",
      "(38, 38)\n"
     ]
    }
   ],
   "source": [
    "oblik()"
   ]
  },
  {
   "cell_type": "code",
   "execution_count": 16,
   "id": "f49c2ecd",
   "metadata": {},
   "outputs": [],
   "source": [
    "def izbaci_kolone(column_names):\n",
    "    for dataframe in dataframes:\n",
    "        dataframe.drop(columns=column_names,inplace=True)"
   ]
  },
  {
   "cell_type": "code",
   "execution_count": 17,
   "id": "786cdba5",
   "metadata": {},
   "outputs": [],
   "source": [
    "column_names=['bps',\n",
    "              'bonus',\n",
    "              'selected',\n",
    "              'starts',\n",
    "              'creativity',\n",
    "              'element',\n",
    "              'ict_index',\n",
    "              'influence',\n",
    "              'kickoff_time',\n",
    "              'round',\n",
    "              'threat',\n",
    "              'transfers_balance',\n",
    "              'transfers_in',\n",
    "              'transfers_out',\n",
    "              'team_a_score',\n",
    "              'team_h_score',\n",
    "              'value',\n",
    "              'fixture',\n",
    "              'was_home',\n",
    "              'expected_goal_involvements']"
   ]
  },
  {
   "cell_type": "code",
   "execution_count": 18,
   "id": "578afc35",
   "metadata": {},
   "outputs": [],
   "source": [
    "izbaci_kolone(column_names)"
   ]
  },
  {
   "cell_type": "code",
   "execution_count": 19,
   "id": "00ea7660",
   "metadata": {},
   "outputs": [
    {
     "data": {
      "text/html": [
       "<div>\n",
       "<style scoped>\n",
       "    .dataframe tbody tr th:only-of-type {\n",
       "        vertical-align: middle;\n",
       "    }\n",
       "\n",
       "    .dataframe tbody tr th {\n",
       "        vertical-align: top;\n",
       "    }\n",
       "\n",
       "    .dataframe thead th {\n",
       "        text-align: right;\n",
       "    }\n",
       "</style>\n",
       "<table border=\"1\" class=\"dataframe\">\n",
       "  <thead>\n",
       "    <tr style=\"text-align: right;\">\n",
       "      <th></th>\n",
       "      <th>assists</th>\n",
       "      <th>clean_sheets</th>\n",
       "      <th>expected_assists</th>\n",
       "      <th>expected_goals</th>\n",
       "      <th>expected_goals_conceded</th>\n",
       "      <th>goals_conceded</th>\n",
       "      <th>goals_scored</th>\n",
       "      <th>minutes</th>\n",
       "      <th>opponent_team</th>\n",
       "      <th>own_goals</th>\n",
       "      <th>penalties_missed</th>\n",
       "      <th>penalties_saved</th>\n",
       "      <th>red_cards</th>\n",
       "      <th>saves</th>\n",
       "      <th>total_points</th>\n",
       "      <th>yellow_cards</th>\n",
       "      <th>Firstname</th>\n",
       "      <th>Lastname</th>\n",
       "    </tr>\n",
       "  </thead>\n",
       "  <tbody>\n",
       "    <tr>\n",
       "      <th>0</th>\n",
       "      <td>0</td>\n",
       "      <td>0</td>\n",
       "      <td>0.01</td>\n",
       "      <td>0.0</td>\n",
       "      <td>1.50</td>\n",
       "      <td>1</td>\n",
       "      <td>0</td>\n",
       "      <td>90</td>\n",
       "      <td>10</td>\n",
       "      <td>0</td>\n",
       "      <td>0</td>\n",
       "      <td>0</td>\n",
       "      <td>0</td>\n",
       "      <td>1</td>\n",
       "      <td>2</td>\n",
       "      <td>0</td>\n",
       "      <td>Jordan</td>\n",
       "      <td>Pikford</td>\n",
       "    </tr>\n",
       "    <tr>\n",
       "      <th>1</th>\n",
       "      <td>0</td>\n",
       "      <td>0</td>\n",
       "      <td>0.00</td>\n",
       "      <td>0.0</td>\n",
       "      <td>3.11</td>\n",
       "      <td>4</td>\n",
       "      <td>0</td>\n",
       "      <td>90</td>\n",
       "      <td>2</td>\n",
       "      <td>0</td>\n",
       "      <td>0</td>\n",
       "      <td>0</td>\n",
       "      <td>0</td>\n",
       "      <td>3</td>\n",
       "      <td>0</td>\n",
       "      <td>1</td>\n",
       "      <td>Jordan</td>\n",
       "      <td>Pikford</td>\n",
       "    </tr>\n",
       "    <tr>\n",
       "      <th>2</th>\n",
       "      <td>0</td>\n",
       "      <td>0</td>\n",
       "      <td>0.01</td>\n",
       "      <td>0.0</td>\n",
       "      <td>1.16</td>\n",
       "      <td>1</td>\n",
       "      <td>0</td>\n",
       "      <td>90</td>\n",
       "      <td>20</td>\n",
       "      <td>0</td>\n",
       "      <td>0</td>\n",
       "      <td>0</td>\n",
       "      <td>0</td>\n",
       "      <td>2</td>\n",
       "      <td>2</td>\n",
       "      <td>0</td>\n",
       "      <td>Jordan</td>\n",
       "      <td>Pikford</td>\n",
       "    </tr>\n",
       "    <tr>\n",
       "      <th>3</th>\n",
       "      <td>0</td>\n",
       "      <td>0</td>\n",
       "      <td>0.01</td>\n",
       "      <td>0.0</td>\n",
       "      <td>1.24</td>\n",
       "      <td>2</td>\n",
       "      <td>0</td>\n",
       "      <td>90</td>\n",
       "      <td>17</td>\n",
       "      <td>1</td>\n",
       "      <td>0</td>\n",
       "      <td>0</td>\n",
       "      <td>0</td>\n",
       "      <td>6</td>\n",
       "      <td>1</td>\n",
       "      <td>0</td>\n",
       "      <td>Jordan</td>\n",
       "      <td>Pikford</td>\n",
       "    </tr>\n",
       "    <tr>\n",
       "      <th>4</th>\n",
       "      <td>0</td>\n",
       "      <td>0</td>\n",
       "      <td>0.02</td>\n",
       "      <td>0.0</td>\n",
       "      <td>1.02</td>\n",
       "      <td>1</td>\n",
       "      <td>0</td>\n",
       "      <td>90</td>\n",
       "      <td>1</td>\n",
       "      <td>0</td>\n",
       "      <td>0</td>\n",
       "      <td>0</td>\n",
       "      <td>0</td>\n",
       "      <td>3</td>\n",
       "      <td>3</td>\n",
       "      <td>0</td>\n",
       "      <td>Jordan</td>\n",
       "      <td>Pikford</td>\n",
       "    </tr>\n",
       "  </tbody>\n",
       "</table>\n",
       "</div>"
      ],
      "text/plain": [
       "   assists  clean_sheets  expected_assists  expected_goals  \\\n",
       "0        0             0              0.01             0.0   \n",
       "1        0             0              0.00             0.0   \n",
       "2        0             0              0.01             0.0   \n",
       "3        0             0              0.01             0.0   \n",
       "4        0             0              0.02             0.0   \n",
       "\n",
       "   expected_goals_conceded  goals_conceded  goals_scored  minutes  \\\n",
       "0                     1.50               1             0       90   \n",
       "1                     3.11               4             0       90   \n",
       "2                     1.16               1             0       90   \n",
       "3                     1.24               2             0       90   \n",
       "4                     1.02               1             0       90   \n",
       "\n",
       "   opponent_team  own_goals  penalties_missed  penalties_saved  red_cards  \\\n",
       "0             10          0                 0                0          0   \n",
       "1              2          0                 0                0          0   \n",
       "2             20          0                 0                0          0   \n",
       "3             17          1                 0                0          0   \n",
       "4              1          0                 0                0          0   \n",
       "\n",
       "   saves  total_points  yellow_cards Firstname Lastname  \n",
       "0      1             2             0    Jordan  Pikford  \n",
       "1      3             0             1    Jordan  Pikford  \n",
       "2      2             2             0    Jordan  Pikford  \n",
       "3      6             1             0    Jordan  Pikford  \n",
       "4      3             3             0    Jordan  Pikford  "
      ]
     },
     "execution_count": 19,
     "metadata": {},
     "output_type": "execute_result"
    }
   ],
   "source": [
    "df_Pickford.head()"
   ]
  },
  {
   "cell_type": "code",
   "execution_count": 20,
   "id": "98c00c17",
   "metadata": {
    "collapsed": true
   },
   "outputs": [
    {
     "name": "stdout",
     "output_type": "stream",
     "text": [
      "(38, 18)\n",
      "(38, 18)\n",
      "(38, 18)\n",
      "(38, 18)\n",
      "(38, 18)\n",
      "(38, 18)\n",
      "(38, 18)\n",
      "(38, 18)\n",
      "(38, 18)\n",
      "(38, 18)\n",
      "(38, 18)\n",
      "(38, 18)\n",
      "(38, 18)\n",
      "(38, 18)\n",
      "(38, 18)\n",
      "(38, 18)\n",
      "(38, 18)\n",
      "(38, 18)\n",
      "(38, 18)\n",
      "(38, 18)\n",
      "(38, 18)\n"
     ]
    }
   ],
   "source": [
    "oblik()"
   ]
  },
  {
   "cell_type": "markdown",
   "id": "edbdef56",
   "metadata": {},
   "source": [
    "**DODATNO SREDJIVANJE I KREIRANJE NOVIH KOLONA**"
   ]
  },
  {
   "cell_type": "markdown",
   "id": "8ea88c60",
   "metadata": {},
   "source": [
    "**1.SPAJANJE SA TABELOM TIMOVA**"
   ]
  },
  {
   "cell_type": "code",
   "execution_count": 21,
   "id": "0704c983",
   "metadata": {},
   "outputs": [],
   "source": [
    "from IPython.display import HTML"
   ]
  },
  {
   "cell_type": "code",
   "execution_count": 22,
   "id": "b9c8a445",
   "metadata": {},
   "outputs": [],
   "source": [
    "def mapiranje_timova(df):\n",
    "    df_teams=pd.read_csv(\"teams.csv\")\n",
    "    df_teams.head(20)\n",
    "    \n",
    "    team_names={\n",
    "    1:\"Arsenal\",\n",
    "    2:\"Aston Vila\",\n",
    "    3:\"Bournemouth\",\n",
    "    4:\"Brentford\",\n",
    "    5:\"Brighton\",\n",
    "    6:\"Burnley\",\n",
    "    7:\"Chelsea\",\n",
    "    8:\"Crystal Palace\",\n",
    "    9:\"Everton\",\n",
    "    10:\"Fulham\",\n",
    "    11:\"Liverpool\",\n",
    "    12:\"Luton\",\n",
    "    13:\"Man City\",\n",
    "    14:\"Man Utd\",\n",
    "    15:\"Newcastle\",\n",
    "    16:\"Nott'm Forest\",\n",
    "    17:\"Sheffield Utd\",\n",
    "    18:\"Spurs\",\n",
    "    19:\"West Ham\",\n",
    "    20:\"Wolves\",\n",
    "    }\n",
    "    \n",
    "    df[\"Teams\"]=df[\"opponent_team\"].map(team_names)\n",
    "    \n",
    "    return(df.head(10))"
   ]
  },
  {
   "cell_type": "code",
   "execution_count": 23,
   "id": "9bfd56ba",
   "metadata": {},
   "outputs": [],
   "source": [
    "for dataframe in dataframes:\n",
    "    mapiranje_timova(dataframe)"
   ]
  },
  {
   "cell_type": "code",
   "execution_count": 24,
   "id": "7ef156c9",
   "metadata": {},
   "outputs": [
    {
     "data": {
      "text/html": [
       "<div>\n",
       "<style scoped>\n",
       "    .dataframe tbody tr th:only-of-type {\n",
       "        vertical-align: middle;\n",
       "    }\n",
       "\n",
       "    .dataframe tbody tr th {\n",
       "        vertical-align: top;\n",
       "    }\n",
       "\n",
       "    .dataframe thead th {\n",
       "        text-align: right;\n",
       "    }\n",
       "</style>\n",
       "<table border=\"1\" class=\"dataframe\">\n",
       "  <thead>\n",
       "    <tr style=\"text-align: right;\">\n",
       "      <th></th>\n",
       "      <th>assists</th>\n",
       "      <th>clean_sheets</th>\n",
       "      <th>expected_assists</th>\n",
       "      <th>expected_goals</th>\n",
       "      <th>expected_goals_conceded</th>\n",
       "      <th>goals_conceded</th>\n",
       "      <th>goals_scored</th>\n",
       "      <th>minutes</th>\n",
       "      <th>opponent_team</th>\n",
       "      <th>own_goals</th>\n",
       "      <th>penalties_missed</th>\n",
       "      <th>penalties_saved</th>\n",
       "      <th>red_cards</th>\n",
       "      <th>saves</th>\n",
       "      <th>total_points</th>\n",
       "      <th>yellow_cards</th>\n",
       "      <th>Firstname</th>\n",
       "      <th>Lastname</th>\n",
       "      <th>Teams</th>\n",
       "    </tr>\n",
       "  </thead>\n",
       "  <tbody>\n",
       "    <tr>\n",
       "      <th>0</th>\n",
       "      <td>0</td>\n",
       "      <td>0</td>\n",
       "      <td>0.01</td>\n",
       "      <td>0.0</td>\n",
       "      <td>1.50</td>\n",
       "      <td>1</td>\n",
       "      <td>0</td>\n",
       "      <td>90</td>\n",
       "      <td>10</td>\n",
       "      <td>0</td>\n",
       "      <td>0</td>\n",
       "      <td>0</td>\n",
       "      <td>0</td>\n",
       "      <td>1</td>\n",
       "      <td>2</td>\n",
       "      <td>0</td>\n",
       "      <td>Jordan</td>\n",
       "      <td>Pikford</td>\n",
       "      <td>Fulham</td>\n",
       "    </tr>\n",
       "    <tr>\n",
       "      <th>1</th>\n",
       "      <td>0</td>\n",
       "      <td>0</td>\n",
       "      <td>0.00</td>\n",
       "      <td>0.0</td>\n",
       "      <td>3.11</td>\n",
       "      <td>4</td>\n",
       "      <td>0</td>\n",
       "      <td>90</td>\n",
       "      <td>2</td>\n",
       "      <td>0</td>\n",
       "      <td>0</td>\n",
       "      <td>0</td>\n",
       "      <td>0</td>\n",
       "      <td>3</td>\n",
       "      <td>0</td>\n",
       "      <td>1</td>\n",
       "      <td>Jordan</td>\n",
       "      <td>Pikford</td>\n",
       "      <td>Aston Vila</td>\n",
       "    </tr>\n",
       "    <tr>\n",
       "      <th>2</th>\n",
       "      <td>0</td>\n",
       "      <td>0</td>\n",
       "      <td>0.01</td>\n",
       "      <td>0.0</td>\n",
       "      <td>1.16</td>\n",
       "      <td>1</td>\n",
       "      <td>0</td>\n",
       "      <td>90</td>\n",
       "      <td>20</td>\n",
       "      <td>0</td>\n",
       "      <td>0</td>\n",
       "      <td>0</td>\n",
       "      <td>0</td>\n",
       "      <td>2</td>\n",
       "      <td>2</td>\n",
       "      <td>0</td>\n",
       "      <td>Jordan</td>\n",
       "      <td>Pikford</td>\n",
       "      <td>Wolves</td>\n",
       "    </tr>\n",
       "    <tr>\n",
       "      <th>3</th>\n",
       "      <td>0</td>\n",
       "      <td>0</td>\n",
       "      <td>0.01</td>\n",
       "      <td>0.0</td>\n",
       "      <td>1.24</td>\n",
       "      <td>2</td>\n",
       "      <td>0</td>\n",
       "      <td>90</td>\n",
       "      <td>17</td>\n",
       "      <td>1</td>\n",
       "      <td>0</td>\n",
       "      <td>0</td>\n",
       "      <td>0</td>\n",
       "      <td>6</td>\n",
       "      <td>1</td>\n",
       "      <td>0</td>\n",
       "      <td>Jordan</td>\n",
       "      <td>Pikford</td>\n",
       "      <td>Sheffield Utd</td>\n",
       "    </tr>\n",
       "    <tr>\n",
       "      <th>4</th>\n",
       "      <td>0</td>\n",
       "      <td>0</td>\n",
       "      <td>0.02</td>\n",
       "      <td>0.0</td>\n",
       "      <td>1.02</td>\n",
       "      <td>1</td>\n",
       "      <td>0</td>\n",
       "      <td>90</td>\n",
       "      <td>1</td>\n",
       "      <td>0</td>\n",
       "      <td>0</td>\n",
       "      <td>0</td>\n",
       "      <td>0</td>\n",
       "      <td>3</td>\n",
       "      <td>3</td>\n",
       "      <td>0</td>\n",
       "      <td>Jordan</td>\n",
       "      <td>Pikford</td>\n",
       "      <td>Arsenal</td>\n",
       "    </tr>\n",
       "  </tbody>\n",
       "</table>\n",
       "</div>"
      ],
      "text/plain": [
       "   assists  clean_sheets  expected_assists  expected_goals  \\\n",
       "0        0             0              0.01             0.0   \n",
       "1        0             0              0.00             0.0   \n",
       "2        0             0              0.01             0.0   \n",
       "3        0             0              0.01             0.0   \n",
       "4        0             0              0.02             0.0   \n",
       "\n",
       "   expected_goals_conceded  goals_conceded  goals_scored  minutes  \\\n",
       "0                     1.50               1             0       90   \n",
       "1                     3.11               4             0       90   \n",
       "2                     1.16               1             0       90   \n",
       "3                     1.24               2             0       90   \n",
       "4                     1.02               1             0       90   \n",
       "\n",
       "   opponent_team  own_goals  penalties_missed  penalties_saved  red_cards  \\\n",
       "0             10          0                 0                0          0   \n",
       "1              2          0                 0                0          0   \n",
       "2             20          0                 0                0          0   \n",
       "3             17          1                 0                0          0   \n",
       "4              1          0                 0                0          0   \n",
       "\n",
       "   saves  total_points  yellow_cards Firstname Lastname          Teams  \n",
       "0      1             2             0    Jordan  Pikford         Fulham  \n",
       "1      3             0             1    Jordan  Pikford     Aston Vila  \n",
       "2      2             2             0    Jordan  Pikford         Wolves  \n",
       "3      6             1             0    Jordan  Pikford  Sheffield Utd  \n",
       "4      3             3             0    Jordan  Pikford        Arsenal  "
      ]
     },
     "execution_count": 24,
     "metadata": {},
     "output_type": "execute_result"
    }
   ],
   "source": [
    "df_Pickford.head()"
   ]
  },
  {
   "cell_type": "code",
   "execution_count": 25,
   "id": "9f5bc275",
   "metadata": {
    "collapsed": true
   },
   "outputs": [
    {
     "name": "stdout",
     "output_type": "stream",
     "text": [
      "(38, 19)\n",
      "(38, 19)\n",
      "(38, 19)\n",
      "(38, 19)\n",
      "(38, 19)\n",
      "(38, 19)\n",
      "(38, 19)\n",
      "(38, 19)\n",
      "(38, 19)\n",
      "(38, 19)\n",
      "(38, 19)\n",
      "(38, 19)\n",
      "(38, 19)\n",
      "(38, 19)\n",
      "(38, 19)\n",
      "(38, 19)\n",
      "(38, 19)\n",
      "(38, 19)\n",
      "(38, 19)\n",
      "(38, 19)\n",
      "(38, 19)\n"
     ]
    }
   ],
   "source": [
    "oblik()"
   ]
  },
  {
   "cell_type": "code",
   "execution_count": 26,
   "id": "043799c0",
   "metadata": {},
   "outputs": [],
   "source": [
    "def ucitaj_tabelu():\n",
    "    html=\"\"\"\n",
    "<iframe id=\"sofa-standings-embed-1-52186\" src=\"https://widgets.sofascore.com/embed/tournament/1/season/52186/standings/Premier%20League?widgetTitle=Premier%20League&showCompetitionLogo=true\" style=height:1112.5px!important;max-width:768px!important;width:100%!important; frameborder=\"0\" scrolling=\"no\"></iframe>\n",
    "    <div style=\"font-size:12px;font-family:Arial,sans-serif;text-align:left\">\n",
    "      Standings provided by <a target=\"_blank\" href=\"https://www.sofascore.com/\">Sofascore</a>\n",
    "    </div>\n",
    "\"\"\"\n",
    "    return(HTML(html))"
   ]
  },
  {
   "cell_type": "code",
   "execution_count": 27,
   "id": "e2fc9e12",
   "metadata": {},
   "outputs": [
    {
     "data": {
      "text/html": [
       "\n",
       "<iframe id=\"sofa-standings-embed-1-52186\" src=\"https://widgets.sofascore.com/embed/tournament/1/season/52186/standings/Premier%20League?widgetTitle=Premier%20League&showCompetitionLogo=true\" style=height:1112.5px!important;max-width:768px!important;width:100%!important; frameborder=\"0\" scrolling=\"no\"></iframe>\n",
       "    <div style=\"font-size:12px;font-family:Arial,sans-serif;text-align:left\">\n",
       "      Standings provided by <a target=\"_blank\" href=\"https://www.sofascore.com/\">Sofascore</a>\n",
       "    </div>\n"
      ],
      "text/plain": [
       "<IPython.core.display.HTML object>"
      ]
     },
     "execution_count": 27,
     "metadata": {},
     "output_type": "execute_result"
    }
   ],
   "source": [
    "ucitaj_tabelu()"
   ]
  },
  {
   "cell_type": "code",
   "execution_count": 28,
   "id": "39397505",
   "metadata": {},
   "outputs": [],
   "source": [
    "def mapiranje_tezine_protivnika(df):\n",
    "    fixture_rating={\n",
    "    \"Arsenal\":5,\n",
    "    \"Aston Vila\":5,\n",
    "    \"Bournemouth\":3,\n",
    "    \"Brentford\":2,\n",
    "    \"Brighton\":3,\n",
    "    \"Burnley\":2,\n",
    "    \"Chelsea\":4,\n",
    "    \"Crystal Palace\":4,\n",
    "    \"Everton\":3,\n",
    "    \"Fulham\":3,\n",
    "    \"Liverpool\":5,\n",
    "    \"Luton\":2,\n",
    "    \"Man City\":5,\n",
    "    \"Man Utd\":4,\n",
    "    \"Newcastle\":4,\n",
    "    \"Nott'm Forest\":2,\n",
    "    \"Sheffield Utd\":2,\n",
    "    \"Spurs\":5,\n",
    "    \"West Ham\":4,\n",
    "    \"Wolves\":3,\n",
    "    } \n",
    "    \n",
    "    df[\"Fixture_Rating\"]=df[\"Teams\"].map(fixture_rating)\n",
    "    \n",
    "    return(df.head(10))"
   ]
  },
  {
   "cell_type": "code",
   "execution_count": 29,
   "id": "403caeeb",
   "metadata": {},
   "outputs": [],
   "source": [
    "for dataframe in dataframes:\n",
    "    mapiranje_tezine_protivnika(dataframe)"
   ]
  },
  {
   "cell_type": "code",
   "execution_count": 30,
   "id": "d5704a94",
   "metadata": {},
   "outputs": [
    {
     "data": {
      "text/html": [
       "<div>\n",
       "<style scoped>\n",
       "    .dataframe tbody tr th:only-of-type {\n",
       "        vertical-align: middle;\n",
       "    }\n",
       "\n",
       "    .dataframe tbody tr th {\n",
       "        vertical-align: top;\n",
       "    }\n",
       "\n",
       "    .dataframe thead th {\n",
       "        text-align: right;\n",
       "    }\n",
       "</style>\n",
       "<table border=\"1\" class=\"dataframe\">\n",
       "  <thead>\n",
       "    <tr style=\"text-align: right;\">\n",
       "      <th></th>\n",
       "      <th>assists</th>\n",
       "      <th>clean_sheets</th>\n",
       "      <th>expected_assists</th>\n",
       "      <th>expected_goals</th>\n",
       "      <th>expected_goals_conceded</th>\n",
       "      <th>goals_conceded</th>\n",
       "      <th>goals_scored</th>\n",
       "      <th>minutes</th>\n",
       "      <th>opponent_team</th>\n",
       "      <th>own_goals</th>\n",
       "      <th>penalties_missed</th>\n",
       "      <th>penalties_saved</th>\n",
       "      <th>red_cards</th>\n",
       "      <th>saves</th>\n",
       "      <th>total_points</th>\n",
       "      <th>yellow_cards</th>\n",
       "      <th>Firstname</th>\n",
       "      <th>Lastname</th>\n",
       "      <th>Teams</th>\n",
       "      <th>Fixture_Rating</th>\n",
       "    </tr>\n",
       "  </thead>\n",
       "  <tbody>\n",
       "    <tr>\n",
       "      <th>0</th>\n",
       "      <td>0</td>\n",
       "      <td>0</td>\n",
       "      <td>0.01</td>\n",
       "      <td>0.0</td>\n",
       "      <td>1.50</td>\n",
       "      <td>1</td>\n",
       "      <td>0</td>\n",
       "      <td>90</td>\n",
       "      <td>10</td>\n",
       "      <td>0</td>\n",
       "      <td>0</td>\n",
       "      <td>0</td>\n",
       "      <td>0</td>\n",
       "      <td>1</td>\n",
       "      <td>2</td>\n",
       "      <td>0</td>\n",
       "      <td>Jordan</td>\n",
       "      <td>Pikford</td>\n",
       "      <td>Fulham</td>\n",
       "      <td>3</td>\n",
       "    </tr>\n",
       "    <tr>\n",
       "      <th>1</th>\n",
       "      <td>0</td>\n",
       "      <td>0</td>\n",
       "      <td>0.00</td>\n",
       "      <td>0.0</td>\n",
       "      <td>3.11</td>\n",
       "      <td>4</td>\n",
       "      <td>0</td>\n",
       "      <td>90</td>\n",
       "      <td>2</td>\n",
       "      <td>0</td>\n",
       "      <td>0</td>\n",
       "      <td>0</td>\n",
       "      <td>0</td>\n",
       "      <td>3</td>\n",
       "      <td>0</td>\n",
       "      <td>1</td>\n",
       "      <td>Jordan</td>\n",
       "      <td>Pikford</td>\n",
       "      <td>Aston Vila</td>\n",
       "      <td>5</td>\n",
       "    </tr>\n",
       "    <tr>\n",
       "      <th>2</th>\n",
       "      <td>0</td>\n",
       "      <td>0</td>\n",
       "      <td>0.01</td>\n",
       "      <td>0.0</td>\n",
       "      <td>1.16</td>\n",
       "      <td>1</td>\n",
       "      <td>0</td>\n",
       "      <td>90</td>\n",
       "      <td>20</td>\n",
       "      <td>0</td>\n",
       "      <td>0</td>\n",
       "      <td>0</td>\n",
       "      <td>0</td>\n",
       "      <td>2</td>\n",
       "      <td>2</td>\n",
       "      <td>0</td>\n",
       "      <td>Jordan</td>\n",
       "      <td>Pikford</td>\n",
       "      <td>Wolves</td>\n",
       "      <td>3</td>\n",
       "    </tr>\n",
       "    <tr>\n",
       "      <th>3</th>\n",
       "      <td>0</td>\n",
       "      <td>0</td>\n",
       "      <td>0.01</td>\n",
       "      <td>0.0</td>\n",
       "      <td>1.24</td>\n",
       "      <td>2</td>\n",
       "      <td>0</td>\n",
       "      <td>90</td>\n",
       "      <td>17</td>\n",
       "      <td>1</td>\n",
       "      <td>0</td>\n",
       "      <td>0</td>\n",
       "      <td>0</td>\n",
       "      <td>6</td>\n",
       "      <td>1</td>\n",
       "      <td>0</td>\n",
       "      <td>Jordan</td>\n",
       "      <td>Pikford</td>\n",
       "      <td>Sheffield Utd</td>\n",
       "      <td>2</td>\n",
       "    </tr>\n",
       "    <tr>\n",
       "      <th>4</th>\n",
       "      <td>0</td>\n",
       "      <td>0</td>\n",
       "      <td>0.02</td>\n",
       "      <td>0.0</td>\n",
       "      <td>1.02</td>\n",
       "      <td>1</td>\n",
       "      <td>0</td>\n",
       "      <td>90</td>\n",
       "      <td>1</td>\n",
       "      <td>0</td>\n",
       "      <td>0</td>\n",
       "      <td>0</td>\n",
       "      <td>0</td>\n",
       "      <td>3</td>\n",
       "      <td>3</td>\n",
       "      <td>0</td>\n",
       "      <td>Jordan</td>\n",
       "      <td>Pikford</td>\n",
       "      <td>Arsenal</td>\n",
       "      <td>5</td>\n",
       "    </tr>\n",
       "  </tbody>\n",
       "</table>\n",
       "</div>"
      ],
      "text/plain": [
       "   assists  clean_sheets  expected_assists  expected_goals  \\\n",
       "0        0             0              0.01             0.0   \n",
       "1        0             0              0.00             0.0   \n",
       "2        0             0              0.01             0.0   \n",
       "3        0             0              0.01             0.0   \n",
       "4        0             0              0.02             0.0   \n",
       "\n",
       "   expected_goals_conceded  goals_conceded  goals_scored  minutes  \\\n",
       "0                     1.50               1             0       90   \n",
       "1                     3.11               4             0       90   \n",
       "2                     1.16               1             0       90   \n",
       "3                     1.24               2             0       90   \n",
       "4                     1.02               1             0       90   \n",
       "\n",
       "   opponent_team  own_goals  penalties_missed  penalties_saved  red_cards  \\\n",
       "0             10          0                 0                0          0   \n",
       "1              2          0                 0                0          0   \n",
       "2             20          0                 0                0          0   \n",
       "3             17          1                 0                0          0   \n",
       "4              1          0                 0                0          0   \n",
       "\n",
       "   saves  total_points  yellow_cards Firstname Lastname          Teams  \\\n",
       "0      1             2             0    Jordan  Pikford         Fulham   \n",
       "1      3             0             1    Jordan  Pikford     Aston Vila   \n",
       "2      2             2             0    Jordan  Pikford         Wolves   \n",
       "3      6             1             0    Jordan  Pikford  Sheffield Utd   \n",
       "4      3             3             0    Jordan  Pikford        Arsenal   \n",
       "\n",
       "   Fixture_Rating  \n",
       "0               3  \n",
       "1               5  \n",
       "2               3  \n",
       "3               2  \n",
       "4               5  "
      ]
     },
     "execution_count": 30,
     "metadata": {},
     "output_type": "execute_result"
    }
   ],
   "source": [
    "df_Pickford.head()"
   ]
  },
  {
   "cell_type": "code",
   "execution_count": 31,
   "id": "aceb2ae9",
   "metadata": {
    "collapsed": true
   },
   "outputs": [
    {
     "name": "stdout",
     "output_type": "stream",
     "text": [
      "(38, 20)\n",
      "(38, 20)\n",
      "(38, 20)\n",
      "(38, 20)\n",
      "(38, 20)\n",
      "(38, 20)\n",
      "(38, 20)\n",
      "(38, 20)\n",
      "(38, 20)\n",
      "(38, 20)\n",
      "(38, 20)\n",
      "(38, 20)\n",
      "(38, 20)\n",
      "(38, 20)\n",
      "(38, 20)\n",
      "(38, 20)\n",
      "(38, 20)\n",
      "(38, 20)\n",
      "(38, 20)\n",
      "(38, 20)\n",
      "(38, 20)\n"
     ]
    }
   ],
   "source": [
    "oblik()"
   ]
  },
  {
   "cell_type": "code",
   "execution_count": 32,
   "id": "efb4992d",
   "metadata": {},
   "outputs": [],
   "source": [
    "new_column_names=[\"opponent_team\",\"Teams\"]"
   ]
  },
  {
   "cell_type": "code",
   "execution_count": 33,
   "id": "e8829d1d",
   "metadata": {},
   "outputs": [],
   "source": [
    "izbaci_kolone(new_column_names)"
   ]
  },
  {
   "cell_type": "code",
   "execution_count": 34,
   "id": "4bd18b38",
   "metadata": {},
   "outputs": [
    {
     "data": {
      "text/html": [
       "<div>\n",
       "<style scoped>\n",
       "    .dataframe tbody tr th:only-of-type {\n",
       "        vertical-align: middle;\n",
       "    }\n",
       "\n",
       "    .dataframe tbody tr th {\n",
       "        vertical-align: top;\n",
       "    }\n",
       "\n",
       "    .dataframe thead th {\n",
       "        text-align: right;\n",
       "    }\n",
       "</style>\n",
       "<table border=\"1\" class=\"dataframe\">\n",
       "  <thead>\n",
       "    <tr style=\"text-align: right;\">\n",
       "      <th></th>\n",
       "      <th>assists</th>\n",
       "      <th>clean_sheets</th>\n",
       "      <th>expected_assists</th>\n",
       "      <th>expected_goals</th>\n",
       "      <th>expected_goals_conceded</th>\n",
       "      <th>goals_conceded</th>\n",
       "      <th>goals_scored</th>\n",
       "      <th>minutes</th>\n",
       "      <th>own_goals</th>\n",
       "      <th>penalties_missed</th>\n",
       "      <th>penalties_saved</th>\n",
       "      <th>red_cards</th>\n",
       "      <th>saves</th>\n",
       "      <th>total_points</th>\n",
       "      <th>yellow_cards</th>\n",
       "      <th>Firstname</th>\n",
       "      <th>Lastname</th>\n",
       "      <th>Fixture_Rating</th>\n",
       "    </tr>\n",
       "  </thead>\n",
       "  <tbody>\n",
       "    <tr>\n",
       "      <th>0</th>\n",
       "      <td>0</td>\n",
       "      <td>0</td>\n",
       "      <td>0.01</td>\n",
       "      <td>0.0</td>\n",
       "      <td>1.50</td>\n",
       "      <td>1</td>\n",
       "      <td>0</td>\n",
       "      <td>90</td>\n",
       "      <td>0</td>\n",
       "      <td>0</td>\n",
       "      <td>0</td>\n",
       "      <td>0</td>\n",
       "      <td>1</td>\n",
       "      <td>2</td>\n",
       "      <td>0</td>\n",
       "      <td>Jordan</td>\n",
       "      <td>Pikford</td>\n",
       "      <td>3</td>\n",
       "    </tr>\n",
       "    <tr>\n",
       "      <th>1</th>\n",
       "      <td>0</td>\n",
       "      <td>0</td>\n",
       "      <td>0.00</td>\n",
       "      <td>0.0</td>\n",
       "      <td>3.11</td>\n",
       "      <td>4</td>\n",
       "      <td>0</td>\n",
       "      <td>90</td>\n",
       "      <td>0</td>\n",
       "      <td>0</td>\n",
       "      <td>0</td>\n",
       "      <td>0</td>\n",
       "      <td>3</td>\n",
       "      <td>0</td>\n",
       "      <td>1</td>\n",
       "      <td>Jordan</td>\n",
       "      <td>Pikford</td>\n",
       "      <td>5</td>\n",
       "    </tr>\n",
       "    <tr>\n",
       "      <th>2</th>\n",
       "      <td>0</td>\n",
       "      <td>0</td>\n",
       "      <td>0.01</td>\n",
       "      <td>0.0</td>\n",
       "      <td>1.16</td>\n",
       "      <td>1</td>\n",
       "      <td>0</td>\n",
       "      <td>90</td>\n",
       "      <td>0</td>\n",
       "      <td>0</td>\n",
       "      <td>0</td>\n",
       "      <td>0</td>\n",
       "      <td>2</td>\n",
       "      <td>2</td>\n",
       "      <td>0</td>\n",
       "      <td>Jordan</td>\n",
       "      <td>Pikford</td>\n",
       "      <td>3</td>\n",
       "    </tr>\n",
       "    <tr>\n",
       "      <th>3</th>\n",
       "      <td>0</td>\n",
       "      <td>0</td>\n",
       "      <td>0.01</td>\n",
       "      <td>0.0</td>\n",
       "      <td>1.24</td>\n",
       "      <td>2</td>\n",
       "      <td>0</td>\n",
       "      <td>90</td>\n",
       "      <td>1</td>\n",
       "      <td>0</td>\n",
       "      <td>0</td>\n",
       "      <td>0</td>\n",
       "      <td>6</td>\n",
       "      <td>1</td>\n",
       "      <td>0</td>\n",
       "      <td>Jordan</td>\n",
       "      <td>Pikford</td>\n",
       "      <td>2</td>\n",
       "    </tr>\n",
       "    <tr>\n",
       "      <th>4</th>\n",
       "      <td>0</td>\n",
       "      <td>0</td>\n",
       "      <td>0.02</td>\n",
       "      <td>0.0</td>\n",
       "      <td>1.02</td>\n",
       "      <td>1</td>\n",
       "      <td>0</td>\n",
       "      <td>90</td>\n",
       "      <td>0</td>\n",
       "      <td>0</td>\n",
       "      <td>0</td>\n",
       "      <td>0</td>\n",
       "      <td>3</td>\n",
       "      <td>3</td>\n",
       "      <td>0</td>\n",
       "      <td>Jordan</td>\n",
       "      <td>Pikford</td>\n",
       "      <td>5</td>\n",
       "    </tr>\n",
       "  </tbody>\n",
       "</table>\n",
       "</div>"
      ],
      "text/plain": [
       "   assists  clean_sheets  expected_assists  expected_goals  \\\n",
       "0        0             0              0.01             0.0   \n",
       "1        0             0              0.00             0.0   \n",
       "2        0             0              0.01             0.0   \n",
       "3        0             0              0.01             0.0   \n",
       "4        0             0              0.02             0.0   \n",
       "\n",
       "   expected_goals_conceded  goals_conceded  goals_scored  minutes  own_goals  \\\n",
       "0                     1.50               1             0       90          0   \n",
       "1                     3.11               4             0       90          0   \n",
       "2                     1.16               1             0       90          0   \n",
       "3                     1.24               2             0       90          1   \n",
       "4                     1.02               1             0       90          0   \n",
       "\n",
       "   penalties_missed  penalties_saved  red_cards  saves  total_points  \\\n",
       "0                 0                0          0      1             2   \n",
       "1                 0                0          0      3             0   \n",
       "2                 0                0          0      2             2   \n",
       "3                 0                0          0      6             1   \n",
       "4                 0                0          0      3             3   \n",
       "\n",
       "   yellow_cards Firstname Lastname  Fixture_Rating  \n",
       "0             0    Jordan  Pikford               3  \n",
       "1             1    Jordan  Pikford               5  \n",
       "2             0    Jordan  Pikford               3  \n",
       "3             0    Jordan  Pikford               2  \n",
       "4             0    Jordan  Pikford               5  "
      ]
     },
     "execution_count": 34,
     "metadata": {},
     "output_type": "execute_result"
    }
   ],
   "source": [
    "df_Pickford.head()"
   ]
  },
  {
   "cell_type": "code",
   "execution_count": 35,
   "id": "3914d8f7",
   "metadata": {
    "collapsed": true
   },
   "outputs": [
    {
     "name": "stdout",
     "output_type": "stream",
     "text": [
      "(38, 18)\n",
      "(38, 18)\n",
      "(38, 18)\n",
      "(38, 18)\n",
      "(38, 18)\n",
      "(38, 18)\n",
      "(38, 18)\n",
      "(38, 18)\n",
      "(38, 18)\n",
      "(38, 18)\n",
      "(38, 18)\n",
      "(38, 18)\n",
      "(38, 18)\n",
      "(38, 18)\n",
      "(38, 18)\n",
      "(38, 18)\n",
      "(38, 18)\n",
      "(38, 18)\n",
      "(38, 18)\n",
      "(38, 18)\n",
      "(38, 18)\n"
     ]
    }
   ],
   "source": [
    "oblik()"
   ]
  },
  {
   "cell_type": "markdown",
   "id": "196b1c74",
   "metadata": {},
   "source": [
    "**2.DELTA KOLONE**"
   ]
  },
  {
   "cell_type": "code",
   "execution_count": 36,
   "id": "1973cd17",
   "metadata": {},
   "outputs": [],
   "source": [
    "def izracunaj_delta_vrednosti(df):\n",
    "    #GOLOVI\n",
    "    \n",
    "    delta_goals_scored=df.goals_scored-df.expected_goals\n",
    "    \n",
    "    #print(delta_goals_scored)\n",
    "    \n",
    "    df[\"Delta_Goals\"]=delta_goals_scored\n",
    "    \n",
    "    #ASISTENCIJE\n",
    "    \n",
    "    delta_assists=df.assists-df.expected_assists\n",
    "    \n",
    "    #print(delta_assists)\n",
    "    \n",
    "    df[\"Delta_Assists\"]=delta_assists\n",
    "    \n",
    "    #PRIMLJENI GOLOVI\n",
    "    \n",
    "    delta_goals_conceded=df.expected_goals_conceded-df.goals_conceded\n",
    "    \n",
    "    #print(delta_goals_conceded)\n",
    "    \n",
    "    df[\"Delta_Goals_Conceded\"]=delta_goals_conceded\n",
    "    \n",
    "    return(df.head(10))"
   ]
  },
  {
   "cell_type": "code",
   "execution_count": 37,
   "id": "ae8041f4",
   "metadata": {},
   "outputs": [],
   "source": [
    "for dataframe in dataframes:\n",
    "    izracunaj_delta_vrednosti(dataframe)"
   ]
  },
  {
   "cell_type": "code",
   "execution_count": 38,
   "id": "3cc94c20",
   "metadata": {},
   "outputs": [
    {
     "data": {
      "text/html": [
       "<div>\n",
       "<style scoped>\n",
       "    .dataframe tbody tr th:only-of-type {\n",
       "        vertical-align: middle;\n",
       "    }\n",
       "\n",
       "    .dataframe tbody tr th {\n",
       "        vertical-align: top;\n",
       "    }\n",
       "\n",
       "    .dataframe thead th {\n",
       "        text-align: right;\n",
       "    }\n",
       "</style>\n",
       "<table border=\"1\" class=\"dataframe\">\n",
       "  <thead>\n",
       "    <tr style=\"text-align: right;\">\n",
       "      <th></th>\n",
       "      <th>assists</th>\n",
       "      <th>clean_sheets</th>\n",
       "      <th>expected_assists</th>\n",
       "      <th>expected_goals</th>\n",
       "      <th>expected_goals_conceded</th>\n",
       "      <th>goals_conceded</th>\n",
       "      <th>goals_scored</th>\n",
       "      <th>minutes</th>\n",
       "      <th>own_goals</th>\n",
       "      <th>penalties_missed</th>\n",
       "      <th>penalties_saved</th>\n",
       "      <th>red_cards</th>\n",
       "      <th>saves</th>\n",
       "      <th>total_points</th>\n",
       "      <th>yellow_cards</th>\n",
       "      <th>Firstname</th>\n",
       "      <th>Lastname</th>\n",
       "      <th>Fixture_Rating</th>\n",
       "      <th>Delta_Goals</th>\n",
       "      <th>Delta_Assists</th>\n",
       "      <th>Delta_Goals_Conceded</th>\n",
       "    </tr>\n",
       "  </thead>\n",
       "  <tbody>\n",
       "    <tr>\n",
       "      <th>0</th>\n",
       "      <td>0</td>\n",
       "      <td>0</td>\n",
       "      <td>0.01</td>\n",
       "      <td>0.0</td>\n",
       "      <td>1.50</td>\n",
       "      <td>1</td>\n",
       "      <td>0</td>\n",
       "      <td>90</td>\n",
       "      <td>0</td>\n",
       "      <td>0</td>\n",
       "      <td>0</td>\n",
       "      <td>0</td>\n",
       "      <td>1</td>\n",
       "      <td>2</td>\n",
       "      <td>0</td>\n",
       "      <td>Jordan</td>\n",
       "      <td>Pikford</td>\n",
       "      <td>3</td>\n",
       "      <td>0.0</td>\n",
       "      <td>-0.01</td>\n",
       "      <td>0.50</td>\n",
       "    </tr>\n",
       "    <tr>\n",
       "      <th>1</th>\n",
       "      <td>0</td>\n",
       "      <td>0</td>\n",
       "      <td>0.00</td>\n",
       "      <td>0.0</td>\n",
       "      <td>3.11</td>\n",
       "      <td>4</td>\n",
       "      <td>0</td>\n",
       "      <td>90</td>\n",
       "      <td>0</td>\n",
       "      <td>0</td>\n",
       "      <td>0</td>\n",
       "      <td>0</td>\n",
       "      <td>3</td>\n",
       "      <td>0</td>\n",
       "      <td>1</td>\n",
       "      <td>Jordan</td>\n",
       "      <td>Pikford</td>\n",
       "      <td>5</td>\n",
       "      <td>0.0</td>\n",
       "      <td>0.00</td>\n",
       "      <td>-0.89</td>\n",
       "    </tr>\n",
       "    <tr>\n",
       "      <th>2</th>\n",
       "      <td>0</td>\n",
       "      <td>0</td>\n",
       "      <td>0.01</td>\n",
       "      <td>0.0</td>\n",
       "      <td>1.16</td>\n",
       "      <td>1</td>\n",
       "      <td>0</td>\n",
       "      <td>90</td>\n",
       "      <td>0</td>\n",
       "      <td>0</td>\n",
       "      <td>0</td>\n",
       "      <td>0</td>\n",
       "      <td>2</td>\n",
       "      <td>2</td>\n",
       "      <td>0</td>\n",
       "      <td>Jordan</td>\n",
       "      <td>Pikford</td>\n",
       "      <td>3</td>\n",
       "      <td>0.0</td>\n",
       "      <td>-0.01</td>\n",
       "      <td>0.16</td>\n",
       "    </tr>\n",
       "    <tr>\n",
       "      <th>3</th>\n",
       "      <td>0</td>\n",
       "      <td>0</td>\n",
       "      <td>0.01</td>\n",
       "      <td>0.0</td>\n",
       "      <td>1.24</td>\n",
       "      <td>2</td>\n",
       "      <td>0</td>\n",
       "      <td>90</td>\n",
       "      <td>1</td>\n",
       "      <td>0</td>\n",
       "      <td>0</td>\n",
       "      <td>0</td>\n",
       "      <td>6</td>\n",
       "      <td>1</td>\n",
       "      <td>0</td>\n",
       "      <td>Jordan</td>\n",
       "      <td>Pikford</td>\n",
       "      <td>2</td>\n",
       "      <td>0.0</td>\n",
       "      <td>-0.01</td>\n",
       "      <td>-0.76</td>\n",
       "    </tr>\n",
       "    <tr>\n",
       "      <th>4</th>\n",
       "      <td>0</td>\n",
       "      <td>0</td>\n",
       "      <td>0.02</td>\n",
       "      <td>0.0</td>\n",
       "      <td>1.02</td>\n",
       "      <td>1</td>\n",
       "      <td>0</td>\n",
       "      <td>90</td>\n",
       "      <td>0</td>\n",
       "      <td>0</td>\n",
       "      <td>0</td>\n",
       "      <td>0</td>\n",
       "      <td>3</td>\n",
       "      <td>3</td>\n",
       "      <td>0</td>\n",
       "      <td>Jordan</td>\n",
       "      <td>Pikford</td>\n",
       "      <td>5</td>\n",
       "      <td>0.0</td>\n",
       "      <td>-0.02</td>\n",
       "      <td>0.02</td>\n",
       "    </tr>\n",
       "  </tbody>\n",
       "</table>\n",
       "</div>"
      ],
      "text/plain": [
       "   assists  clean_sheets  expected_assists  expected_goals  \\\n",
       "0        0             0              0.01             0.0   \n",
       "1        0             0              0.00             0.0   \n",
       "2        0             0              0.01             0.0   \n",
       "3        0             0              0.01             0.0   \n",
       "4        0             0              0.02             0.0   \n",
       "\n",
       "   expected_goals_conceded  goals_conceded  goals_scored  minutes  own_goals  \\\n",
       "0                     1.50               1             0       90          0   \n",
       "1                     3.11               4             0       90          0   \n",
       "2                     1.16               1             0       90          0   \n",
       "3                     1.24               2             0       90          1   \n",
       "4                     1.02               1             0       90          0   \n",
       "\n",
       "   penalties_missed  penalties_saved  red_cards  saves  total_points  \\\n",
       "0                 0                0          0      1             2   \n",
       "1                 0                0          0      3             0   \n",
       "2                 0                0          0      2             2   \n",
       "3                 0                0          0      6             1   \n",
       "4                 0                0          0      3             3   \n",
       "\n",
       "   yellow_cards Firstname Lastname  Fixture_Rating  Delta_Goals  \\\n",
       "0             0    Jordan  Pikford               3          0.0   \n",
       "1             1    Jordan  Pikford               5          0.0   \n",
       "2             0    Jordan  Pikford               3          0.0   \n",
       "3             0    Jordan  Pikford               2          0.0   \n",
       "4             0    Jordan  Pikford               5          0.0   \n",
       "\n",
       "   Delta_Assists  Delta_Goals_Conceded  \n",
       "0          -0.01                  0.50  \n",
       "1           0.00                 -0.89  \n",
       "2          -0.01                  0.16  \n",
       "3          -0.01                 -0.76  \n",
       "4          -0.02                  0.02  "
      ]
     },
     "execution_count": 38,
     "metadata": {},
     "output_type": "execute_result"
    }
   ],
   "source": [
    "df_Pickford.head()"
   ]
  },
  {
   "cell_type": "code",
   "execution_count": 39,
   "id": "1fb24c4e",
   "metadata": {
    "collapsed": true
   },
   "outputs": [
    {
     "name": "stdout",
     "output_type": "stream",
     "text": [
      "(38, 21)\n",
      "(38, 21)\n",
      "(38, 21)\n",
      "(38, 21)\n",
      "(38, 21)\n",
      "(38, 21)\n",
      "(38, 21)\n",
      "(38, 21)\n",
      "(38, 21)\n",
      "(38, 21)\n",
      "(38, 21)\n",
      "(38, 21)\n",
      "(38, 21)\n",
      "(38, 21)\n",
      "(38, 21)\n",
      "(38, 21)\n",
      "(38, 21)\n",
      "(38, 21)\n",
      "(38, 21)\n",
      "(38, 21)\n",
      "(38, 21)\n"
     ]
    }
   ],
   "source": [
    "oblik()"
   ]
  },
  {
   "cell_type": "markdown",
   "id": "7955c65e",
   "metadata": {},
   "source": [
    "**3.PROMENA REDOSLEDA I IMENA KOLONA**"
   ]
  },
  {
   "cell_type": "code",
   "execution_count": 40,
   "id": "bfac4a51",
   "metadata": {},
   "outputs": [],
   "source": [
    "def promeni_ime_kolona(df,column_names):\n",
    "    df.rename(columns=column_names,inplace=True)"
   ]
  },
  {
   "cell_type": "code",
   "execution_count": 41,
   "id": "e4dc8806",
   "metadata": {},
   "outputs": [],
   "source": [
    "column_rename={'assists':'Assists',\n",
    "              'clean_sheets':'Clean_Sheet',\n",
    "              'expected_assists':'xA',\n",
    "              'expected_goals':'xG',\n",
    "              'expected_goals_conceded':'xGC',\n",
    "              'goals_conceded':'Goals_Conceded',\n",
    "              'goals_scored':'Goals_Scored',\n",
    "              'minutes':'Minutes',\n",
    "              'own_goals':'Own_Goals',\n",
    "              'penalties_missed':'Penalites_Missed',\n",
    "              'penalties_saved':'Penalties_Saved',\n",
    "              'red_cards':'Red_Cards',\n",
    "              'saves':'Saves',\n",
    "              'total_points':'Points',\n",
    "              'yellow_cards':'Yellow_Cards'\n",
    "             }"
   ]
  },
  {
   "cell_type": "code",
   "execution_count": 42,
   "id": "c03347ed",
   "metadata": {},
   "outputs": [],
   "source": [
    "for dataframe in dataframes:\n",
    "    promeni_ime_kolona(dataframe,column_rename)"
   ]
  },
  {
   "cell_type": "code",
   "execution_count": 43,
   "id": "aca4fe88",
   "metadata": {},
   "outputs": [
    {
     "data": {
      "text/html": [
       "<div>\n",
       "<style scoped>\n",
       "    .dataframe tbody tr th:only-of-type {\n",
       "        vertical-align: middle;\n",
       "    }\n",
       "\n",
       "    .dataframe tbody tr th {\n",
       "        vertical-align: top;\n",
       "    }\n",
       "\n",
       "    .dataframe thead th {\n",
       "        text-align: right;\n",
       "    }\n",
       "</style>\n",
       "<table border=\"1\" class=\"dataframe\">\n",
       "  <thead>\n",
       "    <tr style=\"text-align: right;\">\n",
       "      <th></th>\n",
       "      <th>Assists</th>\n",
       "      <th>Clean_Sheet</th>\n",
       "      <th>xA</th>\n",
       "      <th>xG</th>\n",
       "      <th>xGC</th>\n",
       "      <th>Goals_Conceded</th>\n",
       "      <th>Goals_Scored</th>\n",
       "      <th>Minutes</th>\n",
       "      <th>Own_Goals</th>\n",
       "      <th>Penalites_Missed</th>\n",
       "      <th>Penalties_Saved</th>\n",
       "      <th>Red_Cards</th>\n",
       "      <th>Saves</th>\n",
       "      <th>Points</th>\n",
       "      <th>Yellow_Cards</th>\n",
       "      <th>Firstname</th>\n",
       "      <th>Lastname</th>\n",
       "      <th>Fixture_Rating</th>\n",
       "      <th>Delta_Goals</th>\n",
       "      <th>Delta_Assists</th>\n",
       "      <th>Delta_Goals_Conceded</th>\n",
       "    </tr>\n",
       "  </thead>\n",
       "  <tbody>\n",
       "    <tr>\n",
       "      <th>0</th>\n",
       "      <td>0</td>\n",
       "      <td>0</td>\n",
       "      <td>0.01</td>\n",
       "      <td>0.0</td>\n",
       "      <td>1.50</td>\n",
       "      <td>1</td>\n",
       "      <td>0</td>\n",
       "      <td>90</td>\n",
       "      <td>0</td>\n",
       "      <td>0</td>\n",
       "      <td>0</td>\n",
       "      <td>0</td>\n",
       "      <td>1</td>\n",
       "      <td>2</td>\n",
       "      <td>0</td>\n",
       "      <td>Jordan</td>\n",
       "      <td>Pikford</td>\n",
       "      <td>3</td>\n",
       "      <td>0.0</td>\n",
       "      <td>-0.01</td>\n",
       "      <td>0.50</td>\n",
       "    </tr>\n",
       "    <tr>\n",
       "      <th>1</th>\n",
       "      <td>0</td>\n",
       "      <td>0</td>\n",
       "      <td>0.00</td>\n",
       "      <td>0.0</td>\n",
       "      <td>3.11</td>\n",
       "      <td>4</td>\n",
       "      <td>0</td>\n",
       "      <td>90</td>\n",
       "      <td>0</td>\n",
       "      <td>0</td>\n",
       "      <td>0</td>\n",
       "      <td>0</td>\n",
       "      <td>3</td>\n",
       "      <td>0</td>\n",
       "      <td>1</td>\n",
       "      <td>Jordan</td>\n",
       "      <td>Pikford</td>\n",
       "      <td>5</td>\n",
       "      <td>0.0</td>\n",
       "      <td>0.00</td>\n",
       "      <td>-0.89</td>\n",
       "    </tr>\n",
       "    <tr>\n",
       "      <th>2</th>\n",
       "      <td>0</td>\n",
       "      <td>0</td>\n",
       "      <td>0.01</td>\n",
       "      <td>0.0</td>\n",
       "      <td>1.16</td>\n",
       "      <td>1</td>\n",
       "      <td>0</td>\n",
       "      <td>90</td>\n",
       "      <td>0</td>\n",
       "      <td>0</td>\n",
       "      <td>0</td>\n",
       "      <td>0</td>\n",
       "      <td>2</td>\n",
       "      <td>2</td>\n",
       "      <td>0</td>\n",
       "      <td>Jordan</td>\n",
       "      <td>Pikford</td>\n",
       "      <td>3</td>\n",
       "      <td>0.0</td>\n",
       "      <td>-0.01</td>\n",
       "      <td>0.16</td>\n",
       "    </tr>\n",
       "    <tr>\n",
       "      <th>3</th>\n",
       "      <td>0</td>\n",
       "      <td>0</td>\n",
       "      <td>0.01</td>\n",
       "      <td>0.0</td>\n",
       "      <td>1.24</td>\n",
       "      <td>2</td>\n",
       "      <td>0</td>\n",
       "      <td>90</td>\n",
       "      <td>1</td>\n",
       "      <td>0</td>\n",
       "      <td>0</td>\n",
       "      <td>0</td>\n",
       "      <td>6</td>\n",
       "      <td>1</td>\n",
       "      <td>0</td>\n",
       "      <td>Jordan</td>\n",
       "      <td>Pikford</td>\n",
       "      <td>2</td>\n",
       "      <td>0.0</td>\n",
       "      <td>-0.01</td>\n",
       "      <td>-0.76</td>\n",
       "    </tr>\n",
       "    <tr>\n",
       "      <th>4</th>\n",
       "      <td>0</td>\n",
       "      <td>0</td>\n",
       "      <td>0.02</td>\n",
       "      <td>0.0</td>\n",
       "      <td>1.02</td>\n",
       "      <td>1</td>\n",
       "      <td>0</td>\n",
       "      <td>90</td>\n",
       "      <td>0</td>\n",
       "      <td>0</td>\n",
       "      <td>0</td>\n",
       "      <td>0</td>\n",
       "      <td>3</td>\n",
       "      <td>3</td>\n",
       "      <td>0</td>\n",
       "      <td>Jordan</td>\n",
       "      <td>Pikford</td>\n",
       "      <td>5</td>\n",
       "      <td>0.0</td>\n",
       "      <td>-0.02</td>\n",
       "      <td>0.02</td>\n",
       "    </tr>\n",
       "  </tbody>\n",
       "</table>\n",
       "</div>"
      ],
      "text/plain": [
       "   Assists  Clean_Sheet    xA   xG   xGC  Goals_Conceded  Goals_Scored  \\\n",
       "0        0            0  0.01  0.0  1.50               1             0   \n",
       "1        0            0  0.00  0.0  3.11               4             0   \n",
       "2        0            0  0.01  0.0  1.16               1             0   \n",
       "3        0            0  0.01  0.0  1.24               2             0   \n",
       "4        0            0  0.02  0.0  1.02               1             0   \n",
       "\n",
       "   Minutes  Own_Goals  Penalites_Missed  Penalties_Saved  Red_Cards  Saves  \\\n",
       "0       90          0                 0                0          0      1   \n",
       "1       90          0                 0                0          0      3   \n",
       "2       90          0                 0                0          0      2   \n",
       "3       90          1                 0                0          0      6   \n",
       "4       90          0                 0                0          0      3   \n",
       "\n",
       "   Points  Yellow_Cards Firstname Lastname  Fixture_Rating  Delta_Goals  \\\n",
       "0       2             0    Jordan  Pikford               3          0.0   \n",
       "1       0             1    Jordan  Pikford               5          0.0   \n",
       "2       2             0    Jordan  Pikford               3          0.0   \n",
       "3       1             0    Jordan  Pikford               2          0.0   \n",
       "4       3             0    Jordan  Pikford               5          0.0   \n",
       "\n",
       "   Delta_Assists  Delta_Goals_Conceded  \n",
       "0          -0.01                  0.50  \n",
       "1           0.00                 -0.89  \n",
       "2          -0.01                  0.16  \n",
       "3          -0.01                 -0.76  \n",
       "4          -0.02                  0.02  "
      ]
     },
     "execution_count": 43,
     "metadata": {},
     "output_type": "execute_result"
    }
   ],
   "source": [
    "df_Pickford.head()"
   ]
  },
  {
   "cell_type": "code",
   "execution_count": 44,
   "id": "fc627ae2",
   "metadata": {},
   "outputs": [],
   "source": [
    "def promeni_redosled_kolona(new_column_order):\n",
    "    for df in dataframes:\n",
    "        df=df[new_column_order]"
   ]
  },
  {
   "cell_type": "code",
   "execution_count": 45,
   "id": "0e0c1f7e",
   "metadata": {},
   "outputs": [],
   "source": [
    "column_order=['Firstname',\n",
    "              'Lastname',\n",
    "              'Fixture_Rating',\n",
    "              'Minutes',\n",
    "              'Goals_Scored',\n",
    "              'xG',\n",
    "              'Delta_Goals',\n",
    "              'Assists',\n",
    "              'xA',\n",
    "              'Delta_Assists',\n",
    "              'Goals_Conceded',\n",
    "              'xGC',\n",
    "              'Delta_Goals_Conceded',\n",
    "              'Clean_Sheet',\n",
    "              'Own_Goals',\n",
    "              'Penalites_Missed',\n",
    "              'Penalties_Saved',\n",
    "              'Saves',\n",
    "              'Yellow_Cards',\n",
    "              'Red_Cards',\n",
    "              'Points']"
   ]
  },
  {
   "cell_type": "code",
   "execution_count": 46,
   "id": "b89f2fe6",
   "metadata": {},
   "outputs": [],
   "source": [
    "promeni_redosled_kolona(column_order) #PROVERI KAKO I DA LI UOPSTE"
   ]
  },
  {
   "cell_type": "code",
   "execution_count": 47,
   "id": "7df9f851",
   "metadata": {},
   "outputs": [],
   "source": [
    "def napravi_ciljni_atribut():\n",
    "    for df in dataframes:\n",
    "        df['Next_Points'] = df['Points'].shift(-1) #вредност поена играца у наредном колу и она се предвиђа\n",
    "        \n",
    "        for column in df.select_dtypes(include='number').columns:     \n",
    "                df[f'Running_{column}'] = df[column].rolling(window=4, min_periods=1).mean() #просек тренутног и претходна 3 кола"
   ]
  },
  {
   "cell_type": "code",
   "execution_count": 48,
   "id": "e3c729e4",
   "metadata": {},
   "outputs": [],
   "source": [
    "napravi_ciljni_atribut()"
   ]
  },
  {
   "cell_type": "code",
   "execution_count": 49,
   "id": "c0244a0b",
   "metadata": {},
   "outputs": [
    {
     "data": {
      "text/html": [
       "<div>\n",
       "<style scoped>\n",
       "    .dataframe tbody tr th:only-of-type {\n",
       "        vertical-align: middle;\n",
       "    }\n",
       "\n",
       "    .dataframe tbody tr th {\n",
       "        vertical-align: top;\n",
       "    }\n",
       "\n",
       "    .dataframe thead th {\n",
       "        text-align: right;\n",
       "    }\n",
       "</style>\n",
       "<table border=\"1\" class=\"dataframe\">\n",
       "  <thead>\n",
       "    <tr style=\"text-align: right;\">\n",
       "      <th></th>\n",
       "      <th>Assists</th>\n",
       "      <th>Clean_Sheet</th>\n",
       "      <th>xA</th>\n",
       "      <th>xG</th>\n",
       "      <th>xGC</th>\n",
       "      <th>Goals_Conceded</th>\n",
       "      <th>Goals_Scored</th>\n",
       "      <th>Minutes</th>\n",
       "      <th>Own_Goals</th>\n",
       "      <th>Penalites_Missed</th>\n",
       "      <th>Penalties_Saved</th>\n",
       "      <th>Red_Cards</th>\n",
       "      <th>Saves</th>\n",
       "      <th>Points</th>\n",
       "      <th>Yellow_Cards</th>\n",
       "      <th>Firstname</th>\n",
       "      <th>Lastname</th>\n",
       "      <th>Fixture_Rating</th>\n",
       "      <th>Delta_Goals</th>\n",
       "      <th>Delta_Assists</th>\n",
       "      <th>Delta_Goals_Conceded</th>\n",
       "      <th>Next_Points</th>\n",
       "      <th>Running_Assists</th>\n",
       "      <th>Running_Clean_Sheet</th>\n",
       "      <th>Running_xA</th>\n",
       "      <th>Running_xG</th>\n",
       "      <th>Running_xGC</th>\n",
       "      <th>Running_Goals_Conceded</th>\n",
       "      <th>Running_Goals_Scored</th>\n",
       "      <th>Running_Minutes</th>\n",
       "      <th>Running_Own_Goals</th>\n",
       "      <th>Running_Penalites_Missed</th>\n",
       "      <th>Running_Penalties_Saved</th>\n",
       "      <th>Running_Red_Cards</th>\n",
       "      <th>Running_Saves</th>\n",
       "      <th>Running_Points</th>\n",
       "      <th>Running_Yellow_Cards</th>\n",
       "      <th>Running_Fixture_Rating</th>\n",
       "      <th>Running_Delta_Goals</th>\n",
       "      <th>Running_Delta_Assists</th>\n",
       "      <th>Running_Delta_Goals_Conceded</th>\n",
       "      <th>Running_Next_Points</th>\n",
       "    </tr>\n",
       "  </thead>\n",
       "  <tbody>\n",
       "    <tr>\n",
       "      <th>0</th>\n",
       "      <td>0</td>\n",
       "      <td>0</td>\n",
       "      <td>0.01</td>\n",
       "      <td>0.0</td>\n",
       "      <td>1.50</td>\n",
       "      <td>1</td>\n",
       "      <td>0</td>\n",
       "      <td>90</td>\n",
       "      <td>0</td>\n",
       "      <td>0</td>\n",
       "      <td>0</td>\n",
       "      <td>0</td>\n",
       "      <td>1</td>\n",
       "      <td>2</td>\n",
       "      <td>0</td>\n",
       "      <td>Jordan</td>\n",
       "      <td>Pikford</td>\n",
       "      <td>3</td>\n",
       "      <td>0.0</td>\n",
       "      <td>-0.01</td>\n",
       "      <td>0.50</td>\n",
       "      <td>0.0</td>\n",
       "      <td>0.0</td>\n",
       "      <td>0.0</td>\n",
       "      <td>0.010000</td>\n",
       "      <td>0.0</td>\n",
       "      <td>1.500000</td>\n",
       "      <td>1.0</td>\n",
       "      <td>0.0</td>\n",
       "      <td>90.0</td>\n",
       "      <td>0.00</td>\n",
       "      <td>0.0</td>\n",
       "      <td>0.0</td>\n",
       "      <td>0.0</td>\n",
       "      <td>1.0</td>\n",
       "      <td>2.000000</td>\n",
       "      <td>0.000000</td>\n",
       "      <td>3.000000</td>\n",
       "      <td>0.0</td>\n",
       "      <td>-0.010000</td>\n",
       "      <td>0.500000</td>\n",
       "      <td>0.0</td>\n",
       "    </tr>\n",
       "    <tr>\n",
       "      <th>1</th>\n",
       "      <td>0</td>\n",
       "      <td>0</td>\n",
       "      <td>0.00</td>\n",
       "      <td>0.0</td>\n",
       "      <td>3.11</td>\n",
       "      <td>4</td>\n",
       "      <td>0</td>\n",
       "      <td>90</td>\n",
       "      <td>0</td>\n",
       "      <td>0</td>\n",
       "      <td>0</td>\n",
       "      <td>0</td>\n",
       "      <td>3</td>\n",
       "      <td>0</td>\n",
       "      <td>1</td>\n",
       "      <td>Jordan</td>\n",
       "      <td>Pikford</td>\n",
       "      <td>5</td>\n",
       "      <td>0.0</td>\n",
       "      <td>0.00</td>\n",
       "      <td>-0.89</td>\n",
       "      <td>2.0</td>\n",
       "      <td>0.0</td>\n",
       "      <td>0.0</td>\n",
       "      <td>0.005000</td>\n",
       "      <td>0.0</td>\n",
       "      <td>2.305000</td>\n",
       "      <td>2.5</td>\n",
       "      <td>0.0</td>\n",
       "      <td>90.0</td>\n",
       "      <td>0.00</td>\n",
       "      <td>0.0</td>\n",
       "      <td>0.0</td>\n",
       "      <td>0.0</td>\n",
       "      <td>2.0</td>\n",
       "      <td>1.000000</td>\n",
       "      <td>0.500000</td>\n",
       "      <td>4.000000</td>\n",
       "      <td>0.0</td>\n",
       "      <td>-0.005000</td>\n",
       "      <td>-0.195000</td>\n",
       "      <td>1.0</td>\n",
       "    </tr>\n",
       "    <tr>\n",
       "      <th>2</th>\n",
       "      <td>0</td>\n",
       "      <td>0</td>\n",
       "      <td>0.01</td>\n",
       "      <td>0.0</td>\n",
       "      <td>1.16</td>\n",
       "      <td>1</td>\n",
       "      <td>0</td>\n",
       "      <td>90</td>\n",
       "      <td>0</td>\n",
       "      <td>0</td>\n",
       "      <td>0</td>\n",
       "      <td>0</td>\n",
       "      <td>2</td>\n",
       "      <td>2</td>\n",
       "      <td>0</td>\n",
       "      <td>Jordan</td>\n",
       "      <td>Pikford</td>\n",
       "      <td>3</td>\n",
       "      <td>0.0</td>\n",
       "      <td>-0.01</td>\n",
       "      <td>0.16</td>\n",
       "      <td>1.0</td>\n",
       "      <td>0.0</td>\n",
       "      <td>0.0</td>\n",
       "      <td>0.006667</td>\n",
       "      <td>0.0</td>\n",
       "      <td>1.923333</td>\n",
       "      <td>2.0</td>\n",
       "      <td>0.0</td>\n",
       "      <td>90.0</td>\n",
       "      <td>0.00</td>\n",
       "      <td>0.0</td>\n",
       "      <td>0.0</td>\n",
       "      <td>0.0</td>\n",
       "      <td>2.0</td>\n",
       "      <td>1.333333</td>\n",
       "      <td>0.333333</td>\n",
       "      <td>3.666667</td>\n",
       "      <td>0.0</td>\n",
       "      <td>-0.006667</td>\n",
       "      <td>-0.076667</td>\n",
       "      <td>1.0</td>\n",
       "    </tr>\n",
       "    <tr>\n",
       "      <th>3</th>\n",
       "      <td>0</td>\n",
       "      <td>0</td>\n",
       "      <td>0.01</td>\n",
       "      <td>0.0</td>\n",
       "      <td>1.24</td>\n",
       "      <td>2</td>\n",
       "      <td>0</td>\n",
       "      <td>90</td>\n",
       "      <td>1</td>\n",
       "      <td>0</td>\n",
       "      <td>0</td>\n",
       "      <td>0</td>\n",
       "      <td>6</td>\n",
       "      <td>1</td>\n",
       "      <td>0</td>\n",
       "      <td>Jordan</td>\n",
       "      <td>Pikford</td>\n",
       "      <td>2</td>\n",
       "      <td>0.0</td>\n",
       "      <td>-0.01</td>\n",
       "      <td>-0.76</td>\n",
       "      <td>3.0</td>\n",
       "      <td>0.0</td>\n",
       "      <td>0.0</td>\n",
       "      <td>0.007500</td>\n",
       "      <td>0.0</td>\n",
       "      <td>1.752500</td>\n",
       "      <td>2.0</td>\n",
       "      <td>0.0</td>\n",
       "      <td>90.0</td>\n",
       "      <td>0.25</td>\n",
       "      <td>0.0</td>\n",
       "      <td>0.0</td>\n",
       "      <td>0.0</td>\n",
       "      <td>3.0</td>\n",
       "      <td>1.250000</td>\n",
       "      <td>0.250000</td>\n",
       "      <td>3.250000</td>\n",
       "      <td>0.0</td>\n",
       "      <td>-0.007500</td>\n",
       "      <td>-0.247500</td>\n",
       "      <td>1.5</td>\n",
       "    </tr>\n",
       "    <tr>\n",
       "      <th>4</th>\n",
       "      <td>0</td>\n",
       "      <td>0</td>\n",
       "      <td>0.02</td>\n",
       "      <td>0.0</td>\n",
       "      <td>1.02</td>\n",
       "      <td>1</td>\n",
       "      <td>0</td>\n",
       "      <td>90</td>\n",
       "      <td>0</td>\n",
       "      <td>0</td>\n",
       "      <td>0</td>\n",
       "      <td>0</td>\n",
       "      <td>3</td>\n",
       "      <td>3</td>\n",
       "      <td>0</td>\n",
       "      <td>Jordan</td>\n",
       "      <td>Pikford</td>\n",
       "      <td>5</td>\n",
       "      <td>0.0</td>\n",
       "      <td>-0.02</td>\n",
       "      <td>0.02</td>\n",
       "      <td>2.0</td>\n",
       "      <td>0.0</td>\n",
       "      <td>0.0</td>\n",
       "      <td>0.010000</td>\n",
       "      <td>0.0</td>\n",
       "      <td>1.632500</td>\n",
       "      <td>2.0</td>\n",
       "      <td>0.0</td>\n",
       "      <td>90.0</td>\n",
       "      <td>0.25</td>\n",
       "      <td>0.0</td>\n",
       "      <td>0.0</td>\n",
       "      <td>0.0</td>\n",
       "      <td>3.5</td>\n",
       "      <td>1.500000</td>\n",
       "      <td>0.250000</td>\n",
       "      <td>3.750000</td>\n",
       "      <td>0.0</td>\n",
       "      <td>-0.010000</td>\n",
       "      <td>-0.367500</td>\n",
       "      <td>2.0</td>\n",
       "    </tr>\n",
       "  </tbody>\n",
       "</table>\n",
       "</div>"
      ],
      "text/plain": [
       "   Assists  Clean_Sheet    xA   xG   xGC  Goals_Conceded  Goals_Scored  \\\n",
       "0        0            0  0.01  0.0  1.50               1             0   \n",
       "1        0            0  0.00  0.0  3.11               4             0   \n",
       "2        0            0  0.01  0.0  1.16               1             0   \n",
       "3        0            0  0.01  0.0  1.24               2             0   \n",
       "4        0            0  0.02  0.0  1.02               1             0   \n",
       "\n",
       "   Minutes  Own_Goals  Penalites_Missed  Penalties_Saved  Red_Cards  Saves  \\\n",
       "0       90          0                 0                0          0      1   \n",
       "1       90          0                 0                0          0      3   \n",
       "2       90          0                 0                0          0      2   \n",
       "3       90          1                 0                0          0      6   \n",
       "4       90          0                 0                0          0      3   \n",
       "\n",
       "   Points  Yellow_Cards Firstname Lastname  Fixture_Rating  Delta_Goals  \\\n",
       "0       2             0    Jordan  Pikford               3          0.0   \n",
       "1       0             1    Jordan  Pikford               5          0.0   \n",
       "2       2             0    Jordan  Pikford               3          0.0   \n",
       "3       1             0    Jordan  Pikford               2          0.0   \n",
       "4       3             0    Jordan  Pikford               5          0.0   \n",
       "\n",
       "   Delta_Assists  Delta_Goals_Conceded  Next_Points  Running_Assists  \\\n",
       "0          -0.01                  0.50          0.0              0.0   \n",
       "1           0.00                 -0.89          2.0              0.0   \n",
       "2          -0.01                  0.16          1.0              0.0   \n",
       "3          -0.01                 -0.76          3.0              0.0   \n",
       "4          -0.02                  0.02          2.0              0.0   \n",
       "\n",
       "   Running_Clean_Sheet  Running_xA  Running_xG  Running_xGC  \\\n",
       "0                  0.0    0.010000         0.0     1.500000   \n",
       "1                  0.0    0.005000         0.0     2.305000   \n",
       "2                  0.0    0.006667         0.0     1.923333   \n",
       "3                  0.0    0.007500         0.0     1.752500   \n",
       "4                  0.0    0.010000         0.0     1.632500   \n",
       "\n",
       "   Running_Goals_Conceded  Running_Goals_Scored  Running_Minutes  \\\n",
       "0                     1.0                   0.0             90.0   \n",
       "1                     2.5                   0.0             90.0   \n",
       "2                     2.0                   0.0             90.0   \n",
       "3                     2.0                   0.0             90.0   \n",
       "4                     2.0                   0.0             90.0   \n",
       "\n",
       "   Running_Own_Goals  Running_Penalites_Missed  Running_Penalties_Saved  \\\n",
       "0               0.00                       0.0                      0.0   \n",
       "1               0.00                       0.0                      0.0   \n",
       "2               0.00                       0.0                      0.0   \n",
       "3               0.25                       0.0                      0.0   \n",
       "4               0.25                       0.0                      0.0   \n",
       "\n",
       "   Running_Red_Cards  Running_Saves  Running_Points  Running_Yellow_Cards  \\\n",
       "0                0.0            1.0        2.000000              0.000000   \n",
       "1                0.0            2.0        1.000000              0.500000   \n",
       "2                0.0            2.0        1.333333              0.333333   \n",
       "3                0.0            3.0        1.250000              0.250000   \n",
       "4                0.0            3.5        1.500000              0.250000   \n",
       "\n",
       "   Running_Fixture_Rating  Running_Delta_Goals  Running_Delta_Assists  \\\n",
       "0                3.000000                  0.0              -0.010000   \n",
       "1                4.000000                  0.0              -0.005000   \n",
       "2                3.666667                  0.0              -0.006667   \n",
       "3                3.250000                  0.0              -0.007500   \n",
       "4                3.750000                  0.0              -0.010000   \n",
       "\n",
       "   Running_Delta_Goals_Conceded  Running_Next_Points  \n",
       "0                      0.500000                  0.0  \n",
       "1                     -0.195000                  1.0  \n",
       "2                     -0.076667                  1.0  \n",
       "3                     -0.247500                  1.5  \n",
       "4                     -0.367500                  2.0  "
      ]
     },
     "execution_count": 49,
     "metadata": {},
     "output_type": "execute_result"
    }
   ],
   "source": [
    "df_Pickford.head()"
   ]
  },
  {
   "cell_type": "code",
   "execution_count": 50,
   "id": "f049ac1c",
   "metadata": {},
   "outputs": [
    {
     "data": {
      "text/html": [
       "<div>\n",
       "<style scoped>\n",
       "    .dataframe tbody tr th:only-of-type {\n",
       "        vertical-align: middle;\n",
       "    }\n",
       "\n",
       "    .dataframe tbody tr th {\n",
       "        vertical-align: top;\n",
       "    }\n",
       "\n",
       "    .dataframe thead th {\n",
       "        text-align: right;\n",
       "    }\n",
       "</style>\n",
       "<table border=\"1\" class=\"dataframe\">\n",
       "  <thead>\n",
       "    <tr style=\"text-align: right;\">\n",
       "      <th></th>\n",
       "      <th>Assists</th>\n",
       "      <th>Clean_Sheet</th>\n",
       "      <th>xA</th>\n",
       "      <th>xG</th>\n",
       "      <th>xGC</th>\n",
       "      <th>Goals_Conceded</th>\n",
       "      <th>Goals_Scored</th>\n",
       "      <th>Minutes</th>\n",
       "      <th>Own_Goals</th>\n",
       "      <th>Penalites_Missed</th>\n",
       "      <th>Penalties_Saved</th>\n",
       "      <th>Red_Cards</th>\n",
       "      <th>Saves</th>\n",
       "      <th>Points</th>\n",
       "      <th>Yellow_Cards</th>\n",
       "      <th>Firstname</th>\n",
       "      <th>Lastname</th>\n",
       "      <th>Fixture_Rating</th>\n",
       "      <th>Delta_Goals</th>\n",
       "      <th>Delta_Assists</th>\n",
       "      <th>Delta_Goals_Conceded</th>\n",
       "      <th>Next_Points</th>\n",
       "      <th>Running_Assists</th>\n",
       "      <th>Running_Clean_Sheet</th>\n",
       "      <th>Running_xA</th>\n",
       "      <th>Running_xG</th>\n",
       "      <th>Running_xGC</th>\n",
       "      <th>Running_Goals_Conceded</th>\n",
       "      <th>Running_Goals_Scored</th>\n",
       "      <th>Running_Minutes</th>\n",
       "      <th>Running_Own_Goals</th>\n",
       "      <th>Running_Penalites_Missed</th>\n",
       "      <th>Running_Penalties_Saved</th>\n",
       "      <th>Running_Red_Cards</th>\n",
       "      <th>Running_Saves</th>\n",
       "      <th>Running_Points</th>\n",
       "      <th>Running_Yellow_Cards</th>\n",
       "      <th>Running_Fixture_Rating</th>\n",
       "      <th>Running_Delta_Goals</th>\n",
       "      <th>Running_Delta_Assists</th>\n",
       "      <th>Running_Delta_Goals_Conceded</th>\n",
       "      <th>Running_Next_Points</th>\n",
       "    </tr>\n",
       "  </thead>\n",
       "  <tbody>\n",
       "    <tr>\n",
       "      <th>0</th>\n",
       "      <td>0</td>\n",
       "      <td>0</td>\n",
       "      <td>0.01</td>\n",
       "      <td>0.0</td>\n",
       "      <td>1.50</td>\n",
       "      <td>1</td>\n",
       "      <td>0</td>\n",
       "      <td>90</td>\n",
       "      <td>0</td>\n",
       "      <td>0</td>\n",
       "      <td>0</td>\n",
       "      <td>0</td>\n",
       "      <td>1</td>\n",
       "      <td>2</td>\n",
       "      <td>0</td>\n",
       "      <td>Jordan</td>\n",
       "      <td>Pikford</td>\n",
       "      <td>3</td>\n",
       "      <td>0.0</td>\n",
       "      <td>-0.01</td>\n",
       "      <td>0.50</td>\n",
       "      <td>0.0</td>\n",
       "      <td>0.0</td>\n",
       "      <td>0.00</td>\n",
       "      <td>0.010000</td>\n",
       "      <td>0.0</td>\n",
       "      <td>1.500000</td>\n",
       "      <td>1.00</td>\n",
       "      <td>0.0</td>\n",
       "      <td>90.0</td>\n",
       "      <td>0.00</td>\n",
       "      <td>0.0</td>\n",
       "      <td>0.0</td>\n",
       "      <td>0.0</td>\n",
       "      <td>1.00</td>\n",
       "      <td>2.000000</td>\n",
       "      <td>0.000000</td>\n",
       "      <td>3.000000</td>\n",
       "      <td>0.0</td>\n",
       "      <td>-0.010000</td>\n",
       "      <td>0.500000</td>\n",
       "      <td>0.00</td>\n",
       "    </tr>\n",
       "    <tr>\n",
       "      <th>1</th>\n",
       "      <td>0</td>\n",
       "      <td>0</td>\n",
       "      <td>0.00</td>\n",
       "      <td>0.0</td>\n",
       "      <td>3.11</td>\n",
       "      <td>4</td>\n",
       "      <td>0</td>\n",
       "      <td>90</td>\n",
       "      <td>0</td>\n",
       "      <td>0</td>\n",
       "      <td>0</td>\n",
       "      <td>0</td>\n",
       "      <td>3</td>\n",
       "      <td>0</td>\n",
       "      <td>1</td>\n",
       "      <td>Jordan</td>\n",
       "      <td>Pikford</td>\n",
       "      <td>5</td>\n",
       "      <td>0.0</td>\n",
       "      <td>0.00</td>\n",
       "      <td>-0.89</td>\n",
       "      <td>2.0</td>\n",
       "      <td>0.0</td>\n",
       "      <td>0.00</td>\n",
       "      <td>0.005000</td>\n",
       "      <td>0.0</td>\n",
       "      <td>2.305000</td>\n",
       "      <td>2.50</td>\n",
       "      <td>0.0</td>\n",
       "      <td>90.0</td>\n",
       "      <td>0.00</td>\n",
       "      <td>0.0</td>\n",
       "      <td>0.0</td>\n",
       "      <td>0.0</td>\n",
       "      <td>2.00</td>\n",
       "      <td>1.000000</td>\n",
       "      <td>0.500000</td>\n",
       "      <td>4.000000</td>\n",
       "      <td>0.0</td>\n",
       "      <td>-0.005000</td>\n",
       "      <td>-0.195000</td>\n",
       "      <td>1.00</td>\n",
       "    </tr>\n",
       "    <tr>\n",
       "      <th>2</th>\n",
       "      <td>0</td>\n",
       "      <td>0</td>\n",
       "      <td>0.01</td>\n",
       "      <td>0.0</td>\n",
       "      <td>1.16</td>\n",
       "      <td>1</td>\n",
       "      <td>0</td>\n",
       "      <td>90</td>\n",
       "      <td>0</td>\n",
       "      <td>0</td>\n",
       "      <td>0</td>\n",
       "      <td>0</td>\n",
       "      <td>2</td>\n",
       "      <td>2</td>\n",
       "      <td>0</td>\n",
       "      <td>Jordan</td>\n",
       "      <td>Pikford</td>\n",
       "      <td>3</td>\n",
       "      <td>0.0</td>\n",
       "      <td>-0.01</td>\n",
       "      <td>0.16</td>\n",
       "      <td>1.0</td>\n",
       "      <td>0.0</td>\n",
       "      <td>0.00</td>\n",
       "      <td>0.006667</td>\n",
       "      <td>0.0</td>\n",
       "      <td>1.923333</td>\n",
       "      <td>2.00</td>\n",
       "      <td>0.0</td>\n",
       "      <td>90.0</td>\n",
       "      <td>0.00</td>\n",
       "      <td>0.0</td>\n",
       "      <td>0.0</td>\n",
       "      <td>0.0</td>\n",
       "      <td>2.00</td>\n",
       "      <td>1.333333</td>\n",
       "      <td>0.333333</td>\n",
       "      <td>3.666667</td>\n",
       "      <td>0.0</td>\n",
       "      <td>-0.006667</td>\n",
       "      <td>-0.076667</td>\n",
       "      <td>1.00</td>\n",
       "    </tr>\n",
       "    <tr>\n",
       "      <th>3</th>\n",
       "      <td>0</td>\n",
       "      <td>0</td>\n",
       "      <td>0.01</td>\n",
       "      <td>0.0</td>\n",
       "      <td>1.24</td>\n",
       "      <td>2</td>\n",
       "      <td>0</td>\n",
       "      <td>90</td>\n",
       "      <td>1</td>\n",
       "      <td>0</td>\n",
       "      <td>0</td>\n",
       "      <td>0</td>\n",
       "      <td>6</td>\n",
       "      <td>1</td>\n",
       "      <td>0</td>\n",
       "      <td>Jordan</td>\n",
       "      <td>Pikford</td>\n",
       "      <td>2</td>\n",
       "      <td>0.0</td>\n",
       "      <td>-0.01</td>\n",
       "      <td>-0.76</td>\n",
       "      <td>3.0</td>\n",
       "      <td>0.0</td>\n",
       "      <td>0.00</td>\n",
       "      <td>0.007500</td>\n",
       "      <td>0.0</td>\n",
       "      <td>1.752500</td>\n",
       "      <td>2.00</td>\n",
       "      <td>0.0</td>\n",
       "      <td>90.0</td>\n",
       "      <td>0.25</td>\n",
       "      <td>0.0</td>\n",
       "      <td>0.0</td>\n",
       "      <td>0.0</td>\n",
       "      <td>3.00</td>\n",
       "      <td>1.250000</td>\n",
       "      <td>0.250000</td>\n",
       "      <td>3.250000</td>\n",
       "      <td>0.0</td>\n",
       "      <td>-0.007500</td>\n",
       "      <td>-0.247500</td>\n",
       "      <td>1.50</td>\n",
       "    </tr>\n",
       "    <tr>\n",
       "      <th>4</th>\n",
       "      <td>0</td>\n",
       "      <td>0</td>\n",
       "      <td>0.02</td>\n",
       "      <td>0.0</td>\n",
       "      <td>1.02</td>\n",
       "      <td>1</td>\n",
       "      <td>0</td>\n",
       "      <td>90</td>\n",
       "      <td>0</td>\n",
       "      <td>0</td>\n",
       "      <td>0</td>\n",
       "      <td>0</td>\n",
       "      <td>3</td>\n",
       "      <td>3</td>\n",
       "      <td>0</td>\n",
       "      <td>Jordan</td>\n",
       "      <td>Pikford</td>\n",
       "      <td>5</td>\n",
       "      <td>0.0</td>\n",
       "      <td>-0.02</td>\n",
       "      <td>0.02</td>\n",
       "      <td>2.0</td>\n",
       "      <td>0.0</td>\n",
       "      <td>0.00</td>\n",
       "      <td>0.010000</td>\n",
       "      <td>0.0</td>\n",
       "      <td>1.632500</td>\n",
       "      <td>2.00</td>\n",
       "      <td>0.0</td>\n",
       "      <td>90.0</td>\n",
       "      <td>0.25</td>\n",
       "      <td>0.0</td>\n",
       "      <td>0.0</td>\n",
       "      <td>0.0</td>\n",
       "      <td>3.50</td>\n",
       "      <td>1.500000</td>\n",
       "      <td>0.250000</td>\n",
       "      <td>3.750000</td>\n",
       "      <td>0.0</td>\n",
       "      <td>-0.010000</td>\n",
       "      <td>-0.367500</td>\n",
       "      <td>2.00</td>\n",
       "    </tr>\n",
       "    <tr>\n",
       "      <th>5</th>\n",
       "      <td>0</td>\n",
       "      <td>0</td>\n",
       "      <td>0.01</td>\n",
       "      <td>0.0</td>\n",
       "      <td>1.04</td>\n",
       "      <td>1</td>\n",
       "      <td>0</td>\n",
       "      <td>90</td>\n",
       "      <td>0</td>\n",
       "      <td>0</td>\n",
       "      <td>0</td>\n",
       "      <td>0</td>\n",
       "      <td>1</td>\n",
       "      <td>2</td>\n",
       "      <td>0</td>\n",
       "      <td>Jordan</td>\n",
       "      <td>Pikford</td>\n",
       "      <td>2</td>\n",
       "      <td>0.0</td>\n",
       "      <td>-0.01</td>\n",
       "      <td>0.04</td>\n",
       "      <td>1.0</td>\n",
       "      <td>0.0</td>\n",
       "      <td>0.00</td>\n",
       "      <td>0.012500</td>\n",
       "      <td>0.0</td>\n",
       "      <td>1.115000</td>\n",
       "      <td>1.25</td>\n",
       "      <td>0.0</td>\n",
       "      <td>90.0</td>\n",
       "      <td>0.25</td>\n",
       "      <td>0.0</td>\n",
       "      <td>0.0</td>\n",
       "      <td>0.0</td>\n",
       "      <td>3.00</td>\n",
       "      <td>2.000000</td>\n",
       "      <td>0.000000</td>\n",
       "      <td>3.000000</td>\n",
       "      <td>0.0</td>\n",
       "      <td>-0.012500</td>\n",
       "      <td>-0.135000</td>\n",
       "      <td>1.75</td>\n",
       "    </tr>\n",
       "    <tr>\n",
       "      <th>6</th>\n",
       "      <td>0</td>\n",
       "      <td>0</td>\n",
       "      <td>0.00</td>\n",
       "      <td>0.0</td>\n",
       "      <td>0.89</td>\n",
       "      <td>2</td>\n",
       "      <td>0</td>\n",
       "      <td>90</td>\n",
       "      <td>0</td>\n",
       "      <td>0</td>\n",
       "      <td>0</td>\n",
       "      <td>0</td>\n",
       "      <td>0</td>\n",
       "      <td>1</td>\n",
       "      <td>0</td>\n",
       "      <td>Jordan</td>\n",
       "      <td>Pikford</td>\n",
       "      <td>2</td>\n",
       "      <td>0.0</td>\n",
       "      <td>0.00</td>\n",
       "      <td>-1.11</td>\n",
       "      <td>9.0</td>\n",
       "      <td>0.0</td>\n",
       "      <td>0.00</td>\n",
       "      <td>0.010000</td>\n",
       "      <td>0.0</td>\n",
       "      <td>1.047500</td>\n",
       "      <td>1.50</td>\n",
       "      <td>0.0</td>\n",
       "      <td>90.0</td>\n",
       "      <td>0.25</td>\n",
       "      <td>0.0</td>\n",
       "      <td>0.0</td>\n",
       "      <td>0.0</td>\n",
       "      <td>2.50</td>\n",
       "      <td>1.750000</td>\n",
       "      <td>0.000000</td>\n",
       "      <td>2.750000</td>\n",
       "      <td>0.0</td>\n",
       "      <td>-0.010000</td>\n",
       "      <td>-0.452500</td>\n",
       "      <td>3.75</td>\n",
       "    </tr>\n",
       "    <tr>\n",
       "      <th>7</th>\n",
       "      <td>0</td>\n",
       "      <td>1</td>\n",
       "      <td>0.02</td>\n",
       "      <td>0.0</td>\n",
       "      <td>0.72</td>\n",
       "      <td>0</td>\n",
       "      <td>0</td>\n",
       "      <td>90</td>\n",
       "      <td>0</td>\n",
       "      <td>0</td>\n",
       "      <td>0</td>\n",
       "      <td>0</td>\n",
       "      <td>3</td>\n",
       "      <td>9</td>\n",
       "      <td>0</td>\n",
       "      <td>Jordan</td>\n",
       "      <td>Pikford</td>\n",
       "      <td>3</td>\n",
       "      <td>0.0</td>\n",
       "      <td>-0.02</td>\n",
       "      <td>0.72</td>\n",
       "      <td>2.0</td>\n",
       "      <td>0.0</td>\n",
       "      <td>0.25</td>\n",
       "      <td>0.012500</td>\n",
       "      <td>0.0</td>\n",
       "      <td>0.917500</td>\n",
       "      <td>1.00</td>\n",
       "      <td>0.0</td>\n",
       "      <td>90.0</td>\n",
       "      <td>0.00</td>\n",
       "      <td>0.0</td>\n",
       "      <td>0.0</td>\n",
       "      <td>0.0</td>\n",
       "      <td>1.75</td>\n",
       "      <td>3.750000</td>\n",
       "      <td>0.000000</td>\n",
       "      <td>3.000000</td>\n",
       "      <td>0.0</td>\n",
       "      <td>-0.012500</td>\n",
       "      <td>-0.082500</td>\n",
       "      <td>3.50</td>\n",
       "    </tr>\n",
       "    <tr>\n",
       "      <th>8</th>\n",
       "      <td>0</td>\n",
       "      <td>0</td>\n",
       "      <td>0.01</td>\n",
       "      <td>0.0</td>\n",
       "      <td>2.24</td>\n",
       "      <td>2</td>\n",
       "      <td>0</td>\n",
       "      <td>90</td>\n",
       "      <td>0</td>\n",
       "      <td>0</td>\n",
       "      <td>0</td>\n",
       "      <td>0</td>\n",
       "      <td>4</td>\n",
       "      <td>2</td>\n",
       "      <td>0</td>\n",
       "      <td>Jordan</td>\n",
       "      <td>Pikford</td>\n",
       "      <td>5</td>\n",
       "      <td>0.0</td>\n",
       "      <td>-0.01</td>\n",
       "      <td>0.24</td>\n",
       "      <td>5.0</td>\n",
       "      <td>0.0</td>\n",
       "      <td>0.25</td>\n",
       "      <td>0.010000</td>\n",
       "      <td>0.0</td>\n",
       "      <td>1.222500</td>\n",
       "      <td>1.25</td>\n",
       "      <td>0.0</td>\n",
       "      <td>90.0</td>\n",
       "      <td>0.00</td>\n",
       "      <td>0.0</td>\n",
       "      <td>0.0</td>\n",
       "      <td>0.0</td>\n",
       "      <td>2.00</td>\n",
       "      <td>3.500000</td>\n",
       "      <td>0.000000</td>\n",
       "      <td>3.000000</td>\n",
       "      <td>0.0</td>\n",
       "      <td>-0.010000</td>\n",
       "      <td>-0.027500</td>\n",
       "      <td>4.25</td>\n",
       "    </tr>\n",
       "    <tr>\n",
       "      <th>9</th>\n",
       "      <td>0</td>\n",
       "      <td>1</td>\n",
       "      <td>0.01</td>\n",
       "      <td>0.0</td>\n",
       "      <td>0.66</td>\n",
       "      <td>0</td>\n",
       "      <td>0</td>\n",
       "      <td>90</td>\n",
       "      <td>0</td>\n",
       "      <td>0</td>\n",
       "      <td>0</td>\n",
       "      <td>0</td>\n",
       "      <td>2</td>\n",
       "      <td>5</td>\n",
       "      <td>1</td>\n",
       "      <td>Jordan</td>\n",
       "      <td>Pikford</td>\n",
       "      <td>4</td>\n",
       "      <td>0.0</td>\n",
       "      <td>-0.01</td>\n",
       "      <td>0.66</td>\n",
       "      <td>2.0</td>\n",
       "      <td>0.0</td>\n",
       "      <td>0.50</td>\n",
       "      <td>0.010000</td>\n",
       "      <td>0.0</td>\n",
       "      <td>1.127500</td>\n",
       "      <td>1.00</td>\n",
       "      <td>0.0</td>\n",
       "      <td>90.0</td>\n",
       "      <td>0.00</td>\n",
       "      <td>0.0</td>\n",
       "      <td>0.0</td>\n",
       "      <td>0.0</td>\n",
       "      <td>2.25</td>\n",
       "      <td>4.250000</td>\n",
       "      <td>0.250000</td>\n",
       "      <td>3.500000</td>\n",
       "      <td>0.0</td>\n",
       "      <td>-0.010000</td>\n",
       "      <td>0.127500</td>\n",
       "      <td>4.50</td>\n",
       "    </tr>\n",
       "    <tr>\n",
       "      <th>10</th>\n",
       "      <td>0</td>\n",
       "      <td>0</td>\n",
       "      <td>0.02</td>\n",
       "      <td>0.0</td>\n",
       "      <td>0.53</td>\n",
       "      <td>1</td>\n",
       "      <td>0</td>\n",
       "      <td>90</td>\n",
       "      <td>0</td>\n",
       "      <td>0</td>\n",
       "      <td>0</td>\n",
       "      <td>0</td>\n",
       "      <td>2</td>\n",
       "      <td>2</td>\n",
       "      <td>0</td>\n",
       "      <td>Jordan</td>\n",
       "      <td>Pikford</td>\n",
       "      <td>3</td>\n",
       "      <td>0.0</td>\n",
       "      <td>-0.02</td>\n",
       "      <td>-0.47</td>\n",
       "      <td>2.0</td>\n",
       "      <td>0.0</td>\n",
       "      <td>0.50</td>\n",
       "      <td>0.015000</td>\n",
       "      <td>0.0</td>\n",
       "      <td>1.037500</td>\n",
       "      <td>0.75</td>\n",
       "      <td>0.0</td>\n",
       "      <td>90.0</td>\n",
       "      <td>0.00</td>\n",
       "      <td>0.0</td>\n",
       "      <td>0.0</td>\n",
       "      <td>0.0</td>\n",
       "      <td>2.75</td>\n",
       "      <td>4.500000</td>\n",
       "      <td>0.250000</td>\n",
       "      <td>3.750000</td>\n",
       "      <td>0.0</td>\n",
       "      <td>-0.015000</td>\n",
       "      <td>0.287500</td>\n",
       "      <td>2.75</td>\n",
       "    </tr>\n",
       "    <tr>\n",
       "      <th>11</th>\n",
       "      <td>0</td>\n",
       "      <td>0</td>\n",
       "      <td>0.00</td>\n",
       "      <td>0.0</td>\n",
       "      <td>2.24</td>\n",
       "      <td>2</td>\n",
       "      <td>0</td>\n",
       "      <td>90</td>\n",
       "      <td>0</td>\n",
       "      <td>0</td>\n",
       "      <td>0</td>\n",
       "      <td>0</td>\n",
       "      <td>3</td>\n",
       "      <td>2</td>\n",
       "      <td>0</td>\n",
       "      <td>Jordan</td>\n",
       "      <td>Pikford</td>\n",
       "      <td>4</td>\n",
       "      <td>0.0</td>\n",
       "      <td>0.00</td>\n",
       "      <td>0.24</td>\n",
       "      <td>1.0</td>\n",
       "      <td>0.0</td>\n",
       "      <td>0.25</td>\n",
       "      <td>0.010000</td>\n",
       "      <td>0.0</td>\n",
       "      <td>1.417500</td>\n",
       "      <td>1.25</td>\n",
       "      <td>0.0</td>\n",
       "      <td>90.0</td>\n",
       "      <td>0.00</td>\n",
       "      <td>0.0</td>\n",
       "      <td>0.0</td>\n",
       "      <td>0.0</td>\n",
       "      <td>2.75</td>\n",
       "      <td>2.750000</td>\n",
       "      <td>0.250000</td>\n",
       "      <td>4.000000</td>\n",
       "      <td>0.0</td>\n",
       "      <td>-0.010000</td>\n",
       "      <td>0.167500</td>\n",
       "      <td>2.50</td>\n",
       "    </tr>\n",
       "    <tr>\n",
       "      <th>12</th>\n",
       "      <td>0</td>\n",
       "      <td>0</td>\n",
       "      <td>0.00</td>\n",
       "      <td>0.0</td>\n",
       "      <td>2.18</td>\n",
       "      <td>3</td>\n",
       "      <td>0</td>\n",
       "      <td>90</td>\n",
       "      <td>0</td>\n",
       "      <td>0</td>\n",
       "      <td>0</td>\n",
       "      <td>0</td>\n",
       "      <td>1</td>\n",
       "      <td>1</td>\n",
       "      <td>0</td>\n",
       "      <td>Jordan</td>\n",
       "      <td>Pikford</td>\n",
       "      <td>4</td>\n",
       "      <td>0.0</td>\n",
       "      <td>0.00</td>\n",
       "      <td>-0.82</td>\n",
       "      <td>7.0</td>\n",
       "      <td>0.0</td>\n",
       "      <td>0.25</td>\n",
       "      <td>0.007500</td>\n",
       "      <td>0.0</td>\n",
       "      <td>1.402500</td>\n",
       "      <td>1.50</td>\n",
       "      <td>0.0</td>\n",
       "      <td>90.0</td>\n",
       "      <td>0.00</td>\n",
       "      <td>0.0</td>\n",
       "      <td>0.0</td>\n",
       "      <td>0.0</td>\n",
       "      <td>2.00</td>\n",
       "      <td>2.500000</td>\n",
       "      <td>0.250000</td>\n",
       "      <td>3.750000</td>\n",
       "      <td>0.0</td>\n",
       "      <td>-0.007500</td>\n",
       "      <td>-0.097500</td>\n",
       "      <td>3.00</td>\n",
       "    </tr>\n",
       "    <tr>\n",
       "      <th>13</th>\n",
       "      <td>0</td>\n",
       "      <td>1</td>\n",
       "      <td>0.01</td>\n",
       "      <td>0.0</td>\n",
       "      <td>0.71</td>\n",
       "      <td>0</td>\n",
       "      <td>0</td>\n",
       "      <td>90</td>\n",
       "      <td>0</td>\n",
       "      <td>0</td>\n",
       "      <td>0</td>\n",
       "      <td>0</td>\n",
       "      <td>2</td>\n",
       "      <td>7</td>\n",
       "      <td>0</td>\n",
       "      <td>Jordan</td>\n",
       "      <td>Pikford</td>\n",
       "      <td>2</td>\n",
       "      <td>0.0</td>\n",
       "      <td>-0.01</td>\n",
       "      <td>0.71</td>\n",
       "      <td>7.0</td>\n",
       "      <td>0.0</td>\n",
       "      <td>0.25</td>\n",
       "      <td>0.007500</td>\n",
       "      <td>0.0</td>\n",
       "      <td>1.415000</td>\n",
       "      <td>1.50</td>\n",
       "      <td>0.0</td>\n",
       "      <td>90.0</td>\n",
       "      <td>0.00</td>\n",
       "      <td>0.0</td>\n",
       "      <td>0.0</td>\n",
       "      <td>0.0</td>\n",
       "      <td>2.00</td>\n",
       "      <td>3.000000</td>\n",
       "      <td>0.000000</td>\n",
       "      <td>3.250000</td>\n",
       "      <td>0.0</td>\n",
       "      <td>-0.007500</td>\n",
       "      <td>-0.085000</td>\n",
       "      <td>4.25</td>\n",
       "    </tr>\n",
       "    <tr>\n",
       "      <th>14</th>\n",
       "      <td>0</td>\n",
       "      <td>1</td>\n",
       "      <td>0.02</td>\n",
       "      <td>0.0</td>\n",
       "      <td>1.58</td>\n",
       "      <td>0</td>\n",
       "      <td>0</td>\n",
       "      <td>90</td>\n",
       "      <td>0</td>\n",
       "      <td>0</td>\n",
       "      <td>0</td>\n",
       "      <td>0</td>\n",
       "      <td>3</td>\n",
       "      <td>7</td>\n",
       "      <td>0</td>\n",
       "      <td>Jordan</td>\n",
       "      <td>Pikford</td>\n",
       "      <td>4</td>\n",
       "      <td>0.0</td>\n",
       "      <td>-0.02</td>\n",
       "      <td>1.58</td>\n",
       "      <td>10.0</td>\n",
       "      <td>0.0</td>\n",
       "      <td>0.50</td>\n",
       "      <td>0.007500</td>\n",
       "      <td>0.0</td>\n",
       "      <td>1.677500</td>\n",
       "      <td>1.25</td>\n",
       "      <td>0.0</td>\n",
       "      <td>90.0</td>\n",
       "      <td>0.00</td>\n",
       "      <td>0.0</td>\n",
       "      <td>0.0</td>\n",
       "      <td>0.0</td>\n",
       "      <td>2.25</td>\n",
       "      <td>4.250000</td>\n",
       "      <td>0.000000</td>\n",
       "      <td>3.500000</td>\n",
       "      <td>0.0</td>\n",
       "      <td>-0.007500</td>\n",
       "      <td>0.427500</td>\n",
       "      <td>6.25</td>\n",
       "    </tr>\n",
       "    <tr>\n",
       "      <th>15</th>\n",
       "      <td>0</td>\n",
       "      <td>1</td>\n",
       "      <td>0.00</td>\n",
       "      <td>0.0</td>\n",
       "      <td>0.93</td>\n",
       "      <td>0</td>\n",
       "      <td>0</td>\n",
       "      <td>90</td>\n",
       "      <td>0</td>\n",
       "      <td>0</td>\n",
       "      <td>0</td>\n",
       "      <td>0</td>\n",
       "      <td>4</td>\n",
       "      <td>10</td>\n",
       "      <td>0</td>\n",
       "      <td>Jordan</td>\n",
       "      <td>Pikford</td>\n",
       "      <td>4</td>\n",
       "      <td>0.0</td>\n",
       "      <td>0.00</td>\n",
       "      <td>0.93</td>\n",
       "      <td>6.0</td>\n",
       "      <td>0.0</td>\n",
       "      <td>0.75</td>\n",
       "      <td>0.007500</td>\n",
       "      <td>0.0</td>\n",
       "      <td>1.350000</td>\n",
       "      <td>0.75</td>\n",
       "      <td>0.0</td>\n",
       "      <td>90.0</td>\n",
       "      <td>0.00</td>\n",
       "      <td>0.0</td>\n",
       "      <td>0.0</td>\n",
       "      <td>0.0</td>\n",
       "      <td>2.50</td>\n",
       "      <td>6.250000</td>\n",
       "      <td>0.000000</td>\n",
       "      <td>3.500000</td>\n",
       "      <td>0.0</td>\n",
       "      <td>-0.007500</td>\n",
       "      <td>0.600000</td>\n",
       "      <td>7.50</td>\n",
       "    </tr>\n",
       "    <tr>\n",
       "      <th>16</th>\n",
       "      <td>0</td>\n",
       "      <td>1</td>\n",
       "      <td>0.05</td>\n",
       "      <td>0.0</td>\n",
       "      <td>0.77</td>\n",
       "      <td>0</td>\n",
       "      <td>0</td>\n",
       "      <td>90</td>\n",
       "      <td>0</td>\n",
       "      <td>0</td>\n",
       "      <td>0</td>\n",
       "      <td>0</td>\n",
       "      <td>2</td>\n",
       "      <td>6</td>\n",
       "      <td>0</td>\n",
       "      <td>Jordan</td>\n",
       "      <td>Pikford</td>\n",
       "      <td>2</td>\n",
       "      <td>0.0</td>\n",
       "      <td>-0.05</td>\n",
       "      <td>0.77</td>\n",
       "      <td>2.0</td>\n",
       "      <td>0.0</td>\n",
       "      <td>1.00</td>\n",
       "      <td>0.020000</td>\n",
       "      <td>0.0</td>\n",
       "      <td>0.997500</td>\n",
       "      <td>0.00</td>\n",
       "      <td>0.0</td>\n",
       "      <td>90.0</td>\n",
       "      <td>0.00</td>\n",
       "      <td>0.0</td>\n",
       "      <td>0.0</td>\n",
       "      <td>0.0</td>\n",
       "      <td>2.75</td>\n",
       "      <td>7.500000</td>\n",
       "      <td>0.000000</td>\n",
       "      <td>3.000000</td>\n",
       "      <td>0.0</td>\n",
       "      <td>-0.020000</td>\n",
       "      <td>0.997500</td>\n",
       "      <td>6.25</td>\n",
       "    </tr>\n",
       "    <tr>\n",
       "      <th>17</th>\n",
       "      <td>0</td>\n",
       "      <td>0</td>\n",
       "      <td>0.01</td>\n",
       "      <td>0.0</td>\n",
       "      <td>1.34</td>\n",
       "      <td>2</td>\n",
       "      <td>0</td>\n",
       "      <td>90</td>\n",
       "      <td>0</td>\n",
       "      <td>0</td>\n",
       "      <td>0</td>\n",
       "      <td>0</td>\n",
       "      <td>4</td>\n",
       "      <td>2</td>\n",
       "      <td>0</td>\n",
       "      <td>Jordan</td>\n",
       "      <td>Pikford</td>\n",
       "      <td>5</td>\n",
       "      <td>0.0</td>\n",
       "      <td>-0.01</td>\n",
       "      <td>-0.66</td>\n",
       "      <td>2.0</td>\n",
       "      <td>0.0</td>\n",
       "      <td>0.75</td>\n",
       "      <td>0.020000</td>\n",
       "      <td>0.0</td>\n",
       "      <td>1.155000</td>\n",
       "      <td>0.50</td>\n",
       "      <td>0.0</td>\n",
       "      <td>90.0</td>\n",
       "      <td>0.00</td>\n",
       "      <td>0.0</td>\n",
       "      <td>0.0</td>\n",
       "      <td>0.0</td>\n",
       "      <td>3.25</td>\n",
       "      <td>6.250000</td>\n",
       "      <td>0.000000</td>\n",
       "      <td>3.750000</td>\n",
       "      <td>0.0</td>\n",
       "      <td>-0.020000</td>\n",
       "      <td>0.655000</td>\n",
       "      <td>5.00</td>\n",
       "    </tr>\n",
       "    <tr>\n",
       "      <th>18</th>\n",
       "      <td>0</td>\n",
       "      <td>0</td>\n",
       "      <td>0.01</td>\n",
       "      <td>0.0</td>\n",
       "      <td>2.60</td>\n",
       "      <td>3</td>\n",
       "      <td>0</td>\n",
       "      <td>90</td>\n",
       "      <td>0</td>\n",
       "      <td>0</td>\n",
       "      <td>0</td>\n",
       "      <td>0</td>\n",
       "      <td>6</td>\n",
       "      <td>2</td>\n",
       "      <td>1</td>\n",
       "      <td>Jordan</td>\n",
       "      <td>Pikford</td>\n",
       "      <td>5</td>\n",
       "      <td>0.0</td>\n",
       "      <td>-0.01</td>\n",
       "      <td>-0.40</td>\n",
       "      <td>2.0</td>\n",
       "      <td>0.0</td>\n",
       "      <td>0.50</td>\n",
       "      <td>0.017500</td>\n",
       "      <td>0.0</td>\n",
       "      <td>1.410000</td>\n",
       "      <td>1.25</td>\n",
       "      <td>0.0</td>\n",
       "      <td>90.0</td>\n",
       "      <td>0.00</td>\n",
       "      <td>0.0</td>\n",
       "      <td>0.0</td>\n",
       "      <td>0.0</td>\n",
       "      <td>4.00</td>\n",
       "      <td>5.000000</td>\n",
       "      <td>0.250000</td>\n",
       "      <td>4.000000</td>\n",
       "      <td>0.0</td>\n",
       "      <td>-0.017500</td>\n",
       "      <td>0.160000</td>\n",
       "      <td>3.00</td>\n",
       "    </tr>\n",
       "    <tr>\n",
       "      <th>19</th>\n",
       "      <td>0</td>\n",
       "      <td>0</td>\n",
       "      <td>0.00</td>\n",
       "      <td>0.0</td>\n",
       "      <td>2.06</td>\n",
       "      <td>3</td>\n",
       "      <td>0</td>\n",
       "      <td>90</td>\n",
       "      <td>0</td>\n",
       "      <td>0</td>\n",
       "      <td>0</td>\n",
       "      <td>0</td>\n",
       "      <td>4</td>\n",
       "      <td>2</td>\n",
       "      <td>0</td>\n",
       "      <td>Jordan</td>\n",
       "      <td>Pikford</td>\n",
       "      <td>3</td>\n",
       "      <td>0.0</td>\n",
       "      <td>0.00</td>\n",
       "      <td>-0.94</td>\n",
       "      <td>9.0</td>\n",
       "      <td>0.0</td>\n",
       "      <td>0.25</td>\n",
       "      <td>0.017500</td>\n",
       "      <td>0.0</td>\n",
       "      <td>1.692500</td>\n",
       "      <td>2.00</td>\n",
       "      <td>0.0</td>\n",
       "      <td>90.0</td>\n",
       "      <td>0.00</td>\n",
       "      <td>0.0</td>\n",
       "      <td>0.0</td>\n",
       "      <td>0.0</td>\n",
       "      <td>4.00</td>\n",
       "      <td>3.000000</td>\n",
       "      <td>0.250000</td>\n",
       "      <td>3.750000</td>\n",
       "      <td>0.0</td>\n",
       "      <td>-0.017500</td>\n",
       "      <td>-0.307500</td>\n",
       "      <td>3.75</td>\n",
       "    </tr>\n",
       "    <tr>\n",
       "      <th>20</th>\n",
       "      <td>0</td>\n",
       "      <td>1</td>\n",
       "      <td>0.01</td>\n",
       "      <td>0.0</td>\n",
       "      <td>1.11</td>\n",
       "      <td>0</td>\n",
       "      <td>0</td>\n",
       "      <td>90</td>\n",
       "      <td>0</td>\n",
       "      <td>0</td>\n",
       "      <td>0</td>\n",
       "      <td>0</td>\n",
       "      <td>4</td>\n",
       "      <td>9</td>\n",
       "      <td>0</td>\n",
       "      <td>Jordan</td>\n",
       "      <td>Pikford</td>\n",
       "      <td>5</td>\n",
       "      <td>0.0</td>\n",
       "      <td>-0.01</td>\n",
       "      <td>1.11</td>\n",
       "      <td>10.0</td>\n",
       "      <td>0.0</td>\n",
       "      <td>0.25</td>\n",
       "      <td>0.007500</td>\n",
       "      <td>0.0</td>\n",
       "      <td>1.777500</td>\n",
       "      <td>2.00</td>\n",
       "      <td>0.0</td>\n",
       "      <td>90.0</td>\n",
       "      <td>0.00</td>\n",
       "      <td>0.0</td>\n",
       "      <td>0.0</td>\n",
       "      <td>0.0</td>\n",
       "      <td>4.50</td>\n",
       "      <td>3.750000</td>\n",
       "      <td>0.250000</td>\n",
       "      <td>4.500000</td>\n",
       "      <td>0.0</td>\n",
       "      <td>-0.007500</td>\n",
       "      <td>-0.222500</td>\n",
       "      <td>5.75</td>\n",
       "    </tr>\n",
       "    <tr>\n",
       "      <th>21</th>\n",
       "      <td>0</td>\n",
       "      <td>1</td>\n",
       "      <td>0.01</td>\n",
       "      <td>0.0</td>\n",
       "      <td>1.71</td>\n",
       "      <td>0</td>\n",
       "      <td>0</td>\n",
       "      <td>90</td>\n",
       "      <td>0</td>\n",
       "      <td>0</td>\n",
       "      <td>0</td>\n",
       "      <td>0</td>\n",
       "      <td>5</td>\n",
       "      <td>10</td>\n",
       "      <td>0</td>\n",
       "      <td>Jordan</td>\n",
       "      <td>Pikford</td>\n",
       "      <td>3</td>\n",
       "      <td>0.0</td>\n",
       "      <td>-0.01</td>\n",
       "      <td>1.71</td>\n",
       "      <td>2.0</td>\n",
       "      <td>0.0</td>\n",
       "      <td>0.50</td>\n",
       "      <td>0.007500</td>\n",
       "      <td>0.0</td>\n",
       "      <td>1.870000</td>\n",
       "      <td>1.50</td>\n",
       "      <td>0.0</td>\n",
       "      <td>90.0</td>\n",
       "      <td>0.00</td>\n",
       "      <td>0.0</td>\n",
       "      <td>0.0</td>\n",
       "      <td>0.0</td>\n",
       "      <td>4.75</td>\n",
       "      <td>5.750000</td>\n",
       "      <td>0.250000</td>\n",
       "      <td>4.000000</td>\n",
       "      <td>0.0</td>\n",
       "      <td>-0.007500</td>\n",
       "      <td>0.370000</td>\n",
       "      <td>5.75</td>\n",
       "    </tr>\n",
       "    <tr>\n",
       "      <th>22</th>\n",
       "      <td>0</td>\n",
       "      <td>0</td>\n",
       "      <td>0.02</td>\n",
       "      <td>0.0</td>\n",
       "      <td>0.98</td>\n",
       "      <td>2</td>\n",
       "      <td>0</td>\n",
       "      <td>90</td>\n",
       "      <td>0</td>\n",
       "      <td>0</td>\n",
       "      <td>0</td>\n",
       "      <td>0</td>\n",
       "      <td>4</td>\n",
       "      <td>2</td>\n",
       "      <td>0</td>\n",
       "      <td>Jordan</td>\n",
       "      <td>Pikford</td>\n",
       "      <td>5</td>\n",
       "      <td>0.0</td>\n",
       "      <td>-0.02</td>\n",
       "      <td>-1.02</td>\n",
       "      <td>1.0</td>\n",
       "      <td>0.0</td>\n",
       "      <td>0.50</td>\n",
       "      <td>0.010000</td>\n",
       "      <td>0.0</td>\n",
       "      <td>1.465000</td>\n",
       "      <td>1.25</td>\n",
       "      <td>0.0</td>\n",
       "      <td>90.0</td>\n",
       "      <td>0.00</td>\n",
       "      <td>0.0</td>\n",
       "      <td>0.0</td>\n",
       "      <td>0.0</td>\n",
       "      <td>4.25</td>\n",
       "      <td>5.750000</td>\n",
       "      <td>0.000000</td>\n",
       "      <td>4.000000</td>\n",
       "      <td>0.0</td>\n",
       "      <td>-0.010000</td>\n",
       "      <td>0.215000</td>\n",
       "      <td>5.50</td>\n",
       "    </tr>\n",
       "    <tr>\n",
       "      <th>23</th>\n",
       "      <td>0</td>\n",
       "      <td>0</td>\n",
       "      <td>0.00</td>\n",
       "      <td>0.0</td>\n",
       "      <td>1.63</td>\n",
       "      <td>2</td>\n",
       "      <td>0</td>\n",
       "      <td>90</td>\n",
       "      <td>0</td>\n",
       "      <td>0</td>\n",
       "      <td>0</td>\n",
       "      <td>0</td>\n",
       "      <td>1</td>\n",
       "      <td>1</td>\n",
       "      <td>0</td>\n",
       "      <td>Jordan</td>\n",
       "      <td>Pikford</td>\n",
       "      <td>5</td>\n",
       "      <td>0.0</td>\n",
       "      <td>0.00</td>\n",
       "      <td>-0.37</td>\n",
       "      <td>3.0</td>\n",
       "      <td>0.0</td>\n",
       "      <td>0.50</td>\n",
       "      <td>0.010000</td>\n",
       "      <td>0.0</td>\n",
       "      <td>1.357500</td>\n",
       "      <td>1.00</td>\n",
       "      <td>0.0</td>\n",
       "      <td>90.0</td>\n",
       "      <td>0.00</td>\n",
       "      <td>0.0</td>\n",
       "      <td>0.0</td>\n",
       "      <td>0.0</td>\n",
       "      <td>3.50</td>\n",
       "      <td>5.500000</td>\n",
       "      <td>0.000000</td>\n",
       "      <td>4.500000</td>\n",
       "      <td>0.0</td>\n",
       "      <td>-0.010000</td>\n",
       "      <td>0.357500</td>\n",
       "      <td>4.00</td>\n",
       "    </tr>\n",
       "    <tr>\n",
       "      <th>24</th>\n",
       "      <td>0</td>\n",
       "      <td>0</td>\n",
       "      <td>0.03</td>\n",
       "      <td>0.0</td>\n",
       "      <td>0.62</td>\n",
       "      <td>1</td>\n",
       "      <td>0</td>\n",
       "      <td>90</td>\n",
       "      <td>0</td>\n",
       "      <td>0</td>\n",
       "      <td>0</td>\n",
       "      <td>0</td>\n",
       "      <td>2</td>\n",
       "      <td>3</td>\n",
       "      <td>0</td>\n",
       "      <td>Jordan</td>\n",
       "      <td>Pikford</td>\n",
       "      <td>4</td>\n",
       "      <td>0.0</td>\n",
       "      <td>-0.03</td>\n",
       "      <td>-0.38</td>\n",
       "      <td>4.0</td>\n",
       "      <td>0.0</td>\n",
       "      <td>0.25</td>\n",
       "      <td>0.015000</td>\n",
       "      <td>0.0</td>\n",
       "      <td>1.235000</td>\n",
       "      <td>1.25</td>\n",
       "      <td>0.0</td>\n",
       "      <td>90.0</td>\n",
       "      <td>0.00</td>\n",
       "      <td>0.0</td>\n",
       "      <td>0.0</td>\n",
       "      <td>0.0</td>\n",
       "      <td>3.00</td>\n",
       "      <td>4.000000</td>\n",
       "      <td>0.000000</td>\n",
       "      <td>4.250000</td>\n",
       "      <td>0.0</td>\n",
       "      <td>-0.015000</td>\n",
       "      <td>-0.015000</td>\n",
       "      <td>2.50</td>\n",
       "    </tr>\n",
       "    <tr>\n",
       "      <th>25</th>\n",
       "      <td>0</td>\n",
       "      <td>0</td>\n",
       "      <td>0.01</td>\n",
       "      <td>0.0</td>\n",
       "      <td>1.25</td>\n",
       "      <td>1</td>\n",
       "      <td>0</td>\n",
       "      <td>90</td>\n",
       "      <td>0</td>\n",
       "      <td>0</td>\n",
       "      <td>0</td>\n",
       "      <td>0</td>\n",
       "      <td>6</td>\n",
       "      <td>4</td>\n",
       "      <td>0</td>\n",
       "      <td>Jordan</td>\n",
       "      <td>Pikford</td>\n",
       "      <td>3</td>\n",
       "      <td>0.0</td>\n",
       "      <td>-0.01</td>\n",
       "      <td>0.25</td>\n",
       "      <td>0.0</td>\n",
       "      <td>0.0</td>\n",
       "      <td>0.00</td>\n",
       "      <td>0.015000</td>\n",
       "      <td>0.0</td>\n",
       "      <td>1.120000</td>\n",
       "      <td>1.50</td>\n",
       "      <td>0.0</td>\n",
       "      <td>90.0</td>\n",
       "      <td>0.00</td>\n",
       "      <td>0.0</td>\n",
       "      <td>0.0</td>\n",
       "      <td>0.0</td>\n",
       "      <td>3.25</td>\n",
       "      <td>2.500000</td>\n",
       "      <td>0.000000</td>\n",
       "      <td>4.250000</td>\n",
       "      <td>0.0</td>\n",
       "      <td>-0.015000</td>\n",
       "      <td>-0.380000</td>\n",
       "      <td>2.00</td>\n",
       "    </tr>\n",
       "    <tr>\n",
       "      <th>26</th>\n",
       "      <td>0</td>\n",
       "      <td>0</td>\n",
       "      <td>0.01</td>\n",
       "      <td>0.0</td>\n",
       "      <td>1.87</td>\n",
       "      <td>3</td>\n",
       "      <td>0</td>\n",
       "      <td>90</td>\n",
       "      <td>0</td>\n",
       "      <td>0</td>\n",
       "      <td>0</td>\n",
       "      <td>0</td>\n",
       "      <td>2</td>\n",
       "      <td>0</td>\n",
       "      <td>1</td>\n",
       "      <td>Jordan</td>\n",
       "      <td>Pikford</td>\n",
       "      <td>4</td>\n",
       "      <td>0.0</td>\n",
       "      <td>-0.01</td>\n",
       "      <td>-1.13</td>\n",
       "      <td>3.0</td>\n",
       "      <td>0.0</td>\n",
       "      <td>0.00</td>\n",
       "      <td>0.012500</td>\n",
       "      <td>0.0</td>\n",
       "      <td>1.342500</td>\n",
       "      <td>1.75</td>\n",
       "      <td>0.0</td>\n",
       "      <td>90.0</td>\n",
       "      <td>0.00</td>\n",
       "      <td>0.0</td>\n",
       "      <td>0.0</td>\n",
       "      <td>0.0</td>\n",
       "      <td>2.75</td>\n",
       "      <td>2.000000</td>\n",
       "      <td>0.250000</td>\n",
       "      <td>4.000000</td>\n",
       "      <td>0.0</td>\n",
       "      <td>-0.012500</td>\n",
       "      <td>-0.407500</td>\n",
       "      <td>2.50</td>\n",
       "    </tr>\n",
       "    <tr>\n",
       "      <th>27</th>\n",
       "      <td>0</td>\n",
       "      <td>0</td>\n",
       "      <td>0.03</td>\n",
       "      <td>0.0</td>\n",
       "      <td>2.56</td>\n",
       "      <td>2</td>\n",
       "      <td>0</td>\n",
       "      <td>90</td>\n",
       "      <td>0</td>\n",
       "      <td>0</td>\n",
       "      <td>0</td>\n",
       "      <td>0</td>\n",
       "      <td>6</td>\n",
       "      <td>3</td>\n",
       "      <td>0</td>\n",
       "      <td>Jordan</td>\n",
       "      <td>Pikford</td>\n",
       "      <td>4</td>\n",
       "      <td>0.0</td>\n",
       "      <td>-0.03</td>\n",
       "      <td>0.56</td>\n",
       "      <td>2.0</td>\n",
       "      <td>0.0</td>\n",
       "      <td>0.00</td>\n",
       "      <td>0.020000</td>\n",
       "      <td>0.0</td>\n",
       "      <td>1.575000</td>\n",
       "      <td>1.75</td>\n",
       "      <td>0.0</td>\n",
       "      <td>90.0</td>\n",
       "      <td>0.00</td>\n",
       "      <td>0.0</td>\n",
       "      <td>0.0</td>\n",
       "      <td>0.0</td>\n",
       "      <td>4.00</td>\n",
       "      <td>2.500000</td>\n",
       "      <td>0.250000</td>\n",
       "      <td>3.750000</td>\n",
       "      <td>0.0</td>\n",
       "      <td>-0.020000</td>\n",
       "      <td>-0.175000</td>\n",
       "      <td>2.25</td>\n",
       "    </tr>\n",
       "    <tr>\n",
       "      <th>28</th>\n",
       "      <td>0</td>\n",
       "      <td>0</td>\n",
       "      <td>0.02</td>\n",
       "      <td>0.0</td>\n",
       "      <td>1.56</td>\n",
       "      <td>2</td>\n",
       "      <td>0</td>\n",
       "      <td>90</td>\n",
       "      <td>0</td>\n",
       "      <td>0</td>\n",
       "      <td>0</td>\n",
       "      <td>0</td>\n",
       "      <td>3</td>\n",
       "      <td>2</td>\n",
       "      <td>0</td>\n",
       "      <td>Jordan</td>\n",
       "      <td>Pikford</td>\n",
       "      <td>3</td>\n",
       "      <td>0.0</td>\n",
       "      <td>-0.02</td>\n",
       "      <td>-0.44</td>\n",
       "      <td>3.0</td>\n",
       "      <td>0.0</td>\n",
       "      <td>0.00</td>\n",
       "      <td>0.017500</td>\n",
       "      <td>0.0</td>\n",
       "      <td>1.810000</td>\n",
       "      <td>2.00</td>\n",
       "      <td>0.0</td>\n",
       "      <td>90.0</td>\n",
       "      <td>0.00</td>\n",
       "      <td>0.0</td>\n",
       "      <td>0.0</td>\n",
       "      <td>0.0</td>\n",
       "      <td>4.25</td>\n",
       "      <td>2.250000</td>\n",
       "      <td>0.250000</td>\n",
       "      <td>3.500000</td>\n",
       "      <td>0.0</td>\n",
       "      <td>-0.017500</td>\n",
       "      <td>-0.190000</td>\n",
       "      <td>2.00</td>\n",
       "    </tr>\n",
       "    <tr>\n",
       "      <th>29</th>\n",
       "      <td>0</td>\n",
       "      <td>0</td>\n",
       "      <td>0.04</td>\n",
       "      <td>0.0</td>\n",
       "      <td>2.54</td>\n",
       "      <td>1</td>\n",
       "      <td>0</td>\n",
       "      <td>90</td>\n",
       "      <td>0</td>\n",
       "      <td>0</td>\n",
       "      <td>0</td>\n",
       "      <td>0</td>\n",
       "      <td>4</td>\n",
       "      <td>3</td>\n",
       "      <td>0</td>\n",
       "      <td>Jordan</td>\n",
       "      <td>Pikford</td>\n",
       "      <td>4</td>\n",
       "      <td>0.0</td>\n",
       "      <td>-0.04</td>\n",
       "      <td>1.54</td>\n",
       "      <td>8.0</td>\n",
       "      <td>0.0</td>\n",
       "      <td>0.00</td>\n",
       "      <td>0.025000</td>\n",
       "      <td>0.0</td>\n",
       "      <td>2.132500</td>\n",
       "      <td>2.00</td>\n",
       "      <td>0.0</td>\n",
       "      <td>90.0</td>\n",
       "      <td>0.00</td>\n",
       "      <td>0.0</td>\n",
       "      <td>0.0</td>\n",
       "      <td>0.0</td>\n",
       "      <td>3.75</td>\n",
       "      <td>2.000000</td>\n",
       "      <td>0.250000</td>\n",
       "      <td>3.750000</td>\n",
       "      <td>0.0</td>\n",
       "      <td>-0.025000</td>\n",
       "      <td>0.132500</td>\n",
       "      <td>4.00</td>\n",
       "    </tr>\n",
       "    <tr>\n",
       "      <th>30</th>\n",
       "      <td>0</td>\n",
       "      <td>1</td>\n",
       "      <td>0.01</td>\n",
       "      <td>0.0</td>\n",
       "      <td>0.46</td>\n",
       "      <td>0</td>\n",
       "      <td>0</td>\n",
       "      <td>90</td>\n",
       "      <td>0</td>\n",
       "      <td>0</td>\n",
       "      <td>0</td>\n",
       "      <td>0</td>\n",
       "      <td>1</td>\n",
       "      <td>8</td>\n",
       "      <td>0</td>\n",
       "      <td>Jordan</td>\n",
       "      <td>Pikford</td>\n",
       "      <td>2</td>\n",
       "      <td>0.0</td>\n",
       "      <td>-0.01</td>\n",
       "      <td>0.46</td>\n",
       "      <td>0.0</td>\n",
       "      <td>0.0</td>\n",
       "      <td>0.25</td>\n",
       "      <td>0.025000</td>\n",
       "      <td>0.0</td>\n",
       "      <td>1.780000</td>\n",
       "      <td>1.25</td>\n",
       "      <td>0.0</td>\n",
       "      <td>90.0</td>\n",
       "      <td>0.00</td>\n",
       "      <td>0.0</td>\n",
       "      <td>0.0</td>\n",
       "      <td>0.0</td>\n",
       "      <td>3.50</td>\n",
       "      <td>4.000000</td>\n",
       "      <td>0.000000</td>\n",
       "      <td>3.250000</td>\n",
       "      <td>0.0</td>\n",
       "      <td>-0.025000</td>\n",
       "      <td>0.530000</td>\n",
       "      <td>3.25</td>\n",
       "    </tr>\n",
       "    <tr>\n",
       "      <th>31</th>\n",
       "      <td>0</td>\n",
       "      <td>0</td>\n",
       "      <td>0.00</td>\n",
       "      <td>0.0</td>\n",
       "      <td>2.96</td>\n",
       "      <td>6</td>\n",
       "      <td>0</td>\n",
       "      <td>90</td>\n",
       "      <td>0</td>\n",
       "      <td>0</td>\n",
       "      <td>0</td>\n",
       "      <td>0</td>\n",
       "      <td>4</td>\n",
       "      <td>0</td>\n",
       "      <td>0</td>\n",
       "      <td>Jordan</td>\n",
       "      <td>Pikford</td>\n",
       "      <td>4</td>\n",
       "      <td>0.0</td>\n",
       "      <td>0.00</td>\n",
       "      <td>-3.04</td>\n",
       "      <td>8.0</td>\n",
       "      <td>0.0</td>\n",
       "      <td>0.25</td>\n",
       "      <td>0.017500</td>\n",
       "      <td>0.0</td>\n",
       "      <td>1.880000</td>\n",
       "      <td>2.25</td>\n",
       "      <td>0.0</td>\n",
       "      <td>90.0</td>\n",
       "      <td>0.00</td>\n",
       "      <td>0.0</td>\n",
       "      <td>0.0</td>\n",
       "      <td>0.0</td>\n",
       "      <td>3.00</td>\n",
       "      <td>3.250000</td>\n",
       "      <td>0.000000</td>\n",
       "      <td>3.250000</td>\n",
       "      <td>0.0</td>\n",
       "      <td>-0.017500</td>\n",
       "      <td>-0.370000</td>\n",
       "      <td>4.75</td>\n",
       "    </tr>\n",
       "    <tr>\n",
       "      <th>32</th>\n",
       "      <td>0</td>\n",
       "      <td>1</td>\n",
       "      <td>0.01</td>\n",
       "      <td>0.0</td>\n",
       "      <td>0.85</td>\n",
       "      <td>0</td>\n",
       "      <td>0</td>\n",
       "      <td>90</td>\n",
       "      <td>0</td>\n",
       "      <td>0</td>\n",
       "      <td>0</td>\n",
       "      <td>0</td>\n",
       "      <td>3</td>\n",
       "      <td>8</td>\n",
       "      <td>0</td>\n",
       "      <td>Jordan</td>\n",
       "      <td>Pikford</td>\n",
       "      <td>2</td>\n",
       "      <td>0.0</td>\n",
       "      <td>-0.01</td>\n",
       "      <td>0.85</td>\n",
       "      <td>10.0</td>\n",
       "      <td>0.0</td>\n",
       "      <td>0.50</td>\n",
       "      <td>0.015000</td>\n",
       "      <td>0.0</td>\n",
       "      <td>1.702500</td>\n",
       "      <td>1.75</td>\n",
       "      <td>0.0</td>\n",
       "      <td>90.0</td>\n",
       "      <td>0.00</td>\n",
       "      <td>0.0</td>\n",
       "      <td>0.0</td>\n",
       "      <td>0.0</td>\n",
       "      <td>3.00</td>\n",
       "      <td>4.750000</td>\n",
       "      <td>0.000000</td>\n",
       "      <td>3.000000</td>\n",
       "      <td>0.0</td>\n",
       "      <td>-0.015000</td>\n",
       "      <td>-0.047500</td>\n",
       "      <td>6.50</td>\n",
       "    </tr>\n",
       "    <tr>\n",
       "      <th>33</th>\n",
       "      <td>0</td>\n",
       "      <td>1</td>\n",
       "      <td>0.01</td>\n",
       "      <td>0.0</td>\n",
       "      <td>2.06</td>\n",
       "      <td>0</td>\n",
       "      <td>0</td>\n",
       "      <td>90</td>\n",
       "      <td>0</td>\n",
       "      <td>0</td>\n",
       "      <td>0</td>\n",
       "      <td>0</td>\n",
       "      <td>7</td>\n",
       "      <td>10</td>\n",
       "      <td>0</td>\n",
       "      <td>Jordan</td>\n",
       "      <td>Pikford</td>\n",
       "      <td>5</td>\n",
       "      <td>0.0</td>\n",
       "      <td>-0.01</td>\n",
       "      <td>2.06</td>\n",
       "      <td>10.0</td>\n",
       "      <td>0.0</td>\n",
       "      <td>0.75</td>\n",
       "      <td>0.007500</td>\n",
       "      <td>0.0</td>\n",
       "      <td>1.582500</td>\n",
       "      <td>1.50</td>\n",
       "      <td>0.0</td>\n",
       "      <td>90.0</td>\n",
       "      <td>0.00</td>\n",
       "      <td>0.0</td>\n",
       "      <td>0.0</td>\n",
       "      <td>0.0</td>\n",
       "      <td>3.75</td>\n",
       "      <td>6.500000</td>\n",
       "      <td>0.000000</td>\n",
       "      <td>3.250000</td>\n",
       "      <td>0.0</td>\n",
       "      <td>-0.007500</td>\n",
       "      <td>0.082500</td>\n",
       "      <td>7.00</td>\n",
       "    </tr>\n",
       "    <tr>\n",
       "      <th>34</th>\n",
       "      <td>0</td>\n",
       "      <td>1</td>\n",
       "      <td>0.01</td>\n",
       "      <td>0.0</td>\n",
       "      <td>0.84</td>\n",
       "      <td>0</td>\n",
       "      <td>0</td>\n",
       "      <td>90</td>\n",
       "      <td>0</td>\n",
       "      <td>0</td>\n",
       "      <td>0</td>\n",
       "      <td>0</td>\n",
       "      <td>4</td>\n",
       "      <td>10</td>\n",
       "      <td>0</td>\n",
       "      <td>Jordan</td>\n",
       "      <td>Pikford</td>\n",
       "      <td>2</td>\n",
       "      <td>0.0</td>\n",
       "      <td>-0.01</td>\n",
       "      <td>0.84</td>\n",
       "      <td>3.0</td>\n",
       "      <td>0.0</td>\n",
       "      <td>0.75</td>\n",
       "      <td>0.007500</td>\n",
       "      <td>0.0</td>\n",
       "      <td>1.677500</td>\n",
       "      <td>1.50</td>\n",
       "      <td>0.0</td>\n",
       "      <td>90.0</td>\n",
       "      <td>0.00</td>\n",
       "      <td>0.0</td>\n",
       "      <td>0.0</td>\n",
       "      <td>0.0</td>\n",
       "      <td>4.50</td>\n",
       "      <td>7.000000</td>\n",
       "      <td>0.000000</td>\n",
       "      <td>3.250000</td>\n",
       "      <td>0.0</td>\n",
       "      <td>-0.007500</td>\n",
       "      <td>0.177500</td>\n",
       "      <td>7.75</td>\n",
       "    </tr>\n",
       "    <tr>\n",
       "      <th>35</th>\n",
       "      <td>0</td>\n",
       "      <td>0</td>\n",
       "      <td>0.01</td>\n",
       "      <td>0.0</td>\n",
       "      <td>0.96</td>\n",
       "      <td>1</td>\n",
       "      <td>0</td>\n",
       "      <td>90</td>\n",
       "      <td>0</td>\n",
       "      <td>0</td>\n",
       "      <td>0</td>\n",
       "      <td>0</td>\n",
       "      <td>4</td>\n",
       "      <td>3</td>\n",
       "      <td>0</td>\n",
       "      <td>Jordan</td>\n",
       "      <td>Pikford</td>\n",
       "      <td>2</td>\n",
       "      <td>0.0</td>\n",
       "      <td>-0.01</td>\n",
       "      <td>-0.04</td>\n",
       "      <td>8.0</td>\n",
       "      <td>0.0</td>\n",
       "      <td>0.75</td>\n",
       "      <td>0.010000</td>\n",
       "      <td>0.0</td>\n",
       "      <td>1.177500</td>\n",
       "      <td>0.25</td>\n",
       "      <td>0.0</td>\n",
       "      <td>90.0</td>\n",
       "      <td>0.00</td>\n",
       "      <td>0.0</td>\n",
       "      <td>0.0</td>\n",
       "      <td>0.0</td>\n",
       "      <td>4.50</td>\n",
       "      <td>7.750000</td>\n",
       "      <td>0.000000</td>\n",
       "      <td>2.750000</td>\n",
       "      <td>0.0</td>\n",
       "      <td>-0.010000</td>\n",
       "      <td>0.927500</td>\n",
       "      <td>7.75</td>\n",
       "    </tr>\n",
       "    <tr>\n",
       "      <th>36</th>\n",
       "      <td>0</td>\n",
       "      <td>1</td>\n",
       "      <td>0.00</td>\n",
       "      <td>0.0</td>\n",
       "      <td>0.64</td>\n",
       "      <td>0</td>\n",
       "      <td>0</td>\n",
       "      <td>90</td>\n",
       "      <td>0</td>\n",
       "      <td>0</td>\n",
       "      <td>0</td>\n",
       "      <td>0</td>\n",
       "      <td>1</td>\n",
       "      <td>8</td>\n",
       "      <td>0</td>\n",
       "      <td>Jordan</td>\n",
       "      <td>Pikford</td>\n",
       "      <td>2</td>\n",
       "      <td>0.0</td>\n",
       "      <td>0.00</td>\n",
       "      <td>0.64</td>\n",
       "      <td>1.0</td>\n",
       "      <td>0.0</td>\n",
       "      <td>0.75</td>\n",
       "      <td>0.007500</td>\n",
       "      <td>0.0</td>\n",
       "      <td>1.125000</td>\n",
       "      <td>0.25</td>\n",
       "      <td>0.0</td>\n",
       "      <td>90.0</td>\n",
       "      <td>0.00</td>\n",
       "      <td>0.0</td>\n",
       "      <td>0.0</td>\n",
       "      <td>0.0</td>\n",
       "      <td>4.00</td>\n",
       "      <td>7.750000</td>\n",
       "      <td>0.000000</td>\n",
       "      <td>2.750000</td>\n",
       "      <td>0.0</td>\n",
       "      <td>-0.007500</td>\n",
       "      <td>0.875000</td>\n",
       "      <td>5.50</td>\n",
       "    </tr>\n",
       "    <tr>\n",
       "      <th>37</th>\n",
       "      <td>0</td>\n",
       "      <td>0</td>\n",
       "      <td>0.01</td>\n",
       "      <td>0.0</td>\n",
       "      <td>2.89</td>\n",
       "      <td>2</td>\n",
       "      <td>0</td>\n",
       "      <td>90</td>\n",
       "      <td>0</td>\n",
       "      <td>0</td>\n",
       "      <td>0</td>\n",
       "      <td>0</td>\n",
       "      <td>4</td>\n",
       "      <td>1</td>\n",
       "      <td>1</td>\n",
       "      <td>Jordan</td>\n",
       "      <td>Pikford</td>\n",
       "      <td>5</td>\n",
       "      <td>0.0</td>\n",
       "      <td>-0.01</td>\n",
       "      <td>0.89</td>\n",
       "      <td>NaN</td>\n",
       "      <td>0.0</td>\n",
       "      <td>0.50</td>\n",
       "      <td>0.007500</td>\n",
       "      <td>0.0</td>\n",
       "      <td>1.332500</td>\n",
       "      <td>0.75</td>\n",
       "      <td>0.0</td>\n",
       "      <td>90.0</td>\n",
       "      <td>0.00</td>\n",
       "      <td>0.0</td>\n",
       "      <td>0.0</td>\n",
       "      <td>0.0</td>\n",
       "      <td>3.25</td>\n",
       "      <td>5.500000</td>\n",
       "      <td>0.250000</td>\n",
       "      <td>2.750000</td>\n",
       "      <td>0.0</td>\n",
       "      <td>-0.007500</td>\n",
       "      <td>0.582500</td>\n",
       "      <td>4.00</td>\n",
       "    </tr>\n",
       "  </tbody>\n",
       "</table>\n",
       "</div>"
      ],
      "text/plain": [
       "    Assists  Clean_Sheet    xA   xG   xGC  Goals_Conceded  Goals_Scored  \\\n",
       "0         0            0  0.01  0.0  1.50               1             0   \n",
       "1         0            0  0.00  0.0  3.11               4             0   \n",
       "2         0            0  0.01  0.0  1.16               1             0   \n",
       "3         0            0  0.01  0.0  1.24               2             0   \n",
       "4         0            0  0.02  0.0  1.02               1             0   \n",
       "5         0            0  0.01  0.0  1.04               1             0   \n",
       "6         0            0  0.00  0.0  0.89               2             0   \n",
       "7         0            1  0.02  0.0  0.72               0             0   \n",
       "8         0            0  0.01  0.0  2.24               2             0   \n",
       "9         0            1  0.01  0.0  0.66               0             0   \n",
       "10        0            0  0.02  0.0  0.53               1             0   \n",
       "11        0            0  0.00  0.0  2.24               2             0   \n",
       "12        0            0  0.00  0.0  2.18               3             0   \n",
       "13        0            1  0.01  0.0  0.71               0             0   \n",
       "14        0            1  0.02  0.0  1.58               0             0   \n",
       "15        0            1  0.00  0.0  0.93               0             0   \n",
       "16        0            1  0.05  0.0  0.77               0             0   \n",
       "17        0            0  0.01  0.0  1.34               2             0   \n",
       "18        0            0  0.01  0.0  2.60               3             0   \n",
       "19        0            0  0.00  0.0  2.06               3             0   \n",
       "20        0            1  0.01  0.0  1.11               0             0   \n",
       "21        0            1  0.01  0.0  1.71               0             0   \n",
       "22        0            0  0.02  0.0  0.98               2             0   \n",
       "23        0            0  0.00  0.0  1.63               2             0   \n",
       "24        0            0  0.03  0.0  0.62               1             0   \n",
       "25        0            0  0.01  0.0  1.25               1             0   \n",
       "26        0            0  0.01  0.0  1.87               3             0   \n",
       "27        0            0  0.03  0.0  2.56               2             0   \n",
       "28        0            0  0.02  0.0  1.56               2             0   \n",
       "29        0            0  0.04  0.0  2.54               1             0   \n",
       "30        0            1  0.01  0.0  0.46               0             0   \n",
       "31        0            0  0.00  0.0  2.96               6             0   \n",
       "32        0            1  0.01  0.0  0.85               0             0   \n",
       "33        0            1  0.01  0.0  2.06               0             0   \n",
       "34        0            1  0.01  0.0  0.84               0             0   \n",
       "35        0            0  0.01  0.0  0.96               1             0   \n",
       "36        0            1  0.00  0.0  0.64               0             0   \n",
       "37        0            0  0.01  0.0  2.89               2             0   \n",
       "\n",
       "    Minutes  Own_Goals  Penalites_Missed  Penalties_Saved  Red_Cards  Saves  \\\n",
       "0        90          0                 0                0          0      1   \n",
       "1        90          0                 0                0          0      3   \n",
       "2        90          0                 0                0          0      2   \n",
       "3        90          1                 0                0          0      6   \n",
       "4        90          0                 0                0          0      3   \n",
       "5        90          0                 0                0          0      1   \n",
       "6        90          0                 0                0          0      0   \n",
       "7        90          0                 0                0          0      3   \n",
       "8        90          0                 0                0          0      4   \n",
       "9        90          0                 0                0          0      2   \n",
       "10       90          0                 0                0          0      2   \n",
       "11       90          0                 0                0          0      3   \n",
       "12       90          0                 0                0          0      1   \n",
       "13       90          0                 0                0          0      2   \n",
       "14       90          0                 0                0          0      3   \n",
       "15       90          0                 0                0          0      4   \n",
       "16       90          0                 0                0          0      2   \n",
       "17       90          0                 0                0          0      4   \n",
       "18       90          0                 0                0          0      6   \n",
       "19       90          0                 0                0          0      4   \n",
       "20       90          0                 0                0          0      4   \n",
       "21       90          0                 0                0          0      5   \n",
       "22       90          0                 0                0          0      4   \n",
       "23       90          0                 0                0          0      1   \n",
       "24       90          0                 0                0          0      2   \n",
       "25       90          0                 0                0          0      6   \n",
       "26       90          0                 0                0          0      2   \n",
       "27       90          0                 0                0          0      6   \n",
       "28       90          0                 0                0          0      3   \n",
       "29       90          0                 0                0          0      4   \n",
       "30       90          0                 0                0          0      1   \n",
       "31       90          0                 0                0          0      4   \n",
       "32       90          0                 0                0          0      3   \n",
       "33       90          0                 0                0          0      7   \n",
       "34       90          0                 0                0          0      4   \n",
       "35       90          0                 0                0          0      4   \n",
       "36       90          0                 0                0          0      1   \n",
       "37       90          0                 0                0          0      4   \n",
       "\n",
       "    Points  Yellow_Cards Firstname Lastname  Fixture_Rating  Delta_Goals  \\\n",
       "0        2             0    Jordan  Pikford               3          0.0   \n",
       "1        0             1    Jordan  Pikford               5          0.0   \n",
       "2        2             0    Jordan  Pikford               3          0.0   \n",
       "3        1             0    Jordan  Pikford               2          0.0   \n",
       "4        3             0    Jordan  Pikford               5          0.0   \n",
       "5        2             0    Jordan  Pikford               2          0.0   \n",
       "6        1             0    Jordan  Pikford               2          0.0   \n",
       "7        9             0    Jordan  Pikford               3          0.0   \n",
       "8        2             0    Jordan  Pikford               5          0.0   \n",
       "9        5             1    Jordan  Pikford               4          0.0   \n",
       "10       2             0    Jordan  Pikford               3          0.0   \n",
       "11       2             0    Jordan  Pikford               4          0.0   \n",
       "12       1             0    Jordan  Pikford               4          0.0   \n",
       "13       7             0    Jordan  Pikford               2          0.0   \n",
       "14       7             0    Jordan  Pikford               4          0.0   \n",
       "15      10             0    Jordan  Pikford               4          0.0   \n",
       "16       6             0    Jordan  Pikford               2          0.0   \n",
       "17       2             0    Jordan  Pikford               5          0.0   \n",
       "18       2             1    Jordan  Pikford               5          0.0   \n",
       "19       2             0    Jordan  Pikford               3          0.0   \n",
       "20       9             0    Jordan  Pikford               5          0.0   \n",
       "21      10             0    Jordan  Pikford               3          0.0   \n",
       "22       2             0    Jordan  Pikford               5          0.0   \n",
       "23       1             0    Jordan  Pikford               5          0.0   \n",
       "24       3             0    Jordan  Pikford               4          0.0   \n",
       "25       4             0    Jordan  Pikford               3          0.0   \n",
       "26       0             1    Jordan  Pikford               4          0.0   \n",
       "27       3             0    Jordan  Pikford               4          0.0   \n",
       "28       2             0    Jordan  Pikford               3          0.0   \n",
       "29       3             0    Jordan  Pikford               4          0.0   \n",
       "30       8             0    Jordan  Pikford               2          0.0   \n",
       "31       0             0    Jordan  Pikford               4          0.0   \n",
       "32       8             0    Jordan  Pikford               2          0.0   \n",
       "33      10             0    Jordan  Pikford               5          0.0   \n",
       "34      10             0    Jordan  Pikford               2          0.0   \n",
       "35       3             0    Jordan  Pikford               2          0.0   \n",
       "36       8             0    Jordan  Pikford               2          0.0   \n",
       "37       1             1    Jordan  Pikford               5          0.0   \n",
       "\n",
       "    Delta_Assists  Delta_Goals_Conceded  Next_Points  Running_Assists  \\\n",
       "0           -0.01                  0.50          0.0              0.0   \n",
       "1            0.00                 -0.89          2.0              0.0   \n",
       "2           -0.01                  0.16          1.0              0.0   \n",
       "3           -0.01                 -0.76          3.0              0.0   \n",
       "4           -0.02                  0.02          2.0              0.0   \n",
       "5           -0.01                  0.04          1.0              0.0   \n",
       "6            0.00                 -1.11          9.0              0.0   \n",
       "7           -0.02                  0.72          2.0              0.0   \n",
       "8           -0.01                  0.24          5.0              0.0   \n",
       "9           -0.01                  0.66          2.0              0.0   \n",
       "10          -0.02                 -0.47          2.0              0.0   \n",
       "11           0.00                  0.24          1.0              0.0   \n",
       "12           0.00                 -0.82          7.0              0.0   \n",
       "13          -0.01                  0.71          7.0              0.0   \n",
       "14          -0.02                  1.58         10.0              0.0   \n",
       "15           0.00                  0.93          6.0              0.0   \n",
       "16          -0.05                  0.77          2.0              0.0   \n",
       "17          -0.01                 -0.66          2.0              0.0   \n",
       "18          -0.01                 -0.40          2.0              0.0   \n",
       "19           0.00                 -0.94          9.0              0.0   \n",
       "20          -0.01                  1.11         10.0              0.0   \n",
       "21          -0.01                  1.71          2.0              0.0   \n",
       "22          -0.02                 -1.02          1.0              0.0   \n",
       "23           0.00                 -0.37          3.0              0.0   \n",
       "24          -0.03                 -0.38          4.0              0.0   \n",
       "25          -0.01                  0.25          0.0              0.0   \n",
       "26          -0.01                 -1.13          3.0              0.0   \n",
       "27          -0.03                  0.56          2.0              0.0   \n",
       "28          -0.02                 -0.44          3.0              0.0   \n",
       "29          -0.04                  1.54          8.0              0.0   \n",
       "30          -0.01                  0.46          0.0              0.0   \n",
       "31           0.00                 -3.04          8.0              0.0   \n",
       "32          -0.01                  0.85         10.0              0.0   \n",
       "33          -0.01                  2.06         10.0              0.0   \n",
       "34          -0.01                  0.84          3.0              0.0   \n",
       "35          -0.01                 -0.04          8.0              0.0   \n",
       "36           0.00                  0.64          1.0              0.0   \n",
       "37          -0.01                  0.89          NaN              0.0   \n",
       "\n",
       "    Running_Clean_Sheet  Running_xA  Running_xG  Running_xGC  \\\n",
       "0                  0.00    0.010000         0.0     1.500000   \n",
       "1                  0.00    0.005000         0.0     2.305000   \n",
       "2                  0.00    0.006667         0.0     1.923333   \n",
       "3                  0.00    0.007500         0.0     1.752500   \n",
       "4                  0.00    0.010000         0.0     1.632500   \n",
       "5                  0.00    0.012500         0.0     1.115000   \n",
       "6                  0.00    0.010000         0.0     1.047500   \n",
       "7                  0.25    0.012500         0.0     0.917500   \n",
       "8                  0.25    0.010000         0.0     1.222500   \n",
       "9                  0.50    0.010000         0.0     1.127500   \n",
       "10                 0.50    0.015000         0.0     1.037500   \n",
       "11                 0.25    0.010000         0.0     1.417500   \n",
       "12                 0.25    0.007500         0.0     1.402500   \n",
       "13                 0.25    0.007500         0.0     1.415000   \n",
       "14                 0.50    0.007500         0.0     1.677500   \n",
       "15                 0.75    0.007500         0.0     1.350000   \n",
       "16                 1.00    0.020000         0.0     0.997500   \n",
       "17                 0.75    0.020000         0.0     1.155000   \n",
       "18                 0.50    0.017500         0.0     1.410000   \n",
       "19                 0.25    0.017500         0.0     1.692500   \n",
       "20                 0.25    0.007500         0.0     1.777500   \n",
       "21                 0.50    0.007500         0.0     1.870000   \n",
       "22                 0.50    0.010000         0.0     1.465000   \n",
       "23                 0.50    0.010000         0.0     1.357500   \n",
       "24                 0.25    0.015000         0.0     1.235000   \n",
       "25                 0.00    0.015000         0.0     1.120000   \n",
       "26                 0.00    0.012500         0.0     1.342500   \n",
       "27                 0.00    0.020000         0.0     1.575000   \n",
       "28                 0.00    0.017500         0.0     1.810000   \n",
       "29                 0.00    0.025000         0.0     2.132500   \n",
       "30                 0.25    0.025000         0.0     1.780000   \n",
       "31                 0.25    0.017500         0.0     1.880000   \n",
       "32                 0.50    0.015000         0.0     1.702500   \n",
       "33                 0.75    0.007500         0.0     1.582500   \n",
       "34                 0.75    0.007500         0.0     1.677500   \n",
       "35                 0.75    0.010000         0.0     1.177500   \n",
       "36                 0.75    0.007500         0.0     1.125000   \n",
       "37                 0.50    0.007500         0.0     1.332500   \n",
       "\n",
       "    Running_Goals_Conceded  Running_Goals_Scored  Running_Minutes  \\\n",
       "0                     1.00                   0.0             90.0   \n",
       "1                     2.50                   0.0             90.0   \n",
       "2                     2.00                   0.0             90.0   \n",
       "3                     2.00                   0.0             90.0   \n",
       "4                     2.00                   0.0             90.0   \n",
       "5                     1.25                   0.0             90.0   \n",
       "6                     1.50                   0.0             90.0   \n",
       "7                     1.00                   0.0             90.0   \n",
       "8                     1.25                   0.0             90.0   \n",
       "9                     1.00                   0.0             90.0   \n",
       "10                    0.75                   0.0             90.0   \n",
       "11                    1.25                   0.0             90.0   \n",
       "12                    1.50                   0.0             90.0   \n",
       "13                    1.50                   0.0             90.0   \n",
       "14                    1.25                   0.0             90.0   \n",
       "15                    0.75                   0.0             90.0   \n",
       "16                    0.00                   0.0             90.0   \n",
       "17                    0.50                   0.0             90.0   \n",
       "18                    1.25                   0.0             90.0   \n",
       "19                    2.00                   0.0             90.0   \n",
       "20                    2.00                   0.0             90.0   \n",
       "21                    1.50                   0.0             90.0   \n",
       "22                    1.25                   0.0             90.0   \n",
       "23                    1.00                   0.0             90.0   \n",
       "24                    1.25                   0.0             90.0   \n",
       "25                    1.50                   0.0             90.0   \n",
       "26                    1.75                   0.0             90.0   \n",
       "27                    1.75                   0.0             90.0   \n",
       "28                    2.00                   0.0             90.0   \n",
       "29                    2.00                   0.0             90.0   \n",
       "30                    1.25                   0.0             90.0   \n",
       "31                    2.25                   0.0             90.0   \n",
       "32                    1.75                   0.0             90.0   \n",
       "33                    1.50                   0.0             90.0   \n",
       "34                    1.50                   0.0             90.0   \n",
       "35                    0.25                   0.0             90.0   \n",
       "36                    0.25                   0.0             90.0   \n",
       "37                    0.75                   0.0             90.0   \n",
       "\n",
       "    Running_Own_Goals  Running_Penalites_Missed  Running_Penalties_Saved  \\\n",
       "0                0.00                       0.0                      0.0   \n",
       "1                0.00                       0.0                      0.0   \n",
       "2                0.00                       0.0                      0.0   \n",
       "3                0.25                       0.0                      0.0   \n",
       "4                0.25                       0.0                      0.0   \n",
       "5                0.25                       0.0                      0.0   \n",
       "6                0.25                       0.0                      0.0   \n",
       "7                0.00                       0.0                      0.0   \n",
       "8                0.00                       0.0                      0.0   \n",
       "9                0.00                       0.0                      0.0   \n",
       "10               0.00                       0.0                      0.0   \n",
       "11               0.00                       0.0                      0.0   \n",
       "12               0.00                       0.0                      0.0   \n",
       "13               0.00                       0.0                      0.0   \n",
       "14               0.00                       0.0                      0.0   \n",
       "15               0.00                       0.0                      0.0   \n",
       "16               0.00                       0.0                      0.0   \n",
       "17               0.00                       0.0                      0.0   \n",
       "18               0.00                       0.0                      0.0   \n",
       "19               0.00                       0.0                      0.0   \n",
       "20               0.00                       0.0                      0.0   \n",
       "21               0.00                       0.0                      0.0   \n",
       "22               0.00                       0.0                      0.0   \n",
       "23               0.00                       0.0                      0.0   \n",
       "24               0.00                       0.0                      0.0   \n",
       "25               0.00                       0.0                      0.0   \n",
       "26               0.00                       0.0                      0.0   \n",
       "27               0.00                       0.0                      0.0   \n",
       "28               0.00                       0.0                      0.0   \n",
       "29               0.00                       0.0                      0.0   \n",
       "30               0.00                       0.0                      0.0   \n",
       "31               0.00                       0.0                      0.0   \n",
       "32               0.00                       0.0                      0.0   \n",
       "33               0.00                       0.0                      0.0   \n",
       "34               0.00                       0.0                      0.0   \n",
       "35               0.00                       0.0                      0.0   \n",
       "36               0.00                       0.0                      0.0   \n",
       "37               0.00                       0.0                      0.0   \n",
       "\n",
       "    Running_Red_Cards  Running_Saves  Running_Points  Running_Yellow_Cards  \\\n",
       "0                 0.0           1.00        2.000000              0.000000   \n",
       "1                 0.0           2.00        1.000000              0.500000   \n",
       "2                 0.0           2.00        1.333333              0.333333   \n",
       "3                 0.0           3.00        1.250000              0.250000   \n",
       "4                 0.0           3.50        1.500000              0.250000   \n",
       "5                 0.0           3.00        2.000000              0.000000   \n",
       "6                 0.0           2.50        1.750000              0.000000   \n",
       "7                 0.0           1.75        3.750000              0.000000   \n",
       "8                 0.0           2.00        3.500000              0.000000   \n",
       "9                 0.0           2.25        4.250000              0.250000   \n",
       "10                0.0           2.75        4.500000              0.250000   \n",
       "11                0.0           2.75        2.750000              0.250000   \n",
       "12                0.0           2.00        2.500000              0.250000   \n",
       "13                0.0           2.00        3.000000              0.000000   \n",
       "14                0.0           2.25        4.250000              0.000000   \n",
       "15                0.0           2.50        6.250000              0.000000   \n",
       "16                0.0           2.75        7.500000              0.000000   \n",
       "17                0.0           3.25        6.250000              0.000000   \n",
       "18                0.0           4.00        5.000000              0.250000   \n",
       "19                0.0           4.00        3.000000              0.250000   \n",
       "20                0.0           4.50        3.750000              0.250000   \n",
       "21                0.0           4.75        5.750000              0.250000   \n",
       "22                0.0           4.25        5.750000              0.000000   \n",
       "23                0.0           3.50        5.500000              0.000000   \n",
       "24                0.0           3.00        4.000000              0.000000   \n",
       "25                0.0           3.25        2.500000              0.000000   \n",
       "26                0.0           2.75        2.000000              0.250000   \n",
       "27                0.0           4.00        2.500000              0.250000   \n",
       "28                0.0           4.25        2.250000              0.250000   \n",
       "29                0.0           3.75        2.000000              0.250000   \n",
       "30                0.0           3.50        4.000000              0.000000   \n",
       "31                0.0           3.00        3.250000              0.000000   \n",
       "32                0.0           3.00        4.750000              0.000000   \n",
       "33                0.0           3.75        6.500000              0.000000   \n",
       "34                0.0           4.50        7.000000              0.000000   \n",
       "35                0.0           4.50        7.750000              0.000000   \n",
       "36                0.0           4.00        7.750000              0.000000   \n",
       "37                0.0           3.25        5.500000              0.250000   \n",
       "\n",
       "    Running_Fixture_Rating  Running_Delta_Goals  Running_Delta_Assists  \\\n",
       "0                 3.000000                  0.0              -0.010000   \n",
       "1                 4.000000                  0.0              -0.005000   \n",
       "2                 3.666667                  0.0              -0.006667   \n",
       "3                 3.250000                  0.0              -0.007500   \n",
       "4                 3.750000                  0.0              -0.010000   \n",
       "5                 3.000000                  0.0              -0.012500   \n",
       "6                 2.750000                  0.0              -0.010000   \n",
       "7                 3.000000                  0.0              -0.012500   \n",
       "8                 3.000000                  0.0              -0.010000   \n",
       "9                 3.500000                  0.0              -0.010000   \n",
       "10                3.750000                  0.0              -0.015000   \n",
       "11                4.000000                  0.0              -0.010000   \n",
       "12                3.750000                  0.0              -0.007500   \n",
       "13                3.250000                  0.0              -0.007500   \n",
       "14                3.500000                  0.0              -0.007500   \n",
       "15                3.500000                  0.0              -0.007500   \n",
       "16                3.000000                  0.0              -0.020000   \n",
       "17                3.750000                  0.0              -0.020000   \n",
       "18                4.000000                  0.0              -0.017500   \n",
       "19                3.750000                  0.0              -0.017500   \n",
       "20                4.500000                  0.0              -0.007500   \n",
       "21                4.000000                  0.0              -0.007500   \n",
       "22                4.000000                  0.0              -0.010000   \n",
       "23                4.500000                  0.0              -0.010000   \n",
       "24                4.250000                  0.0              -0.015000   \n",
       "25                4.250000                  0.0              -0.015000   \n",
       "26                4.000000                  0.0              -0.012500   \n",
       "27                3.750000                  0.0              -0.020000   \n",
       "28                3.500000                  0.0              -0.017500   \n",
       "29                3.750000                  0.0              -0.025000   \n",
       "30                3.250000                  0.0              -0.025000   \n",
       "31                3.250000                  0.0              -0.017500   \n",
       "32                3.000000                  0.0              -0.015000   \n",
       "33                3.250000                  0.0              -0.007500   \n",
       "34                3.250000                  0.0              -0.007500   \n",
       "35                2.750000                  0.0              -0.010000   \n",
       "36                2.750000                  0.0              -0.007500   \n",
       "37                2.750000                  0.0              -0.007500   \n",
       "\n",
       "    Running_Delta_Goals_Conceded  Running_Next_Points  \n",
       "0                       0.500000                 0.00  \n",
       "1                      -0.195000                 1.00  \n",
       "2                      -0.076667                 1.00  \n",
       "3                      -0.247500                 1.50  \n",
       "4                      -0.367500                 2.00  \n",
       "5                      -0.135000                 1.75  \n",
       "6                      -0.452500                 3.75  \n",
       "7                      -0.082500                 3.50  \n",
       "8                      -0.027500                 4.25  \n",
       "9                       0.127500                 4.50  \n",
       "10                      0.287500                 2.75  \n",
       "11                      0.167500                 2.50  \n",
       "12                     -0.097500                 3.00  \n",
       "13                     -0.085000                 4.25  \n",
       "14                      0.427500                 6.25  \n",
       "15                      0.600000                 7.50  \n",
       "16                      0.997500                 6.25  \n",
       "17                      0.655000                 5.00  \n",
       "18                      0.160000                 3.00  \n",
       "19                     -0.307500                 3.75  \n",
       "20                     -0.222500                 5.75  \n",
       "21                      0.370000                 5.75  \n",
       "22                      0.215000                 5.50  \n",
       "23                      0.357500                 4.00  \n",
       "24                     -0.015000                 2.50  \n",
       "25                     -0.380000                 2.00  \n",
       "26                     -0.407500                 2.50  \n",
       "27                     -0.175000                 2.25  \n",
       "28                     -0.190000                 2.00  \n",
       "29                      0.132500                 4.00  \n",
       "30                      0.530000                 3.25  \n",
       "31                     -0.370000                 4.75  \n",
       "32                     -0.047500                 6.50  \n",
       "33                      0.082500                 7.00  \n",
       "34                      0.177500                 7.75  \n",
       "35                      0.927500                 7.75  \n",
       "36                      0.875000                 5.50  \n",
       "37                      0.582500                 4.00  "
      ]
     },
     "execution_count": 50,
     "metadata": {},
     "output_type": "execute_result"
    }
   ],
   "source": [
    "dataframes[0]"
   ]
  },
  {
   "cell_type": "code",
   "execution_count": 51,
   "id": "6f346efa",
   "metadata": {
    "collapsed": true
   },
   "outputs": [
    {
     "name": "stdout",
     "output_type": "stream",
     "text": [
      "(38, 42)\n",
      "(38, 42)\n",
      "(38, 42)\n",
      "(38, 42)\n",
      "(38, 42)\n",
      "(38, 42)\n",
      "(38, 42)\n",
      "(38, 42)\n",
      "(38, 42)\n",
      "(38, 42)\n",
      "(38, 42)\n",
      "(38, 42)\n",
      "(38, 42)\n",
      "(38, 42)\n",
      "(38, 42)\n",
      "(38, 42)\n",
      "(38, 42)\n",
      "(38, 42)\n",
      "(38, 42)\n",
      "(38, 42)\n",
      "(38, 42)\n"
     ]
    }
   ],
   "source": [
    "oblik()"
   ]
  },
  {
   "cell_type": "code",
   "execution_count": 52,
   "id": "bc7f139d",
   "metadata": {},
   "outputs": [],
   "source": [
    "df_gk=pd.concat(dataframes)"
   ]
  },
  {
   "cell_type": "code",
   "execution_count": 53,
   "id": "3d093c49",
   "metadata": {},
   "outputs": [
    {
     "data": {
      "text/html": [
       "<div>\n",
       "<style scoped>\n",
       "    .dataframe tbody tr th:only-of-type {\n",
       "        vertical-align: middle;\n",
       "    }\n",
       "\n",
       "    .dataframe tbody tr th {\n",
       "        vertical-align: top;\n",
       "    }\n",
       "\n",
       "    .dataframe thead th {\n",
       "        text-align: right;\n",
       "    }\n",
       "</style>\n",
       "<table border=\"1\" class=\"dataframe\">\n",
       "  <thead>\n",
       "    <tr style=\"text-align: right;\">\n",
       "      <th></th>\n",
       "      <th>Assists</th>\n",
       "      <th>Clean_Sheet</th>\n",
       "      <th>xA</th>\n",
       "      <th>xG</th>\n",
       "      <th>xGC</th>\n",
       "      <th>Goals_Conceded</th>\n",
       "      <th>Goals_Scored</th>\n",
       "      <th>Minutes</th>\n",
       "      <th>Own_Goals</th>\n",
       "      <th>Penalites_Missed</th>\n",
       "      <th>Penalties_Saved</th>\n",
       "      <th>Red_Cards</th>\n",
       "      <th>Saves</th>\n",
       "      <th>Points</th>\n",
       "      <th>Yellow_Cards</th>\n",
       "      <th>Firstname</th>\n",
       "      <th>Lastname</th>\n",
       "      <th>Fixture_Rating</th>\n",
       "      <th>Delta_Goals</th>\n",
       "      <th>Delta_Assists</th>\n",
       "      <th>Delta_Goals_Conceded</th>\n",
       "      <th>Next_Points</th>\n",
       "      <th>Running_Assists</th>\n",
       "      <th>Running_Clean_Sheet</th>\n",
       "      <th>Running_xA</th>\n",
       "      <th>Running_xG</th>\n",
       "      <th>Running_xGC</th>\n",
       "      <th>Running_Goals_Conceded</th>\n",
       "      <th>Running_Goals_Scored</th>\n",
       "      <th>Running_Minutes</th>\n",
       "      <th>Running_Own_Goals</th>\n",
       "      <th>Running_Penalites_Missed</th>\n",
       "      <th>Running_Penalties_Saved</th>\n",
       "      <th>Running_Red_Cards</th>\n",
       "      <th>Running_Saves</th>\n",
       "      <th>Running_Points</th>\n",
       "      <th>Running_Yellow_Cards</th>\n",
       "      <th>Running_Fixture_Rating</th>\n",
       "      <th>Running_Delta_Goals</th>\n",
       "      <th>Running_Delta_Assists</th>\n",
       "      <th>Running_Delta_Goals_Conceded</th>\n",
       "      <th>Running_Next_Points</th>\n",
       "    </tr>\n",
       "  </thead>\n",
       "  <tbody>\n",
       "    <tr>\n",
       "      <th>0</th>\n",
       "      <td>0</td>\n",
       "      <td>0</td>\n",
       "      <td>0.01</td>\n",
       "      <td>0.0</td>\n",
       "      <td>1.50</td>\n",
       "      <td>1</td>\n",
       "      <td>0</td>\n",
       "      <td>90</td>\n",
       "      <td>0</td>\n",
       "      <td>0</td>\n",
       "      <td>0</td>\n",
       "      <td>0</td>\n",
       "      <td>1</td>\n",
       "      <td>2</td>\n",
       "      <td>0</td>\n",
       "      <td>Jordan</td>\n",
       "      <td>Pikford</td>\n",
       "      <td>3</td>\n",
       "      <td>0.0</td>\n",
       "      <td>-0.01</td>\n",
       "      <td>0.50</td>\n",
       "      <td>0.0</td>\n",
       "      <td>0.0</td>\n",
       "      <td>0.0</td>\n",
       "      <td>0.010000</td>\n",
       "      <td>0.0</td>\n",
       "      <td>1.500000</td>\n",
       "      <td>1.00</td>\n",
       "      <td>0.0</td>\n",
       "      <td>90.0</td>\n",
       "      <td>0.00</td>\n",
       "      <td>0.0</td>\n",
       "      <td>0.0</td>\n",
       "      <td>0.0</td>\n",
       "      <td>1.00</td>\n",
       "      <td>2.000000</td>\n",
       "      <td>0.000000</td>\n",
       "      <td>3.000000</td>\n",
       "      <td>0.0</td>\n",
       "      <td>-0.010000</td>\n",
       "      <td>0.500000</td>\n",
       "      <td>0.000000</td>\n",
       "    </tr>\n",
       "    <tr>\n",
       "      <th>1</th>\n",
       "      <td>0</td>\n",
       "      <td>0</td>\n",
       "      <td>0.00</td>\n",
       "      <td>0.0</td>\n",
       "      <td>3.11</td>\n",
       "      <td>4</td>\n",
       "      <td>0</td>\n",
       "      <td>90</td>\n",
       "      <td>0</td>\n",
       "      <td>0</td>\n",
       "      <td>0</td>\n",
       "      <td>0</td>\n",
       "      <td>3</td>\n",
       "      <td>0</td>\n",
       "      <td>1</td>\n",
       "      <td>Jordan</td>\n",
       "      <td>Pikford</td>\n",
       "      <td>5</td>\n",
       "      <td>0.0</td>\n",
       "      <td>0.00</td>\n",
       "      <td>-0.89</td>\n",
       "      <td>2.0</td>\n",
       "      <td>0.0</td>\n",
       "      <td>0.0</td>\n",
       "      <td>0.005000</td>\n",
       "      <td>0.0</td>\n",
       "      <td>2.305000</td>\n",
       "      <td>2.50</td>\n",
       "      <td>0.0</td>\n",
       "      <td>90.0</td>\n",
       "      <td>0.00</td>\n",
       "      <td>0.0</td>\n",
       "      <td>0.0</td>\n",
       "      <td>0.0</td>\n",
       "      <td>2.00</td>\n",
       "      <td>1.000000</td>\n",
       "      <td>0.500000</td>\n",
       "      <td>4.000000</td>\n",
       "      <td>0.0</td>\n",
       "      <td>-0.005000</td>\n",
       "      <td>-0.195000</td>\n",
       "      <td>1.000000</td>\n",
       "    </tr>\n",
       "    <tr>\n",
       "      <th>2</th>\n",
       "      <td>0</td>\n",
       "      <td>0</td>\n",
       "      <td>0.01</td>\n",
       "      <td>0.0</td>\n",
       "      <td>1.16</td>\n",
       "      <td>1</td>\n",
       "      <td>0</td>\n",
       "      <td>90</td>\n",
       "      <td>0</td>\n",
       "      <td>0</td>\n",
       "      <td>0</td>\n",
       "      <td>0</td>\n",
       "      <td>2</td>\n",
       "      <td>2</td>\n",
       "      <td>0</td>\n",
       "      <td>Jordan</td>\n",
       "      <td>Pikford</td>\n",
       "      <td>3</td>\n",
       "      <td>0.0</td>\n",
       "      <td>-0.01</td>\n",
       "      <td>0.16</td>\n",
       "      <td>1.0</td>\n",
       "      <td>0.0</td>\n",
       "      <td>0.0</td>\n",
       "      <td>0.006667</td>\n",
       "      <td>0.0</td>\n",
       "      <td>1.923333</td>\n",
       "      <td>2.00</td>\n",
       "      <td>0.0</td>\n",
       "      <td>90.0</td>\n",
       "      <td>0.00</td>\n",
       "      <td>0.0</td>\n",
       "      <td>0.0</td>\n",
       "      <td>0.0</td>\n",
       "      <td>2.00</td>\n",
       "      <td>1.333333</td>\n",
       "      <td>0.333333</td>\n",
       "      <td>3.666667</td>\n",
       "      <td>0.0</td>\n",
       "      <td>-0.006667</td>\n",
       "      <td>-0.076667</td>\n",
       "      <td>1.000000</td>\n",
       "    </tr>\n",
       "    <tr>\n",
       "      <th>3</th>\n",
       "      <td>0</td>\n",
       "      <td>0</td>\n",
       "      <td>0.01</td>\n",
       "      <td>0.0</td>\n",
       "      <td>1.24</td>\n",
       "      <td>2</td>\n",
       "      <td>0</td>\n",
       "      <td>90</td>\n",
       "      <td>1</td>\n",
       "      <td>0</td>\n",
       "      <td>0</td>\n",
       "      <td>0</td>\n",
       "      <td>6</td>\n",
       "      <td>1</td>\n",
       "      <td>0</td>\n",
       "      <td>Jordan</td>\n",
       "      <td>Pikford</td>\n",
       "      <td>2</td>\n",
       "      <td>0.0</td>\n",
       "      <td>-0.01</td>\n",
       "      <td>-0.76</td>\n",
       "      <td>3.0</td>\n",
       "      <td>0.0</td>\n",
       "      <td>0.0</td>\n",
       "      <td>0.007500</td>\n",
       "      <td>0.0</td>\n",
       "      <td>1.752500</td>\n",
       "      <td>2.00</td>\n",
       "      <td>0.0</td>\n",
       "      <td>90.0</td>\n",
       "      <td>0.25</td>\n",
       "      <td>0.0</td>\n",
       "      <td>0.0</td>\n",
       "      <td>0.0</td>\n",
       "      <td>3.00</td>\n",
       "      <td>1.250000</td>\n",
       "      <td>0.250000</td>\n",
       "      <td>3.250000</td>\n",
       "      <td>0.0</td>\n",
       "      <td>-0.007500</td>\n",
       "      <td>-0.247500</td>\n",
       "      <td>1.500000</td>\n",
       "    </tr>\n",
       "    <tr>\n",
       "      <th>4</th>\n",
       "      <td>0</td>\n",
       "      <td>0</td>\n",
       "      <td>0.02</td>\n",
       "      <td>0.0</td>\n",
       "      <td>1.02</td>\n",
       "      <td>1</td>\n",
       "      <td>0</td>\n",
       "      <td>90</td>\n",
       "      <td>0</td>\n",
       "      <td>0</td>\n",
       "      <td>0</td>\n",
       "      <td>0</td>\n",
       "      <td>3</td>\n",
       "      <td>3</td>\n",
       "      <td>0</td>\n",
       "      <td>Jordan</td>\n",
       "      <td>Pikford</td>\n",
       "      <td>5</td>\n",
       "      <td>0.0</td>\n",
       "      <td>-0.02</td>\n",
       "      <td>0.02</td>\n",
       "      <td>2.0</td>\n",
       "      <td>0.0</td>\n",
       "      <td>0.0</td>\n",
       "      <td>0.010000</td>\n",
       "      <td>0.0</td>\n",
       "      <td>1.632500</td>\n",
       "      <td>2.00</td>\n",
       "      <td>0.0</td>\n",
       "      <td>90.0</td>\n",
       "      <td>0.25</td>\n",
       "      <td>0.0</td>\n",
       "      <td>0.0</td>\n",
       "      <td>0.0</td>\n",
       "      <td>3.50</td>\n",
       "      <td>1.500000</td>\n",
       "      <td>0.250000</td>\n",
       "      <td>3.750000</td>\n",
       "      <td>0.0</td>\n",
       "      <td>-0.010000</td>\n",
       "      <td>-0.367500</td>\n",
       "      <td>2.000000</td>\n",
       "    </tr>\n",
       "    <tr>\n",
       "      <th>...</th>\n",
       "      <td>...</td>\n",
       "      <td>...</td>\n",
       "      <td>...</td>\n",
       "      <td>...</td>\n",
       "      <td>...</td>\n",
       "      <td>...</td>\n",
       "      <td>...</td>\n",
       "      <td>...</td>\n",
       "      <td>...</td>\n",
       "      <td>...</td>\n",
       "      <td>...</td>\n",
       "      <td>...</td>\n",
       "      <td>...</td>\n",
       "      <td>...</td>\n",
       "      <td>...</td>\n",
       "      <td>...</td>\n",
       "      <td>...</td>\n",
       "      <td>...</td>\n",
       "      <td>...</td>\n",
       "      <td>...</td>\n",
       "      <td>...</td>\n",
       "      <td>...</td>\n",
       "      <td>...</td>\n",
       "      <td>...</td>\n",
       "      <td>...</td>\n",
       "      <td>...</td>\n",
       "      <td>...</td>\n",
       "      <td>...</td>\n",
       "      <td>...</td>\n",
       "      <td>...</td>\n",
       "      <td>...</td>\n",
       "      <td>...</td>\n",
       "      <td>...</td>\n",
       "      <td>...</td>\n",
       "      <td>...</td>\n",
       "      <td>...</td>\n",
       "      <td>...</td>\n",
       "      <td>...</td>\n",
       "      <td>...</td>\n",
       "      <td>...</td>\n",
       "      <td>...</td>\n",
       "      <td>...</td>\n",
       "    </tr>\n",
       "    <tr>\n",
       "      <th>33</th>\n",
       "      <td>0</td>\n",
       "      <td>0</td>\n",
       "      <td>0.00</td>\n",
       "      <td>0.0</td>\n",
       "      <td>2.99</td>\n",
       "      <td>4</td>\n",
       "      <td>0</td>\n",
       "      <td>90</td>\n",
       "      <td>0</td>\n",
       "      <td>0</td>\n",
       "      <td>0</td>\n",
       "      <td>0</td>\n",
       "      <td>9</td>\n",
       "      <td>3</td>\n",
       "      <td>0</td>\n",
       "      <td>Wes</td>\n",
       "      <td>Foderingham</td>\n",
       "      <td>4</td>\n",
       "      <td>0.0</td>\n",
       "      <td>0.00</td>\n",
       "      <td>-1.01</td>\n",
       "      <td>1.0</td>\n",
       "      <td>0.0</td>\n",
       "      <td>0.0</td>\n",
       "      <td>0.000000</td>\n",
       "      <td>0.0</td>\n",
       "      <td>0.747500</td>\n",
       "      <td>1.00</td>\n",
       "      <td>0.0</td>\n",
       "      <td>22.5</td>\n",
       "      <td>0.00</td>\n",
       "      <td>0.0</td>\n",
       "      <td>0.0</td>\n",
       "      <td>0.0</td>\n",
       "      <td>2.25</td>\n",
       "      <td>0.750000</td>\n",
       "      <td>0.000000</td>\n",
       "      <td>3.000000</td>\n",
       "      <td>0.0</td>\n",
       "      <td>0.000000</td>\n",
       "      <td>-0.252500</td>\n",
       "      <td>1.000000</td>\n",
       "    </tr>\n",
       "    <tr>\n",
       "      <th>34</th>\n",
       "      <td>0</td>\n",
       "      <td>0</td>\n",
       "      <td>0.00</td>\n",
       "      <td>0.0</td>\n",
       "      <td>2.82</td>\n",
       "      <td>5</td>\n",
       "      <td>0</td>\n",
       "      <td>90</td>\n",
       "      <td>0</td>\n",
       "      <td>0</td>\n",
       "      <td>0</td>\n",
       "      <td>0</td>\n",
       "      <td>3</td>\n",
       "      <td>1</td>\n",
       "      <td>0</td>\n",
       "      <td>Wes</td>\n",
       "      <td>Foderingham</td>\n",
       "      <td>4</td>\n",
       "      <td>0.0</td>\n",
       "      <td>0.00</td>\n",
       "      <td>-2.18</td>\n",
       "      <td>1.0</td>\n",
       "      <td>0.0</td>\n",
       "      <td>0.0</td>\n",
       "      <td>0.000000</td>\n",
       "      <td>0.0</td>\n",
       "      <td>1.452500</td>\n",
       "      <td>2.25</td>\n",
       "      <td>0.0</td>\n",
       "      <td>45.0</td>\n",
       "      <td>0.00</td>\n",
       "      <td>0.0</td>\n",
       "      <td>0.0</td>\n",
       "      <td>0.0</td>\n",
       "      <td>3.00</td>\n",
       "      <td>1.000000</td>\n",
       "      <td>0.000000</td>\n",
       "      <td>3.000000</td>\n",
       "      <td>0.0</td>\n",
       "      <td>0.000000</td>\n",
       "      <td>-0.797500</td>\n",
       "      <td>1.250000</td>\n",
       "    </tr>\n",
       "    <tr>\n",
       "      <th>35</th>\n",
       "      <td>0</td>\n",
       "      <td>0</td>\n",
       "      <td>0.00</td>\n",
       "      <td>0.0</td>\n",
       "      <td>1.49</td>\n",
       "      <td>3</td>\n",
       "      <td>0</td>\n",
       "      <td>90</td>\n",
       "      <td>0</td>\n",
       "      <td>0</td>\n",
       "      <td>0</td>\n",
       "      <td>0</td>\n",
       "      <td>1</td>\n",
       "      <td>1</td>\n",
       "      <td>0</td>\n",
       "      <td>Wes</td>\n",
       "      <td>Foderingham</td>\n",
       "      <td>2</td>\n",
       "      <td>0.0</td>\n",
       "      <td>0.00</td>\n",
       "      <td>-1.51</td>\n",
       "      <td>4.0</td>\n",
       "      <td>0.0</td>\n",
       "      <td>0.0</td>\n",
       "      <td>0.000000</td>\n",
       "      <td>0.0</td>\n",
       "      <td>1.825000</td>\n",
       "      <td>3.00</td>\n",
       "      <td>0.0</td>\n",
       "      <td>67.5</td>\n",
       "      <td>0.00</td>\n",
       "      <td>0.0</td>\n",
       "      <td>0.0</td>\n",
       "      <td>0.0</td>\n",
       "      <td>3.25</td>\n",
       "      <td>1.250000</td>\n",
       "      <td>0.000000</td>\n",
       "      <td>3.000000</td>\n",
       "      <td>0.0</td>\n",
       "      <td>0.000000</td>\n",
       "      <td>-1.175000</td>\n",
       "      <td>2.250000</td>\n",
       "    </tr>\n",
       "    <tr>\n",
       "      <th>36</th>\n",
       "      <td>0</td>\n",
       "      <td>0</td>\n",
       "      <td>0.00</td>\n",
       "      <td>0.0</td>\n",
       "      <td>2.16</td>\n",
       "      <td>1</td>\n",
       "      <td>0</td>\n",
       "      <td>90</td>\n",
       "      <td>0</td>\n",
       "      <td>0</td>\n",
       "      <td>0</td>\n",
       "      <td>0</td>\n",
       "      <td>6</td>\n",
       "      <td>4</td>\n",
       "      <td>0</td>\n",
       "      <td>Wes</td>\n",
       "      <td>Foderingham</td>\n",
       "      <td>3</td>\n",
       "      <td>0.0</td>\n",
       "      <td>0.00</td>\n",
       "      <td>1.16</td>\n",
       "      <td>3.0</td>\n",
       "      <td>0.0</td>\n",
       "      <td>0.0</td>\n",
       "      <td>0.000000</td>\n",
       "      <td>0.0</td>\n",
       "      <td>2.365000</td>\n",
       "      <td>3.25</td>\n",
       "      <td>0.0</td>\n",
       "      <td>90.0</td>\n",
       "      <td>0.00</td>\n",
       "      <td>0.0</td>\n",
       "      <td>0.0</td>\n",
       "      <td>0.0</td>\n",
       "      <td>4.75</td>\n",
       "      <td>2.250000</td>\n",
       "      <td>0.000000</td>\n",
       "      <td>3.250000</td>\n",
       "      <td>0.0</td>\n",
       "      <td>0.000000</td>\n",
       "      <td>-0.885000</td>\n",
       "      <td>2.250000</td>\n",
       "    </tr>\n",
       "    <tr>\n",
       "      <th>37</th>\n",
       "      <td>0</td>\n",
       "      <td>0</td>\n",
       "      <td>0.00</td>\n",
       "      <td>0.0</td>\n",
       "      <td>3.28</td>\n",
       "      <td>3</td>\n",
       "      <td>0</td>\n",
       "      <td>90</td>\n",
       "      <td>0</td>\n",
       "      <td>0</td>\n",
       "      <td>0</td>\n",
       "      <td>0</td>\n",
       "      <td>6</td>\n",
       "      <td>3</td>\n",
       "      <td>0</td>\n",
       "      <td>Wes</td>\n",
       "      <td>Foderingham</td>\n",
       "      <td>5</td>\n",
       "      <td>0.0</td>\n",
       "      <td>0.00</td>\n",
       "      <td>0.28</td>\n",
       "      <td>NaN</td>\n",
       "      <td>0.0</td>\n",
       "      <td>0.0</td>\n",
       "      <td>0.000000</td>\n",
       "      <td>0.0</td>\n",
       "      <td>2.437500</td>\n",
       "      <td>3.00</td>\n",
       "      <td>0.0</td>\n",
       "      <td>90.0</td>\n",
       "      <td>0.00</td>\n",
       "      <td>0.0</td>\n",
       "      <td>0.0</td>\n",
       "      <td>0.0</td>\n",
       "      <td>4.00</td>\n",
       "      <td>2.250000</td>\n",
       "      <td>0.000000</td>\n",
       "      <td>3.500000</td>\n",
       "      <td>0.0</td>\n",
       "      <td>0.000000</td>\n",
       "      <td>-0.562500</td>\n",
       "      <td>2.666667</td>\n",
       "    </tr>\n",
       "  </tbody>\n",
       "</table>\n",
       "<p>798 rows × 42 columns</p>\n",
       "</div>"
      ],
      "text/plain": [
       "    Assists  Clean_Sheet    xA   xG   xGC  Goals_Conceded  Goals_Scored  \\\n",
       "0         0            0  0.01  0.0  1.50               1             0   \n",
       "1         0            0  0.00  0.0  3.11               4             0   \n",
       "2         0            0  0.01  0.0  1.16               1             0   \n",
       "3         0            0  0.01  0.0  1.24               2             0   \n",
       "4         0            0  0.02  0.0  1.02               1             0   \n",
       "..      ...          ...   ...  ...   ...             ...           ...   \n",
       "33        0            0  0.00  0.0  2.99               4             0   \n",
       "34        0            0  0.00  0.0  2.82               5             0   \n",
       "35        0            0  0.00  0.0  1.49               3             0   \n",
       "36        0            0  0.00  0.0  2.16               1             0   \n",
       "37        0            0  0.00  0.0  3.28               3             0   \n",
       "\n",
       "    Minutes  Own_Goals  Penalites_Missed  Penalties_Saved  Red_Cards  Saves  \\\n",
       "0        90          0                 0                0          0      1   \n",
       "1        90          0                 0                0          0      3   \n",
       "2        90          0                 0                0          0      2   \n",
       "3        90          1                 0                0          0      6   \n",
       "4        90          0                 0                0          0      3   \n",
       "..      ...        ...               ...              ...        ...    ...   \n",
       "33       90          0                 0                0          0      9   \n",
       "34       90          0                 0                0          0      3   \n",
       "35       90          0                 0                0          0      1   \n",
       "36       90          0                 0                0          0      6   \n",
       "37       90          0                 0                0          0      6   \n",
       "\n",
       "    Points  Yellow_Cards Firstname     Lastname  Fixture_Rating  Delta_Goals  \\\n",
       "0        2             0    Jordan      Pikford               3          0.0   \n",
       "1        0             1    Jordan      Pikford               5          0.0   \n",
       "2        2             0    Jordan      Pikford               3          0.0   \n",
       "3        1             0    Jordan      Pikford               2          0.0   \n",
       "4        3             0    Jordan      Pikford               5          0.0   \n",
       "..     ...           ...       ...          ...             ...          ...   \n",
       "33       3             0       Wes  Foderingham               4          0.0   \n",
       "34       1             0       Wes  Foderingham               4          0.0   \n",
       "35       1             0       Wes  Foderingham               2          0.0   \n",
       "36       4             0       Wes  Foderingham               3          0.0   \n",
       "37       3             0       Wes  Foderingham               5          0.0   \n",
       "\n",
       "    Delta_Assists  Delta_Goals_Conceded  Next_Points  Running_Assists  \\\n",
       "0           -0.01                  0.50          0.0              0.0   \n",
       "1            0.00                 -0.89          2.0              0.0   \n",
       "2           -0.01                  0.16          1.0              0.0   \n",
       "3           -0.01                 -0.76          3.0              0.0   \n",
       "4           -0.02                  0.02          2.0              0.0   \n",
       "..            ...                   ...          ...              ...   \n",
       "33           0.00                 -1.01          1.0              0.0   \n",
       "34           0.00                 -2.18          1.0              0.0   \n",
       "35           0.00                 -1.51          4.0              0.0   \n",
       "36           0.00                  1.16          3.0              0.0   \n",
       "37           0.00                  0.28          NaN              0.0   \n",
       "\n",
       "    Running_Clean_Sheet  Running_xA  Running_xG  Running_xGC  \\\n",
       "0                   0.0    0.010000         0.0     1.500000   \n",
       "1                   0.0    0.005000         0.0     2.305000   \n",
       "2                   0.0    0.006667         0.0     1.923333   \n",
       "3                   0.0    0.007500         0.0     1.752500   \n",
       "4                   0.0    0.010000         0.0     1.632500   \n",
       "..                  ...         ...         ...          ...   \n",
       "33                  0.0    0.000000         0.0     0.747500   \n",
       "34                  0.0    0.000000         0.0     1.452500   \n",
       "35                  0.0    0.000000         0.0     1.825000   \n",
       "36                  0.0    0.000000         0.0     2.365000   \n",
       "37                  0.0    0.000000         0.0     2.437500   \n",
       "\n",
       "    Running_Goals_Conceded  Running_Goals_Scored  Running_Minutes  \\\n",
       "0                     1.00                   0.0             90.0   \n",
       "1                     2.50                   0.0             90.0   \n",
       "2                     2.00                   0.0             90.0   \n",
       "3                     2.00                   0.0             90.0   \n",
       "4                     2.00                   0.0             90.0   \n",
       "..                     ...                   ...              ...   \n",
       "33                    1.00                   0.0             22.5   \n",
       "34                    2.25                   0.0             45.0   \n",
       "35                    3.00                   0.0             67.5   \n",
       "36                    3.25                   0.0             90.0   \n",
       "37                    3.00                   0.0             90.0   \n",
       "\n",
       "    Running_Own_Goals  Running_Penalites_Missed  Running_Penalties_Saved  \\\n",
       "0                0.00                       0.0                      0.0   \n",
       "1                0.00                       0.0                      0.0   \n",
       "2                0.00                       0.0                      0.0   \n",
       "3                0.25                       0.0                      0.0   \n",
       "4                0.25                       0.0                      0.0   \n",
       "..                ...                       ...                      ...   \n",
       "33               0.00                       0.0                      0.0   \n",
       "34               0.00                       0.0                      0.0   \n",
       "35               0.00                       0.0                      0.0   \n",
       "36               0.00                       0.0                      0.0   \n",
       "37               0.00                       0.0                      0.0   \n",
       "\n",
       "    Running_Red_Cards  Running_Saves  Running_Points  Running_Yellow_Cards  \\\n",
       "0                 0.0           1.00        2.000000              0.000000   \n",
       "1                 0.0           2.00        1.000000              0.500000   \n",
       "2                 0.0           2.00        1.333333              0.333333   \n",
       "3                 0.0           3.00        1.250000              0.250000   \n",
       "4                 0.0           3.50        1.500000              0.250000   \n",
       "..                ...            ...             ...                   ...   \n",
       "33                0.0           2.25        0.750000              0.000000   \n",
       "34                0.0           3.00        1.000000              0.000000   \n",
       "35                0.0           3.25        1.250000              0.000000   \n",
       "36                0.0           4.75        2.250000              0.000000   \n",
       "37                0.0           4.00        2.250000              0.000000   \n",
       "\n",
       "    Running_Fixture_Rating  Running_Delta_Goals  Running_Delta_Assists  \\\n",
       "0                 3.000000                  0.0              -0.010000   \n",
       "1                 4.000000                  0.0              -0.005000   \n",
       "2                 3.666667                  0.0              -0.006667   \n",
       "3                 3.250000                  0.0              -0.007500   \n",
       "4                 3.750000                  0.0              -0.010000   \n",
       "..                     ...                  ...                    ...   \n",
       "33                3.000000                  0.0               0.000000   \n",
       "34                3.000000                  0.0               0.000000   \n",
       "35                3.000000                  0.0               0.000000   \n",
       "36                3.250000                  0.0               0.000000   \n",
       "37                3.500000                  0.0               0.000000   \n",
       "\n",
       "    Running_Delta_Goals_Conceded  Running_Next_Points  \n",
       "0                       0.500000             0.000000  \n",
       "1                      -0.195000             1.000000  \n",
       "2                      -0.076667             1.000000  \n",
       "3                      -0.247500             1.500000  \n",
       "4                      -0.367500             2.000000  \n",
       "..                           ...                  ...  \n",
       "33                     -0.252500             1.000000  \n",
       "34                     -0.797500             1.250000  \n",
       "35                     -1.175000             2.250000  \n",
       "36                     -0.885000             2.250000  \n",
       "37                     -0.562500             2.666667  \n",
       "\n",
       "[798 rows x 42 columns]"
      ]
     },
     "execution_count": 53,
     "metadata": {},
     "output_type": "execute_result"
    }
   ],
   "source": [
    "df_gk"
   ]
  },
  {
   "cell_type": "code",
   "execution_count": 54,
   "id": "01bb2e49",
   "metadata": {},
   "outputs": [
    {
     "data": {
      "text/plain": [
       "(798, 42)"
      ]
     },
     "execution_count": 54,
     "metadata": {},
     "output_type": "execute_result"
    }
   ],
   "source": [
    "df_gk.shape"
   ]
  },
  {
   "cell_type": "code",
   "execution_count": 55,
   "id": "fcf595bd",
   "metadata": {},
   "outputs": [],
   "source": [
    "df_gk.to_csv(\"golmani.csv\")"
   ]
  },
  {
   "cell_type": "markdown",
   "id": "d6ee5e89",
   "metadata": {},
   "source": [
    "**STATISTIKE I VIZUALIZACIJE**"
   ]
  },
  {
   "cell_type": "code",
   "execution_count": 56,
   "id": "391e0bb3",
   "metadata": {},
   "outputs": [],
   "source": [
    "import matplotlib\n",
    "import matplotlib.pyplot as plt\n",
    "import plotly.express as px\n",
    "import seaborn as sns\n",
    "\n",
    "%matplotlib inline"
   ]
  },
  {
   "cell_type": "code",
   "execution_count": 57,
   "id": "763da693",
   "metadata": {},
   "outputs": [],
   "source": [
    "sns.set_style('darkgrid')\n",
    "matplotlib.rcParams['font.size']=14\n",
    "matplotlib.rcParams['figure.figsize']=(10,6)\n",
    "matplotlib.rcParams['figure.facecolor']='#00000000'"
   ]
  },
  {
   "cell_type": "code",
   "execution_count": 58,
   "id": "3695104f",
   "metadata": {},
   "outputs": [
    {
     "name": "stdout",
     "output_type": "stream",
     "text": [
      "<class 'pandas.core.frame.DataFrame'>\n",
      "Int64Index: 798 entries, 0 to 37\n",
      "Data columns (total 42 columns):\n",
      " #   Column                        Non-Null Count  Dtype  \n",
      "---  ------                        --------------  -----  \n",
      " 0   Assists                       798 non-null    int64  \n",
      " 1   Clean_Sheet                   798 non-null    int64  \n",
      " 2   xA                            798 non-null    float64\n",
      " 3   xG                            798 non-null    float64\n",
      " 4   xGC                           798 non-null    float64\n",
      " 5   Goals_Conceded                798 non-null    int64  \n",
      " 6   Goals_Scored                  798 non-null    int64  \n",
      " 7   Minutes                       798 non-null    int64  \n",
      " 8   Own_Goals                     798 non-null    int64  \n",
      " 9   Penalites_Missed              798 non-null    int64  \n",
      " 10  Penalties_Saved               798 non-null    int64  \n",
      " 11  Red_Cards                     798 non-null    int64  \n",
      " 12  Saves                         798 non-null    int64  \n",
      " 13  Points                        798 non-null    int64  \n",
      " 14  Yellow_Cards                  798 non-null    int64  \n",
      " 15  Firstname                     798 non-null    object \n",
      " 16  Lastname                      798 non-null    object \n",
      " 17  Fixture_Rating                798 non-null    int64  \n",
      " 18  Delta_Goals                   798 non-null    float64\n",
      " 19  Delta_Assists                 798 non-null    float64\n",
      " 20  Delta_Goals_Conceded          798 non-null    float64\n",
      " 21  Next_Points                   777 non-null    float64\n",
      " 22  Running_Assists               798 non-null    float64\n",
      " 23  Running_Clean_Sheet           798 non-null    float64\n",
      " 24  Running_xA                    798 non-null    float64\n",
      " 25  Running_xG                    798 non-null    float64\n",
      " 26  Running_xGC                   798 non-null    float64\n",
      " 27  Running_Goals_Conceded        798 non-null    float64\n",
      " 28  Running_Goals_Scored          798 non-null    float64\n",
      " 29  Running_Minutes               798 non-null    float64\n",
      " 30  Running_Own_Goals             798 non-null    float64\n",
      " 31  Running_Penalites_Missed      798 non-null    float64\n",
      " 32  Running_Penalties_Saved       798 non-null    float64\n",
      " 33  Running_Red_Cards             798 non-null    float64\n",
      " 34  Running_Saves                 798 non-null    float64\n",
      " 35  Running_Points                798 non-null    float64\n",
      " 36  Running_Yellow_Cards          798 non-null    float64\n",
      " 37  Running_Fixture_Rating        798 non-null    float64\n",
      " 38  Running_Delta_Goals           798 non-null    float64\n",
      " 39  Running_Delta_Assists         798 non-null    float64\n",
      " 40  Running_Delta_Goals_Conceded  798 non-null    float64\n",
      " 41  Running_Next_Points           798 non-null    float64\n",
      "dtypes: float64(27), int64(13), object(2)\n",
      "memory usage: 268.1+ KB\n"
     ]
    }
   ],
   "source": [
    "df_gk.info()"
   ]
  },
  {
   "cell_type": "code",
   "execution_count": 59,
   "id": "e87d0748",
   "metadata": {},
   "outputs": [
    {
     "data": {
      "text/html": [
       "<div>\n",
       "<style scoped>\n",
       "    .dataframe tbody tr th:only-of-type {\n",
       "        vertical-align: middle;\n",
       "    }\n",
       "\n",
       "    .dataframe tbody tr th {\n",
       "        vertical-align: top;\n",
       "    }\n",
       "\n",
       "    .dataframe thead th {\n",
       "        text-align: right;\n",
       "    }\n",
       "</style>\n",
       "<table border=\"1\" class=\"dataframe\">\n",
       "  <thead>\n",
       "    <tr style=\"text-align: right;\">\n",
       "      <th></th>\n",
       "      <th>Assists</th>\n",
       "      <th>Clean_Sheet</th>\n",
       "      <th>xA</th>\n",
       "      <th>xG</th>\n",
       "      <th>xGC</th>\n",
       "      <th>Goals_Conceded</th>\n",
       "      <th>Goals_Scored</th>\n",
       "      <th>Minutes</th>\n",
       "      <th>Own_Goals</th>\n",
       "      <th>Penalites_Missed</th>\n",
       "      <th>Penalties_Saved</th>\n",
       "      <th>Red_Cards</th>\n",
       "      <th>Saves</th>\n",
       "      <th>Points</th>\n",
       "      <th>Yellow_Cards</th>\n",
       "      <th>Fixture_Rating</th>\n",
       "      <th>Delta_Goals</th>\n",
       "      <th>Delta_Assists</th>\n",
       "      <th>Delta_Goals_Conceded</th>\n",
       "      <th>Next_Points</th>\n",
       "      <th>Running_Assists</th>\n",
       "      <th>Running_Clean_Sheet</th>\n",
       "      <th>Running_xA</th>\n",
       "      <th>Running_xG</th>\n",
       "      <th>Running_xGC</th>\n",
       "      <th>Running_Goals_Conceded</th>\n",
       "      <th>Running_Goals_Scored</th>\n",
       "      <th>Running_Minutes</th>\n",
       "      <th>Running_Own_Goals</th>\n",
       "      <th>Running_Penalites_Missed</th>\n",
       "      <th>Running_Penalties_Saved</th>\n",
       "      <th>Running_Red_Cards</th>\n",
       "      <th>Running_Saves</th>\n",
       "      <th>Running_Points</th>\n",
       "      <th>Running_Yellow_Cards</th>\n",
       "      <th>Running_Fixture_Rating</th>\n",
       "      <th>Running_Delta_Goals</th>\n",
       "      <th>Running_Delta_Assists</th>\n",
       "      <th>Running_Delta_Goals_Conceded</th>\n",
       "      <th>Running_Next_Points</th>\n",
       "    </tr>\n",
       "  </thead>\n",
       "  <tbody>\n",
       "    <tr>\n",
       "      <th>count</th>\n",
       "      <td>798.000000</td>\n",
       "      <td>798.000000</td>\n",
       "      <td>798.000000</td>\n",
       "      <td>798.0</td>\n",
       "      <td>798.000000</td>\n",
       "      <td>798.000000</td>\n",
       "      <td>798.0</td>\n",
       "      <td>798.000000</td>\n",
       "      <td>798.000000</td>\n",
       "      <td>798.0</td>\n",
       "      <td>798.000000</td>\n",
       "      <td>798.0</td>\n",
       "      <td>798.000000</td>\n",
       "      <td>798.000000</td>\n",
       "      <td>798.000000</td>\n",
       "      <td>798.000000</td>\n",
       "      <td>798.0</td>\n",
       "      <td>798.000000</td>\n",
       "      <td>798.000000</td>\n",
       "      <td>777.000000</td>\n",
       "      <td>798.000000</td>\n",
       "      <td>798.000000</td>\n",
       "      <td>798.000000</td>\n",
       "      <td>798.0</td>\n",
       "      <td>798.000000</td>\n",
       "      <td>798.000000</td>\n",
       "      <td>798.0</td>\n",
       "      <td>798.000000</td>\n",
       "      <td>798.000000</td>\n",
       "      <td>798.0</td>\n",
       "      <td>798.000000</td>\n",
       "      <td>798.0</td>\n",
       "      <td>798.000000</td>\n",
       "      <td>798.000000</td>\n",
       "      <td>798.000000</td>\n",
       "      <td>798.000000</td>\n",
       "      <td>798.0</td>\n",
       "      <td>798.000000</td>\n",
       "      <td>798.000000</td>\n",
       "      <td>798.000000</td>\n",
       "    </tr>\n",
       "    <tr>\n",
       "      <th>mean</th>\n",
       "      <td>0.002506</td>\n",
       "      <td>0.164160</td>\n",
       "      <td>0.001140</td>\n",
       "      <td>0.0</td>\n",
       "      <td>1.223784</td>\n",
       "      <td>1.258145</td>\n",
       "      <td>0.0</td>\n",
       "      <td>69.805764</td>\n",
       "      <td>0.010025</td>\n",
       "      <td>0.0</td>\n",
       "      <td>0.006266</td>\n",
       "      <td>0.0</td>\n",
       "      <td>2.541353</td>\n",
       "      <td>2.531328</td>\n",
       "      <td>0.066416</td>\n",
       "      <td>3.506266</td>\n",
       "      <td>0.0</td>\n",
       "      <td>0.001366</td>\n",
       "      <td>-0.034361</td>\n",
       "      <td>2.519949</td>\n",
       "      <td>0.002506</td>\n",
       "      <td>0.164265</td>\n",
       "      <td>0.001164</td>\n",
       "      <td>0.0</td>\n",
       "      <td>1.232985</td>\n",
       "      <td>1.260652</td>\n",
       "      <td>0.0</td>\n",
       "      <td>70.247180</td>\n",
       "      <td>0.009398</td>\n",
       "      <td>0.0</td>\n",
       "      <td>0.007101</td>\n",
       "      <td>0.0</td>\n",
       "      <td>2.569340</td>\n",
       "      <td>2.562239</td>\n",
       "      <td>0.067669</td>\n",
       "      <td>3.501984</td>\n",
       "      <td>0.0</td>\n",
       "      <td>0.001342</td>\n",
       "      <td>-0.027667</td>\n",
       "      <td>2.549708</td>\n",
       "    </tr>\n",
       "    <tr>\n",
       "      <th>std</th>\n",
       "      <td>0.050031</td>\n",
       "      <td>0.370653</td>\n",
       "      <td>0.004761</td>\n",
       "      <td>0.0</td>\n",
       "      <td>1.036195</td>\n",
       "      <td>1.338936</td>\n",
       "      <td>0.0</td>\n",
       "      <td>37.209484</td>\n",
       "      <td>0.099685</td>\n",
       "      <td>0.0</td>\n",
       "      <td>0.078957</td>\n",
       "      <td>0.0</td>\n",
       "      <td>2.319557</td>\n",
       "      <td>2.699672</td>\n",
       "      <td>0.249164</td>\n",
       "      <td>1.118718</td>\n",
       "      <td>0.0</td>\n",
       "      <td>0.050064</td>\n",
       "      <td>0.934102</td>\n",
       "      <td>2.690653</td>\n",
       "      <td>0.024921</td>\n",
       "      <td>0.216800</td>\n",
       "      <td>0.003320</td>\n",
       "      <td>0.0</td>\n",
       "      <td>0.740487</td>\n",
       "      <td>0.855319</td>\n",
       "      <td>0.0</td>\n",
       "      <td>31.036781</td>\n",
       "      <td>0.047583</td>\n",
       "      <td>0.0</td>\n",
       "      <td>0.045939</td>\n",
       "      <td>0.0</td>\n",
       "      <td>1.663955</td>\n",
       "      <td>1.751552</td>\n",
       "      <td>0.133186</td>\n",
       "      <td>0.525262</td>\n",
       "      <td>0.0</td>\n",
       "      <td>0.025102</td>\n",
       "      <td>0.494702</td>\n",
       "      <td>1.785140</td>\n",
       "    </tr>\n",
       "    <tr>\n",
       "      <th>min</th>\n",
       "      <td>0.000000</td>\n",
       "      <td>0.000000</td>\n",
       "      <td>0.000000</td>\n",
       "      <td>0.0</td>\n",
       "      <td>0.000000</td>\n",
       "      <td>0.000000</td>\n",
       "      <td>0.0</td>\n",
       "      <td>0.000000</td>\n",
       "      <td>0.000000</td>\n",
       "      <td>0.0</td>\n",
       "      <td>0.000000</td>\n",
       "      <td>0.0</td>\n",
       "      <td>0.000000</td>\n",
       "      <td>-2.000000</td>\n",
       "      <td>0.000000</td>\n",
       "      <td>2.000000</td>\n",
       "      <td>0.0</td>\n",
       "      <td>-0.060000</td>\n",
       "      <td>-4.420000</td>\n",
       "      <td>-2.000000</td>\n",
       "      <td>0.000000</td>\n",
       "      <td>0.000000</td>\n",
       "      <td>0.000000</td>\n",
       "      <td>0.0</td>\n",
       "      <td>0.000000</td>\n",
       "      <td>0.000000</td>\n",
       "      <td>0.0</td>\n",
       "      <td>0.000000</td>\n",
       "      <td>0.000000</td>\n",
       "      <td>0.0</td>\n",
       "      <td>0.000000</td>\n",
       "      <td>0.0</td>\n",
       "      <td>0.000000</td>\n",
       "      <td>-0.250000</td>\n",
       "      <td>0.000000</td>\n",
       "      <td>2.000000</td>\n",
       "      <td>0.0</td>\n",
       "      <td>-0.025000</td>\n",
       "      <td>-1.792500</td>\n",
       "      <td>-0.250000</td>\n",
       "    </tr>\n",
       "    <tr>\n",
       "      <th>25%</th>\n",
       "      <td>0.000000</td>\n",
       "      <td>0.000000</td>\n",
       "      <td>0.000000</td>\n",
       "      <td>0.0</td>\n",
       "      <td>0.305000</td>\n",
       "      <td>0.000000</td>\n",
       "      <td>0.0</td>\n",
       "      <td>90.000000</td>\n",
       "      <td>0.000000</td>\n",
       "      <td>0.0</td>\n",
       "      <td>0.000000</td>\n",
       "      <td>0.0</td>\n",
       "      <td>0.000000</td>\n",
       "      <td>0.000000</td>\n",
       "      <td>0.000000</td>\n",
       "      <td>3.000000</td>\n",
       "      <td>0.0</td>\n",
       "      <td>0.000000</td>\n",
       "      <td>-0.490000</td>\n",
       "      <td>0.000000</td>\n",
       "      <td>0.000000</td>\n",
       "      <td>0.000000</td>\n",
       "      <td>0.000000</td>\n",
       "      <td>0.0</td>\n",
       "      <td>0.715000</td>\n",
       "      <td>0.500000</td>\n",
       "      <td>0.0</td>\n",
       "      <td>66.750000</td>\n",
       "      <td>0.000000</td>\n",
       "      <td>0.0</td>\n",
       "      <td>0.000000</td>\n",
       "      <td>0.0</td>\n",
       "      <td>1.250000</td>\n",
       "      <td>1.250000</td>\n",
       "      <td>0.000000</td>\n",
       "      <td>3.250000</td>\n",
       "      <td>0.0</td>\n",
       "      <td>0.000000</td>\n",
       "      <td>-0.296875</td>\n",
       "      <td>1.250000</td>\n",
       "    </tr>\n",
       "    <tr>\n",
       "      <th>50%</th>\n",
       "      <td>0.000000</td>\n",
       "      <td>0.000000</td>\n",
       "      <td>0.000000</td>\n",
       "      <td>0.0</td>\n",
       "      <td>1.130000</td>\n",
       "      <td>1.000000</td>\n",
       "      <td>0.0</td>\n",
       "      <td>90.000000</td>\n",
       "      <td>0.000000</td>\n",
       "      <td>0.0</td>\n",
       "      <td>0.000000</td>\n",
       "      <td>0.0</td>\n",
       "      <td>2.000000</td>\n",
       "      <td>2.000000</td>\n",
       "      <td>0.000000</td>\n",
       "      <td>4.000000</td>\n",
       "      <td>0.0</td>\n",
       "      <td>0.000000</td>\n",
       "      <td>0.000000</td>\n",
       "      <td>2.000000</td>\n",
       "      <td>0.000000</td>\n",
       "      <td>0.000000</td>\n",
       "      <td>0.000000</td>\n",
       "      <td>0.0</td>\n",
       "      <td>1.282500</td>\n",
       "      <td>1.250000</td>\n",
       "      <td>0.0</td>\n",
       "      <td>90.000000</td>\n",
       "      <td>0.000000</td>\n",
       "      <td>0.0</td>\n",
       "      <td>0.000000</td>\n",
       "      <td>0.0</td>\n",
       "      <td>2.500000</td>\n",
       "      <td>2.500000</td>\n",
       "      <td>0.000000</td>\n",
       "      <td>3.500000</td>\n",
       "      <td>0.0</td>\n",
       "      <td>0.000000</td>\n",
       "      <td>0.000000</td>\n",
       "      <td>2.500000</td>\n",
       "    </tr>\n",
       "    <tr>\n",
       "      <th>75%</th>\n",
       "      <td>0.000000</td>\n",
       "      <td>0.000000</td>\n",
       "      <td>0.000000</td>\n",
       "      <td>0.0</td>\n",
       "      <td>1.870000</td>\n",
       "      <td>2.000000</td>\n",
       "      <td>0.0</td>\n",
       "      <td>90.000000</td>\n",
       "      <td>0.000000</td>\n",
       "      <td>0.0</td>\n",
       "      <td>0.000000</td>\n",
       "      <td>0.0</td>\n",
       "      <td>4.000000</td>\n",
       "      <td>3.000000</td>\n",
       "      <td>0.000000</td>\n",
       "      <td>5.000000</td>\n",
       "      <td>0.0</td>\n",
       "      <td>0.000000</td>\n",
       "      <td>0.447500</td>\n",
       "      <td>3.000000</td>\n",
       "      <td>0.000000</td>\n",
       "      <td>0.250000</td>\n",
       "      <td>0.000000</td>\n",
       "      <td>0.0</td>\n",
       "      <td>1.750000</td>\n",
       "      <td>1.750000</td>\n",
       "      <td>0.0</td>\n",
       "      <td>90.000000</td>\n",
       "      <td>0.000000</td>\n",
       "      <td>0.0</td>\n",
       "      <td>0.000000</td>\n",
       "      <td>0.0</td>\n",
       "      <td>3.750000</td>\n",
       "      <td>3.750000</td>\n",
       "      <td>0.000000</td>\n",
       "      <td>3.750000</td>\n",
       "      <td>0.0</td>\n",
       "      <td>0.000000</td>\n",
       "      <td>0.221875</td>\n",
       "      <td>3.750000</td>\n",
       "    </tr>\n",
       "    <tr>\n",
       "      <th>max</th>\n",
       "      <td>1.000000</td>\n",
       "      <td>1.000000</td>\n",
       "      <td>0.060000</td>\n",
       "      <td>0.0</td>\n",
       "      <td>7.270000</td>\n",
       "      <td>8.000000</td>\n",
       "      <td>0.0</td>\n",
       "      <td>90.000000</td>\n",
       "      <td>1.000000</td>\n",
       "      <td>0.0</td>\n",
       "      <td>1.000000</td>\n",
       "      <td>0.0</td>\n",
       "      <td>12.000000</td>\n",
       "      <td>13.000000</td>\n",
       "      <td>1.000000</td>\n",
       "      <td>5.000000</td>\n",
       "      <td>0.0</td>\n",
       "      <td>1.000000</td>\n",
       "      <td>3.270000</td>\n",
       "      <td>13.000000</td>\n",
       "      <td>0.250000</td>\n",
       "      <td>1.000000</td>\n",
       "      <td>0.025000</td>\n",
       "      <td>0.0</td>\n",
       "      <td>4.100000</td>\n",
       "      <td>5.000000</td>\n",
       "      <td>0.0</td>\n",
       "      <td>90.000000</td>\n",
       "      <td>0.250000</td>\n",
       "      <td>0.0</td>\n",
       "      <td>0.500000</td>\n",
       "      <td>0.0</td>\n",
       "      <td>9.000000</td>\n",
       "      <td>12.000000</td>\n",
       "      <td>1.000000</td>\n",
       "      <td>5.000000</td>\n",
       "      <td>0.0</td>\n",
       "      <td>0.250000</td>\n",
       "      <td>2.730000</td>\n",
       "      <td>11.000000</td>\n",
       "    </tr>\n",
       "  </tbody>\n",
       "</table>\n",
       "</div>"
      ],
      "text/plain": [
       "          Assists  Clean_Sheet          xA     xG         xGC  Goals_Conceded  \\\n",
       "count  798.000000   798.000000  798.000000  798.0  798.000000      798.000000   \n",
       "mean     0.002506     0.164160    0.001140    0.0    1.223784        1.258145   \n",
       "std      0.050031     0.370653    0.004761    0.0    1.036195        1.338936   \n",
       "min      0.000000     0.000000    0.000000    0.0    0.000000        0.000000   \n",
       "25%      0.000000     0.000000    0.000000    0.0    0.305000        0.000000   \n",
       "50%      0.000000     0.000000    0.000000    0.0    1.130000        1.000000   \n",
       "75%      0.000000     0.000000    0.000000    0.0    1.870000        2.000000   \n",
       "max      1.000000     1.000000    0.060000    0.0    7.270000        8.000000   \n",
       "\n",
       "       Goals_Scored     Minutes   Own_Goals  Penalites_Missed  \\\n",
       "count         798.0  798.000000  798.000000             798.0   \n",
       "mean            0.0   69.805764    0.010025               0.0   \n",
       "std             0.0   37.209484    0.099685               0.0   \n",
       "min             0.0    0.000000    0.000000               0.0   \n",
       "25%             0.0   90.000000    0.000000               0.0   \n",
       "50%             0.0   90.000000    0.000000               0.0   \n",
       "75%             0.0   90.000000    0.000000               0.0   \n",
       "max             0.0   90.000000    1.000000               0.0   \n",
       "\n",
       "       Penalties_Saved  Red_Cards       Saves      Points  Yellow_Cards  \\\n",
       "count       798.000000      798.0  798.000000  798.000000    798.000000   \n",
       "mean          0.006266        0.0    2.541353    2.531328      0.066416   \n",
       "std           0.078957        0.0    2.319557    2.699672      0.249164   \n",
       "min           0.000000        0.0    0.000000   -2.000000      0.000000   \n",
       "25%           0.000000        0.0    0.000000    0.000000      0.000000   \n",
       "50%           0.000000        0.0    2.000000    2.000000      0.000000   \n",
       "75%           0.000000        0.0    4.000000    3.000000      0.000000   \n",
       "max           1.000000        0.0   12.000000   13.000000      1.000000   \n",
       "\n",
       "       Fixture_Rating  Delta_Goals  Delta_Assists  Delta_Goals_Conceded  \\\n",
       "count      798.000000        798.0     798.000000            798.000000   \n",
       "mean         3.506266          0.0       0.001366             -0.034361   \n",
       "std          1.118718          0.0       0.050064              0.934102   \n",
       "min          2.000000          0.0      -0.060000             -4.420000   \n",
       "25%          3.000000          0.0       0.000000             -0.490000   \n",
       "50%          4.000000          0.0       0.000000              0.000000   \n",
       "75%          5.000000          0.0       0.000000              0.447500   \n",
       "max          5.000000          0.0       1.000000              3.270000   \n",
       "\n",
       "       Next_Points  Running_Assists  Running_Clean_Sheet  Running_xA  \\\n",
       "count   777.000000       798.000000           798.000000  798.000000   \n",
       "mean      2.519949         0.002506             0.164265    0.001164   \n",
       "std       2.690653         0.024921             0.216800    0.003320   \n",
       "min      -2.000000         0.000000             0.000000    0.000000   \n",
       "25%       0.000000         0.000000             0.000000    0.000000   \n",
       "50%       2.000000         0.000000             0.000000    0.000000   \n",
       "75%       3.000000         0.000000             0.250000    0.000000   \n",
       "max      13.000000         0.250000             1.000000    0.025000   \n",
       "\n",
       "       Running_xG  Running_xGC  Running_Goals_Conceded  Running_Goals_Scored  \\\n",
       "count       798.0   798.000000              798.000000                 798.0   \n",
       "mean          0.0     1.232985                1.260652                   0.0   \n",
       "std           0.0     0.740487                0.855319                   0.0   \n",
       "min           0.0     0.000000                0.000000                   0.0   \n",
       "25%           0.0     0.715000                0.500000                   0.0   \n",
       "50%           0.0     1.282500                1.250000                   0.0   \n",
       "75%           0.0     1.750000                1.750000                   0.0   \n",
       "max           0.0     4.100000                5.000000                   0.0   \n",
       "\n",
       "       Running_Minutes  Running_Own_Goals  Running_Penalites_Missed  \\\n",
       "count       798.000000         798.000000                     798.0   \n",
       "mean         70.247180           0.009398                       0.0   \n",
       "std          31.036781           0.047583                       0.0   \n",
       "min           0.000000           0.000000                       0.0   \n",
       "25%          66.750000           0.000000                       0.0   \n",
       "50%          90.000000           0.000000                       0.0   \n",
       "75%          90.000000           0.000000                       0.0   \n",
       "max          90.000000           0.250000                       0.0   \n",
       "\n",
       "       Running_Penalties_Saved  Running_Red_Cards  Running_Saves  \\\n",
       "count               798.000000              798.0     798.000000   \n",
       "mean                  0.007101                0.0       2.569340   \n",
       "std                   0.045939                0.0       1.663955   \n",
       "min                   0.000000                0.0       0.000000   \n",
       "25%                   0.000000                0.0       1.250000   \n",
       "50%                   0.000000                0.0       2.500000   \n",
       "75%                   0.000000                0.0       3.750000   \n",
       "max                   0.500000                0.0       9.000000   \n",
       "\n",
       "       Running_Points  Running_Yellow_Cards  Running_Fixture_Rating  \\\n",
       "count      798.000000            798.000000              798.000000   \n",
       "mean         2.562239              0.067669                3.501984   \n",
       "std          1.751552              0.133186                0.525262   \n",
       "min         -0.250000              0.000000                2.000000   \n",
       "25%          1.250000              0.000000                3.250000   \n",
       "50%          2.500000              0.000000                3.500000   \n",
       "75%          3.750000              0.000000                3.750000   \n",
       "max         12.000000              1.000000                5.000000   \n",
       "\n",
       "       Running_Delta_Goals  Running_Delta_Assists  \\\n",
       "count                798.0             798.000000   \n",
       "mean                   0.0               0.001342   \n",
       "std                    0.0               0.025102   \n",
       "min                    0.0              -0.025000   \n",
       "25%                    0.0               0.000000   \n",
       "50%                    0.0               0.000000   \n",
       "75%                    0.0               0.000000   \n",
       "max                    0.0               0.250000   \n",
       "\n",
       "       Running_Delta_Goals_Conceded  Running_Next_Points  \n",
       "count                    798.000000           798.000000  \n",
       "mean                      -0.027667             2.549708  \n",
       "std                        0.494702             1.785140  \n",
       "min                       -1.792500            -0.250000  \n",
       "25%                       -0.296875             1.250000  \n",
       "50%                        0.000000             2.500000  \n",
       "75%                        0.221875             3.750000  \n",
       "max                        2.730000            11.000000  "
      ]
     },
     "execution_count": 59,
     "metadata": {},
     "output_type": "execute_result"
    }
   ],
   "source": [
    "df_gk.describe()"
   ]
  },
  {
   "cell_type": "markdown",
   "id": "d0f2708b",
   "metadata": {},
   "source": [
    "Vrednosti za golove i asistencije su u sustini 0,pa se za njih nece raditi vizualizacije,a posmatrace se Clean_Sheet,Goals conceded,odbrane"
   ]
  },
  {
   "cell_type": "markdown",
   "id": "4d69a359",
   "metadata": {},
   "source": [
    "**Primljeni golovi**"
   ]
  },
  {
   "cell_type": "code",
   "execution_count": 60,
   "id": "2854c0ee",
   "metadata": {},
   "outputs": [
    {
     "data": {
      "text/plain": [
       "count    798.000000\n",
       "mean       1.258145\n",
       "std        1.338936\n",
       "min        0.000000\n",
       "25%        0.000000\n",
       "50%        1.000000\n",
       "75%        2.000000\n",
       "max        8.000000\n",
       "Name: Goals_Conceded, dtype: float64"
      ]
     },
     "execution_count": 60,
     "metadata": {},
     "output_type": "execute_result"
    }
   ],
   "source": [
    "df_gk.Goals_Conceded.describe()"
   ]
  },
  {
   "cell_type": "code",
   "execution_count": 61,
   "id": "60566215",
   "metadata": {},
   "outputs": [
    {
     "data": {
      "text/plain": [
       "count    798.000000\n",
       "mean       1.223784\n",
       "std        1.036195\n",
       "min        0.000000\n",
       "25%        0.305000\n",
       "50%        1.130000\n",
       "75%        1.870000\n",
       "max        7.270000\n",
       "Name: xGC, dtype: float64"
      ]
     },
     "execution_count": 61,
     "metadata": {},
     "output_type": "execute_result"
    }
   ],
   "source": [
    "df_gk.xGC.describe()"
   ]
  },
  {
   "cell_type": "code",
   "execution_count": 62,
   "id": "6b96409e",
   "metadata": {},
   "outputs": [
    {
     "data": {
      "text/plain": [
       "count    798.000000\n",
       "mean      -0.034361\n",
       "std        0.934102\n",
       "min       -4.420000\n",
       "25%       -0.490000\n",
       "50%        0.000000\n",
       "75%        0.447500\n",
       "max        3.270000\n",
       "Name: Delta_Goals_Conceded, dtype: float64"
      ]
     },
     "execution_count": 62,
     "metadata": {},
     "output_type": "execute_result"
    }
   ],
   "source": [
    "df_gk.Delta_Goals_Conceded.describe()"
   ]
  },
  {
   "cell_type": "markdown",
   "id": "ead4cf7a",
   "metadata": {},
   "source": [
    "Golmani u proseku \"lose\" brane i primaju vise golova nego sto je ocekivano,ali ta razlika je veoma mala"
   ]
  },
  {
   "cell_type": "code",
   "execution_count": 67,
   "id": "47ac1ece",
   "metadata": {},
   "outputs": [
    {
     "data": {
      "application/vnd.plotly.v1+json": {
       "config": {
        "plotlyServerURL": "https://plot.ly"
       },
       "data": [
        {
         "alignmentgroup": "True",
         "bingroup": "x",
         "hovertemplate": "Goals_Conceded=%{x}<br>count=%{y}<extra></extra>",
         "legendgroup": "",
         "marker": {
          "color": "#636efa",
          "pattern": {
           "shape": ""
          }
         },
         "name": "",
         "nbinsx": 9,
         "offsetgroup": "",
         "orientation": "v",
         "showlegend": false,
         "type": "histogram",
         "x": [
          1,
          4,
          1,
          2,
          1,
          1,
          2,
          0,
          2,
          0,
          1,
          2,
          3,
          0,
          0,
          0,
          0,
          2,
          3,
          3,
          0,
          0,
          2,
          2,
          1,
          1,
          3,
          2,
          2,
          1,
          0,
          6,
          0,
          0,
          0,
          1,
          0,
          2,
          0,
          0,
          0,
          0,
          0,
          2,
          0,
          0,
          2,
          0,
          1,
          1,
          0,
          1,
          3,
          1,
          0,
          1,
          2,
          2,
          0,
          1,
          1,
          0,
          0,
          1,
          0,
          0,
          0,
          0,
          0,
          2,
          0,
          0,
          2,
          0,
          0,
          1,
          1,
          1,
          1,
          0,
          1,
          1,
          2,
          2,
          0,
          0,
          1,
          0,
          1,
          0,
          0,
          1,
          0,
          1,
          0,
          2,
          0,
          1,
          3,
          0,
          0,
          0,
          0,
          0,
          0,
          0,
          0,
          1,
          1,
          2,
          2,
          2,
          3,
          0,
          1,
          1,
          1,
          1,
          3,
          3,
          0,
          2,
          4,
          1,
          3,
          2,
          1,
          1,
          0,
          0,
          0,
          0,
          0,
          0,
          1,
          1,
          1,
          6,
          2,
          2,
          1,
          2,
          1,
          1,
          0,
          0,
          0,
          0,
          2,
          5,
          1,
          3,
          0,
          2,
          2,
          3,
          3,
          0,
          1,
          1,
          1,
          3,
          0,
          0,
          0,
          1,
          1,
          3,
          0,
          2,
          2,
          2,
          2,
          3,
          0,
          1,
          1,
          2,
          3,
          0,
          1,
          4,
          2,
          2,
          2,
          1,
          4,
          1,
          2,
          0,
          0,
          0,
          3,
          1,
          0,
          1,
          0,
          2,
          0,
          0,
          1,
          0,
          2,
          0,
          0,
          1,
          2,
          1,
          0,
          0,
          0,
          0,
          1,
          0,
          0,
          1,
          0,
          0,
          2,
          0,
          3,
          1,
          0,
          3,
          0,
          1,
          2,
          0,
          0,
          3,
          2,
          5,
          0,
          0,
          2,
          1,
          2,
          1,
          1,
          3,
          2,
          4,
          0,
          0,
          3,
          2,
          3,
          1,
          1,
          0,
          2,
          1,
          2,
          1,
          0,
          2,
          0,
          3,
          3,
          1,
          0,
          3,
          1,
          0,
          4,
          2,
          0,
          0,
          0,
          0,
          0,
          0,
          0,
          0,
          0,
          0,
          0,
          0,
          0,
          0,
          0,
          0,
          2,
          1,
          2,
          1,
          5,
          2,
          4,
          3,
          0,
          0,
          0,
          0,
          1,
          1,
          4,
          0,
          2,
          0,
          1,
          0,
          1,
          0,
          0,
          0,
          1,
          1,
          1,
          0,
          2,
          1,
          0,
          0,
          1,
          4,
          1,
          3,
          1,
          1,
          2,
          1,
          0,
          0,
          1,
          1,
          0,
          1,
          0,
          0,
          1,
          1,
          0,
          0,
          0,
          1,
          0,
          0,
          1,
          0,
          0,
          0,
          5,
          0,
          0,
          3,
          1,
          0,
          1,
          1,
          1,
          1,
          2,
          1,
          1,
          2,
          0,
          0,
          1,
          1,
          3,
          2,
          0,
          3,
          0,
          2,
          1,
          2,
          2,
          4,
          1,
          0,
          0,
          3,
          0,
          1,
          0,
          0,
          3,
          0,
          2,
          0,
          0,
          2,
          1,
          2,
          1,
          0,
          0,
          1,
          4,
          2,
          2,
          3,
          2,
          1,
          0,
          1,
          4,
          1,
          2,
          2,
          2,
          1,
          2,
          1,
          0,
          3,
          1,
          1,
          1,
          4,
          3,
          2,
          4,
          1,
          2,
          0,
          3,
          3,
          5,
          1,
          1,
          2,
          1,
          4,
          3,
          2,
          2,
          3,
          2,
          0,
          1,
          1,
          2,
          0,
          2,
          3,
          1,
          3,
          2,
          3,
          5,
          3,
          2,
          2,
          0,
          0,
          0,
          0,
          0,
          0,
          0,
          0,
          0,
          0,
          1,
          1,
          0,
          0,
          1,
          0,
          6,
          0,
          2,
          1,
          0,
          1,
          0,
          3,
          1,
          0,
          0,
          0,
          2,
          0,
          0,
          4,
          0,
          2,
          0,
          0,
          3,
          0,
          0,
          0,
          0,
          0,
          4,
          0,
          0,
          0,
          0,
          2,
          1,
          4,
          0,
          3,
          3,
          1,
          1,
          1,
          1,
          2,
          2,
          1,
          3,
          2,
          0,
          1,
          0,
          1,
          1,
          0,
          0,
          4,
          2,
          2,
          1,
          0,
          2,
          1,
          2,
          1,
          2,
          2,
          2,
          1,
          1,
          5,
          0,
          2,
          2,
          0,
          1,
          2,
          1,
          3,
          1,
          0,
          0,
          0,
          2,
          3,
          1,
          1,
          2,
          1,
          2,
          4,
          3,
          2,
          3,
          3,
          0,
          4,
          1,
          4,
          2,
          2,
          2,
          1,
          0,
          3,
          0,
          1,
          1,
          0,
          1,
          4,
          0,
          0,
          0,
          0,
          0,
          0,
          0,
          0,
          0,
          0,
          0,
          0,
          0,
          0,
          3,
          4,
          0,
          1,
          3,
          4,
          3,
          1,
          4,
          2,
          2,
          0,
          0,
          3,
          3,
          1,
          0,
          0,
          2,
          1,
          1,
          1,
          3,
          0,
          2,
          1,
          3,
          0,
          1,
          2,
          1,
          0,
          2,
          3,
          0,
          0,
          0,
          0,
          0,
          1,
          2,
          3,
          1,
          1,
          3,
          2,
          0,
          0,
          0,
          0,
          0,
          0,
          0,
          0,
          0,
          0,
          0,
          0,
          0,
          0,
          0,
          0,
          1,
          3,
          2,
          2,
          0,
          3,
          4,
          3,
          2,
          0,
          0,
          0,
          1,
          2,
          0,
          0,
          2,
          0,
          3,
          4,
          1,
          1,
          3,
          2,
          1,
          0,
          2,
          3,
          1,
          0,
          2,
          2,
          3,
          0,
          0,
          0,
          0,
          2,
          0,
          1,
          1,
          2,
          3,
          0,
          0,
          0,
          4,
          2,
          0,
          3,
          2,
          1,
          2,
          1,
          0,
          0,
          0,
          0,
          0,
          0,
          0,
          0,
          1,
          0,
          3,
          1,
          0,
          0,
          0,
          0,
          0,
          0,
          0,
          0,
          0,
          0,
          4,
          3,
          2,
          1,
          1,
          1,
          2,
          1,
          2,
          3,
          1,
          1,
          1,
          3,
          4,
          2,
          0,
          2,
          3,
          1,
          0,
          4,
          3,
          2,
          4,
          3,
          1,
          4,
          1,
          2,
          2,
          1,
          5,
          5,
          2,
          1,
          3,
          4,
          1,
          2,
          2,
          2,
          2,
          8,
          2,
          3,
          2,
          5,
          1,
          1,
          3,
          5,
          2,
          0,
          2,
          1,
          3,
          2,
          2,
          1,
          5,
          1,
          5,
          0,
          0,
          0,
          0,
          0,
          0,
          0,
          0,
          4,
          5,
          3,
          1,
          3
         ],
         "xaxis": "x",
         "yaxis": "y"
        },
        {
         "alignmentgroup": "True",
         "hovertemplate": "Goals_Conceded=%{x}<extra></extra>",
         "legendgroup": "",
         "marker": {
          "color": "#636efa"
         },
         "name": "",
         "notched": true,
         "offsetgroup": "",
         "showlegend": false,
         "type": "box",
         "x": [
          1,
          4,
          1,
          2,
          1,
          1,
          2,
          0,
          2,
          0,
          1,
          2,
          3,
          0,
          0,
          0,
          0,
          2,
          3,
          3,
          0,
          0,
          2,
          2,
          1,
          1,
          3,
          2,
          2,
          1,
          0,
          6,
          0,
          0,
          0,
          1,
          0,
          2,
          0,
          0,
          0,
          0,
          0,
          2,
          0,
          0,
          2,
          0,
          1,
          1,
          0,
          1,
          3,
          1,
          0,
          1,
          2,
          2,
          0,
          1,
          1,
          0,
          0,
          1,
          0,
          0,
          0,
          0,
          0,
          2,
          0,
          0,
          2,
          0,
          0,
          1,
          1,
          1,
          1,
          0,
          1,
          1,
          2,
          2,
          0,
          0,
          1,
          0,
          1,
          0,
          0,
          1,
          0,
          1,
          0,
          2,
          0,
          1,
          3,
          0,
          0,
          0,
          0,
          0,
          0,
          0,
          0,
          1,
          1,
          2,
          2,
          2,
          3,
          0,
          1,
          1,
          1,
          1,
          3,
          3,
          0,
          2,
          4,
          1,
          3,
          2,
          1,
          1,
          0,
          0,
          0,
          0,
          0,
          0,
          1,
          1,
          1,
          6,
          2,
          2,
          1,
          2,
          1,
          1,
          0,
          0,
          0,
          0,
          2,
          5,
          1,
          3,
          0,
          2,
          2,
          3,
          3,
          0,
          1,
          1,
          1,
          3,
          0,
          0,
          0,
          1,
          1,
          3,
          0,
          2,
          2,
          2,
          2,
          3,
          0,
          1,
          1,
          2,
          3,
          0,
          1,
          4,
          2,
          2,
          2,
          1,
          4,
          1,
          2,
          0,
          0,
          0,
          3,
          1,
          0,
          1,
          0,
          2,
          0,
          0,
          1,
          0,
          2,
          0,
          0,
          1,
          2,
          1,
          0,
          0,
          0,
          0,
          1,
          0,
          0,
          1,
          0,
          0,
          2,
          0,
          3,
          1,
          0,
          3,
          0,
          1,
          2,
          0,
          0,
          3,
          2,
          5,
          0,
          0,
          2,
          1,
          2,
          1,
          1,
          3,
          2,
          4,
          0,
          0,
          3,
          2,
          3,
          1,
          1,
          0,
          2,
          1,
          2,
          1,
          0,
          2,
          0,
          3,
          3,
          1,
          0,
          3,
          1,
          0,
          4,
          2,
          0,
          0,
          0,
          0,
          0,
          0,
          0,
          0,
          0,
          0,
          0,
          0,
          0,
          0,
          0,
          0,
          2,
          1,
          2,
          1,
          5,
          2,
          4,
          3,
          0,
          0,
          0,
          0,
          1,
          1,
          4,
          0,
          2,
          0,
          1,
          0,
          1,
          0,
          0,
          0,
          1,
          1,
          1,
          0,
          2,
          1,
          0,
          0,
          1,
          4,
          1,
          3,
          1,
          1,
          2,
          1,
          0,
          0,
          1,
          1,
          0,
          1,
          0,
          0,
          1,
          1,
          0,
          0,
          0,
          1,
          0,
          0,
          1,
          0,
          0,
          0,
          5,
          0,
          0,
          3,
          1,
          0,
          1,
          1,
          1,
          1,
          2,
          1,
          1,
          2,
          0,
          0,
          1,
          1,
          3,
          2,
          0,
          3,
          0,
          2,
          1,
          2,
          2,
          4,
          1,
          0,
          0,
          3,
          0,
          1,
          0,
          0,
          3,
          0,
          2,
          0,
          0,
          2,
          1,
          2,
          1,
          0,
          0,
          1,
          4,
          2,
          2,
          3,
          2,
          1,
          0,
          1,
          4,
          1,
          2,
          2,
          2,
          1,
          2,
          1,
          0,
          3,
          1,
          1,
          1,
          4,
          3,
          2,
          4,
          1,
          2,
          0,
          3,
          3,
          5,
          1,
          1,
          2,
          1,
          4,
          3,
          2,
          2,
          3,
          2,
          0,
          1,
          1,
          2,
          0,
          2,
          3,
          1,
          3,
          2,
          3,
          5,
          3,
          2,
          2,
          0,
          0,
          0,
          0,
          0,
          0,
          0,
          0,
          0,
          0,
          1,
          1,
          0,
          0,
          1,
          0,
          6,
          0,
          2,
          1,
          0,
          1,
          0,
          3,
          1,
          0,
          0,
          0,
          2,
          0,
          0,
          4,
          0,
          2,
          0,
          0,
          3,
          0,
          0,
          0,
          0,
          0,
          4,
          0,
          0,
          0,
          0,
          2,
          1,
          4,
          0,
          3,
          3,
          1,
          1,
          1,
          1,
          2,
          2,
          1,
          3,
          2,
          0,
          1,
          0,
          1,
          1,
          0,
          0,
          4,
          2,
          2,
          1,
          0,
          2,
          1,
          2,
          1,
          2,
          2,
          2,
          1,
          1,
          5,
          0,
          2,
          2,
          0,
          1,
          2,
          1,
          3,
          1,
          0,
          0,
          0,
          2,
          3,
          1,
          1,
          2,
          1,
          2,
          4,
          3,
          2,
          3,
          3,
          0,
          4,
          1,
          4,
          2,
          2,
          2,
          1,
          0,
          3,
          0,
          1,
          1,
          0,
          1,
          4,
          0,
          0,
          0,
          0,
          0,
          0,
          0,
          0,
          0,
          0,
          0,
          0,
          0,
          0,
          3,
          4,
          0,
          1,
          3,
          4,
          3,
          1,
          4,
          2,
          2,
          0,
          0,
          3,
          3,
          1,
          0,
          0,
          2,
          1,
          1,
          1,
          3,
          0,
          2,
          1,
          3,
          0,
          1,
          2,
          1,
          0,
          2,
          3,
          0,
          0,
          0,
          0,
          0,
          1,
          2,
          3,
          1,
          1,
          3,
          2,
          0,
          0,
          0,
          0,
          0,
          0,
          0,
          0,
          0,
          0,
          0,
          0,
          0,
          0,
          0,
          0,
          1,
          3,
          2,
          2,
          0,
          3,
          4,
          3,
          2,
          0,
          0,
          0,
          1,
          2,
          0,
          0,
          2,
          0,
          3,
          4,
          1,
          1,
          3,
          2,
          1,
          0,
          2,
          3,
          1,
          0,
          2,
          2,
          3,
          0,
          0,
          0,
          0,
          2,
          0,
          1,
          1,
          2,
          3,
          0,
          0,
          0,
          4,
          2,
          0,
          3,
          2,
          1,
          2,
          1,
          0,
          0,
          0,
          0,
          0,
          0,
          0,
          0,
          1,
          0,
          3,
          1,
          0,
          0,
          0,
          0,
          0,
          0,
          0,
          0,
          0,
          0,
          4,
          3,
          2,
          1,
          1,
          1,
          2,
          1,
          2,
          3,
          1,
          1,
          1,
          3,
          4,
          2,
          0,
          2,
          3,
          1,
          0,
          4,
          3,
          2,
          4,
          3,
          1,
          4,
          1,
          2,
          2,
          1,
          5,
          5,
          2,
          1,
          3,
          4,
          1,
          2,
          2,
          2,
          2,
          8,
          2,
          3,
          2,
          5,
          1,
          1,
          3,
          5,
          2,
          0,
          2,
          1,
          3,
          2,
          2,
          1,
          5,
          1,
          5,
          0,
          0,
          0,
          0,
          0,
          0,
          0,
          0,
          4,
          5,
          3,
          1,
          3
         ],
         "xaxis": "x2",
         "yaxis": "y2"
        }
       ],
       "layout": {
        "bargap": 0.1,
        "barmode": "relative",
        "legend": {
         "tracegroupgap": 0
        },
        "template": {
         "data": {
          "bar": [
           {
            "error_x": {
             "color": "#2a3f5f"
            },
            "error_y": {
             "color": "#2a3f5f"
            },
            "marker": {
             "line": {
              "color": "#E5ECF6",
              "width": 0.5
             },
             "pattern": {
              "fillmode": "overlay",
              "size": 10,
              "solidity": 0.2
             }
            },
            "type": "bar"
           }
          ],
          "barpolar": [
           {
            "marker": {
             "line": {
              "color": "#E5ECF6",
              "width": 0.5
             },
             "pattern": {
              "fillmode": "overlay",
              "size": 10,
              "solidity": 0.2
             }
            },
            "type": "barpolar"
           }
          ],
          "carpet": [
           {
            "aaxis": {
             "endlinecolor": "#2a3f5f",
             "gridcolor": "white",
             "linecolor": "white",
             "minorgridcolor": "white",
             "startlinecolor": "#2a3f5f"
            },
            "baxis": {
             "endlinecolor": "#2a3f5f",
             "gridcolor": "white",
             "linecolor": "white",
             "minorgridcolor": "white",
             "startlinecolor": "#2a3f5f"
            },
            "type": "carpet"
           }
          ],
          "choropleth": [
           {
            "colorbar": {
             "outlinewidth": 0,
             "ticks": ""
            },
            "type": "choropleth"
           }
          ],
          "contour": [
           {
            "colorbar": {
             "outlinewidth": 0,
             "ticks": ""
            },
            "colorscale": [
             [
              0,
              "#0d0887"
             ],
             [
              0.1111111111111111,
              "#46039f"
             ],
             [
              0.2222222222222222,
              "#7201a8"
             ],
             [
              0.3333333333333333,
              "#9c179e"
             ],
             [
              0.4444444444444444,
              "#bd3786"
             ],
             [
              0.5555555555555556,
              "#d8576b"
             ],
             [
              0.6666666666666666,
              "#ed7953"
             ],
             [
              0.7777777777777778,
              "#fb9f3a"
             ],
             [
              0.8888888888888888,
              "#fdca26"
             ],
             [
              1,
              "#f0f921"
             ]
            ],
            "type": "contour"
           }
          ],
          "contourcarpet": [
           {
            "colorbar": {
             "outlinewidth": 0,
             "ticks": ""
            },
            "type": "contourcarpet"
           }
          ],
          "heatmap": [
           {
            "colorbar": {
             "outlinewidth": 0,
             "ticks": ""
            },
            "colorscale": [
             [
              0,
              "#0d0887"
             ],
             [
              0.1111111111111111,
              "#46039f"
             ],
             [
              0.2222222222222222,
              "#7201a8"
             ],
             [
              0.3333333333333333,
              "#9c179e"
             ],
             [
              0.4444444444444444,
              "#bd3786"
             ],
             [
              0.5555555555555556,
              "#d8576b"
             ],
             [
              0.6666666666666666,
              "#ed7953"
             ],
             [
              0.7777777777777778,
              "#fb9f3a"
             ],
             [
              0.8888888888888888,
              "#fdca26"
             ],
             [
              1,
              "#f0f921"
             ]
            ],
            "type": "heatmap"
           }
          ],
          "heatmapgl": [
           {
            "colorbar": {
             "outlinewidth": 0,
             "ticks": ""
            },
            "colorscale": [
             [
              0,
              "#0d0887"
             ],
             [
              0.1111111111111111,
              "#46039f"
             ],
             [
              0.2222222222222222,
              "#7201a8"
             ],
             [
              0.3333333333333333,
              "#9c179e"
             ],
             [
              0.4444444444444444,
              "#bd3786"
             ],
             [
              0.5555555555555556,
              "#d8576b"
             ],
             [
              0.6666666666666666,
              "#ed7953"
             ],
             [
              0.7777777777777778,
              "#fb9f3a"
             ],
             [
              0.8888888888888888,
              "#fdca26"
             ],
             [
              1,
              "#f0f921"
             ]
            ],
            "type": "heatmapgl"
           }
          ],
          "histogram": [
           {
            "marker": {
             "pattern": {
              "fillmode": "overlay",
              "size": 10,
              "solidity": 0.2
             }
            },
            "type": "histogram"
           }
          ],
          "histogram2d": [
           {
            "colorbar": {
             "outlinewidth": 0,
             "ticks": ""
            },
            "colorscale": [
             [
              0,
              "#0d0887"
             ],
             [
              0.1111111111111111,
              "#46039f"
             ],
             [
              0.2222222222222222,
              "#7201a8"
             ],
             [
              0.3333333333333333,
              "#9c179e"
             ],
             [
              0.4444444444444444,
              "#bd3786"
             ],
             [
              0.5555555555555556,
              "#d8576b"
             ],
             [
              0.6666666666666666,
              "#ed7953"
             ],
             [
              0.7777777777777778,
              "#fb9f3a"
             ],
             [
              0.8888888888888888,
              "#fdca26"
             ],
             [
              1,
              "#f0f921"
             ]
            ],
            "type": "histogram2d"
           }
          ],
          "histogram2dcontour": [
           {
            "colorbar": {
             "outlinewidth": 0,
             "ticks": ""
            },
            "colorscale": [
             [
              0,
              "#0d0887"
             ],
             [
              0.1111111111111111,
              "#46039f"
             ],
             [
              0.2222222222222222,
              "#7201a8"
             ],
             [
              0.3333333333333333,
              "#9c179e"
             ],
             [
              0.4444444444444444,
              "#bd3786"
             ],
             [
              0.5555555555555556,
              "#d8576b"
             ],
             [
              0.6666666666666666,
              "#ed7953"
             ],
             [
              0.7777777777777778,
              "#fb9f3a"
             ],
             [
              0.8888888888888888,
              "#fdca26"
             ],
             [
              1,
              "#f0f921"
             ]
            ],
            "type": "histogram2dcontour"
           }
          ],
          "mesh3d": [
           {
            "colorbar": {
             "outlinewidth": 0,
             "ticks": ""
            },
            "type": "mesh3d"
           }
          ],
          "parcoords": [
           {
            "line": {
             "colorbar": {
              "outlinewidth": 0,
              "ticks": ""
             }
            },
            "type": "parcoords"
           }
          ],
          "pie": [
           {
            "automargin": true,
            "type": "pie"
           }
          ],
          "scatter": [
           {
            "fillpattern": {
             "fillmode": "overlay",
             "size": 10,
             "solidity": 0.2
            },
            "type": "scatter"
           }
          ],
          "scatter3d": [
           {
            "line": {
             "colorbar": {
              "outlinewidth": 0,
              "ticks": ""
             }
            },
            "marker": {
             "colorbar": {
              "outlinewidth": 0,
              "ticks": ""
             }
            },
            "type": "scatter3d"
           }
          ],
          "scattercarpet": [
           {
            "marker": {
             "colorbar": {
              "outlinewidth": 0,
              "ticks": ""
             }
            },
            "type": "scattercarpet"
           }
          ],
          "scattergeo": [
           {
            "marker": {
             "colorbar": {
              "outlinewidth": 0,
              "ticks": ""
             }
            },
            "type": "scattergeo"
           }
          ],
          "scattergl": [
           {
            "marker": {
             "colorbar": {
              "outlinewidth": 0,
              "ticks": ""
             }
            },
            "type": "scattergl"
           }
          ],
          "scattermapbox": [
           {
            "marker": {
             "colorbar": {
              "outlinewidth": 0,
              "ticks": ""
             }
            },
            "type": "scattermapbox"
           }
          ],
          "scatterpolar": [
           {
            "marker": {
             "colorbar": {
              "outlinewidth": 0,
              "ticks": ""
             }
            },
            "type": "scatterpolar"
           }
          ],
          "scatterpolargl": [
           {
            "marker": {
             "colorbar": {
              "outlinewidth": 0,
              "ticks": ""
             }
            },
            "type": "scatterpolargl"
           }
          ],
          "scatterternary": [
           {
            "marker": {
             "colorbar": {
              "outlinewidth": 0,
              "ticks": ""
             }
            },
            "type": "scatterternary"
           }
          ],
          "surface": [
           {
            "colorbar": {
             "outlinewidth": 0,
             "ticks": ""
            },
            "colorscale": [
             [
              0,
              "#0d0887"
             ],
             [
              0.1111111111111111,
              "#46039f"
             ],
             [
              0.2222222222222222,
              "#7201a8"
             ],
             [
              0.3333333333333333,
              "#9c179e"
             ],
             [
              0.4444444444444444,
              "#bd3786"
             ],
             [
              0.5555555555555556,
              "#d8576b"
             ],
             [
              0.6666666666666666,
              "#ed7953"
             ],
             [
              0.7777777777777778,
              "#fb9f3a"
             ],
             [
              0.8888888888888888,
              "#fdca26"
             ],
             [
              1,
              "#f0f921"
             ]
            ],
            "type": "surface"
           }
          ],
          "table": [
           {
            "cells": {
             "fill": {
              "color": "#EBF0F8"
             },
             "line": {
              "color": "white"
             }
            },
            "header": {
             "fill": {
              "color": "#C8D4E3"
             },
             "line": {
              "color": "white"
             }
            },
            "type": "table"
           }
          ]
         },
         "layout": {
          "annotationdefaults": {
           "arrowcolor": "#2a3f5f",
           "arrowhead": 0,
           "arrowwidth": 1
          },
          "autotypenumbers": "strict",
          "coloraxis": {
           "colorbar": {
            "outlinewidth": 0,
            "ticks": ""
           }
          },
          "colorscale": {
           "diverging": [
            [
             0,
             "#8e0152"
            ],
            [
             0.1,
             "#c51b7d"
            ],
            [
             0.2,
             "#de77ae"
            ],
            [
             0.3,
             "#f1b6da"
            ],
            [
             0.4,
             "#fde0ef"
            ],
            [
             0.5,
             "#f7f7f7"
            ],
            [
             0.6,
             "#e6f5d0"
            ],
            [
             0.7,
             "#b8e186"
            ],
            [
             0.8,
             "#7fbc41"
            ],
            [
             0.9,
             "#4d9221"
            ],
            [
             1,
             "#276419"
            ]
           ],
           "sequential": [
            [
             0,
             "#0d0887"
            ],
            [
             0.1111111111111111,
             "#46039f"
            ],
            [
             0.2222222222222222,
             "#7201a8"
            ],
            [
             0.3333333333333333,
             "#9c179e"
            ],
            [
             0.4444444444444444,
             "#bd3786"
            ],
            [
             0.5555555555555556,
             "#d8576b"
            ],
            [
             0.6666666666666666,
             "#ed7953"
            ],
            [
             0.7777777777777778,
             "#fb9f3a"
            ],
            [
             0.8888888888888888,
             "#fdca26"
            ],
            [
             1,
             "#f0f921"
            ]
           ],
           "sequentialminus": [
            [
             0,
             "#0d0887"
            ],
            [
             0.1111111111111111,
             "#46039f"
            ],
            [
             0.2222222222222222,
             "#7201a8"
            ],
            [
             0.3333333333333333,
             "#9c179e"
            ],
            [
             0.4444444444444444,
             "#bd3786"
            ],
            [
             0.5555555555555556,
             "#d8576b"
            ],
            [
             0.6666666666666666,
             "#ed7953"
            ],
            [
             0.7777777777777778,
             "#fb9f3a"
            ],
            [
             0.8888888888888888,
             "#fdca26"
            ],
            [
             1,
             "#f0f921"
            ]
           ]
          },
          "colorway": [
           "#636efa",
           "#EF553B",
           "#00cc96",
           "#ab63fa",
           "#FFA15A",
           "#19d3f3",
           "#FF6692",
           "#B6E880",
           "#FF97FF",
           "#FECB52"
          ],
          "font": {
           "color": "#2a3f5f"
          },
          "geo": {
           "bgcolor": "white",
           "lakecolor": "white",
           "landcolor": "#E5ECF6",
           "showlakes": true,
           "showland": true,
           "subunitcolor": "white"
          },
          "hoverlabel": {
           "align": "left"
          },
          "hovermode": "closest",
          "mapbox": {
           "style": "light"
          },
          "paper_bgcolor": "white",
          "plot_bgcolor": "#E5ECF6",
          "polar": {
           "angularaxis": {
            "gridcolor": "white",
            "linecolor": "white",
            "ticks": ""
           },
           "bgcolor": "#E5ECF6",
           "radialaxis": {
            "gridcolor": "white",
            "linecolor": "white",
            "ticks": ""
           }
          },
          "scene": {
           "xaxis": {
            "backgroundcolor": "#E5ECF6",
            "gridcolor": "white",
            "gridwidth": 2,
            "linecolor": "white",
            "showbackground": true,
            "ticks": "",
            "zerolinecolor": "white"
           },
           "yaxis": {
            "backgroundcolor": "#E5ECF6",
            "gridcolor": "white",
            "gridwidth": 2,
            "linecolor": "white",
            "showbackground": true,
            "ticks": "",
            "zerolinecolor": "white"
           },
           "zaxis": {
            "backgroundcolor": "#E5ECF6",
            "gridcolor": "white",
            "gridwidth": 2,
            "linecolor": "white",
            "showbackground": true,
            "ticks": "",
            "zerolinecolor": "white"
           }
          },
          "shapedefaults": {
           "line": {
            "color": "#2a3f5f"
           }
          },
          "ternary": {
           "aaxis": {
            "gridcolor": "white",
            "linecolor": "white",
            "ticks": ""
           },
           "baxis": {
            "gridcolor": "white",
            "linecolor": "white",
            "ticks": ""
           },
           "bgcolor": "#E5ECF6",
           "caxis": {
            "gridcolor": "white",
            "linecolor": "white",
            "ticks": ""
           }
          },
          "title": {
           "x": 0.05
          },
          "xaxis": {
           "automargin": true,
           "gridcolor": "white",
           "linecolor": "white",
           "ticks": "",
           "title": {
            "standoff": 15
           },
           "zerolinecolor": "white",
           "zerolinewidth": 2
          },
          "yaxis": {
           "automargin": true,
           "gridcolor": "white",
           "linecolor": "white",
           "ticks": "",
           "title": {
            "standoff": 15
           },
           "zerolinecolor": "white",
           "zerolinewidth": 2
          }
         }
        },
        "title": {
         "text": "Raspodela primljenih golova"
        },
        "xaxis": {
         "anchor": "y",
         "domain": [
          0,
          1
         ],
         "title": {
          "text": "Goals_Conceded"
         }
        },
        "xaxis2": {
         "anchor": "y2",
         "domain": [
          0,
          1
         ],
         "matches": "x",
         "showgrid": true,
         "showticklabels": false
        },
        "yaxis": {
         "anchor": "x",
         "domain": [
          0,
          0.8316
         ],
         "title": {
          "text": "count"
         }
        },
        "yaxis2": {
         "anchor": "x2",
         "domain": [
          0.8416,
          1
         ],
         "matches": "y2",
         "showgrid": false,
         "showline": false,
         "showticklabels": false,
         "ticks": ""
        }
       }
      },
      "text/html": [
       "<div>                            <div id=\"9b8dde70-ff1a-4a31-8295-2363cf537abf\" class=\"plotly-graph-div\" style=\"height:525px; width:100%;\"></div>            <script type=\"text/javascript\">                require([\"plotly\"], function(Plotly) {                    window.PLOTLYENV=window.PLOTLYENV || {};                                    if (document.getElementById(\"9b8dde70-ff1a-4a31-8295-2363cf537abf\")) {                    Plotly.newPlot(                        \"9b8dde70-ff1a-4a31-8295-2363cf537abf\",                        [{\"alignmentgroup\":\"True\",\"bingroup\":\"x\",\"hovertemplate\":\"Goals_Conceded=%{x}<br>count=%{y}<extra></extra>\",\"legendgroup\":\"\",\"marker\":{\"color\":\"#636efa\",\"pattern\":{\"shape\":\"\"}},\"name\":\"\",\"nbinsx\":9,\"offsetgroup\":\"\",\"orientation\":\"v\",\"showlegend\":false,\"x\":[1,4,1,2,1,1,2,0,2,0,1,2,3,0,0,0,0,2,3,3,0,0,2,2,1,1,3,2,2,1,0,6,0,0,0,1,0,2,0,0,0,0,0,2,0,0,2,0,1,1,0,1,3,1,0,1,2,2,0,1,1,0,0,1,0,0,0,0,0,2,0,0,2,0,0,1,1,1,1,0,1,1,2,2,0,0,1,0,1,0,0,1,0,1,0,2,0,1,3,0,0,0,0,0,0,0,0,1,1,2,2,2,3,0,1,1,1,1,3,3,0,2,4,1,3,2,1,1,0,0,0,0,0,0,1,1,1,6,2,2,1,2,1,1,0,0,0,0,2,5,1,3,0,2,2,3,3,0,1,1,1,3,0,0,0,1,1,3,0,2,2,2,2,3,0,1,1,2,3,0,1,4,2,2,2,1,4,1,2,0,0,0,3,1,0,1,0,2,0,0,1,0,2,0,0,1,2,1,0,0,0,0,1,0,0,1,0,0,2,0,3,1,0,3,0,1,2,0,0,3,2,5,0,0,2,1,2,1,1,3,2,4,0,0,3,2,3,1,1,0,2,1,2,1,0,2,0,3,3,1,0,3,1,0,4,2,0,0,0,0,0,0,0,0,0,0,0,0,0,0,0,0,2,1,2,1,5,2,4,3,0,0,0,0,1,1,4,0,2,0,1,0,1,0,0,0,1,1,1,0,2,1,0,0,1,4,1,3,1,1,2,1,0,0,1,1,0,1,0,0,1,1,0,0,0,1,0,0,1,0,0,0,5,0,0,3,1,0,1,1,1,1,2,1,1,2,0,0,1,1,3,2,0,3,0,2,1,2,2,4,1,0,0,3,0,1,0,0,3,0,2,0,0,2,1,2,1,0,0,1,4,2,2,3,2,1,0,1,4,1,2,2,2,1,2,1,0,3,1,1,1,4,3,2,4,1,2,0,3,3,5,1,1,2,1,4,3,2,2,3,2,0,1,1,2,0,2,3,1,3,2,3,5,3,2,2,0,0,0,0,0,0,0,0,0,0,1,1,0,0,1,0,6,0,2,1,0,1,0,3,1,0,0,0,2,0,0,4,0,2,0,0,3,0,0,0,0,0,4,0,0,0,0,2,1,4,0,3,3,1,1,1,1,2,2,1,3,2,0,1,0,1,1,0,0,4,2,2,1,0,2,1,2,1,2,2,2,1,1,5,0,2,2,0,1,2,1,3,1,0,0,0,2,3,1,1,2,1,2,4,3,2,3,3,0,4,1,4,2,2,2,1,0,3,0,1,1,0,1,4,0,0,0,0,0,0,0,0,0,0,0,0,0,0,3,4,0,1,3,4,3,1,4,2,2,0,0,3,3,1,0,0,2,1,1,1,3,0,2,1,3,0,1,2,1,0,2,3,0,0,0,0,0,1,2,3,1,1,3,2,0,0,0,0,0,0,0,0,0,0,0,0,0,0,0,0,1,3,2,2,0,3,4,3,2,0,0,0,1,2,0,0,2,0,3,4,1,1,3,2,1,0,2,3,1,0,2,2,3,0,0,0,0,2,0,1,1,2,3,0,0,0,4,2,0,3,2,1,2,1,0,0,0,0,0,0,0,0,1,0,3,1,0,0,0,0,0,0,0,0,0,0,4,3,2,1,1,1,2,1,2,3,1,1,1,3,4,2,0,2,3,1,0,4,3,2,4,3,1,4,1,2,2,1,5,5,2,1,3,4,1,2,2,2,2,8,2,3,2,5,1,1,3,5,2,0,2,1,3,2,2,1,5,1,5,0,0,0,0,0,0,0,0,4,5,3,1,3],\"xaxis\":\"x\",\"yaxis\":\"y\",\"type\":\"histogram\"},{\"alignmentgroup\":\"True\",\"hovertemplate\":\"Goals_Conceded=%{x}<extra></extra>\",\"legendgroup\":\"\",\"marker\":{\"color\":\"#636efa\"},\"name\":\"\",\"notched\":true,\"offsetgroup\":\"\",\"showlegend\":false,\"x\":[1,4,1,2,1,1,2,0,2,0,1,2,3,0,0,0,0,2,3,3,0,0,2,2,1,1,3,2,2,1,0,6,0,0,0,1,0,2,0,0,0,0,0,2,0,0,2,0,1,1,0,1,3,1,0,1,2,2,0,1,1,0,0,1,0,0,0,0,0,2,0,0,2,0,0,1,1,1,1,0,1,1,2,2,0,0,1,0,1,0,0,1,0,1,0,2,0,1,3,0,0,0,0,0,0,0,0,1,1,2,2,2,3,0,1,1,1,1,3,3,0,2,4,1,3,2,1,1,0,0,0,0,0,0,1,1,1,6,2,2,1,2,1,1,0,0,0,0,2,5,1,3,0,2,2,3,3,0,1,1,1,3,0,0,0,1,1,3,0,2,2,2,2,3,0,1,1,2,3,0,1,4,2,2,2,1,4,1,2,0,0,0,3,1,0,1,0,2,0,0,1,0,2,0,0,1,2,1,0,0,0,0,1,0,0,1,0,0,2,0,3,1,0,3,0,1,2,0,0,3,2,5,0,0,2,1,2,1,1,3,2,4,0,0,3,2,3,1,1,0,2,1,2,1,0,2,0,3,3,1,0,3,1,0,4,2,0,0,0,0,0,0,0,0,0,0,0,0,0,0,0,0,2,1,2,1,5,2,4,3,0,0,0,0,1,1,4,0,2,0,1,0,1,0,0,0,1,1,1,0,2,1,0,0,1,4,1,3,1,1,2,1,0,0,1,1,0,1,0,0,1,1,0,0,0,1,0,0,1,0,0,0,5,0,0,3,1,0,1,1,1,1,2,1,1,2,0,0,1,1,3,2,0,3,0,2,1,2,2,4,1,0,0,3,0,1,0,0,3,0,2,0,0,2,1,2,1,0,0,1,4,2,2,3,2,1,0,1,4,1,2,2,2,1,2,1,0,3,1,1,1,4,3,2,4,1,2,0,3,3,5,1,1,2,1,4,3,2,2,3,2,0,1,1,2,0,2,3,1,3,2,3,5,3,2,2,0,0,0,0,0,0,0,0,0,0,1,1,0,0,1,0,6,0,2,1,0,1,0,3,1,0,0,0,2,0,0,4,0,2,0,0,3,0,0,0,0,0,4,0,0,0,0,2,1,4,0,3,3,1,1,1,1,2,2,1,3,2,0,1,0,1,1,0,0,4,2,2,1,0,2,1,2,1,2,2,2,1,1,5,0,2,2,0,1,2,1,3,1,0,0,0,2,3,1,1,2,1,2,4,3,2,3,3,0,4,1,4,2,2,2,1,0,3,0,1,1,0,1,4,0,0,0,0,0,0,0,0,0,0,0,0,0,0,3,4,0,1,3,4,3,1,4,2,2,0,0,3,3,1,0,0,2,1,1,1,3,0,2,1,3,0,1,2,1,0,2,3,0,0,0,0,0,1,2,3,1,1,3,2,0,0,0,0,0,0,0,0,0,0,0,0,0,0,0,0,1,3,2,2,0,3,4,3,2,0,0,0,1,2,0,0,2,0,3,4,1,1,3,2,1,0,2,3,1,0,2,2,3,0,0,0,0,2,0,1,1,2,3,0,0,0,4,2,0,3,2,1,2,1,0,0,0,0,0,0,0,0,1,0,3,1,0,0,0,0,0,0,0,0,0,0,4,3,2,1,1,1,2,1,2,3,1,1,1,3,4,2,0,2,3,1,0,4,3,2,4,3,1,4,1,2,2,1,5,5,2,1,3,4,1,2,2,2,2,8,2,3,2,5,1,1,3,5,2,0,2,1,3,2,2,1,5,1,5,0,0,0,0,0,0,0,0,4,5,3,1,3],\"xaxis\":\"x2\",\"yaxis\":\"y2\",\"type\":\"box\"}],                        {\"template\":{\"data\":{\"histogram2dcontour\":[{\"type\":\"histogram2dcontour\",\"colorbar\":{\"outlinewidth\":0,\"ticks\":\"\"},\"colorscale\":[[0.0,\"#0d0887\"],[0.1111111111111111,\"#46039f\"],[0.2222222222222222,\"#7201a8\"],[0.3333333333333333,\"#9c179e\"],[0.4444444444444444,\"#bd3786\"],[0.5555555555555556,\"#d8576b\"],[0.6666666666666666,\"#ed7953\"],[0.7777777777777778,\"#fb9f3a\"],[0.8888888888888888,\"#fdca26\"],[1.0,\"#f0f921\"]]}],\"choropleth\":[{\"type\":\"choropleth\",\"colorbar\":{\"outlinewidth\":0,\"ticks\":\"\"}}],\"histogram2d\":[{\"type\":\"histogram2d\",\"colorbar\":{\"outlinewidth\":0,\"ticks\":\"\"},\"colorscale\":[[0.0,\"#0d0887\"],[0.1111111111111111,\"#46039f\"],[0.2222222222222222,\"#7201a8\"],[0.3333333333333333,\"#9c179e\"],[0.4444444444444444,\"#bd3786\"],[0.5555555555555556,\"#d8576b\"],[0.6666666666666666,\"#ed7953\"],[0.7777777777777778,\"#fb9f3a\"],[0.8888888888888888,\"#fdca26\"],[1.0,\"#f0f921\"]]}],\"heatmap\":[{\"type\":\"heatmap\",\"colorbar\":{\"outlinewidth\":0,\"ticks\":\"\"},\"colorscale\":[[0.0,\"#0d0887\"],[0.1111111111111111,\"#46039f\"],[0.2222222222222222,\"#7201a8\"],[0.3333333333333333,\"#9c179e\"],[0.4444444444444444,\"#bd3786\"],[0.5555555555555556,\"#d8576b\"],[0.6666666666666666,\"#ed7953\"],[0.7777777777777778,\"#fb9f3a\"],[0.8888888888888888,\"#fdca26\"],[1.0,\"#f0f921\"]]}],\"heatmapgl\":[{\"type\":\"heatmapgl\",\"colorbar\":{\"outlinewidth\":0,\"ticks\":\"\"},\"colorscale\":[[0.0,\"#0d0887\"],[0.1111111111111111,\"#46039f\"],[0.2222222222222222,\"#7201a8\"],[0.3333333333333333,\"#9c179e\"],[0.4444444444444444,\"#bd3786\"],[0.5555555555555556,\"#d8576b\"],[0.6666666666666666,\"#ed7953\"],[0.7777777777777778,\"#fb9f3a\"],[0.8888888888888888,\"#fdca26\"],[1.0,\"#f0f921\"]]}],\"contourcarpet\":[{\"type\":\"contourcarpet\",\"colorbar\":{\"outlinewidth\":0,\"ticks\":\"\"}}],\"contour\":[{\"type\":\"contour\",\"colorbar\":{\"outlinewidth\":0,\"ticks\":\"\"},\"colorscale\":[[0.0,\"#0d0887\"],[0.1111111111111111,\"#46039f\"],[0.2222222222222222,\"#7201a8\"],[0.3333333333333333,\"#9c179e\"],[0.4444444444444444,\"#bd3786\"],[0.5555555555555556,\"#d8576b\"],[0.6666666666666666,\"#ed7953\"],[0.7777777777777778,\"#fb9f3a\"],[0.8888888888888888,\"#fdca26\"],[1.0,\"#f0f921\"]]}],\"surface\":[{\"type\":\"surface\",\"colorbar\":{\"outlinewidth\":0,\"ticks\":\"\"},\"colorscale\":[[0.0,\"#0d0887\"],[0.1111111111111111,\"#46039f\"],[0.2222222222222222,\"#7201a8\"],[0.3333333333333333,\"#9c179e\"],[0.4444444444444444,\"#bd3786\"],[0.5555555555555556,\"#d8576b\"],[0.6666666666666666,\"#ed7953\"],[0.7777777777777778,\"#fb9f3a\"],[0.8888888888888888,\"#fdca26\"],[1.0,\"#f0f921\"]]}],\"mesh3d\":[{\"type\":\"mesh3d\",\"colorbar\":{\"outlinewidth\":0,\"ticks\":\"\"}}],\"scatter\":[{\"fillpattern\":{\"fillmode\":\"overlay\",\"size\":10,\"solidity\":0.2},\"type\":\"scatter\"}],\"parcoords\":[{\"type\":\"parcoords\",\"line\":{\"colorbar\":{\"outlinewidth\":0,\"ticks\":\"\"}}}],\"scatterpolargl\":[{\"type\":\"scatterpolargl\",\"marker\":{\"colorbar\":{\"outlinewidth\":0,\"ticks\":\"\"}}}],\"bar\":[{\"error_x\":{\"color\":\"#2a3f5f\"},\"error_y\":{\"color\":\"#2a3f5f\"},\"marker\":{\"line\":{\"color\":\"#E5ECF6\",\"width\":0.5},\"pattern\":{\"fillmode\":\"overlay\",\"size\":10,\"solidity\":0.2}},\"type\":\"bar\"}],\"scattergeo\":[{\"type\":\"scattergeo\",\"marker\":{\"colorbar\":{\"outlinewidth\":0,\"ticks\":\"\"}}}],\"scatterpolar\":[{\"type\":\"scatterpolar\",\"marker\":{\"colorbar\":{\"outlinewidth\":0,\"ticks\":\"\"}}}],\"histogram\":[{\"marker\":{\"pattern\":{\"fillmode\":\"overlay\",\"size\":10,\"solidity\":0.2}},\"type\":\"histogram\"}],\"scattergl\":[{\"type\":\"scattergl\",\"marker\":{\"colorbar\":{\"outlinewidth\":0,\"ticks\":\"\"}}}],\"scatter3d\":[{\"type\":\"scatter3d\",\"line\":{\"colorbar\":{\"outlinewidth\":0,\"ticks\":\"\"}},\"marker\":{\"colorbar\":{\"outlinewidth\":0,\"ticks\":\"\"}}}],\"scattermapbox\":[{\"type\":\"scattermapbox\",\"marker\":{\"colorbar\":{\"outlinewidth\":0,\"ticks\":\"\"}}}],\"scatterternary\":[{\"type\":\"scatterternary\",\"marker\":{\"colorbar\":{\"outlinewidth\":0,\"ticks\":\"\"}}}],\"scattercarpet\":[{\"type\":\"scattercarpet\",\"marker\":{\"colorbar\":{\"outlinewidth\":0,\"ticks\":\"\"}}}],\"carpet\":[{\"aaxis\":{\"endlinecolor\":\"#2a3f5f\",\"gridcolor\":\"white\",\"linecolor\":\"white\",\"minorgridcolor\":\"white\",\"startlinecolor\":\"#2a3f5f\"},\"baxis\":{\"endlinecolor\":\"#2a3f5f\",\"gridcolor\":\"white\",\"linecolor\":\"white\",\"minorgridcolor\":\"white\",\"startlinecolor\":\"#2a3f5f\"},\"type\":\"carpet\"}],\"table\":[{\"cells\":{\"fill\":{\"color\":\"#EBF0F8\"},\"line\":{\"color\":\"white\"}},\"header\":{\"fill\":{\"color\":\"#C8D4E3\"},\"line\":{\"color\":\"white\"}},\"type\":\"table\"}],\"barpolar\":[{\"marker\":{\"line\":{\"color\":\"#E5ECF6\",\"width\":0.5},\"pattern\":{\"fillmode\":\"overlay\",\"size\":10,\"solidity\":0.2}},\"type\":\"barpolar\"}],\"pie\":[{\"automargin\":true,\"type\":\"pie\"}]},\"layout\":{\"autotypenumbers\":\"strict\",\"colorway\":[\"#636efa\",\"#EF553B\",\"#00cc96\",\"#ab63fa\",\"#FFA15A\",\"#19d3f3\",\"#FF6692\",\"#B6E880\",\"#FF97FF\",\"#FECB52\"],\"font\":{\"color\":\"#2a3f5f\"},\"hovermode\":\"closest\",\"hoverlabel\":{\"align\":\"left\"},\"paper_bgcolor\":\"white\",\"plot_bgcolor\":\"#E5ECF6\",\"polar\":{\"bgcolor\":\"#E5ECF6\",\"angularaxis\":{\"gridcolor\":\"white\",\"linecolor\":\"white\",\"ticks\":\"\"},\"radialaxis\":{\"gridcolor\":\"white\",\"linecolor\":\"white\",\"ticks\":\"\"}},\"ternary\":{\"bgcolor\":\"#E5ECF6\",\"aaxis\":{\"gridcolor\":\"white\",\"linecolor\":\"white\",\"ticks\":\"\"},\"baxis\":{\"gridcolor\":\"white\",\"linecolor\":\"white\",\"ticks\":\"\"},\"caxis\":{\"gridcolor\":\"white\",\"linecolor\":\"white\",\"ticks\":\"\"}},\"coloraxis\":{\"colorbar\":{\"outlinewidth\":0,\"ticks\":\"\"}},\"colorscale\":{\"sequential\":[[0.0,\"#0d0887\"],[0.1111111111111111,\"#46039f\"],[0.2222222222222222,\"#7201a8\"],[0.3333333333333333,\"#9c179e\"],[0.4444444444444444,\"#bd3786\"],[0.5555555555555556,\"#d8576b\"],[0.6666666666666666,\"#ed7953\"],[0.7777777777777778,\"#fb9f3a\"],[0.8888888888888888,\"#fdca26\"],[1.0,\"#f0f921\"]],\"sequentialminus\":[[0.0,\"#0d0887\"],[0.1111111111111111,\"#46039f\"],[0.2222222222222222,\"#7201a8\"],[0.3333333333333333,\"#9c179e\"],[0.4444444444444444,\"#bd3786\"],[0.5555555555555556,\"#d8576b\"],[0.6666666666666666,\"#ed7953\"],[0.7777777777777778,\"#fb9f3a\"],[0.8888888888888888,\"#fdca26\"],[1.0,\"#f0f921\"]],\"diverging\":[[0,\"#8e0152\"],[0.1,\"#c51b7d\"],[0.2,\"#de77ae\"],[0.3,\"#f1b6da\"],[0.4,\"#fde0ef\"],[0.5,\"#f7f7f7\"],[0.6,\"#e6f5d0\"],[0.7,\"#b8e186\"],[0.8,\"#7fbc41\"],[0.9,\"#4d9221\"],[1,\"#276419\"]]},\"xaxis\":{\"gridcolor\":\"white\",\"linecolor\":\"white\",\"ticks\":\"\",\"title\":{\"standoff\":15},\"zerolinecolor\":\"white\",\"automargin\":true,\"zerolinewidth\":2},\"yaxis\":{\"gridcolor\":\"white\",\"linecolor\":\"white\",\"ticks\":\"\",\"title\":{\"standoff\":15},\"zerolinecolor\":\"white\",\"automargin\":true,\"zerolinewidth\":2},\"scene\":{\"xaxis\":{\"backgroundcolor\":\"#E5ECF6\",\"gridcolor\":\"white\",\"linecolor\":\"white\",\"showbackground\":true,\"ticks\":\"\",\"zerolinecolor\":\"white\",\"gridwidth\":2},\"yaxis\":{\"backgroundcolor\":\"#E5ECF6\",\"gridcolor\":\"white\",\"linecolor\":\"white\",\"showbackground\":true,\"ticks\":\"\",\"zerolinecolor\":\"white\",\"gridwidth\":2},\"zaxis\":{\"backgroundcolor\":\"#E5ECF6\",\"gridcolor\":\"white\",\"linecolor\":\"white\",\"showbackground\":true,\"ticks\":\"\",\"zerolinecolor\":\"white\",\"gridwidth\":2}},\"shapedefaults\":{\"line\":{\"color\":\"#2a3f5f\"}},\"annotationdefaults\":{\"arrowcolor\":\"#2a3f5f\",\"arrowhead\":0,\"arrowwidth\":1},\"geo\":{\"bgcolor\":\"white\",\"landcolor\":\"#E5ECF6\",\"subunitcolor\":\"white\",\"showland\":true,\"showlakes\":true,\"lakecolor\":\"white\"},\"title\":{\"x\":0.05},\"mapbox\":{\"style\":\"light\"}}},\"xaxis\":{\"anchor\":\"y\",\"domain\":[0.0,1.0],\"title\":{\"text\":\"Goals_Conceded\"}},\"yaxis\":{\"anchor\":\"x\",\"domain\":[0.0,0.8316],\"title\":{\"text\":\"count\"}},\"xaxis2\":{\"anchor\":\"y2\",\"domain\":[0.0,1.0],\"matches\":\"x\",\"showticklabels\":false,\"showgrid\":true},\"yaxis2\":{\"anchor\":\"x2\",\"domain\":[0.8416,1.0],\"matches\":\"y2\",\"showticklabels\":false,\"showline\":false,\"ticks\":\"\",\"showgrid\":false},\"legend\":{\"tracegroupgap\":0},\"title\":{\"text\":\"Raspodela primljenih golova\"},\"barmode\":\"relative\",\"bargap\":0.1},                        {\"responsive\": true}                    ).then(function(){\n",
       "                            \n",
       "var gd = document.getElementById('9b8dde70-ff1a-4a31-8295-2363cf537abf');\n",
       "var x = new MutationObserver(function (mutations, observer) {{\n",
       "        var display = window.getComputedStyle(gd).display;\n",
       "        if (!display || display === 'none') {{\n",
       "            console.log([gd, 'removed!']);\n",
       "            Plotly.purge(gd);\n",
       "            observer.disconnect();\n",
       "        }}\n",
       "}});\n",
       "\n",
       "// Listen for the removal of the full notebook cells\n",
       "var notebookContainer = gd.closest('#notebook-container');\n",
       "if (notebookContainer) {{\n",
       "    x.observe(notebookContainer, {childList: true});\n",
       "}}\n",
       "\n",
       "// Listen for the clearing of the current output cell\n",
       "var outputEl = gd.closest('.output');\n",
       "if (outputEl) {{\n",
       "    x.observe(outputEl, {childList: true});\n",
       "}}\n",
       "\n",
       "                        })                };                });            </script>        </div>"
      ]
     },
     "metadata": {},
     "output_type": "display_data"
    }
   ],
   "source": [
    "fig=px.histogram(df_gk,\n",
    "                 x='Goals_Conceded',\n",
    "                 marginal='box',\n",
    "                 nbins=9,\n",
    "                 title='Raspodela primljenih golova')\n",
    "\n",
    "fig.update_layout(bargap=0.1)\n",
    "fig.show()"
   ]
  },
  {
   "cell_type": "markdown",
   "id": "bcb70895",
   "metadata": {},
   "source": [
    "U nesto manje od 50% kola nije primljen nijedan gol,a raspodela primljenih golova ravnomerno opada(veci broj primljenih golova samo u ekstremnim slucajevima donosi do negativnih poena).Neprimljeni gol je 4 poena,a svaki sledeci je mala razlika izmedju broja golova"
   ]
  },
  {
   "cell_type": "markdown",
   "id": "772021f6",
   "metadata": {},
   "source": [
    "**CLEAN SHEET**"
   ]
  },
  {
   "cell_type": "code",
   "execution_count": 76,
   "id": "bc13e2b7",
   "metadata": {},
   "outputs": [
    {
     "data": {
      "text/plain": [
       "count    798.000000\n",
       "mean       0.164160\n",
       "std        0.370653\n",
       "min        0.000000\n",
       "25%        0.000000\n",
       "50%        0.000000\n",
       "75%        0.000000\n",
       "max        1.000000\n",
       "Name: Clean_Sheet, dtype: float64"
      ]
     },
     "execution_count": 76,
     "metadata": {},
     "output_type": "execute_result"
    }
   ],
   "source": [
    "df_gk.Clean_Sheet.describe()"
   ]
  },
  {
   "cell_type": "code",
   "execution_count": 77,
   "id": "dc450210",
   "metadata": {},
   "outputs": [
    {
     "data": {
      "application/vnd.plotly.v1+json": {
       "config": {
        "plotlyServerURL": "https://plot.ly"
       },
       "data": [
        {
         "alignmentgroup": "True",
         "bingroup": "x",
         "hovertemplate": "Clean_Sheet=%{x}<br>count=%{y}<extra></extra>",
         "legendgroup": "",
         "marker": {
          "color": "yellow",
          "pattern": {
           "shape": ""
          }
         },
         "name": "",
         "nbinsx": 2,
         "offsetgroup": "",
         "orientation": "v",
         "showlegend": false,
         "type": "histogram",
         "x": [
          0,
          0,
          0,
          0,
          0,
          0,
          0,
          1,
          0,
          1,
          0,
          0,
          0,
          1,
          1,
          1,
          1,
          0,
          0,
          0,
          1,
          1,
          0,
          0,
          0,
          0,
          0,
          0,
          0,
          0,
          1,
          0,
          1,
          1,
          1,
          0,
          1,
          0,
          0,
          0,
          0,
          0,
          1,
          0,
          1,
          1,
          0,
          1,
          0,
          0,
          0,
          0,
          0,
          0,
          1,
          0,
          0,
          0,
          1,
          0,
          0,
          1,
          1,
          0,
          1,
          0,
          1,
          1,
          1,
          0,
          1,
          1,
          0,
          1,
          1,
          0,
          0,
          0,
          0,
          1,
          0,
          0,
          0,
          0,
          1,
          1,
          0,
          1,
          0,
          0,
          0,
          0,
          1,
          0,
          1,
          0,
          1,
          0,
          0,
          0,
          0,
          0,
          0,
          0,
          0,
          0,
          0,
          0,
          0,
          0,
          0,
          0,
          0,
          1,
          0,
          0,
          0,
          0,
          0,
          0,
          1,
          0,
          0,
          0,
          0,
          0,
          0,
          0,
          0,
          0,
          0,
          1,
          1,
          1,
          0,
          0,
          0,
          0,
          0,
          0,
          0,
          0,
          0,
          0,
          0,
          0,
          0,
          0,
          0,
          0,
          0,
          0,
          1,
          0,
          0,
          0,
          0,
          1,
          0,
          0,
          0,
          0,
          1,
          1,
          1,
          0,
          0,
          0,
          1,
          0,
          0,
          0,
          0,
          0,
          1,
          0,
          0,
          0,
          0,
          1,
          0,
          0,
          0,
          0,
          0,
          0,
          0,
          0,
          0,
          1,
          0,
          0,
          0,
          0,
          0,
          0,
          0,
          0,
          0,
          0,
          0,
          0,
          0,
          0,
          0,
          0,
          0,
          0,
          0,
          0,
          0,
          0,
          0,
          0,
          1,
          0,
          0,
          1,
          0,
          1,
          0,
          0,
          0,
          0,
          1,
          0,
          0,
          0,
          1,
          0,
          0,
          0,
          1,
          1,
          0,
          0,
          0,
          0,
          0,
          0,
          0,
          0,
          1,
          1,
          0,
          0,
          0,
          0,
          0,
          1,
          0,
          0,
          0,
          0,
          1,
          0,
          1,
          0,
          0,
          0,
          1,
          0,
          0,
          1,
          0,
          0,
          0,
          0,
          0,
          0,
          0,
          0,
          0,
          0,
          0,
          0,
          0,
          0,
          0,
          0,
          0,
          0,
          0,
          0,
          0,
          0,
          0,
          0,
          0,
          0,
          0,
          0,
          0,
          0,
          0,
          0,
          0,
          1,
          0,
          1,
          0,
          1,
          0,
          1,
          1,
          1,
          0,
          0,
          0,
          1,
          0,
          0,
          0,
          1,
          0,
          0,
          0,
          0,
          0,
          0,
          0,
          0,
          1,
          0,
          0,
          0,
          1,
          0,
          1,
          1,
          0,
          0,
          0,
          0,
          0,
          0,
          1,
          0,
          0,
          1,
          1,
          0,
          0,
          1,
          0,
          0,
          0,
          1,
          0,
          0,
          0,
          0,
          0,
          0,
          0,
          0,
          1,
          1,
          0,
          0,
          0,
          0,
          1,
          0,
          1,
          0,
          0,
          0,
          0,
          0,
          0,
          1,
          0,
          0,
          1,
          0,
          0,
          0,
          0,
          0,
          0,
          1,
          1,
          0,
          0,
          0,
          0,
          1,
          1,
          0,
          0,
          0,
          0,
          0,
          0,
          0,
          1,
          0,
          0,
          0,
          0,
          0,
          0,
          0,
          0,
          0,
          1,
          0,
          0,
          0,
          0,
          0,
          0,
          0,
          0,
          0,
          0,
          1,
          0,
          0,
          0,
          0,
          0,
          0,
          0,
          0,
          0,
          0,
          0,
          0,
          0,
          1,
          0,
          0,
          0,
          1,
          0,
          0,
          0,
          0,
          0,
          0,
          0,
          0,
          0,
          0,
          0,
          0,
          0,
          0,
          0,
          0,
          0,
          0,
          0,
          0,
          0,
          0,
          0,
          0,
          0,
          0,
          0,
          0,
          0,
          0,
          0,
          0,
          0,
          0,
          0,
          0,
          0,
          0,
          0,
          1,
          1,
          0,
          0,
          0,
          0,
          0,
          0,
          0,
          0,
          0,
          0,
          0,
          0,
          0,
          0,
          0,
          0,
          0,
          0,
          0,
          1,
          0,
          0,
          0,
          0,
          0,
          0,
          0,
          0,
          0,
          0,
          0,
          0,
          0,
          0,
          0,
          0,
          1,
          1,
          0,
          0,
          0,
          0,
          1,
          0,
          0,
          0,
          0,
          0,
          0,
          0,
          0,
          0,
          0,
          0,
          0,
          0,
          1,
          0,
          0,
          0,
          0,
          0,
          0,
          1,
          1,
          0,
          0,
          0,
          0,
          0,
          0,
          0,
          0,
          0,
          0,
          0,
          0,
          1,
          0,
          0,
          0,
          0,
          0,
          0,
          0,
          1,
          0,
          1,
          0,
          0,
          1,
          0,
          0,
          0,
          0,
          0,
          0,
          0,
          0,
          0,
          0,
          0,
          0,
          0,
          0,
          0,
          0,
          0,
          0,
          1,
          0,
          0,
          0,
          0,
          0,
          0,
          0,
          0,
          0,
          1,
          0,
          0,
          0,
          1,
          1,
          0,
          0,
          0,
          0,
          0,
          0,
          0,
          0,
          0,
          1,
          0,
          0,
          0,
          1,
          0,
          0,
          0,
          0,
          0,
          0,
          0,
          0,
          0,
          0,
          0,
          0,
          0,
          0,
          0,
          0,
          0,
          0,
          0,
          0,
          0,
          0,
          0,
          0,
          0,
          0,
          0,
          0,
          0,
          0,
          0,
          0,
          0,
          0,
          1,
          0,
          0,
          0,
          0,
          0,
          0,
          1,
          0,
          0,
          1,
          1,
          0,
          1,
          0,
          0,
          0,
          0,
          0,
          0,
          0,
          1,
          0,
          0,
          0,
          1,
          0,
          0,
          0,
          0,
          0,
          0,
          0,
          0,
          1,
          0,
          0,
          0,
          0,
          1,
          1,
          1,
          0,
          0,
          1,
          0,
          0,
          0,
          0,
          0,
          0,
          0,
          0,
          0,
          0,
          0,
          0,
          0,
          0,
          1,
          0,
          0,
          0,
          0,
          0,
          0,
          0,
          0,
          0,
          0,
          0,
          0,
          0,
          0,
          0,
          0,
          0,
          0,
          0,
          0,
          0,
          0,
          0,
          0,
          0,
          0,
          0,
          0,
          1,
          0,
          0,
          0,
          1,
          0,
          0,
          0,
          0,
          0,
          0,
          0,
          0,
          0,
          0,
          0,
          0,
          0,
          0,
          0,
          0,
          0,
          0,
          0,
          0,
          0,
          0,
          0,
          0,
          0,
          0,
          0,
          0,
          0,
          0,
          0,
          0,
          1,
          0,
          0,
          0,
          0,
          0,
          0,
          0,
          0,
          0,
          0,
          0,
          0,
          0,
          0,
          0,
          0,
          0,
          0,
          0,
          0,
          0,
          0
         ],
         "xaxis": "x",
         "yaxis": "y"
        },
        {
         "alignmentgroup": "True",
         "hovertemplate": "Clean_Sheet=%{x}<extra></extra>",
         "legendgroup": "",
         "marker": {
          "color": "yellow"
         },
         "name": "",
         "notched": true,
         "offsetgroup": "",
         "showlegend": false,
         "type": "box",
         "x": [
          0,
          0,
          0,
          0,
          0,
          0,
          0,
          1,
          0,
          1,
          0,
          0,
          0,
          1,
          1,
          1,
          1,
          0,
          0,
          0,
          1,
          1,
          0,
          0,
          0,
          0,
          0,
          0,
          0,
          0,
          1,
          0,
          1,
          1,
          1,
          0,
          1,
          0,
          0,
          0,
          0,
          0,
          1,
          0,
          1,
          1,
          0,
          1,
          0,
          0,
          0,
          0,
          0,
          0,
          1,
          0,
          0,
          0,
          1,
          0,
          0,
          1,
          1,
          0,
          1,
          0,
          1,
          1,
          1,
          0,
          1,
          1,
          0,
          1,
          1,
          0,
          0,
          0,
          0,
          1,
          0,
          0,
          0,
          0,
          1,
          1,
          0,
          1,
          0,
          0,
          0,
          0,
          1,
          0,
          1,
          0,
          1,
          0,
          0,
          0,
          0,
          0,
          0,
          0,
          0,
          0,
          0,
          0,
          0,
          0,
          0,
          0,
          0,
          1,
          0,
          0,
          0,
          0,
          0,
          0,
          1,
          0,
          0,
          0,
          0,
          0,
          0,
          0,
          0,
          0,
          0,
          1,
          1,
          1,
          0,
          0,
          0,
          0,
          0,
          0,
          0,
          0,
          0,
          0,
          0,
          0,
          0,
          0,
          0,
          0,
          0,
          0,
          1,
          0,
          0,
          0,
          0,
          1,
          0,
          0,
          0,
          0,
          1,
          1,
          1,
          0,
          0,
          0,
          1,
          0,
          0,
          0,
          0,
          0,
          1,
          0,
          0,
          0,
          0,
          1,
          0,
          0,
          0,
          0,
          0,
          0,
          0,
          0,
          0,
          1,
          0,
          0,
          0,
          0,
          0,
          0,
          0,
          0,
          0,
          0,
          0,
          0,
          0,
          0,
          0,
          0,
          0,
          0,
          0,
          0,
          0,
          0,
          0,
          0,
          1,
          0,
          0,
          1,
          0,
          1,
          0,
          0,
          0,
          0,
          1,
          0,
          0,
          0,
          1,
          0,
          0,
          0,
          1,
          1,
          0,
          0,
          0,
          0,
          0,
          0,
          0,
          0,
          1,
          1,
          0,
          0,
          0,
          0,
          0,
          1,
          0,
          0,
          0,
          0,
          1,
          0,
          1,
          0,
          0,
          0,
          1,
          0,
          0,
          1,
          0,
          0,
          0,
          0,
          0,
          0,
          0,
          0,
          0,
          0,
          0,
          0,
          0,
          0,
          0,
          0,
          0,
          0,
          0,
          0,
          0,
          0,
          0,
          0,
          0,
          0,
          0,
          0,
          0,
          0,
          0,
          0,
          0,
          1,
          0,
          1,
          0,
          1,
          0,
          1,
          1,
          1,
          0,
          0,
          0,
          1,
          0,
          0,
          0,
          1,
          0,
          0,
          0,
          0,
          0,
          0,
          0,
          0,
          1,
          0,
          0,
          0,
          1,
          0,
          1,
          1,
          0,
          0,
          0,
          0,
          0,
          0,
          1,
          0,
          0,
          1,
          1,
          0,
          0,
          1,
          0,
          0,
          0,
          1,
          0,
          0,
          0,
          0,
          0,
          0,
          0,
          0,
          1,
          1,
          0,
          0,
          0,
          0,
          1,
          0,
          1,
          0,
          0,
          0,
          0,
          0,
          0,
          1,
          0,
          0,
          1,
          0,
          0,
          0,
          0,
          0,
          0,
          1,
          1,
          0,
          0,
          0,
          0,
          1,
          1,
          0,
          0,
          0,
          0,
          0,
          0,
          0,
          1,
          0,
          0,
          0,
          0,
          0,
          0,
          0,
          0,
          0,
          1,
          0,
          0,
          0,
          0,
          0,
          0,
          0,
          0,
          0,
          0,
          1,
          0,
          0,
          0,
          0,
          0,
          0,
          0,
          0,
          0,
          0,
          0,
          0,
          0,
          1,
          0,
          0,
          0,
          1,
          0,
          0,
          0,
          0,
          0,
          0,
          0,
          0,
          0,
          0,
          0,
          0,
          0,
          0,
          0,
          0,
          0,
          0,
          0,
          0,
          0,
          0,
          0,
          0,
          0,
          0,
          0,
          0,
          0,
          0,
          0,
          0,
          0,
          0,
          0,
          0,
          0,
          0,
          0,
          1,
          1,
          0,
          0,
          0,
          0,
          0,
          0,
          0,
          0,
          0,
          0,
          0,
          0,
          0,
          0,
          0,
          0,
          0,
          0,
          0,
          1,
          0,
          0,
          0,
          0,
          0,
          0,
          0,
          0,
          0,
          0,
          0,
          0,
          0,
          0,
          0,
          0,
          1,
          1,
          0,
          0,
          0,
          0,
          1,
          0,
          0,
          0,
          0,
          0,
          0,
          0,
          0,
          0,
          0,
          0,
          0,
          0,
          1,
          0,
          0,
          0,
          0,
          0,
          0,
          1,
          1,
          0,
          0,
          0,
          0,
          0,
          0,
          0,
          0,
          0,
          0,
          0,
          0,
          1,
          0,
          0,
          0,
          0,
          0,
          0,
          0,
          1,
          0,
          1,
          0,
          0,
          1,
          0,
          0,
          0,
          0,
          0,
          0,
          0,
          0,
          0,
          0,
          0,
          0,
          0,
          0,
          0,
          0,
          0,
          0,
          1,
          0,
          0,
          0,
          0,
          0,
          0,
          0,
          0,
          0,
          1,
          0,
          0,
          0,
          1,
          1,
          0,
          0,
          0,
          0,
          0,
          0,
          0,
          0,
          0,
          1,
          0,
          0,
          0,
          1,
          0,
          0,
          0,
          0,
          0,
          0,
          0,
          0,
          0,
          0,
          0,
          0,
          0,
          0,
          0,
          0,
          0,
          0,
          0,
          0,
          0,
          0,
          0,
          0,
          0,
          0,
          0,
          0,
          0,
          0,
          0,
          0,
          0,
          0,
          1,
          0,
          0,
          0,
          0,
          0,
          0,
          1,
          0,
          0,
          1,
          1,
          0,
          1,
          0,
          0,
          0,
          0,
          0,
          0,
          0,
          1,
          0,
          0,
          0,
          1,
          0,
          0,
          0,
          0,
          0,
          0,
          0,
          0,
          1,
          0,
          0,
          0,
          0,
          1,
          1,
          1,
          0,
          0,
          1,
          0,
          0,
          0,
          0,
          0,
          0,
          0,
          0,
          0,
          0,
          0,
          0,
          0,
          0,
          1,
          0,
          0,
          0,
          0,
          0,
          0,
          0,
          0,
          0,
          0,
          0,
          0,
          0,
          0,
          0,
          0,
          0,
          0,
          0,
          0,
          0,
          0,
          0,
          0,
          0,
          0,
          0,
          0,
          1,
          0,
          0,
          0,
          1,
          0,
          0,
          0,
          0,
          0,
          0,
          0,
          0,
          0,
          0,
          0,
          0,
          0,
          0,
          0,
          0,
          0,
          0,
          0,
          0,
          0,
          0,
          0,
          0,
          0,
          0,
          0,
          0,
          0,
          0,
          0,
          0,
          1,
          0,
          0,
          0,
          0,
          0,
          0,
          0,
          0,
          0,
          0,
          0,
          0,
          0,
          0,
          0,
          0,
          0,
          0,
          0,
          0,
          0,
          0
         ],
         "xaxis": "x2",
         "yaxis": "y2"
        }
       ],
       "layout": {
        "bargap": 0.1,
        "barmode": "relative",
        "legend": {
         "tracegroupgap": 0
        },
        "template": {
         "data": {
          "bar": [
           {
            "error_x": {
             "color": "#2a3f5f"
            },
            "error_y": {
             "color": "#2a3f5f"
            },
            "marker": {
             "line": {
              "color": "#E5ECF6",
              "width": 0.5
             },
             "pattern": {
              "fillmode": "overlay",
              "size": 10,
              "solidity": 0.2
             }
            },
            "type": "bar"
           }
          ],
          "barpolar": [
           {
            "marker": {
             "line": {
              "color": "#E5ECF6",
              "width": 0.5
             },
             "pattern": {
              "fillmode": "overlay",
              "size": 10,
              "solidity": 0.2
             }
            },
            "type": "barpolar"
           }
          ],
          "carpet": [
           {
            "aaxis": {
             "endlinecolor": "#2a3f5f",
             "gridcolor": "white",
             "linecolor": "white",
             "minorgridcolor": "white",
             "startlinecolor": "#2a3f5f"
            },
            "baxis": {
             "endlinecolor": "#2a3f5f",
             "gridcolor": "white",
             "linecolor": "white",
             "minorgridcolor": "white",
             "startlinecolor": "#2a3f5f"
            },
            "type": "carpet"
           }
          ],
          "choropleth": [
           {
            "colorbar": {
             "outlinewidth": 0,
             "ticks": ""
            },
            "type": "choropleth"
           }
          ],
          "contour": [
           {
            "colorbar": {
             "outlinewidth": 0,
             "ticks": ""
            },
            "colorscale": [
             [
              0,
              "#0d0887"
             ],
             [
              0.1111111111111111,
              "#46039f"
             ],
             [
              0.2222222222222222,
              "#7201a8"
             ],
             [
              0.3333333333333333,
              "#9c179e"
             ],
             [
              0.4444444444444444,
              "#bd3786"
             ],
             [
              0.5555555555555556,
              "#d8576b"
             ],
             [
              0.6666666666666666,
              "#ed7953"
             ],
             [
              0.7777777777777778,
              "#fb9f3a"
             ],
             [
              0.8888888888888888,
              "#fdca26"
             ],
             [
              1,
              "#f0f921"
             ]
            ],
            "type": "contour"
           }
          ],
          "contourcarpet": [
           {
            "colorbar": {
             "outlinewidth": 0,
             "ticks": ""
            },
            "type": "contourcarpet"
           }
          ],
          "heatmap": [
           {
            "colorbar": {
             "outlinewidth": 0,
             "ticks": ""
            },
            "colorscale": [
             [
              0,
              "#0d0887"
             ],
             [
              0.1111111111111111,
              "#46039f"
             ],
             [
              0.2222222222222222,
              "#7201a8"
             ],
             [
              0.3333333333333333,
              "#9c179e"
             ],
             [
              0.4444444444444444,
              "#bd3786"
             ],
             [
              0.5555555555555556,
              "#d8576b"
             ],
             [
              0.6666666666666666,
              "#ed7953"
             ],
             [
              0.7777777777777778,
              "#fb9f3a"
             ],
             [
              0.8888888888888888,
              "#fdca26"
             ],
             [
              1,
              "#f0f921"
             ]
            ],
            "type": "heatmap"
           }
          ],
          "heatmapgl": [
           {
            "colorbar": {
             "outlinewidth": 0,
             "ticks": ""
            },
            "colorscale": [
             [
              0,
              "#0d0887"
             ],
             [
              0.1111111111111111,
              "#46039f"
             ],
             [
              0.2222222222222222,
              "#7201a8"
             ],
             [
              0.3333333333333333,
              "#9c179e"
             ],
             [
              0.4444444444444444,
              "#bd3786"
             ],
             [
              0.5555555555555556,
              "#d8576b"
             ],
             [
              0.6666666666666666,
              "#ed7953"
             ],
             [
              0.7777777777777778,
              "#fb9f3a"
             ],
             [
              0.8888888888888888,
              "#fdca26"
             ],
             [
              1,
              "#f0f921"
             ]
            ],
            "type": "heatmapgl"
           }
          ],
          "histogram": [
           {
            "marker": {
             "pattern": {
              "fillmode": "overlay",
              "size": 10,
              "solidity": 0.2
             }
            },
            "type": "histogram"
           }
          ],
          "histogram2d": [
           {
            "colorbar": {
             "outlinewidth": 0,
             "ticks": ""
            },
            "colorscale": [
             [
              0,
              "#0d0887"
             ],
             [
              0.1111111111111111,
              "#46039f"
             ],
             [
              0.2222222222222222,
              "#7201a8"
             ],
             [
              0.3333333333333333,
              "#9c179e"
             ],
             [
              0.4444444444444444,
              "#bd3786"
             ],
             [
              0.5555555555555556,
              "#d8576b"
             ],
             [
              0.6666666666666666,
              "#ed7953"
             ],
             [
              0.7777777777777778,
              "#fb9f3a"
             ],
             [
              0.8888888888888888,
              "#fdca26"
             ],
             [
              1,
              "#f0f921"
             ]
            ],
            "type": "histogram2d"
           }
          ],
          "histogram2dcontour": [
           {
            "colorbar": {
             "outlinewidth": 0,
             "ticks": ""
            },
            "colorscale": [
             [
              0,
              "#0d0887"
             ],
             [
              0.1111111111111111,
              "#46039f"
             ],
             [
              0.2222222222222222,
              "#7201a8"
             ],
             [
              0.3333333333333333,
              "#9c179e"
             ],
             [
              0.4444444444444444,
              "#bd3786"
             ],
             [
              0.5555555555555556,
              "#d8576b"
             ],
             [
              0.6666666666666666,
              "#ed7953"
             ],
             [
              0.7777777777777778,
              "#fb9f3a"
             ],
             [
              0.8888888888888888,
              "#fdca26"
             ],
             [
              1,
              "#f0f921"
             ]
            ],
            "type": "histogram2dcontour"
           }
          ],
          "mesh3d": [
           {
            "colorbar": {
             "outlinewidth": 0,
             "ticks": ""
            },
            "type": "mesh3d"
           }
          ],
          "parcoords": [
           {
            "line": {
             "colorbar": {
              "outlinewidth": 0,
              "ticks": ""
             }
            },
            "type": "parcoords"
           }
          ],
          "pie": [
           {
            "automargin": true,
            "type": "pie"
           }
          ],
          "scatter": [
           {
            "fillpattern": {
             "fillmode": "overlay",
             "size": 10,
             "solidity": 0.2
            },
            "type": "scatter"
           }
          ],
          "scatter3d": [
           {
            "line": {
             "colorbar": {
              "outlinewidth": 0,
              "ticks": ""
             }
            },
            "marker": {
             "colorbar": {
              "outlinewidth": 0,
              "ticks": ""
             }
            },
            "type": "scatter3d"
           }
          ],
          "scattercarpet": [
           {
            "marker": {
             "colorbar": {
              "outlinewidth": 0,
              "ticks": ""
             }
            },
            "type": "scattercarpet"
           }
          ],
          "scattergeo": [
           {
            "marker": {
             "colorbar": {
              "outlinewidth": 0,
              "ticks": ""
             }
            },
            "type": "scattergeo"
           }
          ],
          "scattergl": [
           {
            "marker": {
             "colorbar": {
              "outlinewidth": 0,
              "ticks": ""
             }
            },
            "type": "scattergl"
           }
          ],
          "scattermapbox": [
           {
            "marker": {
             "colorbar": {
              "outlinewidth": 0,
              "ticks": ""
             }
            },
            "type": "scattermapbox"
           }
          ],
          "scatterpolar": [
           {
            "marker": {
             "colorbar": {
              "outlinewidth": 0,
              "ticks": ""
             }
            },
            "type": "scatterpolar"
           }
          ],
          "scatterpolargl": [
           {
            "marker": {
             "colorbar": {
              "outlinewidth": 0,
              "ticks": ""
             }
            },
            "type": "scatterpolargl"
           }
          ],
          "scatterternary": [
           {
            "marker": {
             "colorbar": {
              "outlinewidth": 0,
              "ticks": ""
             }
            },
            "type": "scatterternary"
           }
          ],
          "surface": [
           {
            "colorbar": {
             "outlinewidth": 0,
             "ticks": ""
            },
            "colorscale": [
             [
              0,
              "#0d0887"
             ],
             [
              0.1111111111111111,
              "#46039f"
             ],
             [
              0.2222222222222222,
              "#7201a8"
             ],
             [
              0.3333333333333333,
              "#9c179e"
             ],
             [
              0.4444444444444444,
              "#bd3786"
             ],
             [
              0.5555555555555556,
              "#d8576b"
             ],
             [
              0.6666666666666666,
              "#ed7953"
             ],
             [
              0.7777777777777778,
              "#fb9f3a"
             ],
             [
              0.8888888888888888,
              "#fdca26"
             ],
             [
              1,
              "#f0f921"
             ]
            ],
            "type": "surface"
           }
          ],
          "table": [
           {
            "cells": {
             "fill": {
              "color": "#EBF0F8"
             },
             "line": {
              "color": "white"
             }
            },
            "header": {
             "fill": {
              "color": "#C8D4E3"
             },
             "line": {
              "color": "white"
             }
            },
            "type": "table"
           }
          ]
         },
         "layout": {
          "annotationdefaults": {
           "arrowcolor": "#2a3f5f",
           "arrowhead": 0,
           "arrowwidth": 1
          },
          "autotypenumbers": "strict",
          "coloraxis": {
           "colorbar": {
            "outlinewidth": 0,
            "ticks": ""
           }
          },
          "colorscale": {
           "diverging": [
            [
             0,
             "#8e0152"
            ],
            [
             0.1,
             "#c51b7d"
            ],
            [
             0.2,
             "#de77ae"
            ],
            [
             0.3,
             "#f1b6da"
            ],
            [
             0.4,
             "#fde0ef"
            ],
            [
             0.5,
             "#f7f7f7"
            ],
            [
             0.6,
             "#e6f5d0"
            ],
            [
             0.7,
             "#b8e186"
            ],
            [
             0.8,
             "#7fbc41"
            ],
            [
             0.9,
             "#4d9221"
            ],
            [
             1,
             "#276419"
            ]
           ],
           "sequential": [
            [
             0,
             "#0d0887"
            ],
            [
             0.1111111111111111,
             "#46039f"
            ],
            [
             0.2222222222222222,
             "#7201a8"
            ],
            [
             0.3333333333333333,
             "#9c179e"
            ],
            [
             0.4444444444444444,
             "#bd3786"
            ],
            [
             0.5555555555555556,
             "#d8576b"
            ],
            [
             0.6666666666666666,
             "#ed7953"
            ],
            [
             0.7777777777777778,
             "#fb9f3a"
            ],
            [
             0.8888888888888888,
             "#fdca26"
            ],
            [
             1,
             "#f0f921"
            ]
           ],
           "sequentialminus": [
            [
             0,
             "#0d0887"
            ],
            [
             0.1111111111111111,
             "#46039f"
            ],
            [
             0.2222222222222222,
             "#7201a8"
            ],
            [
             0.3333333333333333,
             "#9c179e"
            ],
            [
             0.4444444444444444,
             "#bd3786"
            ],
            [
             0.5555555555555556,
             "#d8576b"
            ],
            [
             0.6666666666666666,
             "#ed7953"
            ],
            [
             0.7777777777777778,
             "#fb9f3a"
            ],
            [
             0.8888888888888888,
             "#fdca26"
            ],
            [
             1,
             "#f0f921"
            ]
           ]
          },
          "colorway": [
           "#636efa",
           "#EF553B",
           "#00cc96",
           "#ab63fa",
           "#FFA15A",
           "#19d3f3",
           "#FF6692",
           "#B6E880",
           "#FF97FF",
           "#FECB52"
          ],
          "font": {
           "color": "#2a3f5f"
          },
          "geo": {
           "bgcolor": "white",
           "lakecolor": "white",
           "landcolor": "#E5ECF6",
           "showlakes": true,
           "showland": true,
           "subunitcolor": "white"
          },
          "hoverlabel": {
           "align": "left"
          },
          "hovermode": "closest",
          "mapbox": {
           "style": "light"
          },
          "paper_bgcolor": "white",
          "plot_bgcolor": "#E5ECF6",
          "polar": {
           "angularaxis": {
            "gridcolor": "white",
            "linecolor": "white",
            "ticks": ""
           },
           "bgcolor": "#E5ECF6",
           "radialaxis": {
            "gridcolor": "white",
            "linecolor": "white",
            "ticks": ""
           }
          },
          "scene": {
           "xaxis": {
            "backgroundcolor": "#E5ECF6",
            "gridcolor": "white",
            "gridwidth": 2,
            "linecolor": "white",
            "showbackground": true,
            "ticks": "",
            "zerolinecolor": "white"
           },
           "yaxis": {
            "backgroundcolor": "#E5ECF6",
            "gridcolor": "white",
            "gridwidth": 2,
            "linecolor": "white",
            "showbackground": true,
            "ticks": "",
            "zerolinecolor": "white"
           },
           "zaxis": {
            "backgroundcolor": "#E5ECF6",
            "gridcolor": "white",
            "gridwidth": 2,
            "linecolor": "white",
            "showbackground": true,
            "ticks": "",
            "zerolinecolor": "white"
           }
          },
          "shapedefaults": {
           "line": {
            "color": "#2a3f5f"
           }
          },
          "ternary": {
           "aaxis": {
            "gridcolor": "white",
            "linecolor": "white",
            "ticks": ""
           },
           "baxis": {
            "gridcolor": "white",
            "linecolor": "white",
            "ticks": ""
           },
           "bgcolor": "#E5ECF6",
           "caxis": {
            "gridcolor": "white",
            "linecolor": "white",
            "ticks": ""
           }
          },
          "title": {
           "x": 0.05
          },
          "xaxis": {
           "automargin": true,
           "gridcolor": "white",
           "linecolor": "white",
           "ticks": "",
           "title": {
            "standoff": 15
           },
           "zerolinecolor": "white",
           "zerolinewidth": 2
          },
          "yaxis": {
           "automargin": true,
           "gridcolor": "white",
           "linecolor": "white",
           "ticks": "",
           "title": {
            "standoff": 15
           },
           "zerolinecolor": "white",
           "zerolinewidth": 2
          }
         }
        },
        "title": {
         "text": "Raspodela clean sheet-ova"
        },
        "xaxis": {
         "anchor": "y",
         "domain": [
          0,
          1
         ],
         "title": {
          "text": "Clean_Sheet"
         }
        },
        "xaxis2": {
         "anchor": "y2",
         "domain": [
          0,
          1
         ],
         "matches": "x",
         "showgrid": true,
         "showticklabels": false
        },
        "yaxis": {
         "anchor": "x",
         "domain": [
          0,
          0.8316
         ],
         "title": {
          "text": "count"
         }
        },
        "yaxis2": {
         "anchor": "x2",
         "domain": [
          0.8416,
          1
         ],
         "matches": "y2",
         "showgrid": false,
         "showline": false,
         "showticklabels": false,
         "ticks": ""
        }
       }
      },
      "text/html": [
       "<div>                            <div id=\"2d7ec5e6-237d-44ea-9cfe-0816c80ce192\" class=\"plotly-graph-div\" style=\"height:525px; width:100%;\"></div>            <script type=\"text/javascript\">                require([\"plotly\"], function(Plotly) {                    window.PLOTLYENV=window.PLOTLYENV || {};                                    if (document.getElementById(\"2d7ec5e6-237d-44ea-9cfe-0816c80ce192\")) {                    Plotly.newPlot(                        \"2d7ec5e6-237d-44ea-9cfe-0816c80ce192\",                        [{\"alignmentgroup\":\"True\",\"bingroup\":\"x\",\"hovertemplate\":\"Clean_Sheet=%{x}<br>count=%{y}<extra></extra>\",\"legendgroup\":\"\",\"marker\":{\"color\":\"yellow\",\"pattern\":{\"shape\":\"\"}},\"name\":\"\",\"nbinsx\":2,\"offsetgroup\":\"\",\"orientation\":\"v\",\"showlegend\":false,\"x\":[0,0,0,0,0,0,0,1,0,1,0,0,0,1,1,1,1,0,0,0,1,1,0,0,0,0,0,0,0,0,1,0,1,1,1,0,1,0,0,0,0,0,1,0,1,1,0,1,0,0,0,0,0,0,1,0,0,0,1,0,0,1,1,0,1,0,1,1,1,0,1,1,0,1,1,0,0,0,0,1,0,0,0,0,1,1,0,1,0,0,0,0,1,0,1,0,1,0,0,0,0,0,0,0,0,0,0,0,0,0,0,0,0,1,0,0,0,0,0,0,1,0,0,0,0,0,0,0,0,0,0,1,1,1,0,0,0,0,0,0,0,0,0,0,0,0,0,0,0,0,0,0,1,0,0,0,0,1,0,0,0,0,1,1,1,0,0,0,1,0,0,0,0,0,1,0,0,0,0,1,0,0,0,0,0,0,0,0,0,1,0,0,0,0,0,0,0,0,0,0,0,0,0,0,0,0,0,0,0,0,0,0,0,0,1,0,0,1,0,1,0,0,0,0,1,0,0,0,1,0,0,0,1,1,0,0,0,0,0,0,0,0,1,1,0,0,0,0,0,1,0,0,0,0,1,0,1,0,0,0,1,0,0,1,0,0,0,0,0,0,0,0,0,0,0,0,0,0,0,0,0,0,0,0,0,0,0,0,0,0,0,0,0,0,0,0,0,1,0,1,0,1,0,1,1,1,0,0,0,1,0,0,0,1,0,0,0,0,0,0,0,0,1,0,0,0,1,0,1,1,0,0,0,0,0,0,1,0,0,1,1,0,0,1,0,0,0,1,0,0,0,0,0,0,0,0,1,1,0,0,0,0,1,0,1,0,0,0,0,0,0,1,0,0,1,0,0,0,0,0,0,1,1,0,0,0,0,1,1,0,0,0,0,0,0,0,1,0,0,0,0,0,0,0,0,0,1,0,0,0,0,0,0,0,0,0,0,1,0,0,0,0,0,0,0,0,0,0,0,0,0,1,0,0,0,1,0,0,0,0,0,0,0,0,0,0,0,0,0,0,0,0,0,0,0,0,0,0,0,0,0,0,0,0,0,0,0,0,0,0,0,0,0,0,0,1,1,0,0,0,0,0,0,0,0,0,0,0,0,0,0,0,0,0,0,0,1,0,0,0,0,0,0,0,0,0,0,0,0,0,0,0,0,1,1,0,0,0,0,1,0,0,0,0,0,0,0,0,0,0,0,0,0,1,0,0,0,0,0,0,1,1,0,0,0,0,0,0,0,0,0,0,0,0,1,0,0,0,0,0,0,0,1,0,1,0,0,1,0,0,0,0,0,0,0,0,0,0,0,0,0,0,0,0,0,0,1,0,0,0,0,0,0,0,0,0,1,0,0,0,1,1,0,0,0,0,0,0,0,0,0,1,0,0,0,1,0,0,0,0,0,0,0,0,0,0,0,0,0,0,0,0,0,0,0,0,0,0,0,0,0,0,0,0,0,0,0,0,0,0,1,0,0,0,0,0,0,1,0,0,1,1,0,1,0,0,0,0,0,0,0,1,0,0,0,1,0,0,0,0,0,0,0,0,1,0,0,0,0,1,1,1,0,0,1,0,0,0,0,0,0,0,0,0,0,0,0,0,0,1,0,0,0,0,0,0,0,0,0,0,0,0,0,0,0,0,0,0,0,0,0,0,0,0,0,0,0,0,1,0,0,0,1,0,0,0,0,0,0,0,0,0,0,0,0,0,0,0,0,0,0,0,0,0,0,0,0,0,0,0,0,0,0,0,0,1,0,0,0,0,0,0,0,0,0,0,0,0,0,0,0,0,0,0,0,0,0,0],\"xaxis\":\"x\",\"yaxis\":\"y\",\"type\":\"histogram\"},{\"alignmentgroup\":\"True\",\"hovertemplate\":\"Clean_Sheet=%{x}<extra></extra>\",\"legendgroup\":\"\",\"marker\":{\"color\":\"yellow\"},\"name\":\"\",\"notched\":true,\"offsetgroup\":\"\",\"showlegend\":false,\"x\":[0,0,0,0,0,0,0,1,0,1,0,0,0,1,1,1,1,0,0,0,1,1,0,0,0,0,0,0,0,0,1,0,1,1,1,0,1,0,0,0,0,0,1,0,1,1,0,1,0,0,0,0,0,0,1,0,0,0,1,0,0,1,1,0,1,0,1,1,1,0,1,1,0,1,1,0,0,0,0,1,0,0,0,0,1,1,0,1,0,0,0,0,1,0,1,0,1,0,0,0,0,0,0,0,0,0,0,0,0,0,0,0,0,1,0,0,0,0,0,0,1,0,0,0,0,0,0,0,0,0,0,1,1,1,0,0,0,0,0,0,0,0,0,0,0,0,0,0,0,0,0,0,1,0,0,0,0,1,0,0,0,0,1,1,1,0,0,0,1,0,0,0,0,0,1,0,0,0,0,1,0,0,0,0,0,0,0,0,0,1,0,0,0,0,0,0,0,0,0,0,0,0,0,0,0,0,0,0,0,0,0,0,0,0,1,0,0,1,0,1,0,0,0,0,1,0,0,0,1,0,0,0,1,1,0,0,0,0,0,0,0,0,1,1,0,0,0,0,0,1,0,0,0,0,1,0,1,0,0,0,1,0,0,1,0,0,0,0,0,0,0,0,0,0,0,0,0,0,0,0,0,0,0,0,0,0,0,0,0,0,0,0,0,0,0,0,0,1,0,1,0,1,0,1,1,1,0,0,0,1,0,0,0,1,0,0,0,0,0,0,0,0,1,0,0,0,1,0,1,1,0,0,0,0,0,0,1,0,0,1,1,0,0,1,0,0,0,1,0,0,0,0,0,0,0,0,1,1,0,0,0,0,1,0,1,0,0,0,0,0,0,1,0,0,1,0,0,0,0,0,0,1,1,0,0,0,0,1,1,0,0,0,0,0,0,0,1,0,0,0,0,0,0,0,0,0,1,0,0,0,0,0,0,0,0,0,0,1,0,0,0,0,0,0,0,0,0,0,0,0,0,1,0,0,0,1,0,0,0,0,0,0,0,0,0,0,0,0,0,0,0,0,0,0,0,0,0,0,0,0,0,0,0,0,0,0,0,0,0,0,0,0,0,0,0,1,1,0,0,0,0,0,0,0,0,0,0,0,0,0,0,0,0,0,0,0,1,0,0,0,0,0,0,0,0,0,0,0,0,0,0,0,0,1,1,0,0,0,0,1,0,0,0,0,0,0,0,0,0,0,0,0,0,1,0,0,0,0,0,0,1,1,0,0,0,0,0,0,0,0,0,0,0,0,1,0,0,0,0,0,0,0,1,0,1,0,0,1,0,0,0,0,0,0,0,0,0,0,0,0,0,0,0,0,0,0,1,0,0,0,0,0,0,0,0,0,1,0,0,0,1,1,0,0,0,0,0,0,0,0,0,1,0,0,0,1,0,0,0,0,0,0,0,0,0,0,0,0,0,0,0,0,0,0,0,0,0,0,0,0,0,0,0,0,0,0,0,0,0,0,1,0,0,0,0,0,0,1,0,0,1,1,0,1,0,0,0,0,0,0,0,1,0,0,0,1,0,0,0,0,0,0,0,0,1,0,0,0,0,1,1,1,0,0,1,0,0,0,0,0,0,0,0,0,0,0,0,0,0,1,0,0,0,0,0,0,0,0,0,0,0,0,0,0,0,0,0,0,0,0,0,0,0,0,0,0,0,0,1,0,0,0,1,0,0,0,0,0,0,0,0,0,0,0,0,0,0,0,0,0,0,0,0,0,0,0,0,0,0,0,0,0,0,0,0,1,0,0,0,0,0,0,0,0,0,0,0,0,0,0,0,0,0,0,0,0,0,0],\"xaxis\":\"x2\",\"yaxis\":\"y2\",\"type\":\"box\"}],                        {\"template\":{\"data\":{\"histogram2dcontour\":[{\"type\":\"histogram2dcontour\",\"colorbar\":{\"outlinewidth\":0,\"ticks\":\"\"},\"colorscale\":[[0.0,\"#0d0887\"],[0.1111111111111111,\"#46039f\"],[0.2222222222222222,\"#7201a8\"],[0.3333333333333333,\"#9c179e\"],[0.4444444444444444,\"#bd3786\"],[0.5555555555555556,\"#d8576b\"],[0.6666666666666666,\"#ed7953\"],[0.7777777777777778,\"#fb9f3a\"],[0.8888888888888888,\"#fdca26\"],[1.0,\"#f0f921\"]]}],\"choropleth\":[{\"type\":\"choropleth\",\"colorbar\":{\"outlinewidth\":0,\"ticks\":\"\"}}],\"histogram2d\":[{\"type\":\"histogram2d\",\"colorbar\":{\"outlinewidth\":0,\"ticks\":\"\"},\"colorscale\":[[0.0,\"#0d0887\"],[0.1111111111111111,\"#46039f\"],[0.2222222222222222,\"#7201a8\"],[0.3333333333333333,\"#9c179e\"],[0.4444444444444444,\"#bd3786\"],[0.5555555555555556,\"#d8576b\"],[0.6666666666666666,\"#ed7953\"],[0.7777777777777778,\"#fb9f3a\"],[0.8888888888888888,\"#fdca26\"],[1.0,\"#f0f921\"]]}],\"heatmap\":[{\"type\":\"heatmap\",\"colorbar\":{\"outlinewidth\":0,\"ticks\":\"\"},\"colorscale\":[[0.0,\"#0d0887\"],[0.1111111111111111,\"#46039f\"],[0.2222222222222222,\"#7201a8\"],[0.3333333333333333,\"#9c179e\"],[0.4444444444444444,\"#bd3786\"],[0.5555555555555556,\"#d8576b\"],[0.6666666666666666,\"#ed7953\"],[0.7777777777777778,\"#fb9f3a\"],[0.8888888888888888,\"#fdca26\"],[1.0,\"#f0f921\"]]}],\"heatmapgl\":[{\"type\":\"heatmapgl\",\"colorbar\":{\"outlinewidth\":0,\"ticks\":\"\"},\"colorscale\":[[0.0,\"#0d0887\"],[0.1111111111111111,\"#46039f\"],[0.2222222222222222,\"#7201a8\"],[0.3333333333333333,\"#9c179e\"],[0.4444444444444444,\"#bd3786\"],[0.5555555555555556,\"#d8576b\"],[0.6666666666666666,\"#ed7953\"],[0.7777777777777778,\"#fb9f3a\"],[0.8888888888888888,\"#fdca26\"],[1.0,\"#f0f921\"]]}],\"contourcarpet\":[{\"type\":\"contourcarpet\",\"colorbar\":{\"outlinewidth\":0,\"ticks\":\"\"}}],\"contour\":[{\"type\":\"contour\",\"colorbar\":{\"outlinewidth\":0,\"ticks\":\"\"},\"colorscale\":[[0.0,\"#0d0887\"],[0.1111111111111111,\"#46039f\"],[0.2222222222222222,\"#7201a8\"],[0.3333333333333333,\"#9c179e\"],[0.4444444444444444,\"#bd3786\"],[0.5555555555555556,\"#d8576b\"],[0.6666666666666666,\"#ed7953\"],[0.7777777777777778,\"#fb9f3a\"],[0.8888888888888888,\"#fdca26\"],[1.0,\"#f0f921\"]]}],\"surface\":[{\"type\":\"surface\",\"colorbar\":{\"outlinewidth\":0,\"ticks\":\"\"},\"colorscale\":[[0.0,\"#0d0887\"],[0.1111111111111111,\"#46039f\"],[0.2222222222222222,\"#7201a8\"],[0.3333333333333333,\"#9c179e\"],[0.4444444444444444,\"#bd3786\"],[0.5555555555555556,\"#d8576b\"],[0.6666666666666666,\"#ed7953\"],[0.7777777777777778,\"#fb9f3a\"],[0.8888888888888888,\"#fdca26\"],[1.0,\"#f0f921\"]]}],\"mesh3d\":[{\"type\":\"mesh3d\",\"colorbar\":{\"outlinewidth\":0,\"ticks\":\"\"}}],\"scatter\":[{\"fillpattern\":{\"fillmode\":\"overlay\",\"size\":10,\"solidity\":0.2},\"type\":\"scatter\"}],\"parcoords\":[{\"type\":\"parcoords\",\"line\":{\"colorbar\":{\"outlinewidth\":0,\"ticks\":\"\"}}}],\"scatterpolargl\":[{\"type\":\"scatterpolargl\",\"marker\":{\"colorbar\":{\"outlinewidth\":0,\"ticks\":\"\"}}}],\"bar\":[{\"error_x\":{\"color\":\"#2a3f5f\"},\"error_y\":{\"color\":\"#2a3f5f\"},\"marker\":{\"line\":{\"color\":\"#E5ECF6\",\"width\":0.5},\"pattern\":{\"fillmode\":\"overlay\",\"size\":10,\"solidity\":0.2}},\"type\":\"bar\"}],\"scattergeo\":[{\"type\":\"scattergeo\",\"marker\":{\"colorbar\":{\"outlinewidth\":0,\"ticks\":\"\"}}}],\"scatterpolar\":[{\"type\":\"scatterpolar\",\"marker\":{\"colorbar\":{\"outlinewidth\":0,\"ticks\":\"\"}}}],\"histogram\":[{\"marker\":{\"pattern\":{\"fillmode\":\"overlay\",\"size\":10,\"solidity\":0.2}},\"type\":\"histogram\"}],\"scattergl\":[{\"type\":\"scattergl\",\"marker\":{\"colorbar\":{\"outlinewidth\":0,\"ticks\":\"\"}}}],\"scatter3d\":[{\"type\":\"scatter3d\",\"line\":{\"colorbar\":{\"outlinewidth\":0,\"ticks\":\"\"}},\"marker\":{\"colorbar\":{\"outlinewidth\":0,\"ticks\":\"\"}}}],\"scattermapbox\":[{\"type\":\"scattermapbox\",\"marker\":{\"colorbar\":{\"outlinewidth\":0,\"ticks\":\"\"}}}],\"scatterternary\":[{\"type\":\"scatterternary\",\"marker\":{\"colorbar\":{\"outlinewidth\":0,\"ticks\":\"\"}}}],\"scattercarpet\":[{\"type\":\"scattercarpet\",\"marker\":{\"colorbar\":{\"outlinewidth\":0,\"ticks\":\"\"}}}],\"carpet\":[{\"aaxis\":{\"endlinecolor\":\"#2a3f5f\",\"gridcolor\":\"white\",\"linecolor\":\"white\",\"minorgridcolor\":\"white\",\"startlinecolor\":\"#2a3f5f\"},\"baxis\":{\"endlinecolor\":\"#2a3f5f\",\"gridcolor\":\"white\",\"linecolor\":\"white\",\"minorgridcolor\":\"white\",\"startlinecolor\":\"#2a3f5f\"},\"type\":\"carpet\"}],\"table\":[{\"cells\":{\"fill\":{\"color\":\"#EBF0F8\"},\"line\":{\"color\":\"white\"}},\"header\":{\"fill\":{\"color\":\"#C8D4E3\"},\"line\":{\"color\":\"white\"}},\"type\":\"table\"}],\"barpolar\":[{\"marker\":{\"line\":{\"color\":\"#E5ECF6\",\"width\":0.5},\"pattern\":{\"fillmode\":\"overlay\",\"size\":10,\"solidity\":0.2}},\"type\":\"barpolar\"}],\"pie\":[{\"automargin\":true,\"type\":\"pie\"}]},\"layout\":{\"autotypenumbers\":\"strict\",\"colorway\":[\"#636efa\",\"#EF553B\",\"#00cc96\",\"#ab63fa\",\"#FFA15A\",\"#19d3f3\",\"#FF6692\",\"#B6E880\",\"#FF97FF\",\"#FECB52\"],\"font\":{\"color\":\"#2a3f5f\"},\"hovermode\":\"closest\",\"hoverlabel\":{\"align\":\"left\"},\"paper_bgcolor\":\"white\",\"plot_bgcolor\":\"#E5ECF6\",\"polar\":{\"bgcolor\":\"#E5ECF6\",\"angularaxis\":{\"gridcolor\":\"white\",\"linecolor\":\"white\",\"ticks\":\"\"},\"radialaxis\":{\"gridcolor\":\"white\",\"linecolor\":\"white\",\"ticks\":\"\"}},\"ternary\":{\"bgcolor\":\"#E5ECF6\",\"aaxis\":{\"gridcolor\":\"white\",\"linecolor\":\"white\",\"ticks\":\"\"},\"baxis\":{\"gridcolor\":\"white\",\"linecolor\":\"white\",\"ticks\":\"\"},\"caxis\":{\"gridcolor\":\"white\",\"linecolor\":\"white\",\"ticks\":\"\"}},\"coloraxis\":{\"colorbar\":{\"outlinewidth\":0,\"ticks\":\"\"}},\"colorscale\":{\"sequential\":[[0.0,\"#0d0887\"],[0.1111111111111111,\"#46039f\"],[0.2222222222222222,\"#7201a8\"],[0.3333333333333333,\"#9c179e\"],[0.4444444444444444,\"#bd3786\"],[0.5555555555555556,\"#d8576b\"],[0.6666666666666666,\"#ed7953\"],[0.7777777777777778,\"#fb9f3a\"],[0.8888888888888888,\"#fdca26\"],[1.0,\"#f0f921\"]],\"sequentialminus\":[[0.0,\"#0d0887\"],[0.1111111111111111,\"#46039f\"],[0.2222222222222222,\"#7201a8\"],[0.3333333333333333,\"#9c179e\"],[0.4444444444444444,\"#bd3786\"],[0.5555555555555556,\"#d8576b\"],[0.6666666666666666,\"#ed7953\"],[0.7777777777777778,\"#fb9f3a\"],[0.8888888888888888,\"#fdca26\"],[1.0,\"#f0f921\"]],\"diverging\":[[0,\"#8e0152\"],[0.1,\"#c51b7d\"],[0.2,\"#de77ae\"],[0.3,\"#f1b6da\"],[0.4,\"#fde0ef\"],[0.5,\"#f7f7f7\"],[0.6,\"#e6f5d0\"],[0.7,\"#b8e186\"],[0.8,\"#7fbc41\"],[0.9,\"#4d9221\"],[1,\"#276419\"]]},\"xaxis\":{\"gridcolor\":\"white\",\"linecolor\":\"white\",\"ticks\":\"\",\"title\":{\"standoff\":15},\"zerolinecolor\":\"white\",\"automargin\":true,\"zerolinewidth\":2},\"yaxis\":{\"gridcolor\":\"white\",\"linecolor\":\"white\",\"ticks\":\"\",\"title\":{\"standoff\":15},\"zerolinecolor\":\"white\",\"automargin\":true,\"zerolinewidth\":2},\"scene\":{\"xaxis\":{\"backgroundcolor\":\"#E5ECF6\",\"gridcolor\":\"white\",\"linecolor\":\"white\",\"showbackground\":true,\"ticks\":\"\",\"zerolinecolor\":\"white\",\"gridwidth\":2},\"yaxis\":{\"backgroundcolor\":\"#E5ECF6\",\"gridcolor\":\"white\",\"linecolor\":\"white\",\"showbackground\":true,\"ticks\":\"\",\"zerolinecolor\":\"white\",\"gridwidth\":2},\"zaxis\":{\"backgroundcolor\":\"#E5ECF6\",\"gridcolor\":\"white\",\"linecolor\":\"white\",\"showbackground\":true,\"ticks\":\"\",\"zerolinecolor\":\"white\",\"gridwidth\":2}},\"shapedefaults\":{\"line\":{\"color\":\"#2a3f5f\"}},\"annotationdefaults\":{\"arrowcolor\":\"#2a3f5f\",\"arrowhead\":0,\"arrowwidth\":1},\"geo\":{\"bgcolor\":\"white\",\"landcolor\":\"#E5ECF6\",\"subunitcolor\":\"white\",\"showland\":true,\"showlakes\":true,\"lakecolor\":\"white\"},\"title\":{\"x\":0.05},\"mapbox\":{\"style\":\"light\"}}},\"xaxis\":{\"anchor\":\"y\",\"domain\":[0.0,1.0],\"title\":{\"text\":\"Clean_Sheet\"}},\"yaxis\":{\"anchor\":\"x\",\"domain\":[0.0,0.8316],\"title\":{\"text\":\"count\"}},\"xaxis2\":{\"anchor\":\"y2\",\"domain\":[0.0,1.0],\"matches\":\"x\",\"showticklabels\":false,\"showgrid\":true},\"yaxis2\":{\"anchor\":\"x2\",\"domain\":[0.8416,1.0],\"matches\":\"y2\",\"showticklabels\":false,\"showline\":false,\"ticks\":\"\",\"showgrid\":false},\"legend\":{\"tracegroupgap\":0},\"title\":{\"text\":\"Raspodela clean sheet-ova\"},\"barmode\":\"relative\",\"bargap\":0.1},                        {\"responsive\": true}                    ).then(function(){\n",
       "                            \n",
       "var gd = document.getElementById('2d7ec5e6-237d-44ea-9cfe-0816c80ce192');\n",
       "var x = new MutationObserver(function (mutations, observer) {{\n",
       "        var display = window.getComputedStyle(gd).display;\n",
       "        if (!display || display === 'none') {{\n",
       "            console.log([gd, 'removed!']);\n",
       "            Plotly.purge(gd);\n",
       "            observer.disconnect();\n",
       "        }}\n",
       "}});\n",
       "\n",
       "// Listen for the removal of the full notebook cells\n",
       "var notebookContainer = gd.closest('#notebook-container');\n",
       "if (notebookContainer) {{\n",
       "    x.observe(notebookContainer, {childList: true});\n",
       "}}\n",
       "\n",
       "// Listen for the clearing of the current output cell\n",
       "var outputEl = gd.closest('.output');\n",
       "if (outputEl) {{\n",
       "    x.observe(outputEl, {childList: true});\n",
       "}}\n",
       "\n",
       "                        })                };                });            </script>        </div>"
      ]
     },
     "metadata": {},
     "output_type": "display_data"
    }
   ],
   "source": [
    "fig=px.histogram(df_gk,\n",
    "                 x='Clean_Sheet',\n",
    "                 marginal='box',\n",
    "                 nbins=2,\n",
    "                 title='Raspodela clean sheet-ova',\n",
    "                 color_discrete_sequence=['yellow'])\n",
    "\n",
    "fig.update_layout(bargap=0.1)\n",
    "fig.show()"
   ]
  },
  {
   "cell_type": "markdown",
   "id": "0e31008f",
   "metadata": {},
   "source": [
    "Da li je ovaj odnos preslikan iz broja primljenih golova kada se uzme u obzir grupa 1-8 sa tog grafa"
   ]
  },
  {
   "cell_type": "markdown",
   "id": "fd067bbb",
   "metadata": {},
   "source": [
    "**Odbrane**"
   ]
  },
  {
   "cell_type": "code",
   "execution_count": 68,
   "id": "6443d7ba",
   "metadata": {},
   "outputs": [
    {
     "data": {
      "text/plain": [
       "count    798.000000\n",
       "mean       2.541353\n",
       "std        2.319557\n",
       "min        0.000000\n",
       "25%        0.000000\n",
       "50%        2.000000\n",
       "75%        4.000000\n",
       "max       12.000000\n",
       "Name: Saves, dtype: float64"
      ]
     },
     "execution_count": 68,
     "metadata": {},
     "output_type": "execute_result"
    }
   ],
   "source": [
    "df_gk.Saves.describe()"
   ]
  },
  {
   "cell_type": "code",
   "execution_count": 70,
   "id": "b30290e9",
   "metadata": {},
   "outputs": [
    {
     "data": {
      "application/vnd.plotly.v1+json": {
       "config": {
        "plotlyServerURL": "https://plot.ly"
       },
       "data": [
        {
         "alignmentgroup": "True",
         "bingroup": "x",
         "hovertemplate": "Saves=%{x}<br>count=%{y}<extra></extra>",
         "legendgroup": "",
         "marker": {
          "color": "red",
          "pattern": {
           "shape": ""
          }
         },
         "name": "",
         "nbinsx": 15,
         "offsetgroup": "",
         "orientation": "v",
         "showlegend": false,
         "type": "histogram",
         "x": [
          1,
          3,
          2,
          6,
          3,
          1,
          0,
          3,
          4,
          2,
          2,
          3,
          1,
          2,
          3,
          4,
          2,
          4,
          6,
          4,
          4,
          5,
          4,
          1,
          2,
          6,
          2,
          6,
          3,
          4,
          1,
          4,
          3,
          7,
          4,
          4,
          1,
          4,
          0,
          0,
          0,
          0,
          1,
          3,
          1,
          0,
          3,
          0,
          0,
          4,
          0,
          2,
          1,
          2,
          1,
          2,
          1,
          2,
          5,
          2,
          1,
          1,
          0,
          1,
          0,
          0,
          1,
          1,
          2,
          0,
          3,
          1,
          0,
          2,
          2,
          1,
          4,
          4,
          7,
          3,
          1,
          3,
          8,
          1,
          1,
          1,
          4,
          3,
          4,
          0,
          0,
          3,
          2,
          1,
          0,
          1,
          1,
          2,
          4,
          0,
          0,
          0,
          0,
          0,
          0,
          0,
          0,
          3,
          4,
          4,
          6,
          4,
          2,
          2,
          4,
          3,
          9,
          0,
          10,
          4,
          2,
          1,
          3,
          3,
          2,
          3,
          4,
          1,
          0,
          0,
          0,
          3,
          8,
          8,
          4,
          3,
          2,
          6,
          6,
          5,
          9,
          3,
          4,
          3,
          0,
          0,
          0,
          0,
          7,
          9,
          0,
          9,
          6,
          5,
          2,
          2,
          5,
          4,
          1,
          2,
          5,
          7,
          2,
          4,
          6,
          3,
          2,
          1,
          8,
          3,
          1,
          0,
          3,
          3,
          4,
          8,
          3,
          3,
          5,
          6,
          4,
          6,
          6,
          3,
          2,
          6,
          6,
          5,
          5,
          2,
          0,
          0,
          4,
          2,
          0,
          2,
          0,
          2,
          0,
          0,
          3,
          0,
          3,
          0,
          0,
          2,
          6,
          2,
          0,
          0,
          0,
          0,
          4,
          0,
          1,
          1,
          0,
          4,
          6,
          2,
          4,
          2,
          0,
          3,
          1,
          7,
          4,
          0,
          9,
          5,
          8,
          0,
          2,
          3,
          2,
          2,
          3,
          5,
          4,
          4,
          4,
          9,
          1,
          5,
          7,
          0,
          1,
          2,
          2,
          2,
          2,
          4,
          1,
          7,
          5,
          2,
          5,
          1,
          1,
          4,
          4,
          4,
          3,
          2,
          5,
          4,
          0,
          0,
          0,
          0,
          0,
          0,
          0,
          0,
          0,
          0,
          0,
          0,
          0,
          0,
          0,
          0,
          7,
          5,
          1,
          4,
          2,
          3,
          2,
          2,
          0,
          0,
          0,
          0,
          4,
          5,
          4,
          5,
          0,
          2,
          1,
          2,
          7,
          2,
          1,
          1,
          0,
          3,
          2,
          3,
          0,
          1,
          0,
          3,
          0,
          5,
          2,
          1,
          6,
          1,
          0,
          1,
          2,
          0,
          2,
          1,
          1,
          5,
          2,
          4,
          0,
          1,
          0,
          0,
          0,
          1,
          3,
          1,
          0,
          1,
          3,
          0,
          7,
          2,
          0,
          2,
          2,
          4,
          2,
          2,
          3,
          1,
          1,
          4,
          6,
          5,
          2,
          3,
          2,
          1,
          4,
          3,
          2,
          3,
          4,
          3,
          3,
          1,
          2,
          1,
          3,
          3,
          0,
          0,
          4,
          4,
          1,
          0,
          5,
          0,
          4,
          6,
          3,
          3,
          4,
          4,
          3,
          2,
          3,
          2,
          3,
          2,
          3,
          2,
          3,
          2,
          1,
          7,
          5,
          3,
          0,
          3,
          2,
          2,
          5,
          0,
          1,
          4,
          2,
          3,
          5,
          1,
          1,
          2,
          8,
          2,
          3,
          1,
          5,
          3,
          5,
          3,
          3,
          6,
          1,
          2,
          6,
          4,
          1,
          3,
          2,
          3,
          3,
          10,
          4,
          5,
          8,
          4,
          4,
          1,
          5,
          7,
          2,
          3,
          1,
          2,
          0,
          0,
          0,
          0,
          0,
          0,
          0,
          0,
          0,
          0,
          2,
          4,
          0,
          0,
          3,
          0,
          4,
          0,
          3,
          4,
          0,
          1,
          0,
          2,
          0,
          0,
          0,
          0,
          1,
          2,
          3,
          4,
          0,
          4,
          0,
          0,
          2,
          0,
          0,
          0,
          0,
          0,
          2,
          0,
          0,
          0,
          0,
          2,
          2,
          4,
          7,
          7,
          3,
          3,
          7,
          3,
          3,
          2,
          0,
          1,
          3,
          1,
          0,
          1,
          0,
          3,
          3,
          0,
          3,
          5,
          2,
          4,
          4,
          4,
          2,
          5,
          3,
          5,
          2,
          7,
          7,
          5,
          5,
          7,
          0,
          11,
          4,
          2,
          4,
          3,
          1,
          3,
          0,
          0,
          1,
          2,
          0,
          8,
          3,
          0,
          5,
          3,
          3,
          1,
          3,
          1,
          2,
          12,
          5,
          4,
          9,
          2,
          3,
          4,
          4,
          4,
          6,
          0,
          2,
          2,
          0,
          3,
          3,
          3,
          0,
          0,
          0,
          0,
          0,
          0,
          0,
          0,
          0,
          0,
          0,
          0,
          0,
          0,
          3,
          7,
          4,
          4,
          3,
          10,
          8,
          4,
          4,
          1,
          4,
          0,
          3,
          4,
          1,
          2,
          4,
          2,
          5,
          3,
          4,
          3,
          5,
          0,
          5,
          2,
          7,
          2,
          2,
          2,
          3,
          2,
          2,
          5,
          0,
          0,
          0,
          0,
          0,
          3,
          4,
          3,
          5,
          4,
          2,
          2,
          0,
          0,
          0,
          0,
          0,
          0,
          0,
          0,
          0,
          0,
          0,
          0,
          0,
          0,
          0,
          0,
          1,
          8,
          4,
          5,
          6,
          2,
          4,
          5,
          5,
          0,
          0,
          5,
          1,
          1,
          3,
          3,
          2,
          3,
          3,
          3,
          2,
          5,
          4,
          4,
          5,
          5,
          7,
          1,
          2,
          2,
          7,
          0,
          1,
          0,
          0,
          0,
          0,
          4,
          1,
          2,
          0,
          2,
          2,
          5,
          3,
          5,
          3,
          0,
          5,
          1,
          1,
          2,
          2,
          0,
          0,
          0,
          0,
          0,
          0,
          0,
          0,
          0,
          3,
          0,
          3,
          1,
          0,
          0,
          0,
          0,
          0,
          0,
          0,
          0,
          0,
          0,
          8,
          5,
          1,
          1,
          2,
          3,
          2,
          3,
          6,
          4,
          5,
          3,
          7,
          3,
          5,
          4,
          2,
          2,
          5,
          7,
          2,
          2,
          0,
          6,
          9,
          5,
          3,
          5,
          2,
          2,
          4,
          1,
          9,
          4,
          3,
          3,
          5,
          1,
          7,
          2,
          7,
          4,
          8,
          7,
          6,
          4,
          3,
          2,
          2,
          5,
          8,
          2,
          6,
          4,
          4,
          3,
          3,
          2,
          3,
          1,
          4,
          4,
          7,
          0,
          0,
          0,
          0,
          0,
          0,
          0,
          0,
          9,
          3,
          1,
          6,
          6
         ],
         "xaxis": "x",
         "yaxis": "y"
        },
        {
         "alignmentgroup": "True",
         "hovertemplate": "Saves=%{x}<extra></extra>",
         "legendgroup": "",
         "marker": {
          "color": "red"
         },
         "name": "",
         "notched": true,
         "offsetgroup": "",
         "showlegend": false,
         "type": "box",
         "x": [
          1,
          3,
          2,
          6,
          3,
          1,
          0,
          3,
          4,
          2,
          2,
          3,
          1,
          2,
          3,
          4,
          2,
          4,
          6,
          4,
          4,
          5,
          4,
          1,
          2,
          6,
          2,
          6,
          3,
          4,
          1,
          4,
          3,
          7,
          4,
          4,
          1,
          4,
          0,
          0,
          0,
          0,
          1,
          3,
          1,
          0,
          3,
          0,
          0,
          4,
          0,
          2,
          1,
          2,
          1,
          2,
          1,
          2,
          5,
          2,
          1,
          1,
          0,
          1,
          0,
          0,
          1,
          1,
          2,
          0,
          3,
          1,
          0,
          2,
          2,
          1,
          4,
          4,
          7,
          3,
          1,
          3,
          8,
          1,
          1,
          1,
          4,
          3,
          4,
          0,
          0,
          3,
          2,
          1,
          0,
          1,
          1,
          2,
          4,
          0,
          0,
          0,
          0,
          0,
          0,
          0,
          0,
          3,
          4,
          4,
          6,
          4,
          2,
          2,
          4,
          3,
          9,
          0,
          10,
          4,
          2,
          1,
          3,
          3,
          2,
          3,
          4,
          1,
          0,
          0,
          0,
          3,
          8,
          8,
          4,
          3,
          2,
          6,
          6,
          5,
          9,
          3,
          4,
          3,
          0,
          0,
          0,
          0,
          7,
          9,
          0,
          9,
          6,
          5,
          2,
          2,
          5,
          4,
          1,
          2,
          5,
          7,
          2,
          4,
          6,
          3,
          2,
          1,
          8,
          3,
          1,
          0,
          3,
          3,
          4,
          8,
          3,
          3,
          5,
          6,
          4,
          6,
          6,
          3,
          2,
          6,
          6,
          5,
          5,
          2,
          0,
          0,
          4,
          2,
          0,
          2,
          0,
          2,
          0,
          0,
          3,
          0,
          3,
          0,
          0,
          2,
          6,
          2,
          0,
          0,
          0,
          0,
          4,
          0,
          1,
          1,
          0,
          4,
          6,
          2,
          4,
          2,
          0,
          3,
          1,
          7,
          4,
          0,
          9,
          5,
          8,
          0,
          2,
          3,
          2,
          2,
          3,
          5,
          4,
          4,
          4,
          9,
          1,
          5,
          7,
          0,
          1,
          2,
          2,
          2,
          2,
          4,
          1,
          7,
          5,
          2,
          5,
          1,
          1,
          4,
          4,
          4,
          3,
          2,
          5,
          4,
          0,
          0,
          0,
          0,
          0,
          0,
          0,
          0,
          0,
          0,
          0,
          0,
          0,
          0,
          0,
          0,
          7,
          5,
          1,
          4,
          2,
          3,
          2,
          2,
          0,
          0,
          0,
          0,
          4,
          5,
          4,
          5,
          0,
          2,
          1,
          2,
          7,
          2,
          1,
          1,
          0,
          3,
          2,
          3,
          0,
          1,
          0,
          3,
          0,
          5,
          2,
          1,
          6,
          1,
          0,
          1,
          2,
          0,
          2,
          1,
          1,
          5,
          2,
          4,
          0,
          1,
          0,
          0,
          0,
          1,
          3,
          1,
          0,
          1,
          3,
          0,
          7,
          2,
          0,
          2,
          2,
          4,
          2,
          2,
          3,
          1,
          1,
          4,
          6,
          5,
          2,
          3,
          2,
          1,
          4,
          3,
          2,
          3,
          4,
          3,
          3,
          1,
          2,
          1,
          3,
          3,
          0,
          0,
          4,
          4,
          1,
          0,
          5,
          0,
          4,
          6,
          3,
          3,
          4,
          4,
          3,
          2,
          3,
          2,
          3,
          2,
          3,
          2,
          3,
          2,
          1,
          7,
          5,
          3,
          0,
          3,
          2,
          2,
          5,
          0,
          1,
          4,
          2,
          3,
          5,
          1,
          1,
          2,
          8,
          2,
          3,
          1,
          5,
          3,
          5,
          3,
          3,
          6,
          1,
          2,
          6,
          4,
          1,
          3,
          2,
          3,
          3,
          10,
          4,
          5,
          8,
          4,
          4,
          1,
          5,
          7,
          2,
          3,
          1,
          2,
          0,
          0,
          0,
          0,
          0,
          0,
          0,
          0,
          0,
          0,
          2,
          4,
          0,
          0,
          3,
          0,
          4,
          0,
          3,
          4,
          0,
          1,
          0,
          2,
          0,
          0,
          0,
          0,
          1,
          2,
          3,
          4,
          0,
          4,
          0,
          0,
          2,
          0,
          0,
          0,
          0,
          0,
          2,
          0,
          0,
          0,
          0,
          2,
          2,
          4,
          7,
          7,
          3,
          3,
          7,
          3,
          3,
          2,
          0,
          1,
          3,
          1,
          0,
          1,
          0,
          3,
          3,
          0,
          3,
          5,
          2,
          4,
          4,
          4,
          2,
          5,
          3,
          5,
          2,
          7,
          7,
          5,
          5,
          7,
          0,
          11,
          4,
          2,
          4,
          3,
          1,
          3,
          0,
          0,
          1,
          2,
          0,
          8,
          3,
          0,
          5,
          3,
          3,
          1,
          3,
          1,
          2,
          12,
          5,
          4,
          9,
          2,
          3,
          4,
          4,
          4,
          6,
          0,
          2,
          2,
          0,
          3,
          3,
          3,
          0,
          0,
          0,
          0,
          0,
          0,
          0,
          0,
          0,
          0,
          0,
          0,
          0,
          0,
          3,
          7,
          4,
          4,
          3,
          10,
          8,
          4,
          4,
          1,
          4,
          0,
          3,
          4,
          1,
          2,
          4,
          2,
          5,
          3,
          4,
          3,
          5,
          0,
          5,
          2,
          7,
          2,
          2,
          2,
          3,
          2,
          2,
          5,
          0,
          0,
          0,
          0,
          0,
          3,
          4,
          3,
          5,
          4,
          2,
          2,
          0,
          0,
          0,
          0,
          0,
          0,
          0,
          0,
          0,
          0,
          0,
          0,
          0,
          0,
          0,
          0,
          1,
          8,
          4,
          5,
          6,
          2,
          4,
          5,
          5,
          0,
          0,
          5,
          1,
          1,
          3,
          3,
          2,
          3,
          3,
          3,
          2,
          5,
          4,
          4,
          5,
          5,
          7,
          1,
          2,
          2,
          7,
          0,
          1,
          0,
          0,
          0,
          0,
          4,
          1,
          2,
          0,
          2,
          2,
          5,
          3,
          5,
          3,
          0,
          5,
          1,
          1,
          2,
          2,
          0,
          0,
          0,
          0,
          0,
          0,
          0,
          0,
          0,
          3,
          0,
          3,
          1,
          0,
          0,
          0,
          0,
          0,
          0,
          0,
          0,
          0,
          0,
          8,
          5,
          1,
          1,
          2,
          3,
          2,
          3,
          6,
          4,
          5,
          3,
          7,
          3,
          5,
          4,
          2,
          2,
          5,
          7,
          2,
          2,
          0,
          6,
          9,
          5,
          3,
          5,
          2,
          2,
          4,
          1,
          9,
          4,
          3,
          3,
          5,
          1,
          7,
          2,
          7,
          4,
          8,
          7,
          6,
          4,
          3,
          2,
          2,
          5,
          8,
          2,
          6,
          4,
          4,
          3,
          3,
          2,
          3,
          1,
          4,
          4,
          7,
          0,
          0,
          0,
          0,
          0,
          0,
          0,
          0,
          9,
          3,
          1,
          6,
          6
         ],
         "xaxis": "x2",
         "yaxis": "y2"
        }
       ],
       "layout": {
        "bargap": 0.1,
        "barmode": "relative",
        "legend": {
         "tracegroupgap": 0
        },
        "template": {
         "data": {
          "bar": [
           {
            "error_x": {
             "color": "#2a3f5f"
            },
            "error_y": {
             "color": "#2a3f5f"
            },
            "marker": {
             "line": {
              "color": "#E5ECF6",
              "width": 0.5
             },
             "pattern": {
              "fillmode": "overlay",
              "size": 10,
              "solidity": 0.2
             }
            },
            "type": "bar"
           }
          ],
          "barpolar": [
           {
            "marker": {
             "line": {
              "color": "#E5ECF6",
              "width": 0.5
             },
             "pattern": {
              "fillmode": "overlay",
              "size": 10,
              "solidity": 0.2
             }
            },
            "type": "barpolar"
           }
          ],
          "carpet": [
           {
            "aaxis": {
             "endlinecolor": "#2a3f5f",
             "gridcolor": "white",
             "linecolor": "white",
             "minorgridcolor": "white",
             "startlinecolor": "#2a3f5f"
            },
            "baxis": {
             "endlinecolor": "#2a3f5f",
             "gridcolor": "white",
             "linecolor": "white",
             "minorgridcolor": "white",
             "startlinecolor": "#2a3f5f"
            },
            "type": "carpet"
           }
          ],
          "choropleth": [
           {
            "colorbar": {
             "outlinewidth": 0,
             "ticks": ""
            },
            "type": "choropleth"
           }
          ],
          "contour": [
           {
            "colorbar": {
             "outlinewidth": 0,
             "ticks": ""
            },
            "colorscale": [
             [
              0,
              "#0d0887"
             ],
             [
              0.1111111111111111,
              "#46039f"
             ],
             [
              0.2222222222222222,
              "#7201a8"
             ],
             [
              0.3333333333333333,
              "#9c179e"
             ],
             [
              0.4444444444444444,
              "#bd3786"
             ],
             [
              0.5555555555555556,
              "#d8576b"
             ],
             [
              0.6666666666666666,
              "#ed7953"
             ],
             [
              0.7777777777777778,
              "#fb9f3a"
             ],
             [
              0.8888888888888888,
              "#fdca26"
             ],
             [
              1,
              "#f0f921"
             ]
            ],
            "type": "contour"
           }
          ],
          "contourcarpet": [
           {
            "colorbar": {
             "outlinewidth": 0,
             "ticks": ""
            },
            "type": "contourcarpet"
           }
          ],
          "heatmap": [
           {
            "colorbar": {
             "outlinewidth": 0,
             "ticks": ""
            },
            "colorscale": [
             [
              0,
              "#0d0887"
             ],
             [
              0.1111111111111111,
              "#46039f"
             ],
             [
              0.2222222222222222,
              "#7201a8"
             ],
             [
              0.3333333333333333,
              "#9c179e"
             ],
             [
              0.4444444444444444,
              "#bd3786"
             ],
             [
              0.5555555555555556,
              "#d8576b"
             ],
             [
              0.6666666666666666,
              "#ed7953"
             ],
             [
              0.7777777777777778,
              "#fb9f3a"
             ],
             [
              0.8888888888888888,
              "#fdca26"
             ],
             [
              1,
              "#f0f921"
             ]
            ],
            "type": "heatmap"
           }
          ],
          "heatmapgl": [
           {
            "colorbar": {
             "outlinewidth": 0,
             "ticks": ""
            },
            "colorscale": [
             [
              0,
              "#0d0887"
             ],
             [
              0.1111111111111111,
              "#46039f"
             ],
             [
              0.2222222222222222,
              "#7201a8"
             ],
             [
              0.3333333333333333,
              "#9c179e"
             ],
             [
              0.4444444444444444,
              "#bd3786"
             ],
             [
              0.5555555555555556,
              "#d8576b"
             ],
             [
              0.6666666666666666,
              "#ed7953"
             ],
             [
              0.7777777777777778,
              "#fb9f3a"
             ],
             [
              0.8888888888888888,
              "#fdca26"
             ],
             [
              1,
              "#f0f921"
             ]
            ],
            "type": "heatmapgl"
           }
          ],
          "histogram": [
           {
            "marker": {
             "pattern": {
              "fillmode": "overlay",
              "size": 10,
              "solidity": 0.2
             }
            },
            "type": "histogram"
           }
          ],
          "histogram2d": [
           {
            "colorbar": {
             "outlinewidth": 0,
             "ticks": ""
            },
            "colorscale": [
             [
              0,
              "#0d0887"
             ],
             [
              0.1111111111111111,
              "#46039f"
             ],
             [
              0.2222222222222222,
              "#7201a8"
             ],
             [
              0.3333333333333333,
              "#9c179e"
             ],
             [
              0.4444444444444444,
              "#bd3786"
             ],
             [
              0.5555555555555556,
              "#d8576b"
             ],
             [
              0.6666666666666666,
              "#ed7953"
             ],
             [
              0.7777777777777778,
              "#fb9f3a"
             ],
             [
              0.8888888888888888,
              "#fdca26"
             ],
             [
              1,
              "#f0f921"
             ]
            ],
            "type": "histogram2d"
           }
          ],
          "histogram2dcontour": [
           {
            "colorbar": {
             "outlinewidth": 0,
             "ticks": ""
            },
            "colorscale": [
             [
              0,
              "#0d0887"
             ],
             [
              0.1111111111111111,
              "#46039f"
             ],
             [
              0.2222222222222222,
              "#7201a8"
             ],
             [
              0.3333333333333333,
              "#9c179e"
             ],
             [
              0.4444444444444444,
              "#bd3786"
             ],
             [
              0.5555555555555556,
              "#d8576b"
             ],
             [
              0.6666666666666666,
              "#ed7953"
             ],
             [
              0.7777777777777778,
              "#fb9f3a"
             ],
             [
              0.8888888888888888,
              "#fdca26"
             ],
             [
              1,
              "#f0f921"
             ]
            ],
            "type": "histogram2dcontour"
           }
          ],
          "mesh3d": [
           {
            "colorbar": {
             "outlinewidth": 0,
             "ticks": ""
            },
            "type": "mesh3d"
           }
          ],
          "parcoords": [
           {
            "line": {
             "colorbar": {
              "outlinewidth": 0,
              "ticks": ""
             }
            },
            "type": "parcoords"
           }
          ],
          "pie": [
           {
            "automargin": true,
            "type": "pie"
           }
          ],
          "scatter": [
           {
            "fillpattern": {
             "fillmode": "overlay",
             "size": 10,
             "solidity": 0.2
            },
            "type": "scatter"
           }
          ],
          "scatter3d": [
           {
            "line": {
             "colorbar": {
              "outlinewidth": 0,
              "ticks": ""
             }
            },
            "marker": {
             "colorbar": {
              "outlinewidth": 0,
              "ticks": ""
             }
            },
            "type": "scatter3d"
           }
          ],
          "scattercarpet": [
           {
            "marker": {
             "colorbar": {
              "outlinewidth": 0,
              "ticks": ""
             }
            },
            "type": "scattercarpet"
           }
          ],
          "scattergeo": [
           {
            "marker": {
             "colorbar": {
              "outlinewidth": 0,
              "ticks": ""
             }
            },
            "type": "scattergeo"
           }
          ],
          "scattergl": [
           {
            "marker": {
             "colorbar": {
              "outlinewidth": 0,
              "ticks": ""
             }
            },
            "type": "scattergl"
           }
          ],
          "scattermapbox": [
           {
            "marker": {
             "colorbar": {
              "outlinewidth": 0,
              "ticks": ""
             }
            },
            "type": "scattermapbox"
           }
          ],
          "scatterpolar": [
           {
            "marker": {
             "colorbar": {
              "outlinewidth": 0,
              "ticks": ""
             }
            },
            "type": "scatterpolar"
           }
          ],
          "scatterpolargl": [
           {
            "marker": {
             "colorbar": {
              "outlinewidth": 0,
              "ticks": ""
             }
            },
            "type": "scatterpolargl"
           }
          ],
          "scatterternary": [
           {
            "marker": {
             "colorbar": {
              "outlinewidth": 0,
              "ticks": ""
             }
            },
            "type": "scatterternary"
           }
          ],
          "surface": [
           {
            "colorbar": {
             "outlinewidth": 0,
             "ticks": ""
            },
            "colorscale": [
             [
              0,
              "#0d0887"
             ],
             [
              0.1111111111111111,
              "#46039f"
             ],
             [
              0.2222222222222222,
              "#7201a8"
             ],
             [
              0.3333333333333333,
              "#9c179e"
             ],
             [
              0.4444444444444444,
              "#bd3786"
             ],
             [
              0.5555555555555556,
              "#d8576b"
             ],
             [
              0.6666666666666666,
              "#ed7953"
             ],
             [
              0.7777777777777778,
              "#fb9f3a"
             ],
             [
              0.8888888888888888,
              "#fdca26"
             ],
             [
              1,
              "#f0f921"
             ]
            ],
            "type": "surface"
           }
          ],
          "table": [
           {
            "cells": {
             "fill": {
              "color": "#EBF0F8"
             },
             "line": {
              "color": "white"
             }
            },
            "header": {
             "fill": {
              "color": "#C8D4E3"
             },
             "line": {
              "color": "white"
             }
            },
            "type": "table"
           }
          ]
         },
         "layout": {
          "annotationdefaults": {
           "arrowcolor": "#2a3f5f",
           "arrowhead": 0,
           "arrowwidth": 1
          },
          "autotypenumbers": "strict",
          "coloraxis": {
           "colorbar": {
            "outlinewidth": 0,
            "ticks": ""
           }
          },
          "colorscale": {
           "diverging": [
            [
             0,
             "#8e0152"
            ],
            [
             0.1,
             "#c51b7d"
            ],
            [
             0.2,
             "#de77ae"
            ],
            [
             0.3,
             "#f1b6da"
            ],
            [
             0.4,
             "#fde0ef"
            ],
            [
             0.5,
             "#f7f7f7"
            ],
            [
             0.6,
             "#e6f5d0"
            ],
            [
             0.7,
             "#b8e186"
            ],
            [
             0.8,
             "#7fbc41"
            ],
            [
             0.9,
             "#4d9221"
            ],
            [
             1,
             "#276419"
            ]
           ],
           "sequential": [
            [
             0,
             "#0d0887"
            ],
            [
             0.1111111111111111,
             "#46039f"
            ],
            [
             0.2222222222222222,
             "#7201a8"
            ],
            [
             0.3333333333333333,
             "#9c179e"
            ],
            [
             0.4444444444444444,
             "#bd3786"
            ],
            [
             0.5555555555555556,
             "#d8576b"
            ],
            [
             0.6666666666666666,
             "#ed7953"
            ],
            [
             0.7777777777777778,
             "#fb9f3a"
            ],
            [
             0.8888888888888888,
             "#fdca26"
            ],
            [
             1,
             "#f0f921"
            ]
           ],
           "sequentialminus": [
            [
             0,
             "#0d0887"
            ],
            [
             0.1111111111111111,
             "#46039f"
            ],
            [
             0.2222222222222222,
             "#7201a8"
            ],
            [
             0.3333333333333333,
             "#9c179e"
            ],
            [
             0.4444444444444444,
             "#bd3786"
            ],
            [
             0.5555555555555556,
             "#d8576b"
            ],
            [
             0.6666666666666666,
             "#ed7953"
            ],
            [
             0.7777777777777778,
             "#fb9f3a"
            ],
            [
             0.8888888888888888,
             "#fdca26"
            ],
            [
             1,
             "#f0f921"
            ]
           ]
          },
          "colorway": [
           "#636efa",
           "#EF553B",
           "#00cc96",
           "#ab63fa",
           "#FFA15A",
           "#19d3f3",
           "#FF6692",
           "#B6E880",
           "#FF97FF",
           "#FECB52"
          ],
          "font": {
           "color": "#2a3f5f"
          },
          "geo": {
           "bgcolor": "white",
           "lakecolor": "white",
           "landcolor": "#E5ECF6",
           "showlakes": true,
           "showland": true,
           "subunitcolor": "white"
          },
          "hoverlabel": {
           "align": "left"
          },
          "hovermode": "closest",
          "mapbox": {
           "style": "light"
          },
          "paper_bgcolor": "white",
          "plot_bgcolor": "#E5ECF6",
          "polar": {
           "angularaxis": {
            "gridcolor": "white",
            "linecolor": "white",
            "ticks": ""
           },
           "bgcolor": "#E5ECF6",
           "radialaxis": {
            "gridcolor": "white",
            "linecolor": "white",
            "ticks": ""
           }
          },
          "scene": {
           "xaxis": {
            "backgroundcolor": "#E5ECF6",
            "gridcolor": "white",
            "gridwidth": 2,
            "linecolor": "white",
            "showbackground": true,
            "ticks": "",
            "zerolinecolor": "white"
           },
           "yaxis": {
            "backgroundcolor": "#E5ECF6",
            "gridcolor": "white",
            "gridwidth": 2,
            "linecolor": "white",
            "showbackground": true,
            "ticks": "",
            "zerolinecolor": "white"
           },
           "zaxis": {
            "backgroundcolor": "#E5ECF6",
            "gridcolor": "white",
            "gridwidth": 2,
            "linecolor": "white",
            "showbackground": true,
            "ticks": "",
            "zerolinecolor": "white"
           }
          },
          "shapedefaults": {
           "line": {
            "color": "#2a3f5f"
           }
          },
          "ternary": {
           "aaxis": {
            "gridcolor": "white",
            "linecolor": "white",
            "ticks": ""
           },
           "baxis": {
            "gridcolor": "white",
            "linecolor": "white",
            "ticks": ""
           },
           "bgcolor": "#E5ECF6",
           "caxis": {
            "gridcolor": "white",
            "linecolor": "white",
            "ticks": ""
           }
          },
          "title": {
           "x": 0.05
          },
          "xaxis": {
           "automargin": true,
           "gridcolor": "white",
           "linecolor": "white",
           "ticks": "",
           "title": {
            "standoff": 15
           },
           "zerolinecolor": "white",
           "zerolinewidth": 2
          },
          "yaxis": {
           "automargin": true,
           "gridcolor": "white",
           "linecolor": "white",
           "ticks": "",
           "title": {
            "standoff": 15
           },
           "zerolinecolor": "white",
           "zerolinewidth": 2
          }
         }
        },
        "title": {
         "text": "Raspodela odbrana"
        },
        "xaxis": {
         "anchor": "y",
         "domain": [
          0,
          1
         ],
         "title": {
          "text": "Saves"
         }
        },
        "xaxis2": {
         "anchor": "y2",
         "domain": [
          0,
          1
         ],
         "matches": "x",
         "showgrid": true,
         "showticklabels": false
        },
        "yaxis": {
         "anchor": "x",
         "domain": [
          0,
          0.8316
         ],
         "title": {
          "text": "count"
         }
        },
        "yaxis2": {
         "anchor": "x2",
         "domain": [
          0.8416,
          1
         ],
         "matches": "y2",
         "showgrid": false,
         "showline": false,
         "showticklabels": false,
         "ticks": ""
        }
       }
      },
      "text/html": [
       "<div>                            <div id=\"ef452837-012d-460d-8b01-ecccbd906d26\" class=\"plotly-graph-div\" style=\"height:525px; width:100%;\"></div>            <script type=\"text/javascript\">                require([\"plotly\"], function(Plotly) {                    window.PLOTLYENV=window.PLOTLYENV || {};                                    if (document.getElementById(\"ef452837-012d-460d-8b01-ecccbd906d26\")) {                    Plotly.newPlot(                        \"ef452837-012d-460d-8b01-ecccbd906d26\",                        [{\"alignmentgroup\":\"True\",\"bingroup\":\"x\",\"hovertemplate\":\"Saves=%{x}<br>count=%{y}<extra></extra>\",\"legendgroup\":\"\",\"marker\":{\"color\":\"red\",\"pattern\":{\"shape\":\"\"}},\"name\":\"\",\"nbinsx\":15,\"offsetgroup\":\"\",\"orientation\":\"v\",\"showlegend\":false,\"x\":[1,3,2,6,3,1,0,3,4,2,2,3,1,2,3,4,2,4,6,4,4,5,4,1,2,6,2,6,3,4,1,4,3,7,4,4,1,4,0,0,0,0,1,3,1,0,3,0,0,4,0,2,1,2,1,2,1,2,5,2,1,1,0,1,0,0,1,1,2,0,3,1,0,2,2,1,4,4,7,3,1,3,8,1,1,1,4,3,4,0,0,3,2,1,0,1,1,2,4,0,0,0,0,0,0,0,0,3,4,4,6,4,2,2,4,3,9,0,10,4,2,1,3,3,2,3,4,1,0,0,0,3,8,8,4,3,2,6,6,5,9,3,4,3,0,0,0,0,7,9,0,9,6,5,2,2,5,4,1,2,5,7,2,4,6,3,2,1,8,3,1,0,3,3,4,8,3,3,5,6,4,6,6,3,2,6,6,5,5,2,0,0,4,2,0,2,0,2,0,0,3,0,3,0,0,2,6,2,0,0,0,0,4,0,1,1,0,4,6,2,4,2,0,3,1,7,4,0,9,5,8,0,2,3,2,2,3,5,4,4,4,9,1,5,7,0,1,2,2,2,2,4,1,7,5,2,5,1,1,4,4,4,3,2,5,4,0,0,0,0,0,0,0,0,0,0,0,0,0,0,0,0,7,5,1,4,2,3,2,2,0,0,0,0,4,5,4,5,0,2,1,2,7,2,1,1,0,3,2,3,0,1,0,3,0,5,2,1,6,1,0,1,2,0,2,1,1,5,2,4,0,1,0,0,0,1,3,1,0,1,3,0,7,2,0,2,2,4,2,2,3,1,1,4,6,5,2,3,2,1,4,3,2,3,4,3,3,1,2,1,3,3,0,0,4,4,1,0,5,0,4,6,3,3,4,4,3,2,3,2,3,2,3,2,3,2,1,7,5,3,0,3,2,2,5,0,1,4,2,3,5,1,1,2,8,2,3,1,5,3,5,3,3,6,1,2,6,4,1,3,2,3,3,10,4,5,8,4,4,1,5,7,2,3,1,2,0,0,0,0,0,0,0,0,0,0,2,4,0,0,3,0,4,0,3,4,0,1,0,2,0,0,0,0,1,2,3,4,0,4,0,0,2,0,0,0,0,0,2,0,0,0,0,2,2,4,7,7,3,3,7,3,3,2,0,1,3,1,0,1,0,3,3,0,3,5,2,4,4,4,2,5,3,5,2,7,7,5,5,7,0,11,4,2,4,3,1,3,0,0,1,2,0,8,3,0,5,3,3,1,3,1,2,12,5,4,9,2,3,4,4,4,6,0,2,2,0,3,3,3,0,0,0,0,0,0,0,0,0,0,0,0,0,0,3,7,4,4,3,10,8,4,4,1,4,0,3,4,1,2,4,2,5,3,4,3,5,0,5,2,7,2,2,2,3,2,2,5,0,0,0,0,0,3,4,3,5,4,2,2,0,0,0,0,0,0,0,0,0,0,0,0,0,0,0,0,1,8,4,5,6,2,4,5,5,0,0,5,1,1,3,3,2,3,3,3,2,5,4,4,5,5,7,1,2,2,7,0,1,0,0,0,0,4,1,2,0,2,2,5,3,5,3,0,5,1,1,2,2,0,0,0,0,0,0,0,0,0,3,0,3,1,0,0,0,0,0,0,0,0,0,0,8,5,1,1,2,3,2,3,6,4,5,3,7,3,5,4,2,2,5,7,2,2,0,6,9,5,3,5,2,2,4,1,9,4,3,3,5,1,7,2,7,4,8,7,6,4,3,2,2,5,8,2,6,4,4,3,3,2,3,1,4,4,7,0,0,0,0,0,0,0,0,9,3,1,6,6],\"xaxis\":\"x\",\"yaxis\":\"y\",\"type\":\"histogram\"},{\"alignmentgroup\":\"True\",\"hovertemplate\":\"Saves=%{x}<extra></extra>\",\"legendgroup\":\"\",\"marker\":{\"color\":\"red\"},\"name\":\"\",\"notched\":true,\"offsetgroup\":\"\",\"showlegend\":false,\"x\":[1,3,2,6,3,1,0,3,4,2,2,3,1,2,3,4,2,4,6,4,4,5,4,1,2,6,2,6,3,4,1,4,3,7,4,4,1,4,0,0,0,0,1,3,1,0,3,0,0,4,0,2,1,2,1,2,1,2,5,2,1,1,0,1,0,0,1,1,2,0,3,1,0,2,2,1,4,4,7,3,1,3,8,1,1,1,4,3,4,0,0,3,2,1,0,1,1,2,4,0,0,0,0,0,0,0,0,3,4,4,6,4,2,2,4,3,9,0,10,4,2,1,3,3,2,3,4,1,0,0,0,3,8,8,4,3,2,6,6,5,9,3,4,3,0,0,0,0,7,9,0,9,6,5,2,2,5,4,1,2,5,7,2,4,6,3,2,1,8,3,1,0,3,3,4,8,3,3,5,6,4,6,6,3,2,6,6,5,5,2,0,0,4,2,0,2,0,2,0,0,3,0,3,0,0,2,6,2,0,0,0,0,4,0,1,1,0,4,6,2,4,2,0,3,1,7,4,0,9,5,8,0,2,3,2,2,3,5,4,4,4,9,1,5,7,0,1,2,2,2,2,4,1,7,5,2,5,1,1,4,4,4,3,2,5,4,0,0,0,0,0,0,0,0,0,0,0,0,0,0,0,0,7,5,1,4,2,3,2,2,0,0,0,0,4,5,4,5,0,2,1,2,7,2,1,1,0,3,2,3,0,1,0,3,0,5,2,1,6,1,0,1,2,0,2,1,1,5,2,4,0,1,0,0,0,1,3,1,0,1,3,0,7,2,0,2,2,4,2,2,3,1,1,4,6,5,2,3,2,1,4,3,2,3,4,3,3,1,2,1,3,3,0,0,4,4,1,0,5,0,4,6,3,3,4,4,3,2,3,2,3,2,3,2,3,2,1,7,5,3,0,3,2,2,5,0,1,4,2,3,5,1,1,2,8,2,3,1,5,3,5,3,3,6,1,2,6,4,1,3,2,3,3,10,4,5,8,4,4,1,5,7,2,3,1,2,0,0,0,0,0,0,0,0,0,0,2,4,0,0,3,0,4,0,3,4,0,1,0,2,0,0,0,0,1,2,3,4,0,4,0,0,2,0,0,0,0,0,2,0,0,0,0,2,2,4,7,7,3,3,7,3,3,2,0,1,3,1,0,1,0,3,3,0,3,5,2,4,4,4,2,5,3,5,2,7,7,5,5,7,0,11,4,2,4,3,1,3,0,0,1,2,0,8,3,0,5,3,3,1,3,1,2,12,5,4,9,2,3,4,4,4,6,0,2,2,0,3,3,3,0,0,0,0,0,0,0,0,0,0,0,0,0,0,3,7,4,4,3,10,8,4,4,1,4,0,3,4,1,2,4,2,5,3,4,3,5,0,5,2,7,2,2,2,3,2,2,5,0,0,0,0,0,3,4,3,5,4,2,2,0,0,0,0,0,0,0,0,0,0,0,0,0,0,0,0,1,8,4,5,6,2,4,5,5,0,0,5,1,1,3,3,2,3,3,3,2,5,4,4,5,5,7,1,2,2,7,0,1,0,0,0,0,4,1,2,0,2,2,5,3,5,3,0,5,1,1,2,2,0,0,0,0,0,0,0,0,0,3,0,3,1,0,0,0,0,0,0,0,0,0,0,8,5,1,1,2,3,2,3,6,4,5,3,7,3,5,4,2,2,5,7,2,2,0,6,9,5,3,5,2,2,4,1,9,4,3,3,5,1,7,2,7,4,8,7,6,4,3,2,2,5,8,2,6,4,4,3,3,2,3,1,4,4,7,0,0,0,0,0,0,0,0,9,3,1,6,6],\"xaxis\":\"x2\",\"yaxis\":\"y2\",\"type\":\"box\"}],                        {\"template\":{\"data\":{\"histogram2dcontour\":[{\"type\":\"histogram2dcontour\",\"colorbar\":{\"outlinewidth\":0,\"ticks\":\"\"},\"colorscale\":[[0.0,\"#0d0887\"],[0.1111111111111111,\"#46039f\"],[0.2222222222222222,\"#7201a8\"],[0.3333333333333333,\"#9c179e\"],[0.4444444444444444,\"#bd3786\"],[0.5555555555555556,\"#d8576b\"],[0.6666666666666666,\"#ed7953\"],[0.7777777777777778,\"#fb9f3a\"],[0.8888888888888888,\"#fdca26\"],[1.0,\"#f0f921\"]]}],\"choropleth\":[{\"type\":\"choropleth\",\"colorbar\":{\"outlinewidth\":0,\"ticks\":\"\"}}],\"histogram2d\":[{\"type\":\"histogram2d\",\"colorbar\":{\"outlinewidth\":0,\"ticks\":\"\"},\"colorscale\":[[0.0,\"#0d0887\"],[0.1111111111111111,\"#46039f\"],[0.2222222222222222,\"#7201a8\"],[0.3333333333333333,\"#9c179e\"],[0.4444444444444444,\"#bd3786\"],[0.5555555555555556,\"#d8576b\"],[0.6666666666666666,\"#ed7953\"],[0.7777777777777778,\"#fb9f3a\"],[0.8888888888888888,\"#fdca26\"],[1.0,\"#f0f921\"]]}],\"heatmap\":[{\"type\":\"heatmap\",\"colorbar\":{\"outlinewidth\":0,\"ticks\":\"\"},\"colorscale\":[[0.0,\"#0d0887\"],[0.1111111111111111,\"#46039f\"],[0.2222222222222222,\"#7201a8\"],[0.3333333333333333,\"#9c179e\"],[0.4444444444444444,\"#bd3786\"],[0.5555555555555556,\"#d8576b\"],[0.6666666666666666,\"#ed7953\"],[0.7777777777777778,\"#fb9f3a\"],[0.8888888888888888,\"#fdca26\"],[1.0,\"#f0f921\"]]}],\"heatmapgl\":[{\"type\":\"heatmapgl\",\"colorbar\":{\"outlinewidth\":0,\"ticks\":\"\"},\"colorscale\":[[0.0,\"#0d0887\"],[0.1111111111111111,\"#46039f\"],[0.2222222222222222,\"#7201a8\"],[0.3333333333333333,\"#9c179e\"],[0.4444444444444444,\"#bd3786\"],[0.5555555555555556,\"#d8576b\"],[0.6666666666666666,\"#ed7953\"],[0.7777777777777778,\"#fb9f3a\"],[0.8888888888888888,\"#fdca26\"],[1.0,\"#f0f921\"]]}],\"contourcarpet\":[{\"type\":\"contourcarpet\",\"colorbar\":{\"outlinewidth\":0,\"ticks\":\"\"}}],\"contour\":[{\"type\":\"contour\",\"colorbar\":{\"outlinewidth\":0,\"ticks\":\"\"},\"colorscale\":[[0.0,\"#0d0887\"],[0.1111111111111111,\"#46039f\"],[0.2222222222222222,\"#7201a8\"],[0.3333333333333333,\"#9c179e\"],[0.4444444444444444,\"#bd3786\"],[0.5555555555555556,\"#d8576b\"],[0.6666666666666666,\"#ed7953\"],[0.7777777777777778,\"#fb9f3a\"],[0.8888888888888888,\"#fdca26\"],[1.0,\"#f0f921\"]]}],\"surface\":[{\"type\":\"surface\",\"colorbar\":{\"outlinewidth\":0,\"ticks\":\"\"},\"colorscale\":[[0.0,\"#0d0887\"],[0.1111111111111111,\"#46039f\"],[0.2222222222222222,\"#7201a8\"],[0.3333333333333333,\"#9c179e\"],[0.4444444444444444,\"#bd3786\"],[0.5555555555555556,\"#d8576b\"],[0.6666666666666666,\"#ed7953\"],[0.7777777777777778,\"#fb9f3a\"],[0.8888888888888888,\"#fdca26\"],[1.0,\"#f0f921\"]]}],\"mesh3d\":[{\"type\":\"mesh3d\",\"colorbar\":{\"outlinewidth\":0,\"ticks\":\"\"}}],\"scatter\":[{\"fillpattern\":{\"fillmode\":\"overlay\",\"size\":10,\"solidity\":0.2},\"type\":\"scatter\"}],\"parcoords\":[{\"type\":\"parcoords\",\"line\":{\"colorbar\":{\"outlinewidth\":0,\"ticks\":\"\"}}}],\"scatterpolargl\":[{\"type\":\"scatterpolargl\",\"marker\":{\"colorbar\":{\"outlinewidth\":0,\"ticks\":\"\"}}}],\"bar\":[{\"error_x\":{\"color\":\"#2a3f5f\"},\"error_y\":{\"color\":\"#2a3f5f\"},\"marker\":{\"line\":{\"color\":\"#E5ECF6\",\"width\":0.5},\"pattern\":{\"fillmode\":\"overlay\",\"size\":10,\"solidity\":0.2}},\"type\":\"bar\"}],\"scattergeo\":[{\"type\":\"scattergeo\",\"marker\":{\"colorbar\":{\"outlinewidth\":0,\"ticks\":\"\"}}}],\"scatterpolar\":[{\"type\":\"scatterpolar\",\"marker\":{\"colorbar\":{\"outlinewidth\":0,\"ticks\":\"\"}}}],\"histogram\":[{\"marker\":{\"pattern\":{\"fillmode\":\"overlay\",\"size\":10,\"solidity\":0.2}},\"type\":\"histogram\"}],\"scattergl\":[{\"type\":\"scattergl\",\"marker\":{\"colorbar\":{\"outlinewidth\":0,\"ticks\":\"\"}}}],\"scatter3d\":[{\"type\":\"scatter3d\",\"line\":{\"colorbar\":{\"outlinewidth\":0,\"ticks\":\"\"}},\"marker\":{\"colorbar\":{\"outlinewidth\":0,\"ticks\":\"\"}}}],\"scattermapbox\":[{\"type\":\"scattermapbox\",\"marker\":{\"colorbar\":{\"outlinewidth\":0,\"ticks\":\"\"}}}],\"scatterternary\":[{\"type\":\"scatterternary\",\"marker\":{\"colorbar\":{\"outlinewidth\":0,\"ticks\":\"\"}}}],\"scattercarpet\":[{\"type\":\"scattercarpet\",\"marker\":{\"colorbar\":{\"outlinewidth\":0,\"ticks\":\"\"}}}],\"carpet\":[{\"aaxis\":{\"endlinecolor\":\"#2a3f5f\",\"gridcolor\":\"white\",\"linecolor\":\"white\",\"minorgridcolor\":\"white\",\"startlinecolor\":\"#2a3f5f\"},\"baxis\":{\"endlinecolor\":\"#2a3f5f\",\"gridcolor\":\"white\",\"linecolor\":\"white\",\"minorgridcolor\":\"white\",\"startlinecolor\":\"#2a3f5f\"},\"type\":\"carpet\"}],\"table\":[{\"cells\":{\"fill\":{\"color\":\"#EBF0F8\"},\"line\":{\"color\":\"white\"}},\"header\":{\"fill\":{\"color\":\"#C8D4E3\"},\"line\":{\"color\":\"white\"}},\"type\":\"table\"}],\"barpolar\":[{\"marker\":{\"line\":{\"color\":\"#E5ECF6\",\"width\":0.5},\"pattern\":{\"fillmode\":\"overlay\",\"size\":10,\"solidity\":0.2}},\"type\":\"barpolar\"}],\"pie\":[{\"automargin\":true,\"type\":\"pie\"}]},\"layout\":{\"autotypenumbers\":\"strict\",\"colorway\":[\"#636efa\",\"#EF553B\",\"#00cc96\",\"#ab63fa\",\"#FFA15A\",\"#19d3f3\",\"#FF6692\",\"#B6E880\",\"#FF97FF\",\"#FECB52\"],\"font\":{\"color\":\"#2a3f5f\"},\"hovermode\":\"closest\",\"hoverlabel\":{\"align\":\"left\"},\"paper_bgcolor\":\"white\",\"plot_bgcolor\":\"#E5ECF6\",\"polar\":{\"bgcolor\":\"#E5ECF6\",\"angularaxis\":{\"gridcolor\":\"white\",\"linecolor\":\"white\",\"ticks\":\"\"},\"radialaxis\":{\"gridcolor\":\"white\",\"linecolor\":\"white\",\"ticks\":\"\"}},\"ternary\":{\"bgcolor\":\"#E5ECF6\",\"aaxis\":{\"gridcolor\":\"white\",\"linecolor\":\"white\",\"ticks\":\"\"},\"baxis\":{\"gridcolor\":\"white\",\"linecolor\":\"white\",\"ticks\":\"\"},\"caxis\":{\"gridcolor\":\"white\",\"linecolor\":\"white\",\"ticks\":\"\"}},\"coloraxis\":{\"colorbar\":{\"outlinewidth\":0,\"ticks\":\"\"}},\"colorscale\":{\"sequential\":[[0.0,\"#0d0887\"],[0.1111111111111111,\"#46039f\"],[0.2222222222222222,\"#7201a8\"],[0.3333333333333333,\"#9c179e\"],[0.4444444444444444,\"#bd3786\"],[0.5555555555555556,\"#d8576b\"],[0.6666666666666666,\"#ed7953\"],[0.7777777777777778,\"#fb9f3a\"],[0.8888888888888888,\"#fdca26\"],[1.0,\"#f0f921\"]],\"sequentialminus\":[[0.0,\"#0d0887\"],[0.1111111111111111,\"#46039f\"],[0.2222222222222222,\"#7201a8\"],[0.3333333333333333,\"#9c179e\"],[0.4444444444444444,\"#bd3786\"],[0.5555555555555556,\"#d8576b\"],[0.6666666666666666,\"#ed7953\"],[0.7777777777777778,\"#fb9f3a\"],[0.8888888888888888,\"#fdca26\"],[1.0,\"#f0f921\"]],\"diverging\":[[0,\"#8e0152\"],[0.1,\"#c51b7d\"],[0.2,\"#de77ae\"],[0.3,\"#f1b6da\"],[0.4,\"#fde0ef\"],[0.5,\"#f7f7f7\"],[0.6,\"#e6f5d0\"],[0.7,\"#b8e186\"],[0.8,\"#7fbc41\"],[0.9,\"#4d9221\"],[1,\"#276419\"]]},\"xaxis\":{\"gridcolor\":\"white\",\"linecolor\":\"white\",\"ticks\":\"\",\"title\":{\"standoff\":15},\"zerolinecolor\":\"white\",\"automargin\":true,\"zerolinewidth\":2},\"yaxis\":{\"gridcolor\":\"white\",\"linecolor\":\"white\",\"ticks\":\"\",\"title\":{\"standoff\":15},\"zerolinecolor\":\"white\",\"automargin\":true,\"zerolinewidth\":2},\"scene\":{\"xaxis\":{\"backgroundcolor\":\"#E5ECF6\",\"gridcolor\":\"white\",\"linecolor\":\"white\",\"showbackground\":true,\"ticks\":\"\",\"zerolinecolor\":\"white\",\"gridwidth\":2},\"yaxis\":{\"backgroundcolor\":\"#E5ECF6\",\"gridcolor\":\"white\",\"linecolor\":\"white\",\"showbackground\":true,\"ticks\":\"\",\"zerolinecolor\":\"white\",\"gridwidth\":2},\"zaxis\":{\"backgroundcolor\":\"#E5ECF6\",\"gridcolor\":\"white\",\"linecolor\":\"white\",\"showbackground\":true,\"ticks\":\"\",\"zerolinecolor\":\"white\",\"gridwidth\":2}},\"shapedefaults\":{\"line\":{\"color\":\"#2a3f5f\"}},\"annotationdefaults\":{\"arrowcolor\":\"#2a3f5f\",\"arrowhead\":0,\"arrowwidth\":1},\"geo\":{\"bgcolor\":\"white\",\"landcolor\":\"#E5ECF6\",\"subunitcolor\":\"white\",\"showland\":true,\"showlakes\":true,\"lakecolor\":\"white\"},\"title\":{\"x\":0.05},\"mapbox\":{\"style\":\"light\"}}},\"xaxis\":{\"anchor\":\"y\",\"domain\":[0.0,1.0],\"title\":{\"text\":\"Saves\"}},\"yaxis\":{\"anchor\":\"x\",\"domain\":[0.0,0.8316],\"title\":{\"text\":\"count\"}},\"xaxis2\":{\"anchor\":\"y2\",\"domain\":[0.0,1.0],\"matches\":\"x\",\"showticklabels\":false,\"showgrid\":true},\"yaxis2\":{\"anchor\":\"x2\",\"domain\":[0.8416,1.0],\"matches\":\"y2\",\"showticklabels\":false,\"showline\":false,\"ticks\":\"\",\"showgrid\":false},\"legend\":{\"tracegroupgap\":0},\"title\":{\"text\":\"Raspodela odbrana\"},\"barmode\":\"relative\",\"bargap\":0.1},                        {\"responsive\": true}                    ).then(function(){\n",
       "                            \n",
       "var gd = document.getElementById('ef452837-012d-460d-8b01-ecccbd906d26');\n",
       "var x = new MutationObserver(function (mutations, observer) {{\n",
       "        var display = window.getComputedStyle(gd).display;\n",
       "        if (!display || display === 'none') {{\n",
       "            console.log([gd, 'removed!']);\n",
       "            Plotly.purge(gd);\n",
       "            observer.disconnect();\n",
       "        }}\n",
       "}});\n",
       "\n",
       "// Listen for the removal of the full notebook cells\n",
       "var notebookContainer = gd.closest('#notebook-container');\n",
       "if (notebookContainer) {{\n",
       "    x.observe(notebookContainer, {childList: true});\n",
       "}}\n",
       "\n",
       "// Listen for the clearing of the current output cell\n",
       "var outputEl = gd.closest('.output');\n",
       "if (outputEl) {{\n",
       "    x.observe(outputEl, {childList: true});\n",
       "}}\n",
       "\n",
       "                        })                };                });            </script>        </div>"
      ]
     },
     "metadata": {},
     "output_type": "display_data"
    }
   ],
   "source": [
    "fig=px.histogram(df_gk,\n",
    "                 x='Saves',\n",
    "                 marginal='box',\n",
    "                 nbins=15,\n",
    "                 title='Raspodela odbrana',\n",
    "                color_discrete_sequence=['red'])\n",
    "\n",
    "fig.update_layout(bargap=0.1)\n",
    "fig.show()"
   ]
  },
  {
   "cell_type": "markdown",
   "id": "b195254e",
   "metadata": {},
   "source": [
    "Veliki broj vrednosti za 0 odbrana moze da se objasni i dominacijom jacih nad slabijim timovima kada oni ni nemaju suteve ka golu jakog tima i golman samim tim nema priliku za odbranu.Vrednosti od 2 i na dalje postepeno ravnomerno opadaju kao sto je i ocekivano,uz prisustvo autlajera(da li grupisati odbrane zbog prirode kako donose poene)"
   ]
  },
  {
   "cell_type": "markdown",
   "id": "05bed410",
   "metadata": {},
   "source": [
    "**Poeni**"
   ]
  },
  {
   "cell_type": "code",
   "execution_count": 71,
   "id": "34a5c621",
   "metadata": {},
   "outputs": [
    {
     "data": {
      "text/plain": [
       "count    798.000000\n",
       "mean       2.531328\n",
       "std        2.699672\n",
       "min       -2.000000\n",
       "25%        0.000000\n",
       "50%        2.000000\n",
       "75%        3.000000\n",
       "max       13.000000\n",
       "Name: Points, dtype: float64"
      ]
     },
     "execution_count": 71,
     "metadata": {},
     "output_type": "execute_result"
    }
   ],
   "source": [
    "df_gk.Points.describe()"
   ]
  },
  {
   "cell_type": "code",
   "execution_count": 72,
   "id": "91d97dd1",
   "metadata": {},
   "outputs": [
    {
     "data": {
      "application/vnd.plotly.v1+json": {
       "config": {
        "plotlyServerURL": "https://plot.ly"
       },
       "data": [
        {
         "alignmentgroup": "True",
         "bingroup": "x",
         "hovertemplate": "Points=%{x}<br>count=%{y}<extra></extra>",
         "legendgroup": "",
         "marker": {
          "color": "green",
          "pattern": {
           "shape": ""
          }
         },
         "name": "",
         "nbinsx": 30,
         "offsetgroup": "",
         "orientation": "v",
         "showlegend": false,
         "type": "histogram",
         "x": [
          2,
          0,
          2,
          1,
          3,
          2,
          1,
          9,
          2,
          5,
          2,
          2,
          1,
          7,
          7,
          10,
          6,
          2,
          2,
          2,
          9,
          10,
          2,
          1,
          3,
          4,
          0,
          3,
          2,
          3,
          8,
          0,
          8,
          10,
          10,
          3,
          8,
          1,
          0,
          0,
          0,
          0,
          8,
          2,
          6,
          6,
          2,
          6,
          2,
          3,
          0,
          2,
          1,
          2,
          6,
          2,
          6,
          1,
          8,
          2,
          2,
          6,
          6,
          2,
          6,
          0,
          5,
          6,
          6,
          1,
          10,
          6,
          1,
          6,
          5,
          2,
          3,
          2,
          5,
          8,
          2,
          3,
          4,
          1,
          8,
          7,
          6,
          7,
          3,
          0,
          0,
          3,
          6,
          2,
          6,
          1,
          6,
          2,
          2,
          0,
          0,
          0,
          0,
          0,
          0,
          0,
          0,
          3,
          3,
          2,
          3,
          2,
          1,
          6,
          3,
          10,
          5,
          2,
          4,
          2,
          6,
          1,
          1,
          3,
          1,
          2,
          3,
          2,
          0,
          0,
          0,
          8,
          10,
          11,
          3,
          3,
          1,
          0,
          3,
          2,
          13,
          2,
          3,
          2,
          0,
          0,
          0,
          0,
          1,
          3,
          2,
          4,
          9,
          2,
          0,
          0,
          2,
          7,
          2,
          2,
          3,
          2,
          6,
          8,
          9,
          3,
          2,
          1,
          10,
          2,
          1,
          1,
          2,
          1,
          8,
          4,
          3,
          2,
          2,
          11,
          3,
          2,
          2,
          2,
          1,
          4,
          2,
          3,
          2,
          7,
          0,
          0,
          2,
          2,
          0,
          2,
          0,
          1,
          0,
          0,
          5,
          0,
          1,
          0,
          0,
          2,
          3,
          2,
          0,
          0,
          0,
          0,
          3,
          0,
          5,
          2,
          0,
          10,
          4,
          6,
          2,
          2,
          0,
          2,
          6,
          5,
          1,
          0,
          12,
          2,
          5,
          0,
          6,
          10,
          1,
          2,
          2,
          3,
          3,
          2,
          2,
          1,
          6,
          9,
          3,
          1,
          0,
          1,
          2,
          8,
          1,
          3,
          1,
          3,
          8,
          1,
          7,
          1,
          1,
          3,
          9,
          2,
          3,
          6,
          1,
          2,
          0,
          0,
          0,
          0,
          0,
          0,
          0,
          0,
          0,
          0,
          0,
          0,
          0,
          0,
          0,
          0,
          3,
          2,
          1,
          3,
          -2,
          2,
          0,
          1,
          0,
          0,
          0,
          0,
          3,
          3,
          1,
          9,
          -1,
          6,
          2,
          6,
          3,
          6,
          6,
          6,
          2,
          3,
          2,
          6,
          1,
          1,
          0,
          7,
          2,
          1,
          2,
          1,
          4,
          2,
          0,
          2,
          6,
          1,
          1,
          2,
          7,
          5,
          6,
          9,
          2,
          0,
          0,
          0,
          0,
          2,
          7,
          1,
          2,
          6,
          7,
          0,
          1,
          8,
          0,
          1,
          2,
          6,
          2,
          3,
          3,
          0,
          1,
          3,
          4,
          2,
          9,
          10,
          1,
          2,
          2,
          1,
          9,
          2,
          7,
          2,
          3,
          1,
          1,
          0,
          5,
          10,
          0,
          1,
          9,
          3,
          1,
          0,
          0,
          0,
          1,
          11,
          7,
          2,
          3,
          2,
          3,
          7,
          6,
          3,
          1,
          1,
          2,
          1,
          2,
          2,
          6,
          6,
          1,
          3,
          1,
          2,
          1,
          2,
          3,
          2,
          6,
          2,
          2,
          3,
          4,
          0,
          1,
          1,
          2,
          2,
          2,
          6,
          2,
          2,
          1,
          2,
          3,
          3,
          2,
          0,
          3,
          2,
          1,
          2,
          1,
          7,
          3,
          7,
          2,
          9,
          3,
          2,
          2,
          1,
          2,
          4,
          0,
          2,
          1,
          1,
          0,
          0,
          0,
          0,
          0,
          0,
          0,
          0,
          0,
          0,
          2,
          3,
          0,
          0,
          3,
          0,
          0,
          0,
          2,
          3,
          0,
          2,
          0,
          1,
          2,
          0,
          0,
          0,
          1,
          8,
          10,
          1,
          0,
          2,
          0,
          0,
          1,
          0,
          0,
          0,
          0,
          0,
          0,
          0,
          0,
          0,
          0,
          1,
          2,
          1,
          11,
          3,
          2,
          3,
          4,
          3,
          3,
          1,
          1,
          2,
          2,
          0,
          0,
          2,
          0,
          3,
          3,
          6,
          8,
          1,
          1,
          2,
          3,
          7,
          0,
          3,
          2,
          4,
          1,
          8,
          3,
          3,
          3,
          2,
          0,
          4,
          2,
          6,
          4,
          2,
          1,
          2,
          2,
          0,
          6,
          6,
          0,
          3,
          3,
          2,
          2,
          3,
          2,
          0,
          2,
          1,
          1,
          10,
          7,
          1,
          5,
          0,
          2,
          2,
          2,
          3,
          11,
          1,
          7,
          2,
          2,
          10,
          3,
          1,
          0,
          0,
          0,
          0,
          0,
          0,
          0,
          0,
          0,
          0,
          0,
          0,
          0,
          1,
          2,
          2,
          7,
          3,
          2,
          8,
          3,
          3,
          1,
          1,
          2,
          0,
          7,
          2,
          1,
          2,
          9,
          6,
          2,
          3,
          3,
          3,
          2,
          0,
          2,
          2,
          3,
          5,
          2,
          1,
          3,
          6,
          1,
          2,
          0,
          0,
          0,
          0,
          0,
          3,
          2,
          2,
          3,
          3,
          1,
          1,
          0,
          0,
          0,
          0,
          0,
          0,
          0,
          0,
          -1,
          0,
          0,
          0,
          0,
          0,
          0,
          0,
          2,
          10,
          2,
          1,
          10,
          1,
          1,
          1,
          2,
          0,
          0,
          9,
          2,
          1,
          8,
          7,
          1,
          9,
          2,
          1,
          2,
          3,
          2,
          2,
          3,
          8,
          3,
          1,
          2,
          7,
          4,
          0,
          1,
          0,
          0,
          0,
          0,
          2,
          6,
          2,
          2,
          1,
          1,
          8,
          9,
          9,
          1,
          1,
          9,
          1,
          1,
          2,
          1,
          2,
          0,
          0,
          0,
          0,
          0,
          0,
          0,
          0,
          3,
          6,
          1,
          2,
          0,
          0,
          0,
          0,
          0,
          0,
          0,
          0,
          0,
          0,
          3,
          2,
          1,
          1,
          2,
          3,
          1,
          3,
          3,
          2,
          3,
          3,
          3,
          1,
          1,
          2,
          6,
          1,
          2,
          5,
          6,
          0,
          1,
          4,
          3,
          2,
          3,
          1,
          2,
          1,
          2,
          2,
          3,
          1,
          2,
          3,
          2,
          0,
          4,
          1,
          4,
          2,
          3,
          0,
          3,
          0,
          2,
          0,
          2,
          5,
          3,
          0,
          3,
          9,
          2,
          3,
          2,
          1,
          2,
          1,
          1,
          3,
          2,
          0,
          0,
          0,
          0,
          0,
          0,
          0,
          0,
          3,
          1,
          1,
          4,
          3
         ],
         "xaxis": "x",
         "yaxis": "y"
        },
        {
         "alignmentgroup": "True",
         "hovertemplate": "Points=%{x}<extra></extra>",
         "legendgroup": "",
         "marker": {
          "color": "green"
         },
         "name": "",
         "notched": true,
         "offsetgroup": "",
         "showlegend": false,
         "type": "box",
         "x": [
          2,
          0,
          2,
          1,
          3,
          2,
          1,
          9,
          2,
          5,
          2,
          2,
          1,
          7,
          7,
          10,
          6,
          2,
          2,
          2,
          9,
          10,
          2,
          1,
          3,
          4,
          0,
          3,
          2,
          3,
          8,
          0,
          8,
          10,
          10,
          3,
          8,
          1,
          0,
          0,
          0,
          0,
          8,
          2,
          6,
          6,
          2,
          6,
          2,
          3,
          0,
          2,
          1,
          2,
          6,
          2,
          6,
          1,
          8,
          2,
          2,
          6,
          6,
          2,
          6,
          0,
          5,
          6,
          6,
          1,
          10,
          6,
          1,
          6,
          5,
          2,
          3,
          2,
          5,
          8,
          2,
          3,
          4,
          1,
          8,
          7,
          6,
          7,
          3,
          0,
          0,
          3,
          6,
          2,
          6,
          1,
          6,
          2,
          2,
          0,
          0,
          0,
          0,
          0,
          0,
          0,
          0,
          3,
          3,
          2,
          3,
          2,
          1,
          6,
          3,
          10,
          5,
          2,
          4,
          2,
          6,
          1,
          1,
          3,
          1,
          2,
          3,
          2,
          0,
          0,
          0,
          8,
          10,
          11,
          3,
          3,
          1,
          0,
          3,
          2,
          13,
          2,
          3,
          2,
          0,
          0,
          0,
          0,
          1,
          3,
          2,
          4,
          9,
          2,
          0,
          0,
          2,
          7,
          2,
          2,
          3,
          2,
          6,
          8,
          9,
          3,
          2,
          1,
          10,
          2,
          1,
          1,
          2,
          1,
          8,
          4,
          3,
          2,
          2,
          11,
          3,
          2,
          2,
          2,
          1,
          4,
          2,
          3,
          2,
          7,
          0,
          0,
          2,
          2,
          0,
          2,
          0,
          1,
          0,
          0,
          5,
          0,
          1,
          0,
          0,
          2,
          3,
          2,
          0,
          0,
          0,
          0,
          3,
          0,
          5,
          2,
          0,
          10,
          4,
          6,
          2,
          2,
          0,
          2,
          6,
          5,
          1,
          0,
          12,
          2,
          5,
          0,
          6,
          10,
          1,
          2,
          2,
          3,
          3,
          2,
          2,
          1,
          6,
          9,
          3,
          1,
          0,
          1,
          2,
          8,
          1,
          3,
          1,
          3,
          8,
          1,
          7,
          1,
          1,
          3,
          9,
          2,
          3,
          6,
          1,
          2,
          0,
          0,
          0,
          0,
          0,
          0,
          0,
          0,
          0,
          0,
          0,
          0,
          0,
          0,
          0,
          0,
          3,
          2,
          1,
          3,
          -2,
          2,
          0,
          1,
          0,
          0,
          0,
          0,
          3,
          3,
          1,
          9,
          -1,
          6,
          2,
          6,
          3,
          6,
          6,
          6,
          2,
          3,
          2,
          6,
          1,
          1,
          0,
          7,
          2,
          1,
          2,
          1,
          4,
          2,
          0,
          2,
          6,
          1,
          1,
          2,
          7,
          5,
          6,
          9,
          2,
          0,
          0,
          0,
          0,
          2,
          7,
          1,
          2,
          6,
          7,
          0,
          1,
          8,
          0,
          1,
          2,
          6,
          2,
          3,
          3,
          0,
          1,
          3,
          4,
          2,
          9,
          10,
          1,
          2,
          2,
          1,
          9,
          2,
          7,
          2,
          3,
          1,
          1,
          0,
          5,
          10,
          0,
          1,
          9,
          3,
          1,
          0,
          0,
          0,
          1,
          11,
          7,
          2,
          3,
          2,
          3,
          7,
          6,
          3,
          1,
          1,
          2,
          1,
          2,
          2,
          6,
          6,
          1,
          3,
          1,
          2,
          1,
          2,
          3,
          2,
          6,
          2,
          2,
          3,
          4,
          0,
          1,
          1,
          2,
          2,
          2,
          6,
          2,
          2,
          1,
          2,
          3,
          3,
          2,
          0,
          3,
          2,
          1,
          2,
          1,
          7,
          3,
          7,
          2,
          9,
          3,
          2,
          2,
          1,
          2,
          4,
          0,
          2,
          1,
          1,
          0,
          0,
          0,
          0,
          0,
          0,
          0,
          0,
          0,
          0,
          2,
          3,
          0,
          0,
          3,
          0,
          0,
          0,
          2,
          3,
          0,
          2,
          0,
          1,
          2,
          0,
          0,
          0,
          1,
          8,
          10,
          1,
          0,
          2,
          0,
          0,
          1,
          0,
          0,
          0,
          0,
          0,
          0,
          0,
          0,
          0,
          0,
          1,
          2,
          1,
          11,
          3,
          2,
          3,
          4,
          3,
          3,
          1,
          1,
          2,
          2,
          0,
          0,
          2,
          0,
          3,
          3,
          6,
          8,
          1,
          1,
          2,
          3,
          7,
          0,
          3,
          2,
          4,
          1,
          8,
          3,
          3,
          3,
          2,
          0,
          4,
          2,
          6,
          4,
          2,
          1,
          2,
          2,
          0,
          6,
          6,
          0,
          3,
          3,
          2,
          2,
          3,
          2,
          0,
          2,
          1,
          1,
          10,
          7,
          1,
          5,
          0,
          2,
          2,
          2,
          3,
          11,
          1,
          7,
          2,
          2,
          10,
          3,
          1,
          0,
          0,
          0,
          0,
          0,
          0,
          0,
          0,
          0,
          0,
          0,
          0,
          0,
          1,
          2,
          2,
          7,
          3,
          2,
          8,
          3,
          3,
          1,
          1,
          2,
          0,
          7,
          2,
          1,
          2,
          9,
          6,
          2,
          3,
          3,
          3,
          2,
          0,
          2,
          2,
          3,
          5,
          2,
          1,
          3,
          6,
          1,
          2,
          0,
          0,
          0,
          0,
          0,
          3,
          2,
          2,
          3,
          3,
          1,
          1,
          0,
          0,
          0,
          0,
          0,
          0,
          0,
          0,
          -1,
          0,
          0,
          0,
          0,
          0,
          0,
          0,
          2,
          10,
          2,
          1,
          10,
          1,
          1,
          1,
          2,
          0,
          0,
          9,
          2,
          1,
          8,
          7,
          1,
          9,
          2,
          1,
          2,
          3,
          2,
          2,
          3,
          8,
          3,
          1,
          2,
          7,
          4,
          0,
          1,
          0,
          0,
          0,
          0,
          2,
          6,
          2,
          2,
          1,
          1,
          8,
          9,
          9,
          1,
          1,
          9,
          1,
          1,
          2,
          1,
          2,
          0,
          0,
          0,
          0,
          0,
          0,
          0,
          0,
          3,
          6,
          1,
          2,
          0,
          0,
          0,
          0,
          0,
          0,
          0,
          0,
          0,
          0,
          3,
          2,
          1,
          1,
          2,
          3,
          1,
          3,
          3,
          2,
          3,
          3,
          3,
          1,
          1,
          2,
          6,
          1,
          2,
          5,
          6,
          0,
          1,
          4,
          3,
          2,
          3,
          1,
          2,
          1,
          2,
          2,
          3,
          1,
          2,
          3,
          2,
          0,
          4,
          1,
          4,
          2,
          3,
          0,
          3,
          0,
          2,
          0,
          2,
          5,
          3,
          0,
          3,
          9,
          2,
          3,
          2,
          1,
          2,
          1,
          1,
          3,
          2,
          0,
          0,
          0,
          0,
          0,
          0,
          0,
          0,
          3,
          1,
          1,
          4,
          3
         ],
         "xaxis": "x2",
         "yaxis": "y2"
        }
       ],
       "layout": {
        "bargap": 0.1,
        "barmode": "relative",
        "legend": {
         "tracegroupgap": 0
        },
        "template": {
         "data": {
          "bar": [
           {
            "error_x": {
             "color": "#2a3f5f"
            },
            "error_y": {
             "color": "#2a3f5f"
            },
            "marker": {
             "line": {
              "color": "#E5ECF6",
              "width": 0.5
             },
             "pattern": {
              "fillmode": "overlay",
              "size": 10,
              "solidity": 0.2
             }
            },
            "type": "bar"
           }
          ],
          "barpolar": [
           {
            "marker": {
             "line": {
              "color": "#E5ECF6",
              "width": 0.5
             },
             "pattern": {
              "fillmode": "overlay",
              "size": 10,
              "solidity": 0.2
             }
            },
            "type": "barpolar"
           }
          ],
          "carpet": [
           {
            "aaxis": {
             "endlinecolor": "#2a3f5f",
             "gridcolor": "white",
             "linecolor": "white",
             "minorgridcolor": "white",
             "startlinecolor": "#2a3f5f"
            },
            "baxis": {
             "endlinecolor": "#2a3f5f",
             "gridcolor": "white",
             "linecolor": "white",
             "minorgridcolor": "white",
             "startlinecolor": "#2a3f5f"
            },
            "type": "carpet"
           }
          ],
          "choropleth": [
           {
            "colorbar": {
             "outlinewidth": 0,
             "ticks": ""
            },
            "type": "choropleth"
           }
          ],
          "contour": [
           {
            "colorbar": {
             "outlinewidth": 0,
             "ticks": ""
            },
            "colorscale": [
             [
              0,
              "#0d0887"
             ],
             [
              0.1111111111111111,
              "#46039f"
             ],
             [
              0.2222222222222222,
              "#7201a8"
             ],
             [
              0.3333333333333333,
              "#9c179e"
             ],
             [
              0.4444444444444444,
              "#bd3786"
             ],
             [
              0.5555555555555556,
              "#d8576b"
             ],
             [
              0.6666666666666666,
              "#ed7953"
             ],
             [
              0.7777777777777778,
              "#fb9f3a"
             ],
             [
              0.8888888888888888,
              "#fdca26"
             ],
             [
              1,
              "#f0f921"
             ]
            ],
            "type": "contour"
           }
          ],
          "contourcarpet": [
           {
            "colorbar": {
             "outlinewidth": 0,
             "ticks": ""
            },
            "type": "contourcarpet"
           }
          ],
          "heatmap": [
           {
            "colorbar": {
             "outlinewidth": 0,
             "ticks": ""
            },
            "colorscale": [
             [
              0,
              "#0d0887"
             ],
             [
              0.1111111111111111,
              "#46039f"
             ],
             [
              0.2222222222222222,
              "#7201a8"
             ],
             [
              0.3333333333333333,
              "#9c179e"
             ],
             [
              0.4444444444444444,
              "#bd3786"
             ],
             [
              0.5555555555555556,
              "#d8576b"
             ],
             [
              0.6666666666666666,
              "#ed7953"
             ],
             [
              0.7777777777777778,
              "#fb9f3a"
             ],
             [
              0.8888888888888888,
              "#fdca26"
             ],
             [
              1,
              "#f0f921"
             ]
            ],
            "type": "heatmap"
           }
          ],
          "heatmapgl": [
           {
            "colorbar": {
             "outlinewidth": 0,
             "ticks": ""
            },
            "colorscale": [
             [
              0,
              "#0d0887"
             ],
             [
              0.1111111111111111,
              "#46039f"
             ],
             [
              0.2222222222222222,
              "#7201a8"
             ],
             [
              0.3333333333333333,
              "#9c179e"
             ],
             [
              0.4444444444444444,
              "#bd3786"
             ],
             [
              0.5555555555555556,
              "#d8576b"
             ],
             [
              0.6666666666666666,
              "#ed7953"
             ],
             [
              0.7777777777777778,
              "#fb9f3a"
             ],
             [
              0.8888888888888888,
              "#fdca26"
             ],
             [
              1,
              "#f0f921"
             ]
            ],
            "type": "heatmapgl"
           }
          ],
          "histogram": [
           {
            "marker": {
             "pattern": {
              "fillmode": "overlay",
              "size": 10,
              "solidity": 0.2
             }
            },
            "type": "histogram"
           }
          ],
          "histogram2d": [
           {
            "colorbar": {
             "outlinewidth": 0,
             "ticks": ""
            },
            "colorscale": [
             [
              0,
              "#0d0887"
             ],
             [
              0.1111111111111111,
              "#46039f"
             ],
             [
              0.2222222222222222,
              "#7201a8"
             ],
             [
              0.3333333333333333,
              "#9c179e"
             ],
             [
              0.4444444444444444,
              "#bd3786"
             ],
             [
              0.5555555555555556,
              "#d8576b"
             ],
             [
              0.6666666666666666,
              "#ed7953"
             ],
             [
              0.7777777777777778,
              "#fb9f3a"
             ],
             [
              0.8888888888888888,
              "#fdca26"
             ],
             [
              1,
              "#f0f921"
             ]
            ],
            "type": "histogram2d"
           }
          ],
          "histogram2dcontour": [
           {
            "colorbar": {
             "outlinewidth": 0,
             "ticks": ""
            },
            "colorscale": [
             [
              0,
              "#0d0887"
             ],
             [
              0.1111111111111111,
              "#46039f"
             ],
             [
              0.2222222222222222,
              "#7201a8"
             ],
             [
              0.3333333333333333,
              "#9c179e"
             ],
             [
              0.4444444444444444,
              "#bd3786"
             ],
             [
              0.5555555555555556,
              "#d8576b"
             ],
             [
              0.6666666666666666,
              "#ed7953"
             ],
             [
              0.7777777777777778,
              "#fb9f3a"
             ],
             [
              0.8888888888888888,
              "#fdca26"
             ],
             [
              1,
              "#f0f921"
             ]
            ],
            "type": "histogram2dcontour"
           }
          ],
          "mesh3d": [
           {
            "colorbar": {
             "outlinewidth": 0,
             "ticks": ""
            },
            "type": "mesh3d"
           }
          ],
          "parcoords": [
           {
            "line": {
             "colorbar": {
              "outlinewidth": 0,
              "ticks": ""
             }
            },
            "type": "parcoords"
           }
          ],
          "pie": [
           {
            "automargin": true,
            "type": "pie"
           }
          ],
          "scatter": [
           {
            "fillpattern": {
             "fillmode": "overlay",
             "size": 10,
             "solidity": 0.2
            },
            "type": "scatter"
           }
          ],
          "scatter3d": [
           {
            "line": {
             "colorbar": {
              "outlinewidth": 0,
              "ticks": ""
             }
            },
            "marker": {
             "colorbar": {
              "outlinewidth": 0,
              "ticks": ""
             }
            },
            "type": "scatter3d"
           }
          ],
          "scattercarpet": [
           {
            "marker": {
             "colorbar": {
              "outlinewidth": 0,
              "ticks": ""
             }
            },
            "type": "scattercarpet"
           }
          ],
          "scattergeo": [
           {
            "marker": {
             "colorbar": {
              "outlinewidth": 0,
              "ticks": ""
             }
            },
            "type": "scattergeo"
           }
          ],
          "scattergl": [
           {
            "marker": {
             "colorbar": {
              "outlinewidth": 0,
              "ticks": ""
             }
            },
            "type": "scattergl"
           }
          ],
          "scattermapbox": [
           {
            "marker": {
             "colorbar": {
              "outlinewidth": 0,
              "ticks": ""
             }
            },
            "type": "scattermapbox"
           }
          ],
          "scatterpolar": [
           {
            "marker": {
             "colorbar": {
              "outlinewidth": 0,
              "ticks": ""
             }
            },
            "type": "scatterpolar"
           }
          ],
          "scatterpolargl": [
           {
            "marker": {
             "colorbar": {
              "outlinewidth": 0,
              "ticks": ""
             }
            },
            "type": "scatterpolargl"
           }
          ],
          "scatterternary": [
           {
            "marker": {
             "colorbar": {
              "outlinewidth": 0,
              "ticks": ""
             }
            },
            "type": "scatterternary"
           }
          ],
          "surface": [
           {
            "colorbar": {
             "outlinewidth": 0,
             "ticks": ""
            },
            "colorscale": [
             [
              0,
              "#0d0887"
             ],
             [
              0.1111111111111111,
              "#46039f"
             ],
             [
              0.2222222222222222,
              "#7201a8"
             ],
             [
              0.3333333333333333,
              "#9c179e"
             ],
             [
              0.4444444444444444,
              "#bd3786"
             ],
             [
              0.5555555555555556,
              "#d8576b"
             ],
             [
              0.6666666666666666,
              "#ed7953"
             ],
             [
              0.7777777777777778,
              "#fb9f3a"
             ],
             [
              0.8888888888888888,
              "#fdca26"
             ],
             [
              1,
              "#f0f921"
             ]
            ],
            "type": "surface"
           }
          ],
          "table": [
           {
            "cells": {
             "fill": {
              "color": "#EBF0F8"
             },
             "line": {
              "color": "white"
             }
            },
            "header": {
             "fill": {
              "color": "#C8D4E3"
             },
             "line": {
              "color": "white"
             }
            },
            "type": "table"
           }
          ]
         },
         "layout": {
          "annotationdefaults": {
           "arrowcolor": "#2a3f5f",
           "arrowhead": 0,
           "arrowwidth": 1
          },
          "autotypenumbers": "strict",
          "coloraxis": {
           "colorbar": {
            "outlinewidth": 0,
            "ticks": ""
           }
          },
          "colorscale": {
           "diverging": [
            [
             0,
             "#8e0152"
            ],
            [
             0.1,
             "#c51b7d"
            ],
            [
             0.2,
             "#de77ae"
            ],
            [
             0.3,
             "#f1b6da"
            ],
            [
             0.4,
             "#fde0ef"
            ],
            [
             0.5,
             "#f7f7f7"
            ],
            [
             0.6,
             "#e6f5d0"
            ],
            [
             0.7,
             "#b8e186"
            ],
            [
             0.8,
             "#7fbc41"
            ],
            [
             0.9,
             "#4d9221"
            ],
            [
             1,
             "#276419"
            ]
           ],
           "sequential": [
            [
             0,
             "#0d0887"
            ],
            [
             0.1111111111111111,
             "#46039f"
            ],
            [
             0.2222222222222222,
             "#7201a8"
            ],
            [
             0.3333333333333333,
             "#9c179e"
            ],
            [
             0.4444444444444444,
             "#bd3786"
            ],
            [
             0.5555555555555556,
             "#d8576b"
            ],
            [
             0.6666666666666666,
             "#ed7953"
            ],
            [
             0.7777777777777778,
             "#fb9f3a"
            ],
            [
             0.8888888888888888,
             "#fdca26"
            ],
            [
             1,
             "#f0f921"
            ]
           ],
           "sequentialminus": [
            [
             0,
             "#0d0887"
            ],
            [
             0.1111111111111111,
             "#46039f"
            ],
            [
             0.2222222222222222,
             "#7201a8"
            ],
            [
             0.3333333333333333,
             "#9c179e"
            ],
            [
             0.4444444444444444,
             "#bd3786"
            ],
            [
             0.5555555555555556,
             "#d8576b"
            ],
            [
             0.6666666666666666,
             "#ed7953"
            ],
            [
             0.7777777777777778,
             "#fb9f3a"
            ],
            [
             0.8888888888888888,
             "#fdca26"
            ],
            [
             1,
             "#f0f921"
            ]
           ]
          },
          "colorway": [
           "#636efa",
           "#EF553B",
           "#00cc96",
           "#ab63fa",
           "#FFA15A",
           "#19d3f3",
           "#FF6692",
           "#B6E880",
           "#FF97FF",
           "#FECB52"
          ],
          "font": {
           "color": "#2a3f5f"
          },
          "geo": {
           "bgcolor": "white",
           "lakecolor": "white",
           "landcolor": "#E5ECF6",
           "showlakes": true,
           "showland": true,
           "subunitcolor": "white"
          },
          "hoverlabel": {
           "align": "left"
          },
          "hovermode": "closest",
          "mapbox": {
           "style": "light"
          },
          "paper_bgcolor": "white",
          "plot_bgcolor": "#E5ECF6",
          "polar": {
           "angularaxis": {
            "gridcolor": "white",
            "linecolor": "white",
            "ticks": ""
           },
           "bgcolor": "#E5ECF6",
           "radialaxis": {
            "gridcolor": "white",
            "linecolor": "white",
            "ticks": ""
           }
          },
          "scene": {
           "xaxis": {
            "backgroundcolor": "#E5ECF6",
            "gridcolor": "white",
            "gridwidth": 2,
            "linecolor": "white",
            "showbackground": true,
            "ticks": "",
            "zerolinecolor": "white"
           },
           "yaxis": {
            "backgroundcolor": "#E5ECF6",
            "gridcolor": "white",
            "gridwidth": 2,
            "linecolor": "white",
            "showbackground": true,
            "ticks": "",
            "zerolinecolor": "white"
           },
           "zaxis": {
            "backgroundcolor": "#E5ECF6",
            "gridcolor": "white",
            "gridwidth": 2,
            "linecolor": "white",
            "showbackground": true,
            "ticks": "",
            "zerolinecolor": "white"
           }
          },
          "shapedefaults": {
           "line": {
            "color": "#2a3f5f"
           }
          },
          "ternary": {
           "aaxis": {
            "gridcolor": "white",
            "linecolor": "white",
            "ticks": ""
           },
           "baxis": {
            "gridcolor": "white",
            "linecolor": "white",
            "ticks": ""
           },
           "bgcolor": "#E5ECF6",
           "caxis": {
            "gridcolor": "white",
            "linecolor": "white",
            "ticks": ""
           }
          },
          "title": {
           "x": 0.05
          },
          "xaxis": {
           "automargin": true,
           "gridcolor": "white",
           "linecolor": "white",
           "ticks": "",
           "title": {
            "standoff": 15
           },
           "zerolinecolor": "white",
           "zerolinewidth": 2
          },
          "yaxis": {
           "automargin": true,
           "gridcolor": "white",
           "linecolor": "white",
           "ticks": "",
           "title": {
            "standoff": 15
           },
           "zerolinecolor": "white",
           "zerolinewidth": 2
          }
         }
        },
        "title": {
         "text": "Raspodela poena"
        },
        "xaxis": {
         "anchor": "y",
         "domain": [
          0,
          1
         ],
         "title": {
          "text": "Points"
         }
        },
        "xaxis2": {
         "anchor": "y2",
         "domain": [
          0,
          1
         ],
         "matches": "x",
         "showgrid": true,
         "showticklabels": false
        },
        "yaxis": {
         "anchor": "x",
         "domain": [
          0,
          0.8316
         ],
         "title": {
          "text": "count"
         }
        },
        "yaxis2": {
         "anchor": "x2",
         "domain": [
          0.8416,
          1
         ],
         "matches": "y2",
         "showgrid": false,
         "showline": false,
         "showticklabels": false,
         "ticks": ""
        }
       }
      },
      "text/html": [
       "<div>                            <div id=\"dc8325f8-6fa9-408e-a090-4539bace2a65\" class=\"plotly-graph-div\" style=\"height:525px; width:100%;\"></div>            <script type=\"text/javascript\">                require([\"plotly\"], function(Plotly) {                    window.PLOTLYENV=window.PLOTLYENV || {};                                    if (document.getElementById(\"dc8325f8-6fa9-408e-a090-4539bace2a65\")) {                    Plotly.newPlot(                        \"dc8325f8-6fa9-408e-a090-4539bace2a65\",                        [{\"alignmentgroup\":\"True\",\"bingroup\":\"x\",\"hovertemplate\":\"Points=%{x}<br>count=%{y}<extra></extra>\",\"legendgroup\":\"\",\"marker\":{\"color\":\"green\",\"pattern\":{\"shape\":\"\"}},\"name\":\"\",\"nbinsx\":30,\"offsetgroup\":\"\",\"orientation\":\"v\",\"showlegend\":false,\"x\":[2,0,2,1,3,2,1,9,2,5,2,2,1,7,7,10,6,2,2,2,9,10,2,1,3,4,0,3,2,3,8,0,8,10,10,3,8,1,0,0,0,0,8,2,6,6,2,6,2,3,0,2,1,2,6,2,6,1,8,2,2,6,6,2,6,0,5,6,6,1,10,6,1,6,5,2,3,2,5,8,2,3,4,1,8,7,6,7,3,0,0,3,6,2,6,1,6,2,2,0,0,0,0,0,0,0,0,3,3,2,3,2,1,6,3,10,5,2,4,2,6,1,1,3,1,2,3,2,0,0,0,8,10,11,3,3,1,0,3,2,13,2,3,2,0,0,0,0,1,3,2,4,9,2,0,0,2,7,2,2,3,2,6,8,9,3,2,1,10,2,1,1,2,1,8,4,3,2,2,11,3,2,2,2,1,4,2,3,2,7,0,0,2,2,0,2,0,1,0,0,5,0,1,0,0,2,3,2,0,0,0,0,3,0,5,2,0,10,4,6,2,2,0,2,6,5,1,0,12,2,5,0,6,10,1,2,2,3,3,2,2,1,6,9,3,1,0,1,2,8,1,3,1,3,8,1,7,1,1,3,9,2,3,6,1,2,0,0,0,0,0,0,0,0,0,0,0,0,0,0,0,0,3,2,1,3,-2,2,0,1,0,0,0,0,3,3,1,9,-1,6,2,6,3,6,6,6,2,3,2,6,1,1,0,7,2,1,2,1,4,2,0,2,6,1,1,2,7,5,6,9,2,0,0,0,0,2,7,1,2,6,7,0,1,8,0,1,2,6,2,3,3,0,1,3,4,2,9,10,1,2,2,1,9,2,7,2,3,1,1,0,5,10,0,1,9,3,1,0,0,0,1,11,7,2,3,2,3,7,6,3,1,1,2,1,2,2,6,6,1,3,1,2,1,2,3,2,6,2,2,3,4,0,1,1,2,2,2,6,2,2,1,2,3,3,2,0,3,2,1,2,1,7,3,7,2,9,3,2,2,1,2,4,0,2,1,1,0,0,0,0,0,0,0,0,0,0,2,3,0,0,3,0,0,0,2,3,0,2,0,1,2,0,0,0,1,8,10,1,0,2,0,0,1,0,0,0,0,0,0,0,0,0,0,1,2,1,11,3,2,3,4,3,3,1,1,2,2,0,0,2,0,3,3,6,8,1,1,2,3,7,0,3,2,4,1,8,3,3,3,2,0,4,2,6,4,2,1,2,2,0,6,6,0,3,3,2,2,3,2,0,2,1,1,10,7,1,5,0,2,2,2,3,11,1,7,2,2,10,3,1,0,0,0,0,0,0,0,0,0,0,0,0,0,1,2,2,7,3,2,8,3,3,1,1,2,0,7,2,1,2,9,6,2,3,3,3,2,0,2,2,3,5,2,1,3,6,1,2,0,0,0,0,0,3,2,2,3,3,1,1,0,0,0,0,0,0,0,0,-1,0,0,0,0,0,0,0,2,10,2,1,10,1,1,1,2,0,0,9,2,1,8,7,1,9,2,1,2,3,2,2,3,8,3,1,2,7,4,0,1,0,0,0,0,2,6,2,2,1,1,8,9,9,1,1,9,1,1,2,1,2,0,0,0,0,0,0,0,0,3,6,1,2,0,0,0,0,0,0,0,0,0,0,3,2,1,1,2,3,1,3,3,2,3,3,3,1,1,2,6,1,2,5,6,0,1,4,3,2,3,1,2,1,2,2,3,1,2,3,2,0,4,1,4,2,3,0,3,0,2,0,2,5,3,0,3,9,2,3,2,1,2,1,1,3,2,0,0,0,0,0,0,0,0,3,1,1,4,3],\"xaxis\":\"x\",\"yaxis\":\"y\",\"type\":\"histogram\"},{\"alignmentgroup\":\"True\",\"hovertemplate\":\"Points=%{x}<extra></extra>\",\"legendgroup\":\"\",\"marker\":{\"color\":\"green\"},\"name\":\"\",\"notched\":true,\"offsetgroup\":\"\",\"showlegend\":false,\"x\":[2,0,2,1,3,2,1,9,2,5,2,2,1,7,7,10,6,2,2,2,9,10,2,1,3,4,0,3,2,3,8,0,8,10,10,3,8,1,0,0,0,0,8,2,6,6,2,6,2,3,0,2,1,2,6,2,6,1,8,2,2,6,6,2,6,0,5,6,6,1,10,6,1,6,5,2,3,2,5,8,2,3,4,1,8,7,6,7,3,0,0,3,6,2,6,1,6,2,2,0,0,0,0,0,0,0,0,3,3,2,3,2,1,6,3,10,5,2,4,2,6,1,1,3,1,2,3,2,0,0,0,8,10,11,3,3,1,0,3,2,13,2,3,2,0,0,0,0,1,3,2,4,9,2,0,0,2,7,2,2,3,2,6,8,9,3,2,1,10,2,1,1,2,1,8,4,3,2,2,11,3,2,2,2,1,4,2,3,2,7,0,0,2,2,0,2,0,1,0,0,5,0,1,0,0,2,3,2,0,0,0,0,3,0,5,2,0,10,4,6,2,2,0,2,6,5,1,0,12,2,5,0,6,10,1,2,2,3,3,2,2,1,6,9,3,1,0,1,2,8,1,3,1,3,8,1,7,1,1,3,9,2,3,6,1,2,0,0,0,0,0,0,0,0,0,0,0,0,0,0,0,0,3,2,1,3,-2,2,0,1,0,0,0,0,3,3,1,9,-1,6,2,6,3,6,6,6,2,3,2,6,1,1,0,7,2,1,2,1,4,2,0,2,6,1,1,2,7,5,6,9,2,0,0,0,0,2,7,1,2,6,7,0,1,8,0,1,2,6,2,3,3,0,1,3,4,2,9,10,1,2,2,1,9,2,7,2,3,1,1,0,5,10,0,1,9,3,1,0,0,0,1,11,7,2,3,2,3,7,6,3,1,1,2,1,2,2,6,6,1,3,1,2,1,2,3,2,6,2,2,3,4,0,1,1,2,2,2,6,2,2,1,2,3,3,2,0,3,2,1,2,1,7,3,7,2,9,3,2,2,1,2,4,0,2,1,1,0,0,0,0,0,0,0,0,0,0,2,3,0,0,3,0,0,0,2,3,0,2,0,1,2,0,0,0,1,8,10,1,0,2,0,0,1,0,0,0,0,0,0,0,0,0,0,1,2,1,11,3,2,3,4,3,3,1,1,2,2,0,0,2,0,3,3,6,8,1,1,2,3,7,0,3,2,4,1,8,3,3,3,2,0,4,2,6,4,2,1,2,2,0,6,6,0,3,3,2,2,3,2,0,2,1,1,10,7,1,5,0,2,2,2,3,11,1,7,2,2,10,3,1,0,0,0,0,0,0,0,0,0,0,0,0,0,1,2,2,7,3,2,8,3,3,1,1,2,0,7,2,1,2,9,6,2,3,3,3,2,0,2,2,3,5,2,1,3,6,1,2,0,0,0,0,0,3,2,2,3,3,1,1,0,0,0,0,0,0,0,0,-1,0,0,0,0,0,0,0,2,10,2,1,10,1,1,1,2,0,0,9,2,1,8,7,1,9,2,1,2,3,2,2,3,8,3,1,2,7,4,0,1,0,0,0,0,2,6,2,2,1,1,8,9,9,1,1,9,1,1,2,1,2,0,0,0,0,0,0,0,0,3,6,1,2,0,0,0,0,0,0,0,0,0,0,3,2,1,1,2,3,1,3,3,2,3,3,3,1,1,2,6,1,2,5,6,0,1,4,3,2,3,1,2,1,2,2,3,1,2,3,2,0,4,1,4,2,3,0,3,0,2,0,2,5,3,0,3,9,2,3,2,1,2,1,1,3,2,0,0,0,0,0,0,0,0,3,1,1,4,3],\"xaxis\":\"x2\",\"yaxis\":\"y2\",\"type\":\"box\"}],                        {\"template\":{\"data\":{\"histogram2dcontour\":[{\"type\":\"histogram2dcontour\",\"colorbar\":{\"outlinewidth\":0,\"ticks\":\"\"},\"colorscale\":[[0.0,\"#0d0887\"],[0.1111111111111111,\"#46039f\"],[0.2222222222222222,\"#7201a8\"],[0.3333333333333333,\"#9c179e\"],[0.4444444444444444,\"#bd3786\"],[0.5555555555555556,\"#d8576b\"],[0.6666666666666666,\"#ed7953\"],[0.7777777777777778,\"#fb9f3a\"],[0.8888888888888888,\"#fdca26\"],[1.0,\"#f0f921\"]]}],\"choropleth\":[{\"type\":\"choropleth\",\"colorbar\":{\"outlinewidth\":0,\"ticks\":\"\"}}],\"histogram2d\":[{\"type\":\"histogram2d\",\"colorbar\":{\"outlinewidth\":0,\"ticks\":\"\"},\"colorscale\":[[0.0,\"#0d0887\"],[0.1111111111111111,\"#46039f\"],[0.2222222222222222,\"#7201a8\"],[0.3333333333333333,\"#9c179e\"],[0.4444444444444444,\"#bd3786\"],[0.5555555555555556,\"#d8576b\"],[0.6666666666666666,\"#ed7953\"],[0.7777777777777778,\"#fb9f3a\"],[0.8888888888888888,\"#fdca26\"],[1.0,\"#f0f921\"]]}],\"heatmap\":[{\"type\":\"heatmap\",\"colorbar\":{\"outlinewidth\":0,\"ticks\":\"\"},\"colorscale\":[[0.0,\"#0d0887\"],[0.1111111111111111,\"#46039f\"],[0.2222222222222222,\"#7201a8\"],[0.3333333333333333,\"#9c179e\"],[0.4444444444444444,\"#bd3786\"],[0.5555555555555556,\"#d8576b\"],[0.6666666666666666,\"#ed7953\"],[0.7777777777777778,\"#fb9f3a\"],[0.8888888888888888,\"#fdca26\"],[1.0,\"#f0f921\"]]}],\"heatmapgl\":[{\"type\":\"heatmapgl\",\"colorbar\":{\"outlinewidth\":0,\"ticks\":\"\"},\"colorscale\":[[0.0,\"#0d0887\"],[0.1111111111111111,\"#46039f\"],[0.2222222222222222,\"#7201a8\"],[0.3333333333333333,\"#9c179e\"],[0.4444444444444444,\"#bd3786\"],[0.5555555555555556,\"#d8576b\"],[0.6666666666666666,\"#ed7953\"],[0.7777777777777778,\"#fb9f3a\"],[0.8888888888888888,\"#fdca26\"],[1.0,\"#f0f921\"]]}],\"contourcarpet\":[{\"type\":\"contourcarpet\",\"colorbar\":{\"outlinewidth\":0,\"ticks\":\"\"}}],\"contour\":[{\"type\":\"contour\",\"colorbar\":{\"outlinewidth\":0,\"ticks\":\"\"},\"colorscale\":[[0.0,\"#0d0887\"],[0.1111111111111111,\"#46039f\"],[0.2222222222222222,\"#7201a8\"],[0.3333333333333333,\"#9c179e\"],[0.4444444444444444,\"#bd3786\"],[0.5555555555555556,\"#d8576b\"],[0.6666666666666666,\"#ed7953\"],[0.7777777777777778,\"#fb9f3a\"],[0.8888888888888888,\"#fdca26\"],[1.0,\"#f0f921\"]]}],\"surface\":[{\"type\":\"surface\",\"colorbar\":{\"outlinewidth\":0,\"ticks\":\"\"},\"colorscale\":[[0.0,\"#0d0887\"],[0.1111111111111111,\"#46039f\"],[0.2222222222222222,\"#7201a8\"],[0.3333333333333333,\"#9c179e\"],[0.4444444444444444,\"#bd3786\"],[0.5555555555555556,\"#d8576b\"],[0.6666666666666666,\"#ed7953\"],[0.7777777777777778,\"#fb9f3a\"],[0.8888888888888888,\"#fdca26\"],[1.0,\"#f0f921\"]]}],\"mesh3d\":[{\"type\":\"mesh3d\",\"colorbar\":{\"outlinewidth\":0,\"ticks\":\"\"}}],\"scatter\":[{\"fillpattern\":{\"fillmode\":\"overlay\",\"size\":10,\"solidity\":0.2},\"type\":\"scatter\"}],\"parcoords\":[{\"type\":\"parcoords\",\"line\":{\"colorbar\":{\"outlinewidth\":0,\"ticks\":\"\"}}}],\"scatterpolargl\":[{\"type\":\"scatterpolargl\",\"marker\":{\"colorbar\":{\"outlinewidth\":0,\"ticks\":\"\"}}}],\"bar\":[{\"error_x\":{\"color\":\"#2a3f5f\"},\"error_y\":{\"color\":\"#2a3f5f\"},\"marker\":{\"line\":{\"color\":\"#E5ECF6\",\"width\":0.5},\"pattern\":{\"fillmode\":\"overlay\",\"size\":10,\"solidity\":0.2}},\"type\":\"bar\"}],\"scattergeo\":[{\"type\":\"scattergeo\",\"marker\":{\"colorbar\":{\"outlinewidth\":0,\"ticks\":\"\"}}}],\"scatterpolar\":[{\"type\":\"scatterpolar\",\"marker\":{\"colorbar\":{\"outlinewidth\":0,\"ticks\":\"\"}}}],\"histogram\":[{\"marker\":{\"pattern\":{\"fillmode\":\"overlay\",\"size\":10,\"solidity\":0.2}},\"type\":\"histogram\"}],\"scattergl\":[{\"type\":\"scattergl\",\"marker\":{\"colorbar\":{\"outlinewidth\":0,\"ticks\":\"\"}}}],\"scatter3d\":[{\"type\":\"scatter3d\",\"line\":{\"colorbar\":{\"outlinewidth\":0,\"ticks\":\"\"}},\"marker\":{\"colorbar\":{\"outlinewidth\":0,\"ticks\":\"\"}}}],\"scattermapbox\":[{\"type\":\"scattermapbox\",\"marker\":{\"colorbar\":{\"outlinewidth\":0,\"ticks\":\"\"}}}],\"scatterternary\":[{\"type\":\"scatterternary\",\"marker\":{\"colorbar\":{\"outlinewidth\":0,\"ticks\":\"\"}}}],\"scattercarpet\":[{\"type\":\"scattercarpet\",\"marker\":{\"colorbar\":{\"outlinewidth\":0,\"ticks\":\"\"}}}],\"carpet\":[{\"aaxis\":{\"endlinecolor\":\"#2a3f5f\",\"gridcolor\":\"white\",\"linecolor\":\"white\",\"minorgridcolor\":\"white\",\"startlinecolor\":\"#2a3f5f\"},\"baxis\":{\"endlinecolor\":\"#2a3f5f\",\"gridcolor\":\"white\",\"linecolor\":\"white\",\"minorgridcolor\":\"white\",\"startlinecolor\":\"#2a3f5f\"},\"type\":\"carpet\"}],\"table\":[{\"cells\":{\"fill\":{\"color\":\"#EBF0F8\"},\"line\":{\"color\":\"white\"}},\"header\":{\"fill\":{\"color\":\"#C8D4E3\"},\"line\":{\"color\":\"white\"}},\"type\":\"table\"}],\"barpolar\":[{\"marker\":{\"line\":{\"color\":\"#E5ECF6\",\"width\":0.5},\"pattern\":{\"fillmode\":\"overlay\",\"size\":10,\"solidity\":0.2}},\"type\":\"barpolar\"}],\"pie\":[{\"automargin\":true,\"type\":\"pie\"}]},\"layout\":{\"autotypenumbers\":\"strict\",\"colorway\":[\"#636efa\",\"#EF553B\",\"#00cc96\",\"#ab63fa\",\"#FFA15A\",\"#19d3f3\",\"#FF6692\",\"#B6E880\",\"#FF97FF\",\"#FECB52\"],\"font\":{\"color\":\"#2a3f5f\"},\"hovermode\":\"closest\",\"hoverlabel\":{\"align\":\"left\"},\"paper_bgcolor\":\"white\",\"plot_bgcolor\":\"#E5ECF6\",\"polar\":{\"bgcolor\":\"#E5ECF6\",\"angularaxis\":{\"gridcolor\":\"white\",\"linecolor\":\"white\",\"ticks\":\"\"},\"radialaxis\":{\"gridcolor\":\"white\",\"linecolor\":\"white\",\"ticks\":\"\"}},\"ternary\":{\"bgcolor\":\"#E5ECF6\",\"aaxis\":{\"gridcolor\":\"white\",\"linecolor\":\"white\",\"ticks\":\"\"},\"baxis\":{\"gridcolor\":\"white\",\"linecolor\":\"white\",\"ticks\":\"\"},\"caxis\":{\"gridcolor\":\"white\",\"linecolor\":\"white\",\"ticks\":\"\"}},\"coloraxis\":{\"colorbar\":{\"outlinewidth\":0,\"ticks\":\"\"}},\"colorscale\":{\"sequential\":[[0.0,\"#0d0887\"],[0.1111111111111111,\"#46039f\"],[0.2222222222222222,\"#7201a8\"],[0.3333333333333333,\"#9c179e\"],[0.4444444444444444,\"#bd3786\"],[0.5555555555555556,\"#d8576b\"],[0.6666666666666666,\"#ed7953\"],[0.7777777777777778,\"#fb9f3a\"],[0.8888888888888888,\"#fdca26\"],[1.0,\"#f0f921\"]],\"sequentialminus\":[[0.0,\"#0d0887\"],[0.1111111111111111,\"#46039f\"],[0.2222222222222222,\"#7201a8\"],[0.3333333333333333,\"#9c179e\"],[0.4444444444444444,\"#bd3786\"],[0.5555555555555556,\"#d8576b\"],[0.6666666666666666,\"#ed7953\"],[0.7777777777777778,\"#fb9f3a\"],[0.8888888888888888,\"#fdca26\"],[1.0,\"#f0f921\"]],\"diverging\":[[0,\"#8e0152\"],[0.1,\"#c51b7d\"],[0.2,\"#de77ae\"],[0.3,\"#f1b6da\"],[0.4,\"#fde0ef\"],[0.5,\"#f7f7f7\"],[0.6,\"#e6f5d0\"],[0.7,\"#b8e186\"],[0.8,\"#7fbc41\"],[0.9,\"#4d9221\"],[1,\"#276419\"]]},\"xaxis\":{\"gridcolor\":\"white\",\"linecolor\":\"white\",\"ticks\":\"\",\"title\":{\"standoff\":15},\"zerolinecolor\":\"white\",\"automargin\":true,\"zerolinewidth\":2},\"yaxis\":{\"gridcolor\":\"white\",\"linecolor\":\"white\",\"ticks\":\"\",\"title\":{\"standoff\":15},\"zerolinecolor\":\"white\",\"automargin\":true,\"zerolinewidth\":2},\"scene\":{\"xaxis\":{\"backgroundcolor\":\"#E5ECF6\",\"gridcolor\":\"white\",\"linecolor\":\"white\",\"showbackground\":true,\"ticks\":\"\",\"zerolinecolor\":\"white\",\"gridwidth\":2},\"yaxis\":{\"backgroundcolor\":\"#E5ECF6\",\"gridcolor\":\"white\",\"linecolor\":\"white\",\"showbackground\":true,\"ticks\":\"\",\"zerolinecolor\":\"white\",\"gridwidth\":2},\"zaxis\":{\"backgroundcolor\":\"#E5ECF6\",\"gridcolor\":\"white\",\"linecolor\":\"white\",\"showbackground\":true,\"ticks\":\"\",\"zerolinecolor\":\"white\",\"gridwidth\":2}},\"shapedefaults\":{\"line\":{\"color\":\"#2a3f5f\"}},\"annotationdefaults\":{\"arrowcolor\":\"#2a3f5f\",\"arrowhead\":0,\"arrowwidth\":1},\"geo\":{\"bgcolor\":\"white\",\"landcolor\":\"#E5ECF6\",\"subunitcolor\":\"white\",\"showland\":true,\"showlakes\":true,\"lakecolor\":\"white\"},\"title\":{\"x\":0.05},\"mapbox\":{\"style\":\"light\"}}},\"xaxis\":{\"anchor\":\"y\",\"domain\":[0.0,1.0],\"title\":{\"text\":\"Points\"}},\"yaxis\":{\"anchor\":\"x\",\"domain\":[0.0,0.8316],\"title\":{\"text\":\"count\"}},\"xaxis2\":{\"anchor\":\"y2\",\"domain\":[0.0,1.0],\"matches\":\"x\",\"showticklabels\":false,\"showgrid\":true},\"yaxis2\":{\"anchor\":\"x2\",\"domain\":[0.8416,1.0],\"matches\":\"y2\",\"showticklabels\":false,\"showline\":false,\"ticks\":\"\",\"showgrid\":false},\"legend\":{\"tracegroupgap\":0},\"title\":{\"text\":\"Raspodela poena\"},\"barmode\":\"relative\",\"bargap\":0.1},                        {\"responsive\": true}                    ).then(function(){\n",
       "                            \n",
       "var gd = document.getElementById('dc8325f8-6fa9-408e-a090-4539bace2a65');\n",
       "var x = new MutationObserver(function (mutations, observer) {{\n",
       "        var display = window.getComputedStyle(gd).display;\n",
       "        if (!display || display === 'none') {{\n",
       "            console.log([gd, 'removed!']);\n",
       "            Plotly.purge(gd);\n",
       "            observer.disconnect();\n",
       "        }}\n",
       "}});\n",
       "\n",
       "// Listen for the removal of the full notebook cells\n",
       "var notebookContainer = gd.closest('#notebook-container');\n",
       "if (notebookContainer) {{\n",
       "    x.observe(notebookContainer, {childList: true});\n",
       "}}\n",
       "\n",
       "// Listen for the clearing of the current output cell\n",
       "var outputEl = gd.closest('.output');\n",
       "if (outputEl) {{\n",
       "    x.observe(outputEl, {childList: true});\n",
       "}}\n",
       "\n",
       "                        })                };                });            </script>        </div>"
      ]
     },
     "metadata": {},
     "output_type": "display_data"
    }
   ],
   "source": [
    "fig=px.histogram(df_gk,\n",
    "                 x='Points',\n",
    "                 marginal='box',\n",
    "                 nbins=30,\n",
    "                 title='Raspodela poena',\n",
    "                 color_discrete_sequence=['green'])\n",
    "\n",
    "fig.update_layout(bargap=0.1)\n",
    "fig.show()"
   ]
  },
  {
   "cell_type": "markdown",
   "id": "8be52189",
   "metadata": {},
   "source": [
    "Proveriti za -1 i -2 vrednosti\n",
    "\n",
    "\n",
    "Veliki broj u rasponu 0-3 zbog primljenih golova,ali i broja odbrana.\n",
    "Skok kod 6 poena oznacava veliki broj utakmica sa neprimljenim golom sto kada se doda 2 boda za minute dolazi se do 6"
   ]
  },
  {
   "cell_type": "markdown",
   "id": "ac5b4115",
   "metadata": {},
   "source": [
    "**MEDJUSOBNE VEZE IZMEDJU VARIJABLI**"
   ]
  },
  {
   "cell_type": "code",
   "execution_count": 80,
   "id": "837e87f6",
   "metadata": {},
   "outputs": [
    {
     "data": {
      "application/vnd.plotly.v1+json": {
       "config": {
        "plotlyServerURL": "https://plot.ly"
       },
       "data": [
        {
         "alignmentgroup": "True",
         "bingroup": "x",
         "hovertemplate": "Saves=1<br>Points=%{x}<br>count=%{y}<extra></extra>",
         "legendgroup": "1",
         "marker": {
          "color": "green",
          "pattern": {
           "shape": ""
          }
         },
         "name": "1",
         "offsetgroup": "1",
         "orientation": "v",
         "showlegend": true,
         "type": "histogram",
         "x": [
          2,
          2,
          1,
          1,
          8,
          8,
          8,
          6,
          1,
          6,
          6,
          2,
          6,
          2,
          5,
          6,
          6,
          2,
          2,
          1,
          8,
          7,
          2,
          1,
          6,
          1,
          2,
          2,
          1,
          1,
          5,
          2,
          6,
          6,
          0,
          1,
          1,
          1,
          1,
          2,
          6,
          6,
          1,
          1,
          2,
          2,
          2,
          7,
          0,
          2,
          1,
          6,
          0,
          1,
          2,
          1,
          0,
          1,
          6,
          6,
          0,
          1,
          6,
          2,
          1,
          1,
          1,
          2,
          1,
          2,
          0,
          2,
          1,
          6,
          0,
          1,
          1,
          1,
          2,
          2,
          1,
          1,
          1,
          6,
          1,
          1,
          2,
          1,
          1,
          2,
          0,
          1,
          1
         ],
         "xaxis": "x",
         "yaxis": "y"
        },
        {
         "alignmentgroup": "True",
         "hovertemplate": "Saves=1<br>Points=%{x}<extra></extra>",
         "legendgroup": "1",
         "marker": {
          "color": "green"
         },
         "name": "1",
         "notched": true,
         "offsetgroup": "1",
         "showlegend": false,
         "type": "box",
         "x": [
          2,
          2,
          1,
          1,
          8,
          8,
          8,
          6,
          1,
          6,
          6,
          2,
          6,
          2,
          5,
          6,
          6,
          2,
          2,
          1,
          8,
          7,
          2,
          1,
          6,
          1,
          2,
          2,
          1,
          1,
          5,
          2,
          6,
          6,
          0,
          1,
          1,
          1,
          1,
          2,
          6,
          6,
          1,
          1,
          2,
          2,
          2,
          7,
          0,
          2,
          1,
          6,
          0,
          1,
          2,
          1,
          0,
          1,
          6,
          6,
          0,
          1,
          6,
          2,
          1,
          1,
          1,
          2,
          1,
          2,
          0,
          2,
          1,
          6,
          0,
          1,
          1,
          1,
          2,
          2,
          1,
          1,
          1,
          6,
          1,
          1,
          2,
          1,
          1,
          2,
          0,
          1,
          1
         ],
         "xaxis": "x2",
         "yaxis": "y2"
        },
        {
         "alignmentgroup": "True",
         "bingroup": "x",
         "hovertemplate": "Saves=3<br>Points=%{x}<br>count=%{y}<extra></extra>",
         "legendgroup": "3",
         "marker": {
          "color": "blue",
          "pattern": {
           "shape": ""
          }
         },
         "name": "3",
         "offsetgroup": "3",
         "orientation": "v",
         "showlegend": true,
         "type": "histogram",
         "x": [
          0,
          3,
          9,
          2,
          7,
          2,
          8,
          2,
          2,
          10,
          8,
          3,
          7,
          3,
          3,
          10,
          1,
          3,
          2,
          8,
          3,
          2,
          2,
          3,
          2,
          2,
          1,
          3,
          2,
          2,
          5,
          1,
          2,
          10,
          2,
          3,
          2,
          3,
          6,
          7,
          7,
          7,
          3,
          10,
          1,
          2,
          2,
          3,
          5,
          10,
          7,
          2,
          3,
          6,
          1,
          2,
          2,
          3,
          2,
          3,
          2,
          2,
          2,
          3,
          2,
          7,
          3,
          2,
          3,
          2,
          10,
          2,
          3,
          3,
          3,
          2,
          3,
          3,
          8,
          2,
          2,
          2,
          3,
          3,
          2,
          2,
          2,
          10,
          3,
          1,
          2,
          2,
          7,
          3,
          3,
          3,
          3,
          2,
          8,
          7,
          9,
          2,
          1,
          9,
          1,
          3,
          1,
          3,
          3,
          3,
          1,
          3,
          2,
          3,
          2,
          3,
          2,
          2,
          1
         ],
         "xaxis": "x",
         "yaxis": "y"
        },
        {
         "alignmentgroup": "True",
         "hovertemplate": "Saves=3<br>Points=%{x}<extra></extra>",
         "legendgroup": "3",
         "marker": {
          "color": "blue"
         },
         "name": "3",
         "notched": true,
         "offsetgroup": "3",
         "showlegend": false,
         "type": "box",
         "x": [
          0,
          3,
          9,
          2,
          7,
          2,
          8,
          2,
          2,
          10,
          8,
          3,
          7,
          3,
          3,
          10,
          1,
          3,
          2,
          8,
          3,
          2,
          2,
          3,
          2,
          2,
          1,
          3,
          2,
          2,
          5,
          1,
          2,
          10,
          2,
          3,
          2,
          3,
          6,
          7,
          7,
          7,
          3,
          10,
          1,
          2,
          2,
          3,
          5,
          10,
          7,
          2,
          3,
          6,
          1,
          2,
          2,
          3,
          2,
          3,
          2,
          2,
          2,
          3,
          2,
          7,
          3,
          2,
          3,
          2,
          10,
          2,
          3,
          3,
          3,
          2,
          3,
          3,
          8,
          2,
          2,
          2,
          3,
          3,
          2,
          2,
          2,
          10,
          3,
          1,
          2,
          2,
          7,
          3,
          3,
          3,
          3,
          2,
          8,
          7,
          9,
          2,
          1,
          9,
          1,
          3,
          1,
          3,
          3,
          3,
          1,
          3,
          2,
          3,
          2,
          3,
          2,
          2,
          1
         ],
         "xaxis": "x2",
         "yaxis": "y2"
        },
        {
         "alignmentgroup": "True",
         "bingroup": "x",
         "hovertemplate": "Saves=2<br>Points=%{x}<br>count=%{y}<extra></extra>",
         "legendgroup": "2",
         "marker": {
          "color": "red",
          "pattern": {
           "shape": ""
          }
         },
         "name": "2",
         "offsetgroup": "2",
         "orientation": "v",
         "showlegend": true,
         "type": "histogram",
         "x": [
          2,
          5,
          2,
          7,
          6,
          3,
          0,
          2,
          2,
          2,
          1,
          2,
          6,
          6,
          5,
          6,
          2,
          1,
          6,
          6,
          1,
          1,
          0,
          0,
          2,
          6,
          2,
          1,
          7,
          2,
          2,
          1,
          2,
          2,
          6,
          2,
          6,
          1,
          2,
          1,
          2,
          8,
          1,
          1,
          6,
          -2,
          0,
          1,
          6,
          6,
          6,
          2,
          2,
          6,
          1,
          6,
          8,
          1,
          2,
          2,
          3,
          9,
          1,
          9,
          1,
          7,
          3,
          1,
          1,
          2,
          1,
          2,
          2,
          1,
          2,
          0,
          1,
          0,
          1,
          2,
          1,
          8,
          1,
          0,
          1,
          2,
          1,
          1,
          0,
          1,
          6,
          6,
          1,
          0,
          7,
          2,
          2,
          6,
          2,
          5,
          2,
          1,
          6,
          1,
          1,
          1,
          1,
          1,
          2,
          2,
          7,
          2,
          1,
          1,
          2,
          1,
          2,
          1,
          6,
          1,
          6,
          0,
          2,
          1,
          1,
          0,
          2,
          0,
          1
         ],
         "xaxis": "x",
         "yaxis": "y"
        },
        {
         "alignmentgroup": "True",
         "hovertemplate": "Saves=2<br>Points=%{x}<extra></extra>",
         "legendgroup": "2",
         "marker": {
          "color": "red"
         },
         "name": "2",
         "notched": true,
         "offsetgroup": "2",
         "showlegend": false,
         "type": "box",
         "x": [
          2,
          5,
          2,
          7,
          6,
          3,
          0,
          2,
          2,
          2,
          1,
          2,
          6,
          6,
          5,
          6,
          2,
          1,
          6,
          6,
          1,
          1,
          0,
          0,
          2,
          6,
          2,
          1,
          7,
          2,
          2,
          1,
          2,
          2,
          6,
          2,
          6,
          1,
          2,
          1,
          2,
          8,
          1,
          1,
          6,
          -2,
          0,
          1,
          6,
          6,
          6,
          2,
          2,
          6,
          1,
          6,
          8,
          1,
          2,
          2,
          3,
          9,
          1,
          9,
          1,
          7,
          3,
          1,
          1,
          2,
          1,
          2,
          2,
          1,
          2,
          0,
          1,
          0,
          1,
          2,
          1,
          8,
          1,
          0,
          1,
          2,
          1,
          1,
          0,
          1,
          6,
          6,
          1,
          0,
          7,
          2,
          2,
          6,
          2,
          5,
          2,
          1,
          6,
          1,
          1,
          1,
          1,
          1,
          2,
          2,
          7,
          2,
          1,
          1,
          2,
          1,
          2,
          1,
          6,
          1,
          6,
          0,
          2,
          1,
          1,
          0,
          2,
          0,
          1
         ],
         "xaxis": "x2",
         "yaxis": "y2"
        },
        {
         "alignmentgroup": "True",
         "bingroup": "x",
         "hovertemplate": "Saves=6<br>Points=%{x}<br>count=%{y}<extra></extra>",
         "legendgroup": "6",
         "marker": {
          "color": "yellow",
          "pattern": {
           "shape": ""
          }
         },
         "name": "6",
         "offsetgroup": "6",
         "orientation": "v",
         "showlegend": true,
         "type": "histogram",
         "x": [
          1,
          2,
          4,
          3,
          3,
          0,
          3,
          9,
          9,
          11,
          2,
          2,
          4,
          2,
          3,
          4,
          4,
          4,
          11,
          3,
          3,
          11,
          10,
          3,
          4,
          3,
          3,
          4,
          3
         ],
         "xaxis": "x",
         "yaxis": "y"
        },
        {
         "alignmentgroup": "True",
         "hovertemplate": "Saves=6<br>Points=%{x}<extra></extra>",
         "legendgroup": "6",
         "marker": {
          "color": "yellow"
         },
         "name": "6",
         "notched": true,
         "offsetgroup": "6",
         "showlegend": false,
         "type": "box",
         "x": [
          1,
          2,
          4,
          3,
          3,
          0,
          3,
          9,
          9,
          11,
          2,
          2,
          4,
          2,
          3,
          4,
          4,
          4,
          11,
          3,
          3,
          11,
          10,
          3,
          4,
          3,
          3,
          4,
          3
         ],
         "xaxis": "x2",
         "yaxis": "y2"
        },
        {
         "alignmentgroup": "True",
         "bingroup": "x",
         "hovertemplate": "Saves=0<br>Points=%{x}<br>count=%{y}<extra></extra>",
         "legendgroup": "0",
         "marker": {
          "color": "grey",
          "pattern": {
           "shape": ""
          }
         },
         "name": "0",
         "offsetgroup": "0",
         "orientation": "v",
         "showlegend": true,
         "type": "histogram",
         "x": [
          1,
          0,
          0,
          0,
          0,
          6,
          6,
          2,
          0,
          6,
          6,
          0,
          1,
          1,
          0,
          0,
          6,
          0,
          0,
          0,
          0,
          0,
          0,
          0,
          0,
          2,
          0,
          0,
          0,
          0,
          0,
          0,
          0,
          2,
          1,
          0,
          0,
          0,
          0,
          0,
          0,
          0,
          0,
          0,
          0,
          0,
          0,
          0,
          0,
          0,
          0,
          0,
          0,
          1,
          0,
          0,
          0,
          0,
          0,
          0,
          0,
          0,
          0,
          0,
          0,
          0,
          0,
          0,
          0,
          0,
          0,
          0,
          0,
          0,
          -1,
          2,
          1,
          0,
          2,
          0,
          1,
          2,
          0,
          0,
          0,
          2,
          0,
          0,
          0,
          1,
          0,
          0,
          1,
          2,
          0,
          0,
          0,
          0,
          0,
          0,
          0,
          0,
          0,
          0,
          0,
          0,
          0,
          0,
          0,
          0,
          2,
          0,
          0,
          0,
          0,
          0,
          0,
          0,
          0,
          0,
          0,
          0,
          0,
          0,
          0,
          0,
          1,
          0,
          0,
          6,
          0,
          2,
          0,
          0,
          2,
          1,
          2,
          0,
          0,
          0,
          0,
          0,
          0,
          0,
          0,
          0,
          0,
          0,
          0,
          0,
          1,
          0,
          0,
          0,
          0,
          0,
          0,
          0,
          0,
          0,
          0,
          0,
          0,
          0,
          0,
          0,
          -1,
          0,
          0,
          0,
          0,
          0,
          0,
          0,
          0,
          0,
          0,
          0,
          0,
          0,
          0,
          2,
          1,
          2,
          0,
          0,
          0,
          0,
          0,
          0,
          0,
          0,
          6,
          0,
          0,
          0,
          0,
          0,
          0,
          0,
          0,
          0,
          0,
          1,
          0,
          0,
          0,
          0,
          0,
          0,
          0,
          0
         ],
         "xaxis": "x",
         "yaxis": "y"
        },
        {
         "alignmentgroup": "True",
         "hovertemplate": "Saves=0<br>Points=%{x}<extra></extra>",
         "legendgroup": "0",
         "marker": {
          "color": "grey"
         },
         "name": "0",
         "notched": true,
         "offsetgroup": "0",
         "showlegend": false,
         "type": "box",
         "x": [
          1,
          0,
          0,
          0,
          0,
          6,
          6,
          2,
          0,
          6,
          6,
          0,
          1,
          1,
          0,
          0,
          6,
          0,
          0,
          0,
          0,
          0,
          0,
          0,
          0,
          2,
          0,
          0,
          0,
          0,
          0,
          0,
          0,
          2,
          1,
          0,
          0,
          0,
          0,
          0,
          0,
          0,
          0,
          0,
          0,
          0,
          0,
          0,
          0,
          0,
          0,
          0,
          0,
          1,
          0,
          0,
          0,
          0,
          0,
          0,
          0,
          0,
          0,
          0,
          0,
          0,
          0,
          0,
          0,
          0,
          0,
          0,
          0,
          0,
          -1,
          2,
          1,
          0,
          2,
          0,
          1,
          2,
          0,
          0,
          0,
          2,
          0,
          0,
          0,
          1,
          0,
          0,
          1,
          2,
          0,
          0,
          0,
          0,
          0,
          0,
          0,
          0,
          0,
          0,
          0,
          0,
          0,
          0,
          0,
          0,
          2,
          0,
          0,
          0,
          0,
          0,
          0,
          0,
          0,
          0,
          0,
          0,
          0,
          0,
          0,
          0,
          1,
          0,
          0,
          6,
          0,
          2,
          0,
          0,
          2,
          1,
          2,
          0,
          0,
          0,
          0,
          0,
          0,
          0,
          0,
          0,
          0,
          0,
          0,
          0,
          1,
          0,
          0,
          0,
          0,
          0,
          0,
          0,
          0,
          0,
          0,
          0,
          0,
          0,
          0,
          0,
          -1,
          0,
          0,
          0,
          0,
          0,
          0,
          0,
          0,
          0,
          0,
          0,
          0,
          0,
          0,
          2,
          1,
          2,
          0,
          0,
          0,
          0,
          0,
          0,
          0,
          0,
          6,
          0,
          0,
          0,
          0,
          0,
          0,
          0,
          0,
          0,
          0,
          1,
          0,
          0,
          0,
          0,
          0,
          0,
          0,
          0
         ],
         "xaxis": "x2",
         "yaxis": "y2"
        },
        {
         "alignmentgroup": "True",
         "bingroup": "x",
         "hovertemplate": "Saves=4<br>Points=%{x}<br>count=%{y}<extra></extra>",
         "legendgroup": "4",
         "marker": {
          "color": "purple",
          "pattern": {
           "shape": ""
          }
         },
         "name": "4",
         "offsetgroup": "4",
         "orientation": "v",
         "showlegend": true,
         "type": "histogram",
         "x": [
          2,
          10,
          2,
          2,
          9,
          2,
          3,
          0,
          10,
          3,
          1,
          3,
          3,
          2,
          6,
          3,
          2,
          3,
          2,
          2,
          3,
          2,
          3,
          3,
          3,
          7,
          8,
          8,
          3,
          2,
          3,
          10,
          2,
          1,
          3,
          2,
          2,
          3,
          3,
          9,
          2,
          2,
          3,
          3,
          1,
          9,
          6,
          3,
          2,
          7,
          9,
          3,
          1,
          3,
          2,
          2,
          2,
          2,
          2,
          2,
          3,
          0,
          3,
          1,
          2,
          1,
          2,
          3,
          7,
          2,
          4,
          1,
          2,
          2,
          3,
          7,
          3,
          3,
          1,
          2,
          2,
          9,
          3,
          2,
          3,
          2,
          1,
          2,
          2,
          2,
          2,
          2,
          2,
          1,
          2,
          0,
          9,
          2,
          1,
          3
         ],
         "xaxis": "x",
         "yaxis": "y"
        },
        {
         "alignmentgroup": "True",
         "hovertemplate": "Saves=4<br>Points=%{x}<extra></extra>",
         "legendgroup": "4",
         "marker": {
          "color": "purple"
         },
         "name": "4",
         "notched": true,
         "offsetgroup": "4",
         "showlegend": false,
         "type": "box",
         "x": [
          2,
          10,
          2,
          2,
          9,
          2,
          3,
          0,
          10,
          3,
          1,
          3,
          3,
          2,
          6,
          3,
          2,
          3,
          2,
          2,
          3,
          2,
          3,
          3,
          3,
          7,
          8,
          8,
          3,
          2,
          3,
          10,
          2,
          1,
          3,
          2,
          2,
          3,
          3,
          9,
          2,
          2,
          3,
          3,
          1,
          9,
          6,
          3,
          2,
          7,
          9,
          3,
          1,
          3,
          2,
          2,
          2,
          2,
          2,
          2,
          3,
          0,
          3,
          1,
          2,
          1,
          2,
          3,
          7,
          2,
          4,
          1,
          2,
          2,
          3,
          7,
          3,
          3,
          1,
          2,
          2,
          9,
          3,
          2,
          3,
          2,
          1,
          2,
          2,
          2,
          2,
          2,
          2,
          1,
          2,
          0,
          9,
          2,
          1,
          3
         ],
         "xaxis": "x2",
         "yaxis": "y2"
        },
        {
         "alignmentgroup": "True",
         "bingroup": "x",
         "hovertemplate": "Saves=5<br>Points=%{x}<br>count=%{y}<extra></extra>",
         "legendgroup": "5",
         "marker": {
          "color": "orange",
          "pattern": {
           "shape": ""
          }
         },
         "name": "5",
         "offsetgroup": "5",
         "orientation": "v",
         "showlegend": true,
         "type": "histogram",
         "x": [
          10,
          8,
          2,
          2,
          2,
          3,
          2,
          3,
          2,
          2,
          3,
          9,
          8,
          7,
          1,
          2,
          3,
          9,
          1,
          5,
          2,
          0,
          1,
          3,
          4,
          2,
          1,
          9,
          2,
          1,
          3,
          4,
          3,
          3,
          2,
          7,
          2,
          2,
          2,
          2,
          3,
          1,
          1,
          2,
          9,
          3,
          3,
          8,
          8,
          9,
          9,
          2,
          3,
          1,
          2,
          2,
          1,
          2,
          5
         ],
         "xaxis": "x",
         "yaxis": "y"
        },
        {
         "alignmentgroup": "True",
         "hovertemplate": "Saves=5<br>Points=%{x}<extra></extra>",
         "legendgroup": "5",
         "marker": {
          "color": "orange"
         },
         "name": "5",
         "notched": true,
         "offsetgroup": "5",
         "showlegend": false,
         "type": "box",
         "x": [
          10,
          8,
          2,
          2,
          2,
          3,
          2,
          3,
          2,
          2,
          3,
          9,
          8,
          7,
          1,
          2,
          3,
          9,
          1,
          5,
          2,
          0,
          1,
          3,
          4,
          2,
          1,
          9,
          2,
          1,
          3,
          4,
          3,
          3,
          2,
          7,
          2,
          2,
          2,
          2,
          3,
          1,
          1,
          2,
          9,
          3,
          3,
          8,
          8,
          9,
          9,
          2,
          3,
          1,
          2,
          2,
          1,
          2,
          5
         ],
         "xaxis": "x2",
         "yaxis": "y2"
        },
        {
         "alignmentgroup": "True",
         "bingroup": "x",
         "hovertemplate": "Saves=7<br>Points=%{x}<br>count=%{y}<extra></extra>",
         "legendgroup": "7",
         "marker": {
          "color": "gold",
          "pattern": {
           "shape": ""
          }
         },
         "name": "7",
         "offsetgroup": "7",
         "orientation": "v",
         "showlegend": true,
         "type": "histogram",
         "x": [
          10,
          5,
          1,
          2,
          5,
          3,
          3,
          3,
          3,
          1,
          6,
          4,
          11,
          3,
          4,
          8,
          3,
          2,
          2,
          3,
          3,
          4,
          3,
          5,
          4,
          4,
          0,
          2
         ],
         "xaxis": "x",
         "yaxis": "y"
        },
        {
         "alignmentgroup": "True",
         "hovertemplate": "Saves=7<br>Points=%{x}<extra></extra>",
         "legendgroup": "7",
         "marker": {
          "color": "gold"
         },
         "name": "7",
         "notched": true,
         "offsetgroup": "7",
         "showlegend": false,
         "type": "box",
         "x": [
          10,
          5,
          1,
          2,
          5,
          3,
          3,
          3,
          3,
          1,
          6,
          4,
          11,
          3,
          4,
          8,
          3,
          2,
          2,
          3,
          3,
          4,
          3,
          5,
          4,
          4,
          0,
          2
         ],
         "xaxis": "x2",
         "yaxis": "y2"
        },
        {
         "alignmentgroup": "True",
         "bingroup": "x",
         "hovertemplate": "Saves=8<br>Points=%{x}<br>count=%{y}<extra></extra>",
         "legendgroup": "8",
         "marker": {
          "color": "green",
          "pattern": {
           "shape": ""
          }
         },
         "name": "8",
         "offsetgroup": "8",
         "orientation": "v",
         "showlegend": true,
         "type": "histogram",
         "x": [
          4,
          10,
          11,
          10,
          4,
          5,
          2,
          3,
          3,
          3,
          10,
          3,
          3,
          3
         ],
         "xaxis": "x",
         "yaxis": "y"
        },
        {
         "alignmentgroup": "True",
         "hovertemplate": "Saves=8<br>Points=%{x}<extra></extra>",
         "legendgroup": "8",
         "marker": {
          "color": "green"
         },
         "name": "8",
         "notched": true,
         "offsetgroup": "8",
         "showlegend": false,
         "type": "box",
         "x": [
          4,
          10,
          11,
          10,
          4,
          5,
          2,
          3,
          3,
          3,
          10,
          3,
          3,
          3
         ],
         "xaxis": "x2",
         "yaxis": "y2"
        },
        {
         "alignmentgroup": "True",
         "bingroup": "x",
         "hovertemplate": "Saves=9<br>Points=%{x}<br>count=%{y}<extra></extra>",
         "legendgroup": "9",
         "marker": {
          "color": "blue",
          "pattern": {
           "shape": ""
          }
         },
         "name": "9",
         "offsetgroup": "9",
         "orientation": "v",
         "showlegend": true,
         "type": "histogram",
         "x": [
          5,
          13,
          3,
          4,
          12,
          1,
          5,
          3,
          3,
          3
         ],
         "xaxis": "x",
         "yaxis": "y"
        },
        {
         "alignmentgroup": "True",
         "hovertemplate": "Saves=9<br>Points=%{x}<extra></extra>",
         "legendgroup": "9",
         "marker": {
          "color": "blue"
         },
         "name": "9",
         "notched": true,
         "offsetgroup": "9",
         "showlegend": false,
         "type": "box",
         "x": [
          5,
          13,
          3,
          4,
          12,
          1,
          5,
          3,
          3,
          3
         ],
         "xaxis": "x2",
         "yaxis": "y2"
        },
        {
         "alignmentgroup": "True",
         "bingroup": "x",
         "hovertemplate": "Saves=10<br>Points=%{x}<br>count=%{y}<extra></extra>",
         "legendgroup": "10",
         "marker": {
          "color": "red",
          "pattern": {
           "shape": ""
          }
         },
         "name": "10",
         "offsetgroup": "10",
         "orientation": "v",
         "showlegend": true,
         "type": "histogram",
         "x": [
          4,
          7,
          8
         ],
         "xaxis": "x",
         "yaxis": "y"
        },
        {
         "alignmentgroup": "True",
         "hovertemplate": "Saves=10<br>Points=%{x}<extra></extra>",
         "legendgroup": "10",
         "marker": {
          "color": "red"
         },
         "name": "10",
         "notched": true,
         "offsetgroup": "10",
         "showlegend": false,
         "type": "box",
         "x": [
          4,
          7,
          8
         ],
         "xaxis": "x2",
         "yaxis": "y2"
        },
        {
         "alignmentgroup": "True",
         "bingroup": "x",
         "hovertemplate": "Saves=11<br>Points=%{x}<br>count=%{y}<extra></extra>",
         "legendgroup": "11",
         "marker": {
          "color": "yellow",
          "pattern": {
           "shape": ""
          }
         },
         "name": "11",
         "offsetgroup": "11",
         "orientation": "v",
         "showlegend": true,
         "type": "histogram",
         "x": [
          4
         ],
         "xaxis": "x",
         "yaxis": "y"
        },
        {
         "alignmentgroup": "True",
         "hovertemplate": "Saves=11<br>Points=%{x}<extra></extra>",
         "legendgroup": "11",
         "marker": {
          "color": "yellow"
         },
         "name": "11",
         "notched": true,
         "offsetgroup": "11",
         "showlegend": false,
         "type": "box",
         "x": [
          4
         ],
         "xaxis": "x2",
         "yaxis": "y2"
        },
        {
         "alignmentgroup": "True",
         "bingroup": "x",
         "hovertemplate": "Saves=12<br>Points=%{x}<br>count=%{y}<extra></extra>",
         "legendgroup": "12",
         "marker": {
          "color": "grey",
          "pattern": {
           "shape": ""
          }
         },
         "name": "12",
         "offsetgroup": "12",
         "orientation": "v",
         "showlegend": true,
         "type": "histogram",
         "x": [
          10
         ],
         "xaxis": "x",
         "yaxis": "y"
        },
        {
         "alignmentgroup": "True",
         "hovertemplate": "Saves=12<br>Points=%{x}<extra></extra>",
         "legendgroup": "12",
         "marker": {
          "color": "grey"
         },
         "name": "12",
         "notched": true,
         "offsetgroup": "12",
         "showlegend": false,
         "type": "box",
         "x": [
          10
         ],
         "xaxis": "x2",
         "yaxis": "y2"
        }
       ],
       "layout": {
        "bargap": 0.1,
        "barmode": "relative",
        "legend": {
         "title": {
          "text": "Saves"
         },
         "tracegroupgap": 0
        },
        "template": {
         "data": {
          "bar": [
           {
            "error_x": {
             "color": "#2a3f5f"
            },
            "error_y": {
             "color": "#2a3f5f"
            },
            "marker": {
             "line": {
              "color": "#E5ECF6",
              "width": 0.5
             },
             "pattern": {
              "fillmode": "overlay",
              "size": 10,
              "solidity": 0.2
             }
            },
            "type": "bar"
           }
          ],
          "barpolar": [
           {
            "marker": {
             "line": {
              "color": "#E5ECF6",
              "width": 0.5
             },
             "pattern": {
              "fillmode": "overlay",
              "size": 10,
              "solidity": 0.2
             }
            },
            "type": "barpolar"
           }
          ],
          "carpet": [
           {
            "aaxis": {
             "endlinecolor": "#2a3f5f",
             "gridcolor": "white",
             "linecolor": "white",
             "minorgridcolor": "white",
             "startlinecolor": "#2a3f5f"
            },
            "baxis": {
             "endlinecolor": "#2a3f5f",
             "gridcolor": "white",
             "linecolor": "white",
             "minorgridcolor": "white",
             "startlinecolor": "#2a3f5f"
            },
            "type": "carpet"
           }
          ],
          "choropleth": [
           {
            "colorbar": {
             "outlinewidth": 0,
             "ticks": ""
            },
            "type": "choropleth"
           }
          ],
          "contour": [
           {
            "colorbar": {
             "outlinewidth": 0,
             "ticks": ""
            },
            "colorscale": [
             [
              0,
              "#0d0887"
             ],
             [
              0.1111111111111111,
              "#46039f"
             ],
             [
              0.2222222222222222,
              "#7201a8"
             ],
             [
              0.3333333333333333,
              "#9c179e"
             ],
             [
              0.4444444444444444,
              "#bd3786"
             ],
             [
              0.5555555555555556,
              "#d8576b"
             ],
             [
              0.6666666666666666,
              "#ed7953"
             ],
             [
              0.7777777777777778,
              "#fb9f3a"
             ],
             [
              0.8888888888888888,
              "#fdca26"
             ],
             [
              1,
              "#f0f921"
             ]
            ],
            "type": "contour"
           }
          ],
          "contourcarpet": [
           {
            "colorbar": {
             "outlinewidth": 0,
             "ticks": ""
            },
            "type": "contourcarpet"
           }
          ],
          "heatmap": [
           {
            "colorbar": {
             "outlinewidth": 0,
             "ticks": ""
            },
            "colorscale": [
             [
              0,
              "#0d0887"
             ],
             [
              0.1111111111111111,
              "#46039f"
             ],
             [
              0.2222222222222222,
              "#7201a8"
             ],
             [
              0.3333333333333333,
              "#9c179e"
             ],
             [
              0.4444444444444444,
              "#bd3786"
             ],
             [
              0.5555555555555556,
              "#d8576b"
             ],
             [
              0.6666666666666666,
              "#ed7953"
             ],
             [
              0.7777777777777778,
              "#fb9f3a"
             ],
             [
              0.8888888888888888,
              "#fdca26"
             ],
             [
              1,
              "#f0f921"
             ]
            ],
            "type": "heatmap"
           }
          ],
          "heatmapgl": [
           {
            "colorbar": {
             "outlinewidth": 0,
             "ticks": ""
            },
            "colorscale": [
             [
              0,
              "#0d0887"
             ],
             [
              0.1111111111111111,
              "#46039f"
             ],
             [
              0.2222222222222222,
              "#7201a8"
             ],
             [
              0.3333333333333333,
              "#9c179e"
             ],
             [
              0.4444444444444444,
              "#bd3786"
             ],
             [
              0.5555555555555556,
              "#d8576b"
             ],
             [
              0.6666666666666666,
              "#ed7953"
             ],
             [
              0.7777777777777778,
              "#fb9f3a"
             ],
             [
              0.8888888888888888,
              "#fdca26"
             ],
             [
              1,
              "#f0f921"
             ]
            ],
            "type": "heatmapgl"
           }
          ],
          "histogram": [
           {
            "marker": {
             "pattern": {
              "fillmode": "overlay",
              "size": 10,
              "solidity": 0.2
             }
            },
            "type": "histogram"
           }
          ],
          "histogram2d": [
           {
            "colorbar": {
             "outlinewidth": 0,
             "ticks": ""
            },
            "colorscale": [
             [
              0,
              "#0d0887"
             ],
             [
              0.1111111111111111,
              "#46039f"
             ],
             [
              0.2222222222222222,
              "#7201a8"
             ],
             [
              0.3333333333333333,
              "#9c179e"
             ],
             [
              0.4444444444444444,
              "#bd3786"
             ],
             [
              0.5555555555555556,
              "#d8576b"
             ],
             [
              0.6666666666666666,
              "#ed7953"
             ],
             [
              0.7777777777777778,
              "#fb9f3a"
             ],
             [
              0.8888888888888888,
              "#fdca26"
             ],
             [
              1,
              "#f0f921"
             ]
            ],
            "type": "histogram2d"
           }
          ],
          "histogram2dcontour": [
           {
            "colorbar": {
             "outlinewidth": 0,
             "ticks": ""
            },
            "colorscale": [
             [
              0,
              "#0d0887"
             ],
             [
              0.1111111111111111,
              "#46039f"
             ],
             [
              0.2222222222222222,
              "#7201a8"
             ],
             [
              0.3333333333333333,
              "#9c179e"
             ],
             [
              0.4444444444444444,
              "#bd3786"
             ],
             [
              0.5555555555555556,
              "#d8576b"
             ],
             [
              0.6666666666666666,
              "#ed7953"
             ],
             [
              0.7777777777777778,
              "#fb9f3a"
             ],
             [
              0.8888888888888888,
              "#fdca26"
             ],
             [
              1,
              "#f0f921"
             ]
            ],
            "type": "histogram2dcontour"
           }
          ],
          "mesh3d": [
           {
            "colorbar": {
             "outlinewidth": 0,
             "ticks": ""
            },
            "type": "mesh3d"
           }
          ],
          "parcoords": [
           {
            "line": {
             "colorbar": {
              "outlinewidth": 0,
              "ticks": ""
             }
            },
            "type": "parcoords"
           }
          ],
          "pie": [
           {
            "automargin": true,
            "type": "pie"
           }
          ],
          "scatter": [
           {
            "fillpattern": {
             "fillmode": "overlay",
             "size": 10,
             "solidity": 0.2
            },
            "type": "scatter"
           }
          ],
          "scatter3d": [
           {
            "line": {
             "colorbar": {
              "outlinewidth": 0,
              "ticks": ""
             }
            },
            "marker": {
             "colorbar": {
              "outlinewidth": 0,
              "ticks": ""
             }
            },
            "type": "scatter3d"
           }
          ],
          "scattercarpet": [
           {
            "marker": {
             "colorbar": {
              "outlinewidth": 0,
              "ticks": ""
             }
            },
            "type": "scattercarpet"
           }
          ],
          "scattergeo": [
           {
            "marker": {
             "colorbar": {
              "outlinewidth": 0,
              "ticks": ""
             }
            },
            "type": "scattergeo"
           }
          ],
          "scattergl": [
           {
            "marker": {
             "colorbar": {
              "outlinewidth": 0,
              "ticks": ""
             }
            },
            "type": "scattergl"
           }
          ],
          "scattermapbox": [
           {
            "marker": {
             "colorbar": {
              "outlinewidth": 0,
              "ticks": ""
             }
            },
            "type": "scattermapbox"
           }
          ],
          "scatterpolar": [
           {
            "marker": {
             "colorbar": {
              "outlinewidth": 0,
              "ticks": ""
             }
            },
            "type": "scatterpolar"
           }
          ],
          "scatterpolargl": [
           {
            "marker": {
             "colorbar": {
              "outlinewidth": 0,
              "ticks": ""
             }
            },
            "type": "scatterpolargl"
           }
          ],
          "scatterternary": [
           {
            "marker": {
             "colorbar": {
              "outlinewidth": 0,
              "ticks": ""
             }
            },
            "type": "scatterternary"
           }
          ],
          "surface": [
           {
            "colorbar": {
             "outlinewidth": 0,
             "ticks": ""
            },
            "colorscale": [
             [
              0,
              "#0d0887"
             ],
             [
              0.1111111111111111,
              "#46039f"
             ],
             [
              0.2222222222222222,
              "#7201a8"
             ],
             [
              0.3333333333333333,
              "#9c179e"
             ],
             [
              0.4444444444444444,
              "#bd3786"
             ],
             [
              0.5555555555555556,
              "#d8576b"
             ],
             [
              0.6666666666666666,
              "#ed7953"
             ],
             [
              0.7777777777777778,
              "#fb9f3a"
             ],
             [
              0.8888888888888888,
              "#fdca26"
             ],
             [
              1,
              "#f0f921"
             ]
            ],
            "type": "surface"
           }
          ],
          "table": [
           {
            "cells": {
             "fill": {
              "color": "#EBF0F8"
             },
             "line": {
              "color": "white"
             }
            },
            "header": {
             "fill": {
              "color": "#C8D4E3"
             },
             "line": {
              "color": "white"
             }
            },
            "type": "table"
           }
          ]
         },
         "layout": {
          "annotationdefaults": {
           "arrowcolor": "#2a3f5f",
           "arrowhead": 0,
           "arrowwidth": 1
          },
          "autotypenumbers": "strict",
          "coloraxis": {
           "colorbar": {
            "outlinewidth": 0,
            "ticks": ""
           }
          },
          "colorscale": {
           "diverging": [
            [
             0,
             "#8e0152"
            ],
            [
             0.1,
             "#c51b7d"
            ],
            [
             0.2,
             "#de77ae"
            ],
            [
             0.3,
             "#f1b6da"
            ],
            [
             0.4,
             "#fde0ef"
            ],
            [
             0.5,
             "#f7f7f7"
            ],
            [
             0.6,
             "#e6f5d0"
            ],
            [
             0.7,
             "#b8e186"
            ],
            [
             0.8,
             "#7fbc41"
            ],
            [
             0.9,
             "#4d9221"
            ],
            [
             1,
             "#276419"
            ]
           ],
           "sequential": [
            [
             0,
             "#0d0887"
            ],
            [
             0.1111111111111111,
             "#46039f"
            ],
            [
             0.2222222222222222,
             "#7201a8"
            ],
            [
             0.3333333333333333,
             "#9c179e"
            ],
            [
             0.4444444444444444,
             "#bd3786"
            ],
            [
             0.5555555555555556,
             "#d8576b"
            ],
            [
             0.6666666666666666,
             "#ed7953"
            ],
            [
             0.7777777777777778,
             "#fb9f3a"
            ],
            [
             0.8888888888888888,
             "#fdca26"
            ],
            [
             1,
             "#f0f921"
            ]
           ],
           "sequentialminus": [
            [
             0,
             "#0d0887"
            ],
            [
             0.1111111111111111,
             "#46039f"
            ],
            [
             0.2222222222222222,
             "#7201a8"
            ],
            [
             0.3333333333333333,
             "#9c179e"
            ],
            [
             0.4444444444444444,
             "#bd3786"
            ],
            [
             0.5555555555555556,
             "#d8576b"
            ],
            [
             0.6666666666666666,
             "#ed7953"
            ],
            [
             0.7777777777777778,
             "#fb9f3a"
            ],
            [
             0.8888888888888888,
             "#fdca26"
            ],
            [
             1,
             "#f0f921"
            ]
           ]
          },
          "colorway": [
           "#636efa",
           "#EF553B",
           "#00cc96",
           "#ab63fa",
           "#FFA15A",
           "#19d3f3",
           "#FF6692",
           "#B6E880",
           "#FF97FF",
           "#FECB52"
          ],
          "font": {
           "color": "#2a3f5f"
          },
          "geo": {
           "bgcolor": "white",
           "lakecolor": "white",
           "landcolor": "#E5ECF6",
           "showlakes": true,
           "showland": true,
           "subunitcolor": "white"
          },
          "hoverlabel": {
           "align": "left"
          },
          "hovermode": "closest",
          "mapbox": {
           "style": "light"
          },
          "paper_bgcolor": "white",
          "plot_bgcolor": "#E5ECF6",
          "polar": {
           "angularaxis": {
            "gridcolor": "white",
            "linecolor": "white",
            "ticks": ""
           },
           "bgcolor": "#E5ECF6",
           "radialaxis": {
            "gridcolor": "white",
            "linecolor": "white",
            "ticks": ""
           }
          },
          "scene": {
           "xaxis": {
            "backgroundcolor": "#E5ECF6",
            "gridcolor": "white",
            "gridwidth": 2,
            "linecolor": "white",
            "showbackground": true,
            "ticks": "",
            "zerolinecolor": "white"
           },
           "yaxis": {
            "backgroundcolor": "#E5ECF6",
            "gridcolor": "white",
            "gridwidth": 2,
            "linecolor": "white",
            "showbackground": true,
            "ticks": "",
            "zerolinecolor": "white"
           },
           "zaxis": {
            "backgroundcolor": "#E5ECF6",
            "gridcolor": "white",
            "gridwidth": 2,
            "linecolor": "white",
            "showbackground": true,
            "ticks": "",
            "zerolinecolor": "white"
           }
          },
          "shapedefaults": {
           "line": {
            "color": "#2a3f5f"
           }
          },
          "ternary": {
           "aaxis": {
            "gridcolor": "white",
            "linecolor": "white",
            "ticks": ""
           },
           "baxis": {
            "gridcolor": "white",
            "linecolor": "white",
            "ticks": ""
           },
           "bgcolor": "#E5ECF6",
           "caxis": {
            "gridcolor": "white",
            "linecolor": "white",
            "ticks": ""
           }
          },
          "title": {
           "x": 0.05
          },
          "xaxis": {
           "automargin": true,
           "gridcolor": "white",
           "linecolor": "white",
           "ticks": "",
           "title": {
            "standoff": 15
           },
           "zerolinecolor": "white",
           "zerolinewidth": 2
          },
          "yaxis": {
           "automargin": true,
           "gridcolor": "white",
           "linecolor": "white",
           "ticks": "",
           "title": {
            "standoff": 15
           },
           "zerolinecolor": "white",
           "zerolinewidth": 2
          }
         }
        },
        "title": {
         "text": "Raspodela golova i poena"
        },
        "xaxis": {
         "anchor": "y",
         "domain": [
          0,
          1
         ],
         "title": {
          "text": "Points"
         }
        },
        "xaxis2": {
         "anchor": "y2",
         "domain": [
          0,
          1
         ],
         "matches": "x",
         "showgrid": true,
         "showticklabels": false
        },
        "yaxis": {
         "anchor": "x",
         "domain": [
          0,
          0.7326
         ],
         "title": {
          "text": "count"
         }
        },
        "yaxis2": {
         "anchor": "x2",
         "domain": [
          0.7426,
          1
         ],
         "matches": "y2",
         "showgrid": false,
         "showline": false,
         "showticklabels": false,
         "ticks": ""
        }
       }
      },
      "text/html": [
       "<div>                            <div id=\"fa061ecf-2166-4e87-91fb-999ceb085aa9\" class=\"plotly-graph-div\" style=\"height:525px; width:100%;\"></div>            <script type=\"text/javascript\">                require([\"plotly\"], function(Plotly) {                    window.PLOTLYENV=window.PLOTLYENV || {};                                    if (document.getElementById(\"fa061ecf-2166-4e87-91fb-999ceb085aa9\")) {                    Plotly.newPlot(                        \"fa061ecf-2166-4e87-91fb-999ceb085aa9\",                        [{\"alignmentgroup\":\"True\",\"bingroup\":\"x\",\"hovertemplate\":\"Saves=1<br>Points=%{x}<br>count=%{y}<extra></extra>\",\"legendgroup\":\"1\",\"marker\":{\"color\":\"green\",\"pattern\":{\"shape\":\"\"}},\"name\":\"1\",\"offsetgroup\":\"1\",\"orientation\":\"v\",\"showlegend\":true,\"x\":[2,2,1,1,8,8,8,6,1,6,6,2,6,2,5,6,6,2,2,1,8,7,2,1,6,1,2,2,1,1,5,2,6,6,0,1,1,1,1,2,6,6,1,1,2,2,2,7,0,2,1,6,0,1,2,1,0,1,6,6,0,1,6,2,1,1,1,2,1,2,0,2,1,6,0,1,1,1,2,2,1,1,1,6,1,1,2,1,1,2,0,1,1],\"xaxis\":\"x\",\"yaxis\":\"y\",\"type\":\"histogram\"},{\"alignmentgroup\":\"True\",\"hovertemplate\":\"Saves=1<br>Points=%{x}<extra></extra>\",\"legendgroup\":\"1\",\"marker\":{\"color\":\"green\"},\"name\":\"1\",\"notched\":true,\"offsetgroup\":\"1\",\"showlegend\":false,\"x\":[2,2,1,1,8,8,8,6,1,6,6,2,6,2,5,6,6,2,2,1,8,7,2,1,6,1,2,2,1,1,5,2,6,6,0,1,1,1,1,2,6,6,1,1,2,2,2,7,0,2,1,6,0,1,2,1,0,1,6,6,0,1,6,2,1,1,1,2,1,2,0,2,1,6,0,1,1,1,2,2,1,1,1,6,1,1,2,1,1,2,0,1,1],\"xaxis\":\"x2\",\"yaxis\":\"y2\",\"type\":\"box\"},{\"alignmentgroup\":\"True\",\"bingroup\":\"x\",\"hovertemplate\":\"Saves=3<br>Points=%{x}<br>count=%{y}<extra></extra>\",\"legendgroup\":\"3\",\"marker\":{\"color\":\"blue\",\"pattern\":{\"shape\":\"\"}},\"name\":\"3\",\"offsetgroup\":\"3\",\"orientation\":\"v\",\"showlegend\":true,\"x\":[0,3,9,2,7,2,8,2,2,10,8,3,7,3,3,10,1,3,2,8,3,2,2,3,2,2,1,3,2,2,5,1,2,10,2,3,2,3,6,7,7,7,3,10,1,2,2,3,5,10,7,2,3,6,1,2,2,3,2,3,2,2,2,3,2,7,3,2,3,2,10,2,3,3,3,2,3,3,8,2,2,2,3,3,2,2,2,10,3,1,2,2,7,3,3,3,3,2,8,7,9,2,1,9,1,3,1,3,3,3,1,3,2,3,2,3,2,2,1],\"xaxis\":\"x\",\"yaxis\":\"y\",\"type\":\"histogram\"},{\"alignmentgroup\":\"True\",\"hovertemplate\":\"Saves=3<br>Points=%{x}<extra></extra>\",\"legendgroup\":\"3\",\"marker\":{\"color\":\"blue\"},\"name\":\"3\",\"notched\":true,\"offsetgroup\":\"3\",\"showlegend\":false,\"x\":[0,3,9,2,7,2,8,2,2,10,8,3,7,3,3,10,1,3,2,8,3,2,2,3,2,2,1,3,2,2,5,1,2,10,2,3,2,3,6,7,7,7,3,10,1,2,2,3,5,10,7,2,3,6,1,2,2,3,2,3,2,2,2,3,2,7,3,2,3,2,10,2,3,3,3,2,3,3,8,2,2,2,3,3,2,2,2,10,3,1,2,2,7,3,3,3,3,2,8,7,9,2,1,9,1,3,1,3,3,3,1,3,2,3,2,3,2,2,1],\"xaxis\":\"x2\",\"yaxis\":\"y2\",\"type\":\"box\"},{\"alignmentgroup\":\"True\",\"bingroup\":\"x\",\"hovertemplate\":\"Saves=2<br>Points=%{x}<br>count=%{y}<extra></extra>\",\"legendgroup\":\"2\",\"marker\":{\"color\":\"red\",\"pattern\":{\"shape\":\"\"}},\"name\":\"2\",\"offsetgroup\":\"2\",\"orientation\":\"v\",\"showlegend\":true,\"x\":[2,5,2,7,6,3,0,2,2,2,1,2,6,6,5,6,2,1,6,6,1,1,0,0,2,6,2,1,7,2,2,1,2,2,6,2,6,1,2,1,2,8,1,1,6,-2,0,1,6,6,6,2,2,6,1,6,8,1,2,2,3,9,1,9,1,7,3,1,1,2,1,2,2,1,2,0,1,0,1,2,1,8,1,0,1,2,1,1,0,1,6,6,1,0,7,2,2,6,2,5,2,1,6,1,1,1,1,1,2,2,7,2,1,1,2,1,2,1,6,1,6,0,2,1,1,0,2,0,1],\"xaxis\":\"x\",\"yaxis\":\"y\",\"type\":\"histogram\"},{\"alignmentgroup\":\"True\",\"hovertemplate\":\"Saves=2<br>Points=%{x}<extra></extra>\",\"legendgroup\":\"2\",\"marker\":{\"color\":\"red\"},\"name\":\"2\",\"notched\":true,\"offsetgroup\":\"2\",\"showlegend\":false,\"x\":[2,5,2,7,6,3,0,2,2,2,1,2,6,6,5,6,2,1,6,6,1,1,0,0,2,6,2,1,7,2,2,1,2,2,6,2,6,1,2,1,2,8,1,1,6,-2,0,1,6,6,6,2,2,6,1,6,8,1,2,2,3,9,1,9,1,7,3,1,1,2,1,2,2,1,2,0,1,0,1,2,1,8,1,0,1,2,1,1,0,1,6,6,1,0,7,2,2,6,2,5,2,1,6,1,1,1,1,1,2,2,7,2,1,1,2,1,2,1,6,1,6,0,2,1,1,0,2,0,1],\"xaxis\":\"x2\",\"yaxis\":\"y2\",\"type\":\"box\"},{\"alignmentgroup\":\"True\",\"bingroup\":\"x\",\"hovertemplate\":\"Saves=6<br>Points=%{x}<br>count=%{y}<extra></extra>\",\"legendgroup\":\"6\",\"marker\":{\"color\":\"yellow\",\"pattern\":{\"shape\":\"\"}},\"name\":\"6\",\"offsetgroup\":\"6\",\"orientation\":\"v\",\"showlegend\":true,\"x\":[1,2,4,3,3,0,3,9,9,11,2,2,4,2,3,4,4,4,11,3,3,11,10,3,4,3,3,4,3],\"xaxis\":\"x\",\"yaxis\":\"y\",\"type\":\"histogram\"},{\"alignmentgroup\":\"True\",\"hovertemplate\":\"Saves=6<br>Points=%{x}<extra></extra>\",\"legendgroup\":\"6\",\"marker\":{\"color\":\"yellow\"},\"name\":\"6\",\"notched\":true,\"offsetgroup\":\"6\",\"showlegend\":false,\"x\":[1,2,4,3,3,0,3,9,9,11,2,2,4,2,3,4,4,4,11,3,3,11,10,3,4,3,3,4,3],\"xaxis\":\"x2\",\"yaxis\":\"y2\",\"type\":\"box\"},{\"alignmentgroup\":\"True\",\"bingroup\":\"x\",\"hovertemplate\":\"Saves=0<br>Points=%{x}<br>count=%{y}<extra></extra>\",\"legendgroup\":\"0\",\"marker\":{\"color\":\"grey\",\"pattern\":{\"shape\":\"\"}},\"name\":\"0\",\"offsetgroup\":\"0\",\"orientation\":\"v\",\"showlegend\":true,\"x\":[1,0,0,0,0,6,6,2,0,6,6,0,1,1,0,0,6,0,0,0,0,0,0,0,0,2,0,0,0,0,0,0,0,2,1,0,0,0,0,0,0,0,0,0,0,0,0,0,0,0,0,0,0,1,0,0,0,0,0,0,0,0,0,0,0,0,0,0,0,0,0,0,0,0,-1,2,1,0,2,0,1,2,0,0,0,2,0,0,0,1,0,0,1,2,0,0,0,0,0,0,0,0,0,0,0,0,0,0,0,0,2,0,0,0,0,0,0,0,0,0,0,0,0,0,0,0,1,0,0,6,0,2,0,0,2,1,2,0,0,0,0,0,0,0,0,0,0,0,0,0,1,0,0,0,0,0,0,0,0,0,0,0,0,0,0,0,-1,0,0,0,0,0,0,0,0,0,0,0,0,0,0,2,1,2,0,0,0,0,0,0,0,0,6,0,0,0,0,0,0,0,0,0,0,1,0,0,0,0,0,0,0,0],\"xaxis\":\"x\",\"yaxis\":\"y\",\"type\":\"histogram\"},{\"alignmentgroup\":\"True\",\"hovertemplate\":\"Saves=0<br>Points=%{x}<extra></extra>\",\"legendgroup\":\"0\",\"marker\":{\"color\":\"grey\"},\"name\":\"0\",\"notched\":true,\"offsetgroup\":\"0\",\"showlegend\":false,\"x\":[1,0,0,0,0,6,6,2,0,6,6,0,1,1,0,0,6,0,0,0,0,0,0,0,0,2,0,0,0,0,0,0,0,2,1,0,0,0,0,0,0,0,0,0,0,0,0,0,0,0,0,0,0,1,0,0,0,0,0,0,0,0,0,0,0,0,0,0,0,0,0,0,0,0,-1,2,1,0,2,0,1,2,0,0,0,2,0,0,0,1,0,0,1,2,0,0,0,0,0,0,0,0,0,0,0,0,0,0,0,0,2,0,0,0,0,0,0,0,0,0,0,0,0,0,0,0,1,0,0,6,0,2,0,0,2,1,2,0,0,0,0,0,0,0,0,0,0,0,0,0,1,0,0,0,0,0,0,0,0,0,0,0,0,0,0,0,-1,0,0,0,0,0,0,0,0,0,0,0,0,0,0,2,1,2,0,0,0,0,0,0,0,0,6,0,0,0,0,0,0,0,0,0,0,1,0,0,0,0,0,0,0,0],\"xaxis\":\"x2\",\"yaxis\":\"y2\",\"type\":\"box\"},{\"alignmentgroup\":\"True\",\"bingroup\":\"x\",\"hovertemplate\":\"Saves=4<br>Points=%{x}<br>count=%{y}<extra></extra>\",\"legendgroup\":\"4\",\"marker\":{\"color\":\"purple\",\"pattern\":{\"shape\":\"\"}},\"name\":\"4\",\"offsetgroup\":\"4\",\"orientation\":\"v\",\"showlegend\":true,\"x\":[2,10,2,2,9,2,3,0,10,3,1,3,3,2,6,3,2,3,2,2,3,2,3,3,3,7,8,8,3,2,3,10,2,1,3,2,2,3,3,9,2,2,3,3,1,9,6,3,2,7,9,3,1,3,2,2,2,2,2,2,3,0,3,1,2,1,2,3,7,2,4,1,2,2,3,7,3,3,1,2,2,9,3,2,3,2,1,2,2,2,2,2,2,1,2,0,9,2,1,3],\"xaxis\":\"x\",\"yaxis\":\"y\",\"type\":\"histogram\"},{\"alignmentgroup\":\"True\",\"hovertemplate\":\"Saves=4<br>Points=%{x}<extra></extra>\",\"legendgroup\":\"4\",\"marker\":{\"color\":\"purple\"},\"name\":\"4\",\"notched\":true,\"offsetgroup\":\"4\",\"showlegend\":false,\"x\":[2,10,2,2,9,2,3,0,10,3,1,3,3,2,6,3,2,3,2,2,3,2,3,3,3,7,8,8,3,2,3,10,2,1,3,2,2,3,3,9,2,2,3,3,1,9,6,3,2,7,9,3,1,3,2,2,2,2,2,2,3,0,3,1,2,1,2,3,7,2,4,1,2,2,3,7,3,3,1,2,2,9,3,2,3,2,1,2,2,2,2,2,2,1,2,0,9,2,1,3],\"xaxis\":\"x2\",\"yaxis\":\"y2\",\"type\":\"box\"},{\"alignmentgroup\":\"True\",\"bingroup\":\"x\",\"hovertemplate\":\"Saves=5<br>Points=%{x}<br>count=%{y}<extra></extra>\",\"legendgroup\":\"5\",\"marker\":{\"color\":\"orange\",\"pattern\":{\"shape\":\"\"}},\"name\":\"5\",\"offsetgroup\":\"5\",\"orientation\":\"v\",\"showlegend\":true,\"x\":[10,8,2,2,2,3,2,3,2,2,3,9,8,7,1,2,3,9,1,5,2,0,1,3,4,2,1,9,2,1,3,4,3,3,2,7,2,2,2,2,3,1,1,2,9,3,3,8,8,9,9,2,3,1,2,2,1,2,5],\"xaxis\":\"x\",\"yaxis\":\"y\",\"type\":\"histogram\"},{\"alignmentgroup\":\"True\",\"hovertemplate\":\"Saves=5<br>Points=%{x}<extra></extra>\",\"legendgroup\":\"5\",\"marker\":{\"color\":\"orange\"},\"name\":\"5\",\"notched\":true,\"offsetgroup\":\"5\",\"showlegend\":false,\"x\":[10,8,2,2,2,3,2,3,2,2,3,9,8,7,1,2,3,9,1,5,2,0,1,3,4,2,1,9,2,1,3,4,3,3,2,7,2,2,2,2,3,1,1,2,9,3,3,8,8,9,9,2,3,1,2,2,1,2,5],\"xaxis\":\"x2\",\"yaxis\":\"y2\",\"type\":\"box\"},{\"alignmentgroup\":\"True\",\"bingroup\":\"x\",\"hovertemplate\":\"Saves=7<br>Points=%{x}<br>count=%{y}<extra></extra>\",\"legendgroup\":\"7\",\"marker\":{\"color\":\"gold\",\"pattern\":{\"shape\":\"\"}},\"name\":\"7\",\"offsetgroup\":\"7\",\"orientation\":\"v\",\"showlegend\":true,\"x\":[10,5,1,2,5,3,3,3,3,1,6,4,11,3,4,8,3,2,2,3,3,4,3,5,4,4,0,2],\"xaxis\":\"x\",\"yaxis\":\"y\",\"type\":\"histogram\"},{\"alignmentgroup\":\"True\",\"hovertemplate\":\"Saves=7<br>Points=%{x}<extra></extra>\",\"legendgroup\":\"7\",\"marker\":{\"color\":\"gold\"},\"name\":\"7\",\"notched\":true,\"offsetgroup\":\"7\",\"showlegend\":false,\"x\":[10,5,1,2,5,3,3,3,3,1,6,4,11,3,4,8,3,2,2,3,3,4,3,5,4,4,0,2],\"xaxis\":\"x2\",\"yaxis\":\"y2\",\"type\":\"box\"},{\"alignmentgroup\":\"True\",\"bingroup\":\"x\",\"hovertemplate\":\"Saves=8<br>Points=%{x}<br>count=%{y}<extra></extra>\",\"legendgroup\":\"8\",\"marker\":{\"color\":\"green\",\"pattern\":{\"shape\":\"\"}},\"name\":\"8\",\"offsetgroup\":\"8\",\"orientation\":\"v\",\"showlegend\":true,\"x\":[4,10,11,10,4,5,2,3,3,3,10,3,3,3],\"xaxis\":\"x\",\"yaxis\":\"y\",\"type\":\"histogram\"},{\"alignmentgroup\":\"True\",\"hovertemplate\":\"Saves=8<br>Points=%{x}<extra></extra>\",\"legendgroup\":\"8\",\"marker\":{\"color\":\"green\"},\"name\":\"8\",\"notched\":true,\"offsetgroup\":\"8\",\"showlegend\":false,\"x\":[4,10,11,10,4,5,2,3,3,3,10,3,3,3],\"xaxis\":\"x2\",\"yaxis\":\"y2\",\"type\":\"box\"},{\"alignmentgroup\":\"True\",\"bingroup\":\"x\",\"hovertemplate\":\"Saves=9<br>Points=%{x}<br>count=%{y}<extra></extra>\",\"legendgroup\":\"9\",\"marker\":{\"color\":\"blue\",\"pattern\":{\"shape\":\"\"}},\"name\":\"9\",\"offsetgroup\":\"9\",\"orientation\":\"v\",\"showlegend\":true,\"x\":[5,13,3,4,12,1,5,3,3,3],\"xaxis\":\"x\",\"yaxis\":\"y\",\"type\":\"histogram\"},{\"alignmentgroup\":\"True\",\"hovertemplate\":\"Saves=9<br>Points=%{x}<extra></extra>\",\"legendgroup\":\"9\",\"marker\":{\"color\":\"blue\"},\"name\":\"9\",\"notched\":true,\"offsetgroup\":\"9\",\"showlegend\":false,\"x\":[5,13,3,4,12,1,5,3,3,3],\"xaxis\":\"x2\",\"yaxis\":\"y2\",\"type\":\"box\"},{\"alignmentgroup\":\"True\",\"bingroup\":\"x\",\"hovertemplate\":\"Saves=10<br>Points=%{x}<br>count=%{y}<extra></extra>\",\"legendgroup\":\"10\",\"marker\":{\"color\":\"red\",\"pattern\":{\"shape\":\"\"}},\"name\":\"10\",\"offsetgroup\":\"10\",\"orientation\":\"v\",\"showlegend\":true,\"x\":[4,7,8],\"xaxis\":\"x\",\"yaxis\":\"y\",\"type\":\"histogram\"},{\"alignmentgroup\":\"True\",\"hovertemplate\":\"Saves=10<br>Points=%{x}<extra></extra>\",\"legendgroup\":\"10\",\"marker\":{\"color\":\"red\"},\"name\":\"10\",\"notched\":true,\"offsetgroup\":\"10\",\"showlegend\":false,\"x\":[4,7,8],\"xaxis\":\"x2\",\"yaxis\":\"y2\",\"type\":\"box\"},{\"alignmentgroup\":\"True\",\"bingroup\":\"x\",\"hovertemplate\":\"Saves=11<br>Points=%{x}<br>count=%{y}<extra></extra>\",\"legendgroup\":\"11\",\"marker\":{\"color\":\"yellow\",\"pattern\":{\"shape\":\"\"}},\"name\":\"11\",\"offsetgroup\":\"11\",\"orientation\":\"v\",\"showlegend\":true,\"x\":[4],\"xaxis\":\"x\",\"yaxis\":\"y\",\"type\":\"histogram\"},{\"alignmentgroup\":\"True\",\"hovertemplate\":\"Saves=11<br>Points=%{x}<extra></extra>\",\"legendgroup\":\"11\",\"marker\":{\"color\":\"yellow\"},\"name\":\"11\",\"notched\":true,\"offsetgroup\":\"11\",\"showlegend\":false,\"x\":[4],\"xaxis\":\"x2\",\"yaxis\":\"y2\",\"type\":\"box\"},{\"alignmentgroup\":\"True\",\"bingroup\":\"x\",\"hovertemplate\":\"Saves=12<br>Points=%{x}<br>count=%{y}<extra></extra>\",\"legendgroup\":\"12\",\"marker\":{\"color\":\"grey\",\"pattern\":{\"shape\":\"\"}},\"name\":\"12\",\"offsetgroup\":\"12\",\"orientation\":\"v\",\"showlegend\":true,\"x\":[10],\"xaxis\":\"x\",\"yaxis\":\"y\",\"type\":\"histogram\"},{\"alignmentgroup\":\"True\",\"hovertemplate\":\"Saves=12<br>Points=%{x}<extra></extra>\",\"legendgroup\":\"12\",\"marker\":{\"color\":\"grey\"},\"name\":\"12\",\"notched\":true,\"offsetgroup\":\"12\",\"showlegend\":false,\"x\":[10],\"xaxis\":\"x2\",\"yaxis\":\"y2\",\"type\":\"box\"}],                        {\"template\":{\"data\":{\"histogram2dcontour\":[{\"type\":\"histogram2dcontour\",\"colorbar\":{\"outlinewidth\":0,\"ticks\":\"\"},\"colorscale\":[[0.0,\"#0d0887\"],[0.1111111111111111,\"#46039f\"],[0.2222222222222222,\"#7201a8\"],[0.3333333333333333,\"#9c179e\"],[0.4444444444444444,\"#bd3786\"],[0.5555555555555556,\"#d8576b\"],[0.6666666666666666,\"#ed7953\"],[0.7777777777777778,\"#fb9f3a\"],[0.8888888888888888,\"#fdca26\"],[1.0,\"#f0f921\"]]}],\"choropleth\":[{\"type\":\"choropleth\",\"colorbar\":{\"outlinewidth\":0,\"ticks\":\"\"}}],\"histogram2d\":[{\"type\":\"histogram2d\",\"colorbar\":{\"outlinewidth\":0,\"ticks\":\"\"},\"colorscale\":[[0.0,\"#0d0887\"],[0.1111111111111111,\"#46039f\"],[0.2222222222222222,\"#7201a8\"],[0.3333333333333333,\"#9c179e\"],[0.4444444444444444,\"#bd3786\"],[0.5555555555555556,\"#d8576b\"],[0.6666666666666666,\"#ed7953\"],[0.7777777777777778,\"#fb9f3a\"],[0.8888888888888888,\"#fdca26\"],[1.0,\"#f0f921\"]]}],\"heatmap\":[{\"type\":\"heatmap\",\"colorbar\":{\"outlinewidth\":0,\"ticks\":\"\"},\"colorscale\":[[0.0,\"#0d0887\"],[0.1111111111111111,\"#46039f\"],[0.2222222222222222,\"#7201a8\"],[0.3333333333333333,\"#9c179e\"],[0.4444444444444444,\"#bd3786\"],[0.5555555555555556,\"#d8576b\"],[0.6666666666666666,\"#ed7953\"],[0.7777777777777778,\"#fb9f3a\"],[0.8888888888888888,\"#fdca26\"],[1.0,\"#f0f921\"]]}],\"heatmapgl\":[{\"type\":\"heatmapgl\",\"colorbar\":{\"outlinewidth\":0,\"ticks\":\"\"},\"colorscale\":[[0.0,\"#0d0887\"],[0.1111111111111111,\"#46039f\"],[0.2222222222222222,\"#7201a8\"],[0.3333333333333333,\"#9c179e\"],[0.4444444444444444,\"#bd3786\"],[0.5555555555555556,\"#d8576b\"],[0.6666666666666666,\"#ed7953\"],[0.7777777777777778,\"#fb9f3a\"],[0.8888888888888888,\"#fdca26\"],[1.0,\"#f0f921\"]]}],\"contourcarpet\":[{\"type\":\"contourcarpet\",\"colorbar\":{\"outlinewidth\":0,\"ticks\":\"\"}}],\"contour\":[{\"type\":\"contour\",\"colorbar\":{\"outlinewidth\":0,\"ticks\":\"\"},\"colorscale\":[[0.0,\"#0d0887\"],[0.1111111111111111,\"#46039f\"],[0.2222222222222222,\"#7201a8\"],[0.3333333333333333,\"#9c179e\"],[0.4444444444444444,\"#bd3786\"],[0.5555555555555556,\"#d8576b\"],[0.6666666666666666,\"#ed7953\"],[0.7777777777777778,\"#fb9f3a\"],[0.8888888888888888,\"#fdca26\"],[1.0,\"#f0f921\"]]}],\"surface\":[{\"type\":\"surface\",\"colorbar\":{\"outlinewidth\":0,\"ticks\":\"\"},\"colorscale\":[[0.0,\"#0d0887\"],[0.1111111111111111,\"#46039f\"],[0.2222222222222222,\"#7201a8\"],[0.3333333333333333,\"#9c179e\"],[0.4444444444444444,\"#bd3786\"],[0.5555555555555556,\"#d8576b\"],[0.6666666666666666,\"#ed7953\"],[0.7777777777777778,\"#fb9f3a\"],[0.8888888888888888,\"#fdca26\"],[1.0,\"#f0f921\"]]}],\"mesh3d\":[{\"type\":\"mesh3d\",\"colorbar\":{\"outlinewidth\":0,\"ticks\":\"\"}}],\"scatter\":[{\"fillpattern\":{\"fillmode\":\"overlay\",\"size\":10,\"solidity\":0.2},\"type\":\"scatter\"}],\"parcoords\":[{\"type\":\"parcoords\",\"line\":{\"colorbar\":{\"outlinewidth\":0,\"ticks\":\"\"}}}],\"scatterpolargl\":[{\"type\":\"scatterpolargl\",\"marker\":{\"colorbar\":{\"outlinewidth\":0,\"ticks\":\"\"}}}],\"bar\":[{\"error_x\":{\"color\":\"#2a3f5f\"},\"error_y\":{\"color\":\"#2a3f5f\"},\"marker\":{\"line\":{\"color\":\"#E5ECF6\",\"width\":0.5},\"pattern\":{\"fillmode\":\"overlay\",\"size\":10,\"solidity\":0.2}},\"type\":\"bar\"}],\"scattergeo\":[{\"type\":\"scattergeo\",\"marker\":{\"colorbar\":{\"outlinewidth\":0,\"ticks\":\"\"}}}],\"scatterpolar\":[{\"type\":\"scatterpolar\",\"marker\":{\"colorbar\":{\"outlinewidth\":0,\"ticks\":\"\"}}}],\"histogram\":[{\"marker\":{\"pattern\":{\"fillmode\":\"overlay\",\"size\":10,\"solidity\":0.2}},\"type\":\"histogram\"}],\"scattergl\":[{\"type\":\"scattergl\",\"marker\":{\"colorbar\":{\"outlinewidth\":0,\"ticks\":\"\"}}}],\"scatter3d\":[{\"type\":\"scatter3d\",\"line\":{\"colorbar\":{\"outlinewidth\":0,\"ticks\":\"\"}},\"marker\":{\"colorbar\":{\"outlinewidth\":0,\"ticks\":\"\"}}}],\"scattermapbox\":[{\"type\":\"scattermapbox\",\"marker\":{\"colorbar\":{\"outlinewidth\":0,\"ticks\":\"\"}}}],\"scatterternary\":[{\"type\":\"scatterternary\",\"marker\":{\"colorbar\":{\"outlinewidth\":0,\"ticks\":\"\"}}}],\"scattercarpet\":[{\"type\":\"scattercarpet\",\"marker\":{\"colorbar\":{\"outlinewidth\":0,\"ticks\":\"\"}}}],\"carpet\":[{\"aaxis\":{\"endlinecolor\":\"#2a3f5f\",\"gridcolor\":\"white\",\"linecolor\":\"white\",\"minorgridcolor\":\"white\",\"startlinecolor\":\"#2a3f5f\"},\"baxis\":{\"endlinecolor\":\"#2a3f5f\",\"gridcolor\":\"white\",\"linecolor\":\"white\",\"minorgridcolor\":\"white\",\"startlinecolor\":\"#2a3f5f\"},\"type\":\"carpet\"}],\"table\":[{\"cells\":{\"fill\":{\"color\":\"#EBF0F8\"},\"line\":{\"color\":\"white\"}},\"header\":{\"fill\":{\"color\":\"#C8D4E3\"},\"line\":{\"color\":\"white\"}},\"type\":\"table\"}],\"barpolar\":[{\"marker\":{\"line\":{\"color\":\"#E5ECF6\",\"width\":0.5},\"pattern\":{\"fillmode\":\"overlay\",\"size\":10,\"solidity\":0.2}},\"type\":\"barpolar\"}],\"pie\":[{\"automargin\":true,\"type\":\"pie\"}]},\"layout\":{\"autotypenumbers\":\"strict\",\"colorway\":[\"#636efa\",\"#EF553B\",\"#00cc96\",\"#ab63fa\",\"#FFA15A\",\"#19d3f3\",\"#FF6692\",\"#B6E880\",\"#FF97FF\",\"#FECB52\"],\"font\":{\"color\":\"#2a3f5f\"},\"hovermode\":\"closest\",\"hoverlabel\":{\"align\":\"left\"},\"paper_bgcolor\":\"white\",\"plot_bgcolor\":\"#E5ECF6\",\"polar\":{\"bgcolor\":\"#E5ECF6\",\"angularaxis\":{\"gridcolor\":\"white\",\"linecolor\":\"white\",\"ticks\":\"\"},\"radialaxis\":{\"gridcolor\":\"white\",\"linecolor\":\"white\",\"ticks\":\"\"}},\"ternary\":{\"bgcolor\":\"#E5ECF6\",\"aaxis\":{\"gridcolor\":\"white\",\"linecolor\":\"white\",\"ticks\":\"\"},\"baxis\":{\"gridcolor\":\"white\",\"linecolor\":\"white\",\"ticks\":\"\"},\"caxis\":{\"gridcolor\":\"white\",\"linecolor\":\"white\",\"ticks\":\"\"}},\"coloraxis\":{\"colorbar\":{\"outlinewidth\":0,\"ticks\":\"\"}},\"colorscale\":{\"sequential\":[[0.0,\"#0d0887\"],[0.1111111111111111,\"#46039f\"],[0.2222222222222222,\"#7201a8\"],[0.3333333333333333,\"#9c179e\"],[0.4444444444444444,\"#bd3786\"],[0.5555555555555556,\"#d8576b\"],[0.6666666666666666,\"#ed7953\"],[0.7777777777777778,\"#fb9f3a\"],[0.8888888888888888,\"#fdca26\"],[1.0,\"#f0f921\"]],\"sequentialminus\":[[0.0,\"#0d0887\"],[0.1111111111111111,\"#46039f\"],[0.2222222222222222,\"#7201a8\"],[0.3333333333333333,\"#9c179e\"],[0.4444444444444444,\"#bd3786\"],[0.5555555555555556,\"#d8576b\"],[0.6666666666666666,\"#ed7953\"],[0.7777777777777778,\"#fb9f3a\"],[0.8888888888888888,\"#fdca26\"],[1.0,\"#f0f921\"]],\"diverging\":[[0,\"#8e0152\"],[0.1,\"#c51b7d\"],[0.2,\"#de77ae\"],[0.3,\"#f1b6da\"],[0.4,\"#fde0ef\"],[0.5,\"#f7f7f7\"],[0.6,\"#e6f5d0\"],[0.7,\"#b8e186\"],[0.8,\"#7fbc41\"],[0.9,\"#4d9221\"],[1,\"#276419\"]]},\"xaxis\":{\"gridcolor\":\"white\",\"linecolor\":\"white\",\"ticks\":\"\",\"title\":{\"standoff\":15},\"zerolinecolor\":\"white\",\"automargin\":true,\"zerolinewidth\":2},\"yaxis\":{\"gridcolor\":\"white\",\"linecolor\":\"white\",\"ticks\":\"\",\"title\":{\"standoff\":15},\"zerolinecolor\":\"white\",\"automargin\":true,\"zerolinewidth\":2},\"scene\":{\"xaxis\":{\"backgroundcolor\":\"#E5ECF6\",\"gridcolor\":\"white\",\"linecolor\":\"white\",\"showbackground\":true,\"ticks\":\"\",\"zerolinecolor\":\"white\",\"gridwidth\":2},\"yaxis\":{\"backgroundcolor\":\"#E5ECF6\",\"gridcolor\":\"white\",\"linecolor\":\"white\",\"showbackground\":true,\"ticks\":\"\",\"zerolinecolor\":\"white\",\"gridwidth\":2},\"zaxis\":{\"backgroundcolor\":\"#E5ECF6\",\"gridcolor\":\"white\",\"linecolor\":\"white\",\"showbackground\":true,\"ticks\":\"\",\"zerolinecolor\":\"white\",\"gridwidth\":2}},\"shapedefaults\":{\"line\":{\"color\":\"#2a3f5f\"}},\"annotationdefaults\":{\"arrowcolor\":\"#2a3f5f\",\"arrowhead\":0,\"arrowwidth\":1},\"geo\":{\"bgcolor\":\"white\",\"landcolor\":\"#E5ECF6\",\"subunitcolor\":\"white\",\"showland\":true,\"showlakes\":true,\"lakecolor\":\"white\"},\"title\":{\"x\":0.05},\"mapbox\":{\"style\":\"light\"}}},\"xaxis\":{\"anchor\":\"y\",\"domain\":[0.0,1.0],\"title\":{\"text\":\"Points\"}},\"yaxis\":{\"anchor\":\"x\",\"domain\":[0.0,0.7326],\"title\":{\"text\":\"count\"}},\"xaxis2\":{\"anchor\":\"y2\",\"domain\":[0.0,1.0],\"matches\":\"x\",\"showticklabels\":false,\"showgrid\":true},\"yaxis2\":{\"anchor\":\"x2\",\"domain\":[0.7426,1.0],\"matches\":\"y2\",\"showticklabels\":false,\"showline\":false,\"ticks\":\"\",\"showgrid\":false},\"legend\":{\"title\":{\"text\":\"Saves\"},\"tracegroupgap\":0},\"title\":{\"text\":\"Raspodela golova i poena\"},\"barmode\":\"relative\",\"bargap\":0.1},                        {\"responsive\": true}                    ).then(function(){\n",
       "                            \n",
       "var gd = document.getElementById('fa061ecf-2166-4e87-91fb-999ceb085aa9');\n",
       "var x = new MutationObserver(function (mutations, observer) {{\n",
       "        var display = window.getComputedStyle(gd).display;\n",
       "        if (!display || display === 'none') {{\n",
       "            console.log([gd, 'removed!']);\n",
       "            Plotly.purge(gd);\n",
       "            observer.disconnect();\n",
       "        }}\n",
       "}});\n",
       "\n",
       "// Listen for the removal of the full notebook cells\n",
       "var notebookContainer = gd.closest('#notebook-container');\n",
       "if (notebookContainer) {{\n",
       "    x.observe(notebookContainer, {childList: true});\n",
       "}}\n",
       "\n",
       "// Listen for the clearing of the current output cell\n",
       "var outputEl = gd.closest('.output');\n",
       "if (outputEl) {{\n",
       "    x.observe(outputEl, {childList: true});\n",
       "}}\n",
       "\n",
       "                        })                };                });            </script>        </div>"
      ]
     },
     "metadata": {},
     "output_type": "display_data"
    }
   ],
   "source": [
    "fig=px.histogram(df_gk,\n",
    "                 x='Points',\n",
    "                 marginal='box',\n",
    "                 color='Saves',\n",
    "                 title='Raspodela golova i poena',\n",
    "                 color_discrete_sequence=['green','blue','red','yellow','grey','purple','orange','gold'])\n",
    "\n",
    "fig.update_layout(bargap=0.1)\n",
    "fig.show()"
   ]
  },
  {
   "cell_type": "code",
   "execution_count": 83,
   "id": "4d6f89ba",
   "metadata": {},
   "outputs": [
    {
     "data": {
      "application/vnd.plotly.v1+json": {
       "config": {
        "plotlyServerURL": "https://plot.ly"
       },
       "data": [
        {
         "alignmentgroup": "True",
         "box": {
          "visible": false
         },
         "customdata": [
          [
           0
          ],
          [
           0
          ],
          [
           0
          ],
          [
           0
          ],
          [
           0
          ],
          [
           0
          ],
          [
           0
          ],
          [
           1
          ],
          [
           0
          ],
          [
           1
          ],
          [
           0
          ],
          [
           0
          ],
          [
           0
          ],
          [
           1
          ],
          [
           1
          ],
          [
           1
          ],
          [
           1
          ],
          [
           0
          ],
          [
           0
          ],
          [
           0
          ],
          [
           1
          ],
          [
           1
          ],
          [
           0
          ],
          [
           0
          ],
          [
           0
          ],
          [
           0
          ],
          [
           0
          ],
          [
           0
          ],
          [
           0
          ],
          [
           0
          ],
          [
           1
          ],
          [
           0
          ],
          [
           1
          ],
          [
           1
          ],
          [
           1
          ],
          [
           0
          ],
          [
           1
          ],
          [
           0
          ],
          [
           0
          ],
          [
           0
          ],
          [
           0
          ],
          [
           0
          ],
          [
           1
          ],
          [
           0
          ],
          [
           1
          ],
          [
           1
          ],
          [
           0
          ],
          [
           1
          ],
          [
           0
          ],
          [
           0
          ],
          [
           0
          ],
          [
           0
          ],
          [
           0
          ],
          [
           0
          ],
          [
           1
          ],
          [
           0
          ],
          [
           0
          ],
          [
           0
          ],
          [
           1
          ],
          [
           0
          ],
          [
           0
          ],
          [
           1
          ],
          [
           1
          ],
          [
           0
          ],
          [
           1
          ],
          [
           0
          ],
          [
           1
          ],
          [
           1
          ],
          [
           1
          ],
          [
           0
          ],
          [
           1
          ],
          [
           1
          ],
          [
           0
          ],
          [
           1
          ],
          [
           1
          ],
          [
           0
          ],
          [
           0
          ],
          [
           0
          ],
          [
           0
          ],
          [
           1
          ],
          [
           0
          ],
          [
           0
          ],
          [
           0
          ],
          [
           0
          ],
          [
           1
          ],
          [
           1
          ],
          [
           0
          ],
          [
           1
          ],
          [
           0
          ],
          [
           0
          ],
          [
           0
          ],
          [
           0
          ],
          [
           1
          ],
          [
           0
          ],
          [
           1
          ],
          [
           0
          ],
          [
           1
          ],
          [
           0
          ],
          [
           0
          ],
          [
           0
          ],
          [
           0
          ],
          [
           0
          ],
          [
           0
          ],
          [
           0
          ],
          [
           0
          ],
          [
           0
          ],
          [
           0
          ],
          [
           0
          ],
          [
           0
          ],
          [
           0
          ],
          [
           0
          ],
          [
           0
          ],
          [
           0
          ],
          [
           1
          ],
          [
           0
          ],
          [
           0
          ],
          [
           0
          ],
          [
           0
          ],
          [
           0
          ],
          [
           0
          ],
          [
           1
          ],
          [
           0
          ],
          [
           0
          ],
          [
           0
          ],
          [
           0
          ],
          [
           0
          ],
          [
           0
          ],
          [
           0
          ],
          [
           0
          ],
          [
           0
          ],
          [
           0
          ],
          [
           1
          ],
          [
           1
          ],
          [
           1
          ],
          [
           0
          ],
          [
           0
          ],
          [
           0
          ],
          [
           0
          ],
          [
           0
          ],
          [
           0
          ],
          [
           0
          ],
          [
           0
          ],
          [
           0
          ],
          [
           0
          ],
          [
           0
          ],
          [
           0
          ],
          [
           0
          ],
          [
           0
          ],
          [
           0
          ],
          [
           0
          ],
          [
           0
          ],
          [
           0
          ],
          [
           1
          ],
          [
           0
          ],
          [
           0
          ],
          [
           0
          ],
          [
           0
          ],
          [
           1
          ],
          [
           0
          ],
          [
           0
          ],
          [
           0
          ],
          [
           0
          ],
          [
           1
          ],
          [
           1
          ],
          [
           1
          ],
          [
           0
          ],
          [
           0
          ],
          [
           0
          ],
          [
           1
          ],
          [
           0
          ],
          [
           0
          ],
          [
           0
          ],
          [
           0
          ],
          [
           0
          ],
          [
           1
          ],
          [
           0
          ],
          [
           0
          ],
          [
           0
          ],
          [
           0
          ],
          [
           1
          ],
          [
           0
          ],
          [
           0
          ],
          [
           0
          ],
          [
           0
          ],
          [
           0
          ],
          [
           0
          ],
          [
           0
          ],
          [
           0
          ],
          [
           0
          ],
          [
           1
          ],
          [
           0
          ],
          [
           0
          ],
          [
           0
          ],
          [
           0
          ],
          [
           0
          ],
          [
           0
          ],
          [
           0
          ],
          [
           0
          ],
          [
           0
          ],
          [
           0
          ],
          [
           0
          ],
          [
           0
          ],
          [
           0
          ],
          [
           0
          ],
          [
           0
          ],
          [
           0
          ],
          [
           0
          ],
          [
           0
          ],
          [
           0
          ],
          [
           0
          ],
          [
           0
          ],
          [
           0
          ],
          [
           0
          ],
          [
           0
          ],
          [
           1
          ],
          [
           0
          ],
          [
           0
          ],
          [
           1
          ],
          [
           0
          ],
          [
           1
          ],
          [
           0
          ],
          [
           0
          ],
          [
           0
          ],
          [
           0
          ],
          [
           1
          ],
          [
           0
          ],
          [
           0
          ],
          [
           0
          ],
          [
           1
          ],
          [
           0
          ],
          [
           0
          ],
          [
           0
          ],
          [
           1
          ],
          [
           1
          ],
          [
           0
          ],
          [
           0
          ],
          [
           0
          ],
          [
           0
          ],
          [
           0
          ],
          [
           0
          ],
          [
           0
          ],
          [
           0
          ],
          [
           1
          ],
          [
           1
          ],
          [
           0
          ],
          [
           0
          ],
          [
           0
          ],
          [
           0
          ],
          [
           0
          ],
          [
           1
          ],
          [
           0
          ],
          [
           0
          ],
          [
           0
          ],
          [
           0
          ],
          [
           1
          ],
          [
           0
          ],
          [
           1
          ],
          [
           0
          ],
          [
           0
          ],
          [
           0
          ],
          [
           1
          ],
          [
           0
          ],
          [
           0
          ],
          [
           1
          ],
          [
           0
          ],
          [
           0
          ],
          [
           0
          ],
          [
           0
          ],
          [
           0
          ],
          [
           0
          ],
          [
           0
          ],
          [
           0
          ],
          [
           0
          ],
          [
           0
          ],
          [
           0
          ],
          [
           0
          ],
          [
           0
          ],
          [
           0
          ],
          [
           0
          ],
          [
           0
          ],
          [
           0
          ],
          [
           0
          ],
          [
           0
          ],
          [
           0
          ],
          [
           0
          ],
          [
           0
          ],
          [
           0
          ],
          [
           0
          ],
          [
           0
          ],
          [
           0
          ],
          [
           0
          ],
          [
           0
          ],
          [
           0
          ],
          [
           0
          ],
          [
           0
          ],
          [
           0
          ],
          [
           0
          ],
          [
           1
          ],
          [
           0
          ],
          [
           1
          ],
          [
           0
          ],
          [
           1
          ],
          [
           0
          ],
          [
           1
          ],
          [
           1
          ],
          [
           1
          ],
          [
           0
          ],
          [
           0
          ],
          [
           0
          ],
          [
           1
          ],
          [
           0
          ],
          [
           0
          ],
          [
           0
          ],
          [
           1
          ],
          [
           0
          ],
          [
           0
          ],
          [
           0
          ],
          [
           0
          ],
          [
           0
          ],
          [
           0
          ],
          [
           0
          ],
          [
           0
          ],
          [
           1
          ],
          [
           0
          ],
          [
           0
          ],
          [
           0
          ],
          [
           1
          ],
          [
           0
          ],
          [
           1
          ],
          [
           1
          ],
          [
           0
          ],
          [
           0
          ],
          [
           0
          ],
          [
           0
          ],
          [
           0
          ],
          [
           0
          ],
          [
           1
          ],
          [
           0
          ],
          [
           0
          ],
          [
           1
          ],
          [
           1
          ],
          [
           0
          ],
          [
           0
          ],
          [
           1
          ],
          [
           0
          ],
          [
           0
          ],
          [
           0
          ],
          [
           1
          ],
          [
           0
          ],
          [
           0
          ],
          [
           0
          ],
          [
           0
          ],
          [
           0
          ],
          [
           0
          ],
          [
           0
          ],
          [
           0
          ],
          [
           1
          ],
          [
           1
          ],
          [
           0
          ],
          [
           0
          ],
          [
           0
          ],
          [
           0
          ],
          [
           1
          ],
          [
           0
          ],
          [
           1
          ],
          [
           0
          ],
          [
           0
          ],
          [
           0
          ],
          [
           0
          ],
          [
           0
          ],
          [
           0
          ],
          [
           1
          ],
          [
           0
          ],
          [
           0
          ],
          [
           1
          ],
          [
           0
          ],
          [
           0
          ],
          [
           0
          ],
          [
           0
          ],
          [
           0
          ],
          [
           0
          ],
          [
           1
          ],
          [
           1
          ],
          [
           0
          ],
          [
           0
          ],
          [
           0
          ],
          [
           0
          ],
          [
           1
          ],
          [
           1
          ],
          [
           0
          ],
          [
           0
          ],
          [
           0
          ],
          [
           0
          ],
          [
           0
          ],
          [
           0
          ],
          [
           0
          ],
          [
           1
          ],
          [
           0
          ],
          [
           0
          ],
          [
           0
          ],
          [
           0
          ],
          [
           0
          ],
          [
           0
          ],
          [
           0
          ],
          [
           0
          ],
          [
           0
          ],
          [
           1
          ],
          [
           0
          ],
          [
           0
          ],
          [
           0
          ],
          [
           0
          ],
          [
           0
          ],
          [
           0
          ],
          [
           0
          ],
          [
           0
          ],
          [
           0
          ],
          [
           0
          ],
          [
           1
          ],
          [
           0
          ],
          [
           0
          ],
          [
           0
          ],
          [
           0
          ],
          [
           0
          ],
          [
           0
          ],
          [
           0
          ],
          [
           0
          ],
          [
           0
          ],
          [
           0
          ],
          [
           0
          ],
          [
           0
          ],
          [
           0
          ],
          [
           1
          ],
          [
           0
          ],
          [
           0
          ],
          [
           0
          ],
          [
           1
          ],
          [
           0
          ],
          [
           0
          ],
          [
           0
          ],
          [
           0
          ],
          [
           0
          ],
          [
           0
          ],
          [
           0
          ],
          [
           0
          ],
          [
           0
          ],
          [
           0
          ],
          [
           0
          ],
          [
           0
          ],
          [
           0
          ],
          [
           0
          ],
          [
           0
          ],
          [
           0
          ],
          [
           0
          ],
          [
           0
          ],
          [
           0
          ],
          [
           0
          ],
          [
           0
          ],
          [
           0
          ],
          [
           0
          ],
          [
           0
          ],
          [
           0
          ],
          [
           0
          ],
          [
           0
          ],
          [
           0
          ],
          [
           0
          ],
          [
           0
          ],
          [
           0
          ],
          [
           0
          ],
          [
           0
          ],
          [
           0
          ],
          [
           0
          ],
          [
           0
          ],
          [
           0
          ],
          [
           0
          ],
          [
           0
          ],
          [
           1
          ],
          [
           1
          ],
          [
           0
          ],
          [
           0
          ],
          [
           0
          ],
          [
           0
          ],
          [
           0
          ],
          [
           0
          ],
          [
           0
          ],
          [
           0
          ],
          [
           0
          ],
          [
           0
          ],
          [
           0
          ],
          [
           0
          ],
          [
           0
          ],
          [
           0
          ],
          [
           0
          ],
          [
           0
          ],
          [
           0
          ],
          [
           0
          ],
          [
           0
          ],
          [
           1
          ],
          [
           0
          ],
          [
           0
          ],
          [
           0
          ],
          [
           0
          ],
          [
           0
          ],
          [
           0
          ],
          [
           0
          ],
          [
           0
          ],
          [
           0
          ],
          [
           0
          ],
          [
           0
          ],
          [
           0
          ],
          [
           0
          ],
          [
           0
          ],
          [
           0
          ],
          [
           0
          ],
          [
           1
          ],
          [
           1
          ],
          [
           0
          ],
          [
           0
          ],
          [
           0
          ],
          [
           0
          ],
          [
           1
          ],
          [
           0
          ],
          [
           0
          ],
          [
           0
          ],
          [
           0
          ],
          [
           0
          ],
          [
           0
          ],
          [
           0
          ],
          [
           0
          ],
          [
           0
          ],
          [
           0
          ],
          [
           0
          ],
          [
           0
          ],
          [
           0
          ],
          [
           1
          ],
          [
           0
          ],
          [
           0
          ],
          [
           0
          ],
          [
           0
          ],
          [
           0
          ],
          [
           0
          ],
          [
           1
          ],
          [
           1
          ],
          [
           0
          ],
          [
           0
          ],
          [
           0
          ],
          [
           0
          ],
          [
           0
          ],
          [
           0
          ],
          [
           0
          ],
          [
           0
          ],
          [
           0
          ],
          [
           0
          ],
          [
           0
          ],
          [
           0
          ],
          [
           1
          ],
          [
           0
          ],
          [
           0
          ],
          [
           0
          ],
          [
           0
          ],
          [
           0
          ],
          [
           0
          ],
          [
           0
          ],
          [
           1
          ],
          [
           0
          ],
          [
           1
          ],
          [
           0
          ],
          [
           0
          ],
          [
           1
          ],
          [
           0
          ],
          [
           0
          ],
          [
           0
          ],
          [
           0
          ],
          [
           0
          ],
          [
           0
          ],
          [
           0
          ],
          [
           0
          ],
          [
           0
          ],
          [
           0
          ],
          [
           0
          ],
          [
           0
          ],
          [
           0
          ],
          [
           0
          ],
          [
           0
          ],
          [
           0
          ],
          [
           0
          ],
          [
           0
          ],
          [
           1
          ],
          [
           0
          ],
          [
           0
          ],
          [
           0
          ],
          [
           0
          ],
          [
           0
          ],
          [
           0
          ],
          [
           0
          ],
          [
           0
          ],
          [
           0
          ],
          [
           1
          ],
          [
           0
          ],
          [
           0
          ],
          [
           0
          ],
          [
           1
          ],
          [
           1
          ],
          [
           0
          ],
          [
           0
          ],
          [
           0
          ],
          [
           0
          ],
          [
           0
          ],
          [
           0
          ],
          [
           0
          ],
          [
           0
          ],
          [
           0
          ],
          [
           1
          ],
          [
           0
          ],
          [
           0
          ],
          [
           0
          ],
          [
           1
          ],
          [
           0
          ],
          [
           0
          ],
          [
           0
          ],
          [
           0
          ],
          [
           0
          ],
          [
           0
          ],
          [
           0
          ],
          [
           0
          ],
          [
           0
          ],
          [
           0
          ],
          [
           0
          ],
          [
           0
          ],
          [
           0
          ],
          [
           0
          ],
          [
           0
          ],
          [
           0
          ],
          [
           0
          ],
          [
           0
          ],
          [
           0
          ],
          [
           0
          ],
          [
           0
          ],
          [
           0
          ],
          [
           0
          ],
          [
           0
          ],
          [
           0
          ],
          [
           0
          ],
          [
           0
          ],
          [
           0
          ],
          [
           0
          ],
          [
           0
          ],
          [
           0
          ],
          [
           0
          ],
          [
           0
          ],
          [
           0
          ],
          [
           1
          ],
          [
           0
          ],
          [
           0
          ],
          [
           0
          ],
          [
           0
          ],
          [
           0
          ],
          [
           0
          ],
          [
           1
          ],
          [
           0
          ],
          [
           0
          ],
          [
           1
          ],
          [
           1
          ],
          [
           0
          ],
          [
           1
          ],
          [
           0
          ],
          [
           0
          ],
          [
           0
          ],
          [
           0
          ],
          [
           0
          ],
          [
           0
          ],
          [
           0
          ],
          [
           1
          ],
          [
           0
          ],
          [
           0
          ],
          [
           0
          ],
          [
           1
          ],
          [
           0
          ],
          [
           0
          ],
          [
           0
          ],
          [
           0
          ],
          [
           0
          ],
          [
           0
          ],
          [
           0
          ],
          [
           0
          ],
          [
           1
          ],
          [
           0
          ],
          [
           0
          ],
          [
           0
          ],
          [
           0
          ],
          [
           1
          ],
          [
           1
          ],
          [
           1
          ],
          [
           0
          ],
          [
           0
          ],
          [
           1
          ],
          [
           0
          ],
          [
           0
          ],
          [
           0
          ],
          [
           0
          ],
          [
           0
          ],
          [
           0
          ],
          [
           0
          ],
          [
           0
          ],
          [
           0
          ],
          [
           0
          ],
          [
           0
          ],
          [
           0
          ],
          [
           0
          ],
          [
           0
          ],
          [
           1
          ],
          [
           0
          ],
          [
           0
          ],
          [
           0
          ],
          [
           0
          ],
          [
           0
          ],
          [
           0
          ],
          [
           0
          ],
          [
           0
          ],
          [
           0
          ],
          [
           0
          ],
          [
           0
          ],
          [
           0
          ],
          [
           0
          ],
          [
           0
          ],
          [
           0
          ],
          [
           0
          ],
          [
           0
          ],
          [
           0
          ],
          [
           0
          ],
          [
           0
          ],
          [
           0
          ],
          [
           0
          ],
          [
           0
          ],
          [
           0
          ],
          [
           0
          ],
          [
           0
          ],
          [
           0
          ],
          [
           0
          ],
          [
           1
          ],
          [
           0
          ],
          [
           0
          ],
          [
           0
          ],
          [
           1
          ],
          [
           0
          ],
          [
           0
          ],
          [
           0
          ],
          [
           0
          ],
          [
           0
          ],
          [
           0
          ],
          [
           0
          ],
          [
           0
          ],
          [
           0
          ],
          [
           0
          ],
          [
           0
          ],
          [
           0
          ],
          [
           0
          ],
          [
           0
          ],
          [
           0
          ],
          [
           0
          ],
          [
           0
          ],
          [
           0
          ],
          [
           0
          ],
          [
           0
          ],
          [
           0
          ],
          [
           0
          ],
          [
           0
          ],
          [
           0
          ],
          [
           0
          ],
          [
           0
          ],
          [
           0
          ],
          [
           0
          ],
          [
           0
          ],
          [
           0
          ],
          [
           0
          ],
          [
           0
          ],
          [
           1
          ],
          [
           0
          ],
          [
           0
          ],
          [
           0
          ],
          [
           0
          ],
          [
           0
          ],
          [
           0
          ],
          [
           0
          ],
          [
           0
          ],
          [
           0
          ],
          [
           0
          ],
          [
           0
          ],
          [
           0
          ],
          [
           0
          ],
          [
           0
          ],
          [
           0
          ],
          [
           0
          ],
          [
           0
          ],
          [
           0
          ],
          [
           0
          ],
          [
           0
          ],
          [
           0
          ],
          [
           0
          ]
         ],
         "hovertemplate": "Goals_Conceded=%{x}<br>Points=%{y}<br>Clean_Sheet=%{customdata[0]}<extra></extra>",
         "legendgroup": "",
         "marker": {
          "color": "#636efa",
          "size": 5
         },
         "name": "",
         "offsetgroup": "",
         "orientation": "v",
         "scalegroup": "True",
         "showlegend": false,
         "type": "violin",
         "x": [
          1,
          4,
          1,
          2,
          1,
          1,
          2,
          0,
          2,
          0,
          1,
          2,
          3,
          0,
          0,
          0,
          0,
          2,
          3,
          3,
          0,
          0,
          2,
          2,
          1,
          1,
          3,
          2,
          2,
          1,
          0,
          6,
          0,
          0,
          0,
          1,
          0,
          2,
          0,
          0,
          0,
          0,
          0,
          2,
          0,
          0,
          2,
          0,
          1,
          1,
          0,
          1,
          3,
          1,
          0,
          1,
          2,
          2,
          0,
          1,
          1,
          0,
          0,
          1,
          0,
          0,
          0,
          0,
          0,
          2,
          0,
          0,
          2,
          0,
          0,
          1,
          1,
          1,
          1,
          0,
          1,
          1,
          2,
          2,
          0,
          0,
          1,
          0,
          1,
          0,
          0,
          1,
          0,
          1,
          0,
          2,
          0,
          1,
          3,
          0,
          0,
          0,
          0,
          0,
          0,
          0,
          0,
          1,
          1,
          2,
          2,
          2,
          3,
          0,
          1,
          1,
          1,
          1,
          3,
          3,
          0,
          2,
          4,
          1,
          3,
          2,
          1,
          1,
          0,
          0,
          0,
          0,
          0,
          0,
          1,
          1,
          1,
          6,
          2,
          2,
          1,
          2,
          1,
          1,
          0,
          0,
          0,
          0,
          2,
          5,
          1,
          3,
          0,
          2,
          2,
          3,
          3,
          0,
          1,
          1,
          1,
          3,
          0,
          0,
          0,
          1,
          1,
          3,
          0,
          2,
          2,
          2,
          2,
          3,
          0,
          1,
          1,
          2,
          3,
          0,
          1,
          4,
          2,
          2,
          2,
          1,
          4,
          1,
          2,
          0,
          0,
          0,
          3,
          1,
          0,
          1,
          0,
          2,
          0,
          0,
          1,
          0,
          2,
          0,
          0,
          1,
          2,
          1,
          0,
          0,
          0,
          0,
          1,
          0,
          0,
          1,
          0,
          0,
          2,
          0,
          3,
          1,
          0,
          3,
          0,
          1,
          2,
          0,
          0,
          3,
          2,
          5,
          0,
          0,
          2,
          1,
          2,
          1,
          1,
          3,
          2,
          4,
          0,
          0,
          3,
          2,
          3,
          1,
          1,
          0,
          2,
          1,
          2,
          1,
          0,
          2,
          0,
          3,
          3,
          1,
          0,
          3,
          1,
          0,
          4,
          2,
          0,
          0,
          0,
          0,
          0,
          0,
          0,
          0,
          0,
          0,
          0,
          0,
          0,
          0,
          0,
          0,
          2,
          1,
          2,
          1,
          5,
          2,
          4,
          3,
          0,
          0,
          0,
          0,
          1,
          1,
          4,
          0,
          2,
          0,
          1,
          0,
          1,
          0,
          0,
          0,
          1,
          1,
          1,
          0,
          2,
          1,
          0,
          0,
          1,
          4,
          1,
          3,
          1,
          1,
          2,
          1,
          0,
          0,
          1,
          1,
          0,
          1,
          0,
          0,
          1,
          1,
          0,
          0,
          0,
          1,
          0,
          0,
          1,
          0,
          0,
          0,
          5,
          0,
          0,
          3,
          1,
          0,
          1,
          1,
          1,
          1,
          2,
          1,
          1,
          2,
          0,
          0,
          1,
          1,
          3,
          2,
          0,
          3,
          0,
          2,
          1,
          2,
          2,
          4,
          1,
          0,
          0,
          3,
          0,
          1,
          0,
          0,
          3,
          0,
          2,
          0,
          0,
          2,
          1,
          2,
          1,
          0,
          0,
          1,
          4,
          2,
          2,
          3,
          2,
          1,
          0,
          1,
          4,
          1,
          2,
          2,
          2,
          1,
          2,
          1,
          0,
          3,
          1,
          1,
          1,
          4,
          3,
          2,
          4,
          1,
          2,
          0,
          3,
          3,
          5,
          1,
          1,
          2,
          1,
          4,
          3,
          2,
          2,
          3,
          2,
          0,
          1,
          1,
          2,
          0,
          2,
          3,
          1,
          3,
          2,
          3,
          5,
          3,
          2,
          2,
          0,
          0,
          0,
          0,
          0,
          0,
          0,
          0,
          0,
          0,
          1,
          1,
          0,
          0,
          1,
          0,
          6,
          0,
          2,
          1,
          0,
          1,
          0,
          3,
          1,
          0,
          0,
          0,
          2,
          0,
          0,
          4,
          0,
          2,
          0,
          0,
          3,
          0,
          0,
          0,
          0,
          0,
          4,
          0,
          0,
          0,
          0,
          2,
          1,
          4,
          0,
          3,
          3,
          1,
          1,
          1,
          1,
          2,
          2,
          1,
          3,
          2,
          0,
          1,
          0,
          1,
          1,
          0,
          0,
          4,
          2,
          2,
          1,
          0,
          2,
          1,
          2,
          1,
          2,
          2,
          2,
          1,
          1,
          5,
          0,
          2,
          2,
          0,
          1,
          2,
          1,
          3,
          1,
          0,
          0,
          0,
          2,
          3,
          1,
          1,
          2,
          1,
          2,
          4,
          3,
          2,
          3,
          3,
          0,
          4,
          1,
          4,
          2,
          2,
          2,
          1,
          0,
          3,
          0,
          1,
          1,
          0,
          1,
          4,
          0,
          0,
          0,
          0,
          0,
          0,
          0,
          0,
          0,
          0,
          0,
          0,
          0,
          0,
          3,
          4,
          0,
          1,
          3,
          4,
          3,
          1,
          4,
          2,
          2,
          0,
          0,
          3,
          3,
          1,
          0,
          0,
          2,
          1,
          1,
          1,
          3,
          0,
          2,
          1,
          3,
          0,
          1,
          2,
          1,
          0,
          2,
          3,
          0,
          0,
          0,
          0,
          0,
          1,
          2,
          3,
          1,
          1,
          3,
          2,
          0,
          0,
          0,
          0,
          0,
          0,
          0,
          0,
          0,
          0,
          0,
          0,
          0,
          0,
          0,
          0,
          1,
          3,
          2,
          2,
          0,
          3,
          4,
          3,
          2,
          0,
          0,
          0,
          1,
          2,
          0,
          0,
          2,
          0,
          3,
          4,
          1,
          1,
          3,
          2,
          1,
          0,
          2,
          3,
          1,
          0,
          2,
          2,
          3,
          0,
          0,
          0,
          0,
          2,
          0,
          1,
          1,
          2,
          3,
          0,
          0,
          0,
          4,
          2,
          0,
          3,
          2,
          1,
          2,
          1,
          0,
          0,
          0,
          0,
          0,
          0,
          0,
          0,
          1,
          0,
          3,
          1,
          0,
          0,
          0,
          0,
          0,
          0,
          0,
          0,
          0,
          0,
          4,
          3,
          2,
          1,
          1,
          1,
          2,
          1,
          2,
          3,
          1,
          1,
          1,
          3,
          4,
          2,
          0,
          2,
          3,
          1,
          0,
          4,
          3,
          2,
          4,
          3,
          1,
          4,
          1,
          2,
          2,
          1,
          5,
          5,
          2,
          1,
          3,
          4,
          1,
          2,
          2,
          2,
          2,
          8,
          2,
          3,
          2,
          5,
          1,
          1,
          3,
          5,
          2,
          0,
          2,
          1,
          3,
          2,
          2,
          1,
          5,
          1,
          5,
          0,
          0,
          0,
          0,
          0,
          0,
          0,
          0,
          4,
          5,
          3,
          1,
          3
         ],
         "x0": " ",
         "xaxis": "x",
         "y": [
          2,
          0,
          2,
          1,
          3,
          2,
          1,
          9,
          2,
          5,
          2,
          2,
          1,
          7,
          7,
          10,
          6,
          2,
          2,
          2,
          9,
          10,
          2,
          1,
          3,
          4,
          0,
          3,
          2,
          3,
          8,
          0,
          8,
          10,
          10,
          3,
          8,
          1,
          0,
          0,
          0,
          0,
          8,
          2,
          6,
          6,
          2,
          6,
          2,
          3,
          0,
          2,
          1,
          2,
          6,
          2,
          6,
          1,
          8,
          2,
          2,
          6,
          6,
          2,
          6,
          0,
          5,
          6,
          6,
          1,
          10,
          6,
          1,
          6,
          5,
          2,
          3,
          2,
          5,
          8,
          2,
          3,
          4,
          1,
          8,
          7,
          6,
          7,
          3,
          0,
          0,
          3,
          6,
          2,
          6,
          1,
          6,
          2,
          2,
          0,
          0,
          0,
          0,
          0,
          0,
          0,
          0,
          3,
          3,
          2,
          3,
          2,
          1,
          6,
          3,
          10,
          5,
          2,
          4,
          2,
          6,
          1,
          1,
          3,
          1,
          2,
          3,
          2,
          0,
          0,
          0,
          8,
          10,
          11,
          3,
          3,
          1,
          0,
          3,
          2,
          13,
          2,
          3,
          2,
          0,
          0,
          0,
          0,
          1,
          3,
          2,
          4,
          9,
          2,
          0,
          0,
          2,
          7,
          2,
          2,
          3,
          2,
          6,
          8,
          9,
          3,
          2,
          1,
          10,
          2,
          1,
          1,
          2,
          1,
          8,
          4,
          3,
          2,
          2,
          11,
          3,
          2,
          2,
          2,
          1,
          4,
          2,
          3,
          2,
          7,
          0,
          0,
          2,
          2,
          0,
          2,
          0,
          1,
          0,
          0,
          5,
          0,
          1,
          0,
          0,
          2,
          3,
          2,
          0,
          0,
          0,
          0,
          3,
          0,
          5,
          2,
          0,
          10,
          4,
          6,
          2,
          2,
          0,
          2,
          6,
          5,
          1,
          0,
          12,
          2,
          5,
          0,
          6,
          10,
          1,
          2,
          2,
          3,
          3,
          2,
          2,
          1,
          6,
          9,
          3,
          1,
          0,
          1,
          2,
          8,
          1,
          3,
          1,
          3,
          8,
          1,
          7,
          1,
          1,
          3,
          9,
          2,
          3,
          6,
          1,
          2,
          0,
          0,
          0,
          0,
          0,
          0,
          0,
          0,
          0,
          0,
          0,
          0,
          0,
          0,
          0,
          0,
          3,
          2,
          1,
          3,
          -2,
          2,
          0,
          1,
          0,
          0,
          0,
          0,
          3,
          3,
          1,
          9,
          -1,
          6,
          2,
          6,
          3,
          6,
          6,
          6,
          2,
          3,
          2,
          6,
          1,
          1,
          0,
          7,
          2,
          1,
          2,
          1,
          4,
          2,
          0,
          2,
          6,
          1,
          1,
          2,
          7,
          5,
          6,
          9,
          2,
          0,
          0,
          0,
          0,
          2,
          7,
          1,
          2,
          6,
          7,
          0,
          1,
          8,
          0,
          1,
          2,
          6,
          2,
          3,
          3,
          0,
          1,
          3,
          4,
          2,
          9,
          10,
          1,
          2,
          2,
          1,
          9,
          2,
          7,
          2,
          3,
          1,
          1,
          0,
          5,
          10,
          0,
          1,
          9,
          3,
          1,
          0,
          0,
          0,
          1,
          11,
          7,
          2,
          3,
          2,
          3,
          7,
          6,
          3,
          1,
          1,
          2,
          1,
          2,
          2,
          6,
          6,
          1,
          3,
          1,
          2,
          1,
          2,
          3,
          2,
          6,
          2,
          2,
          3,
          4,
          0,
          1,
          1,
          2,
          2,
          2,
          6,
          2,
          2,
          1,
          2,
          3,
          3,
          2,
          0,
          3,
          2,
          1,
          2,
          1,
          7,
          3,
          7,
          2,
          9,
          3,
          2,
          2,
          1,
          2,
          4,
          0,
          2,
          1,
          1,
          0,
          0,
          0,
          0,
          0,
          0,
          0,
          0,
          0,
          0,
          2,
          3,
          0,
          0,
          3,
          0,
          0,
          0,
          2,
          3,
          0,
          2,
          0,
          1,
          2,
          0,
          0,
          0,
          1,
          8,
          10,
          1,
          0,
          2,
          0,
          0,
          1,
          0,
          0,
          0,
          0,
          0,
          0,
          0,
          0,
          0,
          0,
          1,
          2,
          1,
          11,
          3,
          2,
          3,
          4,
          3,
          3,
          1,
          1,
          2,
          2,
          0,
          0,
          2,
          0,
          3,
          3,
          6,
          8,
          1,
          1,
          2,
          3,
          7,
          0,
          3,
          2,
          4,
          1,
          8,
          3,
          3,
          3,
          2,
          0,
          4,
          2,
          6,
          4,
          2,
          1,
          2,
          2,
          0,
          6,
          6,
          0,
          3,
          3,
          2,
          2,
          3,
          2,
          0,
          2,
          1,
          1,
          10,
          7,
          1,
          5,
          0,
          2,
          2,
          2,
          3,
          11,
          1,
          7,
          2,
          2,
          10,
          3,
          1,
          0,
          0,
          0,
          0,
          0,
          0,
          0,
          0,
          0,
          0,
          0,
          0,
          0,
          1,
          2,
          2,
          7,
          3,
          2,
          8,
          3,
          3,
          1,
          1,
          2,
          0,
          7,
          2,
          1,
          2,
          9,
          6,
          2,
          3,
          3,
          3,
          2,
          0,
          2,
          2,
          3,
          5,
          2,
          1,
          3,
          6,
          1,
          2,
          0,
          0,
          0,
          0,
          0,
          3,
          2,
          2,
          3,
          3,
          1,
          1,
          0,
          0,
          0,
          0,
          0,
          0,
          0,
          0,
          -1,
          0,
          0,
          0,
          0,
          0,
          0,
          0,
          2,
          10,
          2,
          1,
          10,
          1,
          1,
          1,
          2,
          0,
          0,
          9,
          2,
          1,
          8,
          7,
          1,
          9,
          2,
          1,
          2,
          3,
          2,
          2,
          3,
          8,
          3,
          1,
          2,
          7,
          4,
          0,
          1,
          0,
          0,
          0,
          0,
          2,
          6,
          2,
          2,
          1,
          1,
          8,
          9,
          9,
          1,
          1,
          9,
          1,
          1,
          2,
          1,
          2,
          0,
          0,
          0,
          0,
          0,
          0,
          0,
          0,
          3,
          6,
          1,
          2,
          0,
          0,
          0,
          0,
          0,
          0,
          0,
          0,
          0,
          0,
          3,
          2,
          1,
          1,
          2,
          3,
          1,
          3,
          3,
          2,
          3,
          3,
          3,
          1,
          1,
          2,
          6,
          1,
          2,
          5,
          6,
          0,
          1,
          4,
          3,
          2,
          3,
          1,
          2,
          1,
          2,
          2,
          3,
          1,
          2,
          3,
          2,
          0,
          4,
          1,
          4,
          2,
          3,
          0,
          3,
          0,
          2,
          0,
          2,
          5,
          3,
          0,
          3,
          9,
          2,
          3,
          2,
          1,
          2,
          1,
          1,
          3,
          2,
          0,
          0,
          0,
          0,
          0,
          0,
          0,
          0,
          3,
          1,
          1,
          4,
          3
         ],
         "y0": " ",
         "yaxis": "y"
        }
       ],
       "layout": {
        "legend": {
         "tracegroupgap": 0
        },
        "template": {
         "data": {
          "bar": [
           {
            "error_x": {
             "color": "#2a3f5f"
            },
            "error_y": {
             "color": "#2a3f5f"
            },
            "marker": {
             "line": {
              "color": "#E5ECF6",
              "width": 0.5
             },
             "pattern": {
              "fillmode": "overlay",
              "size": 10,
              "solidity": 0.2
             }
            },
            "type": "bar"
           }
          ],
          "barpolar": [
           {
            "marker": {
             "line": {
              "color": "#E5ECF6",
              "width": 0.5
             },
             "pattern": {
              "fillmode": "overlay",
              "size": 10,
              "solidity": 0.2
             }
            },
            "type": "barpolar"
           }
          ],
          "carpet": [
           {
            "aaxis": {
             "endlinecolor": "#2a3f5f",
             "gridcolor": "white",
             "linecolor": "white",
             "minorgridcolor": "white",
             "startlinecolor": "#2a3f5f"
            },
            "baxis": {
             "endlinecolor": "#2a3f5f",
             "gridcolor": "white",
             "linecolor": "white",
             "minorgridcolor": "white",
             "startlinecolor": "#2a3f5f"
            },
            "type": "carpet"
           }
          ],
          "choropleth": [
           {
            "colorbar": {
             "outlinewidth": 0,
             "ticks": ""
            },
            "type": "choropleth"
           }
          ],
          "contour": [
           {
            "colorbar": {
             "outlinewidth": 0,
             "ticks": ""
            },
            "colorscale": [
             [
              0,
              "#0d0887"
             ],
             [
              0.1111111111111111,
              "#46039f"
             ],
             [
              0.2222222222222222,
              "#7201a8"
             ],
             [
              0.3333333333333333,
              "#9c179e"
             ],
             [
              0.4444444444444444,
              "#bd3786"
             ],
             [
              0.5555555555555556,
              "#d8576b"
             ],
             [
              0.6666666666666666,
              "#ed7953"
             ],
             [
              0.7777777777777778,
              "#fb9f3a"
             ],
             [
              0.8888888888888888,
              "#fdca26"
             ],
             [
              1,
              "#f0f921"
             ]
            ],
            "type": "contour"
           }
          ],
          "contourcarpet": [
           {
            "colorbar": {
             "outlinewidth": 0,
             "ticks": ""
            },
            "type": "contourcarpet"
           }
          ],
          "heatmap": [
           {
            "colorbar": {
             "outlinewidth": 0,
             "ticks": ""
            },
            "colorscale": [
             [
              0,
              "#0d0887"
             ],
             [
              0.1111111111111111,
              "#46039f"
             ],
             [
              0.2222222222222222,
              "#7201a8"
             ],
             [
              0.3333333333333333,
              "#9c179e"
             ],
             [
              0.4444444444444444,
              "#bd3786"
             ],
             [
              0.5555555555555556,
              "#d8576b"
             ],
             [
              0.6666666666666666,
              "#ed7953"
             ],
             [
              0.7777777777777778,
              "#fb9f3a"
             ],
             [
              0.8888888888888888,
              "#fdca26"
             ],
             [
              1,
              "#f0f921"
             ]
            ],
            "type": "heatmap"
           }
          ],
          "heatmapgl": [
           {
            "colorbar": {
             "outlinewidth": 0,
             "ticks": ""
            },
            "colorscale": [
             [
              0,
              "#0d0887"
             ],
             [
              0.1111111111111111,
              "#46039f"
             ],
             [
              0.2222222222222222,
              "#7201a8"
             ],
             [
              0.3333333333333333,
              "#9c179e"
             ],
             [
              0.4444444444444444,
              "#bd3786"
             ],
             [
              0.5555555555555556,
              "#d8576b"
             ],
             [
              0.6666666666666666,
              "#ed7953"
             ],
             [
              0.7777777777777778,
              "#fb9f3a"
             ],
             [
              0.8888888888888888,
              "#fdca26"
             ],
             [
              1,
              "#f0f921"
             ]
            ],
            "type": "heatmapgl"
           }
          ],
          "histogram": [
           {
            "marker": {
             "pattern": {
              "fillmode": "overlay",
              "size": 10,
              "solidity": 0.2
             }
            },
            "type": "histogram"
           }
          ],
          "histogram2d": [
           {
            "colorbar": {
             "outlinewidth": 0,
             "ticks": ""
            },
            "colorscale": [
             [
              0,
              "#0d0887"
             ],
             [
              0.1111111111111111,
              "#46039f"
             ],
             [
              0.2222222222222222,
              "#7201a8"
             ],
             [
              0.3333333333333333,
              "#9c179e"
             ],
             [
              0.4444444444444444,
              "#bd3786"
             ],
             [
              0.5555555555555556,
              "#d8576b"
             ],
             [
              0.6666666666666666,
              "#ed7953"
             ],
             [
              0.7777777777777778,
              "#fb9f3a"
             ],
             [
              0.8888888888888888,
              "#fdca26"
             ],
             [
              1,
              "#f0f921"
             ]
            ],
            "type": "histogram2d"
           }
          ],
          "histogram2dcontour": [
           {
            "colorbar": {
             "outlinewidth": 0,
             "ticks": ""
            },
            "colorscale": [
             [
              0,
              "#0d0887"
             ],
             [
              0.1111111111111111,
              "#46039f"
             ],
             [
              0.2222222222222222,
              "#7201a8"
             ],
             [
              0.3333333333333333,
              "#9c179e"
             ],
             [
              0.4444444444444444,
              "#bd3786"
             ],
             [
              0.5555555555555556,
              "#d8576b"
             ],
             [
              0.6666666666666666,
              "#ed7953"
             ],
             [
              0.7777777777777778,
              "#fb9f3a"
             ],
             [
              0.8888888888888888,
              "#fdca26"
             ],
             [
              1,
              "#f0f921"
             ]
            ],
            "type": "histogram2dcontour"
           }
          ],
          "mesh3d": [
           {
            "colorbar": {
             "outlinewidth": 0,
             "ticks": ""
            },
            "type": "mesh3d"
           }
          ],
          "parcoords": [
           {
            "line": {
             "colorbar": {
              "outlinewidth": 0,
              "ticks": ""
             }
            },
            "type": "parcoords"
           }
          ],
          "pie": [
           {
            "automargin": true,
            "type": "pie"
           }
          ],
          "scatter": [
           {
            "fillpattern": {
             "fillmode": "overlay",
             "size": 10,
             "solidity": 0.2
            },
            "type": "scatter"
           }
          ],
          "scatter3d": [
           {
            "line": {
             "colorbar": {
              "outlinewidth": 0,
              "ticks": ""
             }
            },
            "marker": {
             "colorbar": {
              "outlinewidth": 0,
              "ticks": ""
             }
            },
            "type": "scatter3d"
           }
          ],
          "scattercarpet": [
           {
            "marker": {
             "colorbar": {
              "outlinewidth": 0,
              "ticks": ""
             }
            },
            "type": "scattercarpet"
           }
          ],
          "scattergeo": [
           {
            "marker": {
             "colorbar": {
              "outlinewidth": 0,
              "ticks": ""
             }
            },
            "type": "scattergeo"
           }
          ],
          "scattergl": [
           {
            "marker": {
             "colorbar": {
              "outlinewidth": 0,
              "ticks": ""
             }
            },
            "type": "scattergl"
           }
          ],
          "scattermapbox": [
           {
            "marker": {
             "colorbar": {
              "outlinewidth": 0,
              "ticks": ""
             }
            },
            "type": "scattermapbox"
           }
          ],
          "scatterpolar": [
           {
            "marker": {
             "colorbar": {
              "outlinewidth": 0,
              "ticks": ""
             }
            },
            "type": "scatterpolar"
           }
          ],
          "scatterpolargl": [
           {
            "marker": {
             "colorbar": {
              "outlinewidth": 0,
              "ticks": ""
             }
            },
            "type": "scatterpolargl"
           }
          ],
          "scatterternary": [
           {
            "marker": {
             "colorbar": {
              "outlinewidth": 0,
              "ticks": ""
             }
            },
            "type": "scatterternary"
           }
          ],
          "surface": [
           {
            "colorbar": {
             "outlinewidth": 0,
             "ticks": ""
            },
            "colorscale": [
             [
              0,
              "#0d0887"
             ],
             [
              0.1111111111111111,
              "#46039f"
             ],
             [
              0.2222222222222222,
              "#7201a8"
             ],
             [
              0.3333333333333333,
              "#9c179e"
             ],
             [
              0.4444444444444444,
              "#bd3786"
             ],
             [
              0.5555555555555556,
              "#d8576b"
             ],
             [
              0.6666666666666666,
              "#ed7953"
             ],
             [
              0.7777777777777778,
              "#fb9f3a"
             ],
             [
              0.8888888888888888,
              "#fdca26"
             ],
             [
              1,
              "#f0f921"
             ]
            ],
            "type": "surface"
           }
          ],
          "table": [
           {
            "cells": {
             "fill": {
              "color": "#EBF0F8"
             },
             "line": {
              "color": "white"
             }
            },
            "header": {
             "fill": {
              "color": "#C8D4E3"
             },
             "line": {
              "color": "white"
             }
            },
            "type": "table"
           }
          ]
         },
         "layout": {
          "annotationdefaults": {
           "arrowcolor": "#2a3f5f",
           "arrowhead": 0,
           "arrowwidth": 1
          },
          "autotypenumbers": "strict",
          "coloraxis": {
           "colorbar": {
            "outlinewidth": 0,
            "ticks": ""
           }
          },
          "colorscale": {
           "diverging": [
            [
             0,
             "#8e0152"
            ],
            [
             0.1,
             "#c51b7d"
            ],
            [
             0.2,
             "#de77ae"
            ],
            [
             0.3,
             "#f1b6da"
            ],
            [
             0.4,
             "#fde0ef"
            ],
            [
             0.5,
             "#f7f7f7"
            ],
            [
             0.6,
             "#e6f5d0"
            ],
            [
             0.7,
             "#b8e186"
            ],
            [
             0.8,
             "#7fbc41"
            ],
            [
             0.9,
             "#4d9221"
            ],
            [
             1,
             "#276419"
            ]
           ],
           "sequential": [
            [
             0,
             "#0d0887"
            ],
            [
             0.1111111111111111,
             "#46039f"
            ],
            [
             0.2222222222222222,
             "#7201a8"
            ],
            [
             0.3333333333333333,
             "#9c179e"
            ],
            [
             0.4444444444444444,
             "#bd3786"
            ],
            [
             0.5555555555555556,
             "#d8576b"
            ],
            [
             0.6666666666666666,
             "#ed7953"
            ],
            [
             0.7777777777777778,
             "#fb9f3a"
            ],
            [
             0.8888888888888888,
             "#fdca26"
            ],
            [
             1,
             "#f0f921"
            ]
           ],
           "sequentialminus": [
            [
             0,
             "#0d0887"
            ],
            [
             0.1111111111111111,
             "#46039f"
            ],
            [
             0.2222222222222222,
             "#7201a8"
            ],
            [
             0.3333333333333333,
             "#9c179e"
            ],
            [
             0.4444444444444444,
             "#bd3786"
            ],
            [
             0.5555555555555556,
             "#d8576b"
            ],
            [
             0.6666666666666666,
             "#ed7953"
            ],
            [
             0.7777777777777778,
             "#fb9f3a"
            ],
            [
             0.8888888888888888,
             "#fdca26"
            ],
            [
             1,
             "#f0f921"
            ]
           ]
          },
          "colorway": [
           "#636efa",
           "#EF553B",
           "#00cc96",
           "#ab63fa",
           "#FFA15A",
           "#19d3f3",
           "#FF6692",
           "#B6E880",
           "#FF97FF",
           "#FECB52"
          ],
          "font": {
           "color": "#2a3f5f"
          },
          "geo": {
           "bgcolor": "white",
           "lakecolor": "white",
           "landcolor": "#E5ECF6",
           "showlakes": true,
           "showland": true,
           "subunitcolor": "white"
          },
          "hoverlabel": {
           "align": "left"
          },
          "hovermode": "closest",
          "mapbox": {
           "style": "light"
          },
          "paper_bgcolor": "white",
          "plot_bgcolor": "#E5ECF6",
          "polar": {
           "angularaxis": {
            "gridcolor": "white",
            "linecolor": "white",
            "ticks": ""
           },
           "bgcolor": "#E5ECF6",
           "radialaxis": {
            "gridcolor": "white",
            "linecolor": "white",
            "ticks": ""
           }
          },
          "scene": {
           "xaxis": {
            "backgroundcolor": "#E5ECF6",
            "gridcolor": "white",
            "gridwidth": 2,
            "linecolor": "white",
            "showbackground": true,
            "ticks": "",
            "zerolinecolor": "white"
           },
           "yaxis": {
            "backgroundcolor": "#E5ECF6",
            "gridcolor": "white",
            "gridwidth": 2,
            "linecolor": "white",
            "showbackground": true,
            "ticks": "",
            "zerolinecolor": "white"
           },
           "zaxis": {
            "backgroundcolor": "#E5ECF6",
            "gridcolor": "white",
            "gridwidth": 2,
            "linecolor": "white",
            "showbackground": true,
            "ticks": "",
            "zerolinecolor": "white"
           }
          },
          "shapedefaults": {
           "line": {
            "color": "#2a3f5f"
           }
          },
          "ternary": {
           "aaxis": {
            "gridcolor": "white",
            "linecolor": "white",
            "ticks": ""
           },
           "baxis": {
            "gridcolor": "white",
            "linecolor": "white",
            "ticks": ""
           },
           "bgcolor": "#E5ECF6",
           "caxis": {
            "gridcolor": "white",
            "linecolor": "white",
            "ticks": ""
           }
          },
          "title": {
           "x": 0.05
          },
          "xaxis": {
           "automargin": true,
           "gridcolor": "white",
           "linecolor": "white",
           "ticks": "",
           "title": {
            "standoff": 15
           },
           "zerolinecolor": "white",
           "zerolinewidth": 2
          },
          "yaxis": {
           "automargin": true,
           "gridcolor": "white",
           "linecolor": "white",
           "ticks": "",
           "title": {
            "standoff": 15
           },
           "zerolinecolor": "white",
           "zerolinewidth": 2
          }
         }
        },
        "title": {
         "text": "Poeni i Asistencije"
        },
        "violinmode": "group",
        "xaxis": {
         "anchor": "y",
         "domain": [
          0,
          1
         ],
         "title": {
          "text": "Goals_Conceded"
         }
        },
        "yaxis": {
         "anchor": "x",
         "domain": [
          0,
          1
         ],
         "title": {
          "text": "Points"
         }
        }
       }
      },
      "text/html": [
       "<div>                            <div id=\"91e015c5-8725-4e34-8bb6-90ff0cd0089b\" class=\"plotly-graph-div\" style=\"height:525px; width:100%;\"></div>            <script type=\"text/javascript\">                require([\"plotly\"], function(Plotly) {                    window.PLOTLYENV=window.PLOTLYENV || {};                                    if (document.getElementById(\"91e015c5-8725-4e34-8bb6-90ff0cd0089b\")) {                    Plotly.newPlot(                        \"91e015c5-8725-4e34-8bb6-90ff0cd0089b\",                        [{\"alignmentgroup\":\"True\",\"box\":{\"visible\":false},\"customdata\":[[0],[0],[0],[0],[0],[0],[0],[1],[0],[1],[0],[0],[0],[1],[1],[1],[1],[0],[0],[0],[1],[1],[0],[0],[0],[0],[0],[0],[0],[0],[1],[0],[1],[1],[1],[0],[1],[0],[0],[0],[0],[0],[1],[0],[1],[1],[0],[1],[0],[0],[0],[0],[0],[0],[1],[0],[0],[0],[1],[0],[0],[1],[1],[0],[1],[0],[1],[1],[1],[0],[1],[1],[0],[1],[1],[0],[0],[0],[0],[1],[0],[0],[0],[0],[1],[1],[0],[1],[0],[0],[0],[0],[1],[0],[1],[0],[1],[0],[0],[0],[0],[0],[0],[0],[0],[0],[0],[0],[0],[0],[0],[0],[0],[1],[0],[0],[0],[0],[0],[0],[1],[0],[0],[0],[0],[0],[0],[0],[0],[0],[0],[1],[1],[1],[0],[0],[0],[0],[0],[0],[0],[0],[0],[0],[0],[0],[0],[0],[0],[0],[0],[0],[1],[0],[0],[0],[0],[1],[0],[0],[0],[0],[1],[1],[1],[0],[0],[0],[1],[0],[0],[0],[0],[0],[1],[0],[0],[0],[0],[1],[0],[0],[0],[0],[0],[0],[0],[0],[0],[1],[0],[0],[0],[0],[0],[0],[0],[0],[0],[0],[0],[0],[0],[0],[0],[0],[0],[0],[0],[0],[0],[0],[0],[0],[1],[0],[0],[1],[0],[1],[0],[0],[0],[0],[1],[0],[0],[0],[1],[0],[0],[0],[1],[1],[0],[0],[0],[0],[0],[0],[0],[0],[1],[1],[0],[0],[0],[0],[0],[1],[0],[0],[0],[0],[1],[0],[1],[0],[0],[0],[1],[0],[0],[1],[0],[0],[0],[0],[0],[0],[0],[0],[0],[0],[0],[0],[0],[0],[0],[0],[0],[0],[0],[0],[0],[0],[0],[0],[0],[0],[0],[0],[0],[0],[0],[0],[0],[1],[0],[1],[0],[1],[0],[1],[1],[1],[0],[0],[0],[1],[0],[0],[0],[1],[0],[0],[0],[0],[0],[0],[0],[0],[1],[0],[0],[0],[1],[0],[1],[1],[0],[0],[0],[0],[0],[0],[1],[0],[0],[1],[1],[0],[0],[1],[0],[0],[0],[1],[0],[0],[0],[0],[0],[0],[0],[0],[1],[1],[0],[0],[0],[0],[1],[0],[1],[0],[0],[0],[0],[0],[0],[1],[0],[0],[1],[0],[0],[0],[0],[0],[0],[1],[1],[0],[0],[0],[0],[1],[1],[0],[0],[0],[0],[0],[0],[0],[1],[0],[0],[0],[0],[0],[0],[0],[0],[0],[1],[0],[0],[0],[0],[0],[0],[0],[0],[0],[0],[1],[0],[0],[0],[0],[0],[0],[0],[0],[0],[0],[0],[0],[0],[1],[0],[0],[0],[1],[0],[0],[0],[0],[0],[0],[0],[0],[0],[0],[0],[0],[0],[0],[0],[0],[0],[0],[0],[0],[0],[0],[0],[0],[0],[0],[0],[0],[0],[0],[0],[0],[0],[0],[0],[0],[0],[0],[0],[1],[1],[0],[0],[0],[0],[0],[0],[0],[0],[0],[0],[0],[0],[0],[0],[0],[0],[0],[0],[0],[1],[0],[0],[0],[0],[0],[0],[0],[0],[0],[0],[0],[0],[0],[0],[0],[0],[1],[1],[0],[0],[0],[0],[1],[0],[0],[0],[0],[0],[0],[0],[0],[0],[0],[0],[0],[0],[1],[0],[0],[0],[0],[0],[0],[1],[1],[0],[0],[0],[0],[0],[0],[0],[0],[0],[0],[0],[0],[1],[0],[0],[0],[0],[0],[0],[0],[1],[0],[1],[0],[0],[1],[0],[0],[0],[0],[0],[0],[0],[0],[0],[0],[0],[0],[0],[0],[0],[0],[0],[0],[1],[0],[0],[0],[0],[0],[0],[0],[0],[0],[1],[0],[0],[0],[1],[1],[0],[0],[0],[0],[0],[0],[0],[0],[0],[1],[0],[0],[0],[1],[0],[0],[0],[0],[0],[0],[0],[0],[0],[0],[0],[0],[0],[0],[0],[0],[0],[0],[0],[0],[0],[0],[0],[0],[0],[0],[0],[0],[0],[0],[0],[0],[0],[0],[1],[0],[0],[0],[0],[0],[0],[1],[0],[0],[1],[1],[0],[1],[0],[0],[0],[0],[0],[0],[0],[1],[0],[0],[0],[1],[0],[0],[0],[0],[0],[0],[0],[0],[1],[0],[0],[0],[0],[1],[1],[1],[0],[0],[1],[0],[0],[0],[0],[0],[0],[0],[0],[0],[0],[0],[0],[0],[0],[1],[0],[0],[0],[0],[0],[0],[0],[0],[0],[0],[0],[0],[0],[0],[0],[0],[0],[0],[0],[0],[0],[0],[0],[0],[0],[0],[0],[0],[1],[0],[0],[0],[1],[0],[0],[0],[0],[0],[0],[0],[0],[0],[0],[0],[0],[0],[0],[0],[0],[0],[0],[0],[0],[0],[0],[0],[0],[0],[0],[0],[0],[0],[0],[0],[0],[1],[0],[0],[0],[0],[0],[0],[0],[0],[0],[0],[0],[0],[0],[0],[0],[0],[0],[0],[0],[0],[0],[0]],\"hovertemplate\":\"Goals_Conceded=%{x}<br>Points=%{y}<br>Clean_Sheet=%{customdata[0]}<extra></extra>\",\"legendgroup\":\"\",\"marker\":{\"color\":\"#636efa\",\"size\":5},\"name\":\"\",\"offsetgroup\":\"\",\"orientation\":\"v\",\"scalegroup\":\"True\",\"showlegend\":false,\"x\":[1,4,1,2,1,1,2,0,2,0,1,2,3,0,0,0,0,2,3,3,0,0,2,2,1,1,3,2,2,1,0,6,0,0,0,1,0,2,0,0,0,0,0,2,0,0,2,0,1,1,0,1,3,1,0,1,2,2,0,1,1,0,0,1,0,0,0,0,0,2,0,0,2,0,0,1,1,1,1,0,1,1,2,2,0,0,1,0,1,0,0,1,0,1,0,2,0,1,3,0,0,0,0,0,0,0,0,1,1,2,2,2,3,0,1,1,1,1,3,3,0,2,4,1,3,2,1,1,0,0,0,0,0,0,1,1,1,6,2,2,1,2,1,1,0,0,0,0,2,5,1,3,0,2,2,3,3,0,1,1,1,3,0,0,0,1,1,3,0,2,2,2,2,3,0,1,1,2,3,0,1,4,2,2,2,1,4,1,2,0,0,0,3,1,0,1,0,2,0,0,1,0,2,0,0,1,2,1,0,0,0,0,1,0,0,1,0,0,2,0,3,1,0,3,0,1,2,0,0,3,2,5,0,0,2,1,2,1,1,3,2,4,0,0,3,2,3,1,1,0,2,1,2,1,0,2,0,3,3,1,0,3,1,0,4,2,0,0,0,0,0,0,0,0,0,0,0,0,0,0,0,0,2,1,2,1,5,2,4,3,0,0,0,0,1,1,4,0,2,0,1,0,1,0,0,0,1,1,1,0,2,1,0,0,1,4,1,3,1,1,2,1,0,0,1,1,0,1,0,0,1,1,0,0,0,1,0,0,1,0,0,0,5,0,0,3,1,0,1,1,1,1,2,1,1,2,0,0,1,1,3,2,0,3,0,2,1,2,2,4,1,0,0,3,0,1,0,0,3,0,2,0,0,2,1,2,1,0,0,1,4,2,2,3,2,1,0,1,4,1,2,2,2,1,2,1,0,3,1,1,1,4,3,2,4,1,2,0,3,3,5,1,1,2,1,4,3,2,2,3,2,0,1,1,2,0,2,3,1,3,2,3,5,3,2,2,0,0,0,0,0,0,0,0,0,0,1,1,0,0,1,0,6,0,2,1,0,1,0,3,1,0,0,0,2,0,0,4,0,2,0,0,3,0,0,0,0,0,4,0,0,0,0,2,1,4,0,3,3,1,1,1,1,2,2,1,3,2,0,1,0,1,1,0,0,4,2,2,1,0,2,1,2,1,2,2,2,1,1,5,0,2,2,0,1,2,1,3,1,0,0,0,2,3,1,1,2,1,2,4,3,2,3,3,0,4,1,4,2,2,2,1,0,3,0,1,1,0,1,4,0,0,0,0,0,0,0,0,0,0,0,0,0,0,3,4,0,1,3,4,3,1,4,2,2,0,0,3,3,1,0,0,2,1,1,1,3,0,2,1,3,0,1,2,1,0,2,3,0,0,0,0,0,1,2,3,1,1,3,2,0,0,0,0,0,0,0,0,0,0,0,0,0,0,0,0,1,3,2,2,0,3,4,3,2,0,0,0,1,2,0,0,2,0,3,4,1,1,3,2,1,0,2,3,1,0,2,2,3,0,0,0,0,2,0,1,1,2,3,0,0,0,4,2,0,3,2,1,2,1,0,0,0,0,0,0,0,0,1,0,3,1,0,0,0,0,0,0,0,0,0,0,4,3,2,1,1,1,2,1,2,3,1,1,1,3,4,2,0,2,3,1,0,4,3,2,4,3,1,4,1,2,2,1,5,5,2,1,3,4,1,2,2,2,2,8,2,3,2,5,1,1,3,5,2,0,2,1,3,2,2,1,5,1,5,0,0,0,0,0,0,0,0,4,5,3,1,3],\"x0\":\" \",\"xaxis\":\"x\",\"y\":[2,0,2,1,3,2,1,9,2,5,2,2,1,7,7,10,6,2,2,2,9,10,2,1,3,4,0,3,2,3,8,0,8,10,10,3,8,1,0,0,0,0,8,2,6,6,2,6,2,3,0,2,1,2,6,2,6,1,8,2,2,6,6,2,6,0,5,6,6,1,10,6,1,6,5,2,3,2,5,8,2,3,4,1,8,7,6,7,3,0,0,3,6,2,6,1,6,2,2,0,0,0,0,0,0,0,0,3,3,2,3,2,1,6,3,10,5,2,4,2,6,1,1,3,1,2,3,2,0,0,0,8,10,11,3,3,1,0,3,2,13,2,3,2,0,0,0,0,1,3,2,4,9,2,0,0,2,7,2,2,3,2,6,8,9,3,2,1,10,2,1,1,2,1,8,4,3,2,2,11,3,2,2,2,1,4,2,3,2,7,0,0,2,2,0,2,0,1,0,0,5,0,1,0,0,2,3,2,0,0,0,0,3,0,5,2,0,10,4,6,2,2,0,2,6,5,1,0,12,2,5,0,6,10,1,2,2,3,3,2,2,1,6,9,3,1,0,1,2,8,1,3,1,3,8,1,7,1,1,3,9,2,3,6,1,2,0,0,0,0,0,0,0,0,0,0,0,0,0,0,0,0,3,2,1,3,-2,2,0,1,0,0,0,0,3,3,1,9,-1,6,2,6,3,6,6,6,2,3,2,6,1,1,0,7,2,1,2,1,4,2,0,2,6,1,1,2,7,5,6,9,2,0,0,0,0,2,7,1,2,6,7,0,1,8,0,1,2,6,2,3,3,0,1,3,4,2,9,10,1,2,2,1,9,2,7,2,3,1,1,0,5,10,0,1,9,3,1,0,0,0,1,11,7,2,3,2,3,7,6,3,1,1,2,1,2,2,6,6,1,3,1,2,1,2,3,2,6,2,2,3,4,0,1,1,2,2,2,6,2,2,1,2,3,3,2,0,3,2,1,2,1,7,3,7,2,9,3,2,2,1,2,4,0,2,1,1,0,0,0,0,0,0,0,0,0,0,2,3,0,0,3,0,0,0,2,3,0,2,0,1,2,0,0,0,1,8,10,1,0,2,0,0,1,0,0,0,0,0,0,0,0,0,0,1,2,1,11,3,2,3,4,3,3,1,1,2,2,0,0,2,0,3,3,6,8,1,1,2,3,7,0,3,2,4,1,8,3,3,3,2,0,4,2,6,4,2,1,2,2,0,6,6,0,3,3,2,2,3,2,0,2,1,1,10,7,1,5,0,2,2,2,3,11,1,7,2,2,10,3,1,0,0,0,0,0,0,0,0,0,0,0,0,0,1,2,2,7,3,2,8,3,3,1,1,2,0,7,2,1,2,9,6,2,3,3,3,2,0,2,2,3,5,2,1,3,6,1,2,0,0,0,0,0,3,2,2,3,3,1,1,0,0,0,0,0,0,0,0,-1,0,0,0,0,0,0,0,2,10,2,1,10,1,1,1,2,0,0,9,2,1,8,7,1,9,2,1,2,3,2,2,3,8,3,1,2,7,4,0,1,0,0,0,0,2,6,2,2,1,1,8,9,9,1,1,9,1,1,2,1,2,0,0,0,0,0,0,0,0,3,6,1,2,0,0,0,0,0,0,0,0,0,0,3,2,1,1,2,3,1,3,3,2,3,3,3,1,1,2,6,1,2,5,6,0,1,4,3,2,3,1,2,1,2,2,3,1,2,3,2,0,4,1,4,2,3,0,3,0,2,0,2,5,3,0,3,9,2,3,2,1,2,1,1,3,2,0,0,0,0,0,0,0,0,3,1,1,4,3],\"y0\":\" \",\"yaxis\":\"y\",\"type\":\"violin\"}],                        {\"template\":{\"data\":{\"histogram2dcontour\":[{\"type\":\"histogram2dcontour\",\"colorbar\":{\"outlinewidth\":0,\"ticks\":\"\"},\"colorscale\":[[0.0,\"#0d0887\"],[0.1111111111111111,\"#46039f\"],[0.2222222222222222,\"#7201a8\"],[0.3333333333333333,\"#9c179e\"],[0.4444444444444444,\"#bd3786\"],[0.5555555555555556,\"#d8576b\"],[0.6666666666666666,\"#ed7953\"],[0.7777777777777778,\"#fb9f3a\"],[0.8888888888888888,\"#fdca26\"],[1.0,\"#f0f921\"]]}],\"choropleth\":[{\"type\":\"choropleth\",\"colorbar\":{\"outlinewidth\":0,\"ticks\":\"\"}}],\"histogram2d\":[{\"type\":\"histogram2d\",\"colorbar\":{\"outlinewidth\":0,\"ticks\":\"\"},\"colorscale\":[[0.0,\"#0d0887\"],[0.1111111111111111,\"#46039f\"],[0.2222222222222222,\"#7201a8\"],[0.3333333333333333,\"#9c179e\"],[0.4444444444444444,\"#bd3786\"],[0.5555555555555556,\"#d8576b\"],[0.6666666666666666,\"#ed7953\"],[0.7777777777777778,\"#fb9f3a\"],[0.8888888888888888,\"#fdca26\"],[1.0,\"#f0f921\"]]}],\"heatmap\":[{\"type\":\"heatmap\",\"colorbar\":{\"outlinewidth\":0,\"ticks\":\"\"},\"colorscale\":[[0.0,\"#0d0887\"],[0.1111111111111111,\"#46039f\"],[0.2222222222222222,\"#7201a8\"],[0.3333333333333333,\"#9c179e\"],[0.4444444444444444,\"#bd3786\"],[0.5555555555555556,\"#d8576b\"],[0.6666666666666666,\"#ed7953\"],[0.7777777777777778,\"#fb9f3a\"],[0.8888888888888888,\"#fdca26\"],[1.0,\"#f0f921\"]]}],\"heatmapgl\":[{\"type\":\"heatmapgl\",\"colorbar\":{\"outlinewidth\":0,\"ticks\":\"\"},\"colorscale\":[[0.0,\"#0d0887\"],[0.1111111111111111,\"#46039f\"],[0.2222222222222222,\"#7201a8\"],[0.3333333333333333,\"#9c179e\"],[0.4444444444444444,\"#bd3786\"],[0.5555555555555556,\"#d8576b\"],[0.6666666666666666,\"#ed7953\"],[0.7777777777777778,\"#fb9f3a\"],[0.8888888888888888,\"#fdca26\"],[1.0,\"#f0f921\"]]}],\"contourcarpet\":[{\"type\":\"contourcarpet\",\"colorbar\":{\"outlinewidth\":0,\"ticks\":\"\"}}],\"contour\":[{\"type\":\"contour\",\"colorbar\":{\"outlinewidth\":0,\"ticks\":\"\"},\"colorscale\":[[0.0,\"#0d0887\"],[0.1111111111111111,\"#46039f\"],[0.2222222222222222,\"#7201a8\"],[0.3333333333333333,\"#9c179e\"],[0.4444444444444444,\"#bd3786\"],[0.5555555555555556,\"#d8576b\"],[0.6666666666666666,\"#ed7953\"],[0.7777777777777778,\"#fb9f3a\"],[0.8888888888888888,\"#fdca26\"],[1.0,\"#f0f921\"]]}],\"surface\":[{\"type\":\"surface\",\"colorbar\":{\"outlinewidth\":0,\"ticks\":\"\"},\"colorscale\":[[0.0,\"#0d0887\"],[0.1111111111111111,\"#46039f\"],[0.2222222222222222,\"#7201a8\"],[0.3333333333333333,\"#9c179e\"],[0.4444444444444444,\"#bd3786\"],[0.5555555555555556,\"#d8576b\"],[0.6666666666666666,\"#ed7953\"],[0.7777777777777778,\"#fb9f3a\"],[0.8888888888888888,\"#fdca26\"],[1.0,\"#f0f921\"]]}],\"mesh3d\":[{\"type\":\"mesh3d\",\"colorbar\":{\"outlinewidth\":0,\"ticks\":\"\"}}],\"scatter\":[{\"fillpattern\":{\"fillmode\":\"overlay\",\"size\":10,\"solidity\":0.2},\"type\":\"scatter\"}],\"parcoords\":[{\"type\":\"parcoords\",\"line\":{\"colorbar\":{\"outlinewidth\":0,\"ticks\":\"\"}}}],\"scatterpolargl\":[{\"type\":\"scatterpolargl\",\"marker\":{\"colorbar\":{\"outlinewidth\":0,\"ticks\":\"\"}}}],\"bar\":[{\"error_x\":{\"color\":\"#2a3f5f\"},\"error_y\":{\"color\":\"#2a3f5f\"},\"marker\":{\"line\":{\"color\":\"#E5ECF6\",\"width\":0.5},\"pattern\":{\"fillmode\":\"overlay\",\"size\":10,\"solidity\":0.2}},\"type\":\"bar\"}],\"scattergeo\":[{\"type\":\"scattergeo\",\"marker\":{\"colorbar\":{\"outlinewidth\":0,\"ticks\":\"\"}}}],\"scatterpolar\":[{\"type\":\"scatterpolar\",\"marker\":{\"colorbar\":{\"outlinewidth\":0,\"ticks\":\"\"}}}],\"histogram\":[{\"marker\":{\"pattern\":{\"fillmode\":\"overlay\",\"size\":10,\"solidity\":0.2}},\"type\":\"histogram\"}],\"scattergl\":[{\"type\":\"scattergl\",\"marker\":{\"colorbar\":{\"outlinewidth\":0,\"ticks\":\"\"}}}],\"scatter3d\":[{\"type\":\"scatter3d\",\"line\":{\"colorbar\":{\"outlinewidth\":0,\"ticks\":\"\"}},\"marker\":{\"colorbar\":{\"outlinewidth\":0,\"ticks\":\"\"}}}],\"scattermapbox\":[{\"type\":\"scattermapbox\",\"marker\":{\"colorbar\":{\"outlinewidth\":0,\"ticks\":\"\"}}}],\"scatterternary\":[{\"type\":\"scatterternary\",\"marker\":{\"colorbar\":{\"outlinewidth\":0,\"ticks\":\"\"}}}],\"scattercarpet\":[{\"type\":\"scattercarpet\",\"marker\":{\"colorbar\":{\"outlinewidth\":0,\"ticks\":\"\"}}}],\"carpet\":[{\"aaxis\":{\"endlinecolor\":\"#2a3f5f\",\"gridcolor\":\"white\",\"linecolor\":\"white\",\"minorgridcolor\":\"white\",\"startlinecolor\":\"#2a3f5f\"},\"baxis\":{\"endlinecolor\":\"#2a3f5f\",\"gridcolor\":\"white\",\"linecolor\":\"white\",\"minorgridcolor\":\"white\",\"startlinecolor\":\"#2a3f5f\"},\"type\":\"carpet\"}],\"table\":[{\"cells\":{\"fill\":{\"color\":\"#EBF0F8\"},\"line\":{\"color\":\"white\"}},\"header\":{\"fill\":{\"color\":\"#C8D4E3\"},\"line\":{\"color\":\"white\"}},\"type\":\"table\"}],\"barpolar\":[{\"marker\":{\"line\":{\"color\":\"#E5ECF6\",\"width\":0.5},\"pattern\":{\"fillmode\":\"overlay\",\"size\":10,\"solidity\":0.2}},\"type\":\"barpolar\"}],\"pie\":[{\"automargin\":true,\"type\":\"pie\"}]},\"layout\":{\"autotypenumbers\":\"strict\",\"colorway\":[\"#636efa\",\"#EF553B\",\"#00cc96\",\"#ab63fa\",\"#FFA15A\",\"#19d3f3\",\"#FF6692\",\"#B6E880\",\"#FF97FF\",\"#FECB52\"],\"font\":{\"color\":\"#2a3f5f\"},\"hovermode\":\"closest\",\"hoverlabel\":{\"align\":\"left\"},\"paper_bgcolor\":\"white\",\"plot_bgcolor\":\"#E5ECF6\",\"polar\":{\"bgcolor\":\"#E5ECF6\",\"angularaxis\":{\"gridcolor\":\"white\",\"linecolor\":\"white\",\"ticks\":\"\"},\"radialaxis\":{\"gridcolor\":\"white\",\"linecolor\":\"white\",\"ticks\":\"\"}},\"ternary\":{\"bgcolor\":\"#E5ECF6\",\"aaxis\":{\"gridcolor\":\"white\",\"linecolor\":\"white\",\"ticks\":\"\"},\"baxis\":{\"gridcolor\":\"white\",\"linecolor\":\"white\",\"ticks\":\"\"},\"caxis\":{\"gridcolor\":\"white\",\"linecolor\":\"white\",\"ticks\":\"\"}},\"coloraxis\":{\"colorbar\":{\"outlinewidth\":0,\"ticks\":\"\"}},\"colorscale\":{\"sequential\":[[0.0,\"#0d0887\"],[0.1111111111111111,\"#46039f\"],[0.2222222222222222,\"#7201a8\"],[0.3333333333333333,\"#9c179e\"],[0.4444444444444444,\"#bd3786\"],[0.5555555555555556,\"#d8576b\"],[0.6666666666666666,\"#ed7953\"],[0.7777777777777778,\"#fb9f3a\"],[0.8888888888888888,\"#fdca26\"],[1.0,\"#f0f921\"]],\"sequentialminus\":[[0.0,\"#0d0887\"],[0.1111111111111111,\"#46039f\"],[0.2222222222222222,\"#7201a8\"],[0.3333333333333333,\"#9c179e\"],[0.4444444444444444,\"#bd3786\"],[0.5555555555555556,\"#d8576b\"],[0.6666666666666666,\"#ed7953\"],[0.7777777777777778,\"#fb9f3a\"],[0.8888888888888888,\"#fdca26\"],[1.0,\"#f0f921\"]],\"diverging\":[[0,\"#8e0152\"],[0.1,\"#c51b7d\"],[0.2,\"#de77ae\"],[0.3,\"#f1b6da\"],[0.4,\"#fde0ef\"],[0.5,\"#f7f7f7\"],[0.6,\"#e6f5d0\"],[0.7,\"#b8e186\"],[0.8,\"#7fbc41\"],[0.9,\"#4d9221\"],[1,\"#276419\"]]},\"xaxis\":{\"gridcolor\":\"white\",\"linecolor\":\"white\",\"ticks\":\"\",\"title\":{\"standoff\":15},\"zerolinecolor\":\"white\",\"automargin\":true,\"zerolinewidth\":2},\"yaxis\":{\"gridcolor\":\"white\",\"linecolor\":\"white\",\"ticks\":\"\",\"title\":{\"standoff\":15},\"zerolinecolor\":\"white\",\"automargin\":true,\"zerolinewidth\":2},\"scene\":{\"xaxis\":{\"backgroundcolor\":\"#E5ECF6\",\"gridcolor\":\"white\",\"linecolor\":\"white\",\"showbackground\":true,\"ticks\":\"\",\"zerolinecolor\":\"white\",\"gridwidth\":2},\"yaxis\":{\"backgroundcolor\":\"#E5ECF6\",\"gridcolor\":\"white\",\"linecolor\":\"white\",\"showbackground\":true,\"ticks\":\"\",\"zerolinecolor\":\"white\",\"gridwidth\":2},\"zaxis\":{\"backgroundcolor\":\"#E5ECF6\",\"gridcolor\":\"white\",\"linecolor\":\"white\",\"showbackground\":true,\"ticks\":\"\",\"zerolinecolor\":\"white\",\"gridwidth\":2}},\"shapedefaults\":{\"line\":{\"color\":\"#2a3f5f\"}},\"annotationdefaults\":{\"arrowcolor\":\"#2a3f5f\",\"arrowhead\":0,\"arrowwidth\":1},\"geo\":{\"bgcolor\":\"white\",\"landcolor\":\"#E5ECF6\",\"subunitcolor\":\"white\",\"showland\":true,\"showlakes\":true,\"lakecolor\":\"white\"},\"title\":{\"x\":0.05},\"mapbox\":{\"style\":\"light\"}}},\"xaxis\":{\"anchor\":\"y\",\"domain\":[0.0,1.0],\"title\":{\"text\":\"Goals_Conceded\"}},\"yaxis\":{\"anchor\":\"x\",\"domain\":[0.0,1.0],\"title\":{\"text\":\"Points\"}},\"legend\":{\"tracegroupgap\":0},\"title\":{\"text\":\"Poeni i Asistencije\"},\"violinmode\":\"group\"},                        {\"responsive\": true}                    ).then(function(){\n",
       "                            \n",
       "var gd = document.getElementById('91e015c5-8725-4e34-8bb6-90ff0cd0089b');\n",
       "var x = new MutationObserver(function (mutations, observer) {{\n",
       "        var display = window.getComputedStyle(gd).display;\n",
       "        if (!display || display === 'none') {{\n",
       "            console.log([gd, 'removed!']);\n",
       "            Plotly.purge(gd);\n",
       "            observer.disconnect();\n",
       "        }}\n",
       "}});\n",
       "\n",
       "// Listen for the removal of the full notebook cells\n",
       "var notebookContainer = gd.closest('#notebook-container');\n",
       "if (notebookContainer) {{\n",
       "    x.observe(notebookContainer, {childList: true});\n",
       "}}\n",
       "\n",
       "// Listen for the clearing of the current output cell\n",
       "var outputEl = gd.closest('.output');\n",
       "if (outputEl) {{\n",
       "    x.observe(outputEl, {childList: true});\n",
       "}}\n",
       "\n",
       "                        })                };                });            </script>        </div>"
      ]
     },
     "metadata": {},
     "output_type": "display_data"
    }
   ],
   "source": [
    "fig=px.violin(df_gk,\n",
    "               x='Goals_Conceded',\n",
    "               y='Points',\n",
    "               #opacity=0.8,\n",
    "               hover_data=['Clean_Sheet'], #DA LI JOS VREDNOSTI\n",
    "               title='Poeni i Asistencije') \n",
    "\n",
    "fig.update_traces(marker_size=5)\n",
    "fig.show()\n",
    "\n",
    "#SVE PRISUTNE KOMBINACIJE(GAP)\n",
    "#BOLJE GPA\n",
    "#DA LI VIOLIN PLOT"
   ]
  },
  {
   "cell_type": "code",
   "execution_count": null,
   "id": "2deeb97a",
   "metadata": {},
   "outputs": [],
   "source": []
  }
 ],
 "metadata": {
  "kernelspec": {
   "display_name": "Python 3 (ipykernel)",
   "language": "python",
   "name": "python3"
  },
  "language_info": {
   "codemirror_mode": {
    "name": "ipython",
    "version": 3
   },
   "file_extension": ".py",
   "mimetype": "text/x-python",
   "name": "python",
   "nbconvert_exporter": "python",
   "pygments_lexer": "ipython3",
   "version": "3.10.9"
  }
 },
 "nbformat": 4,
 "nbformat_minor": 5
}
